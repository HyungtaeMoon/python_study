{
 "cells": [
  {
   "cell_type": "markdown",
   "metadata": {},
   "source": [
    "### Variable\n",
    "\n",
    "파이썬은 완전히 객체 지향이며 \"정적으로 타입화\"되지 않습니다. 변수를 사용하기 전에 변수를 선언하거나 변수를 선언할 필요가 없습니다. 파이썬의 모든 변수는 하나의 객체입니다.\n",
    "\n",
    "객체 지향이란 Object-Oriented Programming 이다. 즉, 프로그램을 어떻게 설계해야 하는지에 대한 일종의 개념이자 방법론.\n",
    "\n",
    "`절차적 프로그래밍`에서는 메서드를 기계, 데이터를 원료로 생각해서 데이터가 메소드 사이를 통과하면서 차츰 순서대로 가공되어 나가는 방식\n",
    "\n",
    "`객체 지향 프로그래밍`에서는 데이터를 중심으로 메서드가 데이터에 접근해서 수정한다는 개념이다. 즉, 원료가 움직이냐 기계(함수, 메서드)가 움직이냐의 차이\n",
    "\n",
    "정리정돈, 복잡성을 낮추는 것, 서로 연관된 함수와 변수를 그룹핑하고 이름을 붙여서 사용하는 것."
   ]
  },
  {
   "cell_type": "code",
   "execution_count": 2,
   "metadata": {},
   "outputs": [
    {
     "name": "stdout",
     "output_type": "stream",
     "text": [
      "지역변수: g_var = 20\n",
      "전역변수: g_var = 10\n"
     ]
    }
   ],
   "source": [
    "g_var = 10\n",
    "\n",
    "def func():\n",
    "    g_var = 20\n",
    "    print(f'지역변수: g_var = {g_var}')\n",
    "    \n",
    "if __name__ == \"__main__\":\n",
    "    func()\n",
    "    print(f'전역변수: g_var = {g_var}')"
   ]
  },
  {
   "cell_type": "code",
   "execution_count": 73,
   "metadata": {},
   "outputs": [
    {
     "name": "stdout",
     "output_type": "stream",
     "text": [
      "g_var = 20\n",
      "g_var = 20\n"
     ]
    }
   ],
   "source": [
    "g_var = 10\n",
    "\n",
    "def func():\n",
    "    global g_var # global 키워드를 사용\n",
    "    g_var = 20\n",
    "    print(f'g_var = {g_var}')\n",
    "    \n",
    "if __name__ == \"__main__\":\n",
    "    func()\n",
    "    print(f'g_var = {g_var}')"
   ]
  },
  {
   "cell_type": "code",
   "execution_count": 61,
   "metadata": {},
   "outputs": [
    {
     "name": "stdout",
     "output_type": "stream",
     "text": [
      "1 2 3\n"
     ]
    }
   ],
   "source": [
    "a = 1\n",
    "\n",
    "def outer():\n",
    "    b = 2\n",
    "    c = 3\n",
    "    print(a, b, c)\n",
    "    def inner():\n",
    "        d = 4\n",
    "        e = 5\n",
    "        print(a, b, c, d, e)\n",
    "        inner()\n",
    "\n",
    "if __name__ == \"__main__\":\n",
    "    outer()"
   ]
  },
  {
   "cell_type": "code",
   "execution_count": 71,
   "metadata": {},
   "outputs": [
    {
     "name": "stdout",
     "output_type": "stream",
     "text": [
      "local in outer : a = 100, b = 3\n"
     ]
    }
   ],
   "source": [
    "def outer():\n",
    "    a = 2\n",
    "    b = 3\n",
    "    \n",
    "    def inner():\n",
    "        nonlocal a\n",
    "        a = 100\n",
    "    inner()\n",
    "    \n",
    "    print(f'local in outer : a = {a}, b = {b}')\n",
    "          \n",
    "if __name__ == \"__main__\":\n",
    "          outer()"
   ]
  }
 ],
 "metadata": {
  "kernelspec": {
   "display_name": "Python 3",
   "language": "python",
   "name": "python3"
  },
  "language_info": {
   "codemirror_mode": {
    "name": "ipython",
    "version": 3
   },
   "file_extension": ".py",
   "mimetype": "text/x-python",
   "name": "python",
   "nbconvert_exporter": "python",
   "pygments_lexer": "ipython3",
   "version": "3.6.5"
  }
 },
 "nbformat": 4,
 "nbformat_minor": 2
}
