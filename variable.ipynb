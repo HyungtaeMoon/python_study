{
 "cells": [
  {
   "cell_type": "markdown",
   "metadata": {},
   "source": [
    "## **Variable(변수)**\n",
    "-------------------\n",
    "**개요**\n",
    "\n",
    "변수 는 **특정 값을 저장하기 위해 예약된 메모리의 위치일뿐**이며,\n",
    "\n",
    "변수를 선언하는 순간 메모리 상에서 일부 공간을 예약한다."
   ]
  },
  {
   "cell_type": "markdown",
   "metadata": {},
   "source": [
    "`인터프리터(해석기)` 실행파일 없이 소스코드를 바로 실행하는 컴퓨터 프로그램 또는 환경\n",
    "\n",
    "ex) Python, Java 등"
   ]
  },
  {
   "cell_type": "markdown",
   "metadata": {},
   "source": [
    "### **표준 데이터 유형(Data Type)**\n",
    "\n",
    "문서를 찾다보면 variable(변수) 과 data type(데이터 유형)이 연관되어 있다. 이유는 `변수`에 할당하는 것이 `데이터 유형`이기 때문이다.\n",
    "\n",
    "---------------------\n",
    "\n",
    "* Numbers\n",
    "    * int(정수)\n",
    "    * float(실수)\n",
    "    * 사칙연산\n",
    "* String\n",
    "* List\n",
    "* Tuple\n",
    "* Dictionary\n",
    "\n",
    "그 외\n",
    "* Boolean(True, False)\n"
   ]
  },
  {
   "cell_type": "markdown",
   "metadata": {},
   "source": [
    "### **변수의 선언**\n",
    "------------------\n",
    "\n",
    "변수는 아래와 같은 방법으로 선언한다.\n",
    "\n",
    "```python\n",
    "# (variable) = (value)\n",
    "num_a = 100\n",
    "```\n",
    "* 이와 같이 하면 value 100 은 메모리 구조 상에 100을 할당하고 호출되기 전까지 대기한다.\n",
    "\n",
    "**변수를 선언하면**\n",
    "```\n",
    "-------------------------------------------\n",
    "             <Memory>\n",
    "                .\n",
    "                .\n",
    "num ------> int(100) # 메모리 구조 상에서 100 을 가리킨다\n",
    "                .\n",
    "                .\n",
    "                .\n",
    "-------------------------------------------\n",
    "\n",
    "\n",
    "```\n",
    "\n",
    "**여러 변수에 같은 값을 할당할 수 있다**\n",
    "```\n",
    "-------------------------------------------\n",
    "a = b = c = 1 # 모두 1이라는 int 를 할당하지만 id 값은 다르다\n",
    "\n",
    "a == b == c # true\n",
    "a is b is c # false\n",
    "-------------------------------------------\n",
    "```"
   ]
  },
  {
   "cell_type": "markdown",
   "metadata": {},
   "source": [
    "**변수가 값을 저장하지 않기 메모리를 참조하고 있다는 증명**\n",
    "\n",
    "변수는 파이썬을 포함한 모든 프로그래밍 언어에서 가장 중요한 요소이기 때문에 효율성을 높이려면 적절한 용도에 따라 변수를 저장해야 한다. 또한 변수는 실제 메모리 위치와 매핑되어 있는 것을 `print(id(변수명))` 을 통해 확인할 수 있다.\n",
    "\n",
    "\n",
    "\n",
    "\n",
    "이렇게 하면 **두 변수 모두 메모리의 동일한 객체를 참조(refer)할 뿐** 새로운 객체가 만들어지지는 않는다. 파이썬에서는 **value 의 유형(type)이 변경되면 변수의 유형도 변경**된다는 것이다. 따라서 변수의 값이 String 로 변환되면 이전에 생성 된 정수 객체가 사라지고 number_a 는 문자열 객체만 가져온다.\n",
    "\n",
    "```\n",
    "a = 3               --> | type: int\n",
    "b = a               --> | value: 3\n",
    "c = a               --> | * 메모리 구조 상에서 모두 3을 참조\n",
    "\n",
    "\n",
    "a = \"hello, world\"  --> type: string/value: hello, world\n",
    "\n",
    "# b, c 는 메모리 구조 상에서 아직도 3을 참조하고 있는 상태\n",
    "```"
   ]
  },
  {
   "cell_type": "markdown",
   "metadata": {},
   "source": [
    "### 실제 적용해보기(증명)\n",
    "\n",
    "--------------"
   ]
  },
  {
   "cell_type": "code",
   "execution_count": 2,
   "metadata": {},
   "outputs": [
    {
     "name": "stdout",
     "output_type": "stream",
     "text": [
      "100\n",
      "<class 'int'>\n",
      "<ID 값> 4391321200\n",
      "==========================\n",
      "100\n",
      "<class 'str'>\n",
      "<id 값> 4428939592\n"
     ]
    }
   ],
   "source": [
    "# 메모리에 int 100 을 참조\n",
    "\n",
    "number_a = 100\n",
    "print(number_a)\n",
    "print(type(number_a))\n",
    "print(f'<ID 값> {id(number_a)}')\n",
    "\n",
    "print('==========================')\n",
    "\n",
    "# 형변환을 통해 int 100 에서 str 100 을 참조하면\n",
    "# 메모리에서 다른 위치를 가리키는 것을 확인\n",
    "number_a = str(100)\n",
    "print(number_a)\n",
    "print(type(number_a))\n",
    "print(f'<id 값> {id(number_a)}')"
   ]
  },
  {
   "cell_type": "markdown",
   "metadata": {},
   "source": [
    "### 파이썬의 장점\n",
    "\n",
    "`#객체지향` `#동적 프로그래밍`\n",
    "\n",
    "------------------\n",
    "\n",
    "일반적으로 Java, C ++ 등의 모든 정적 프로그래밍 언어에서의 접근 방식은 변수를 선언하는 동안 유형을 설명해야 하는데 파이썬은 자동으로 타입을 탐지한다. 이러한 이유 때문에 파이썬은 본질적으로 동적인 언어로 간주된다고 한다.\n",
    "\n",
    "```python\n",
    "# Java\n",
    "int variable_name = 10;\n",
    "\n",
    "# Python\n",
    "variable_name = 10\n",
    "```"
   ]
  },
  {
   "cell_type": "markdown",
   "metadata": {},
   "source": [
    "파이썬은 완전히 **객체 지향**이며 \"정적으로 타입화\"되지 않는다. 변수를 사용하기 전에 변수를 선언하거나 변수를 선언할 필요가 없기 때문이다. 파이썬의 모든 변수는 하나의 객체입니다.\n",
    "\n",
    "객체 지향이란 (OOP) Object-Oriented Programming 이다. 즉, 프로그램을 어떻게 설계해야 하는지에 대한 일종의 개념이자 방법론.\n",
    "\n",
    "**`절차적 프로그래밍`** 에서는 메서드를 기계, 데이터를 원료로 생각해서 `데이터가 메서드 사이를 통과하면서 차츰 순서대로 가공되어 나가는 방식`\n",
    "\n",
    "**`객체 지향 프로그래밍`** 에서는 데이터를 중심으로 `메서드가 데이터에 접근해서 수정`한다는 개념이다. 즉, 원료가 움직이냐 기계(함수, 메서드)가 움직이냐의 차이\n",
    "\n",
    "정리정돈, 복잡성을 낮추는 것, 서로 연관된 함수와 변수를 그룹핑하고 이름을 붙여서 사용하는 것"
   ]
  }
 ],
 "metadata": {
  "kernelspec": {
   "display_name": "Python 3",
   "language": "python",
   "name": "python3"
  },
  "language_info": {
   "codemirror_mode": {
    "name": "ipython",
    "version": 3
   },
   "file_extension": ".py",
   "mimetype": "text/x-python",
   "name": "python",
   "nbconvert_exporter": "python",
   "pygments_lexer": "ipython3",
   "version": "3.6.5"
  }
 },
 "nbformat": 4,
 "nbformat_minor": 2
}
