{
 "cells": [
  {
   "cell_type": "markdown",
   "metadata": {},
   "source": [
    "------------------------\n",
    "### Variable (변수)\n",
    "-------------------------"
   ]
  },
  {
   "cell_type": "markdown",
   "metadata": {},
   "source": [
    "변수는 아래와 같은 방법으로 선언한다.\n",
    "\n",
    "```python\n",
    "# (variable) = (value)\n",
    "number_a = 100\n",
    "```\n",
    "* 이와 같이 하면 value 100 은 메모리에 저장이 된다.\n",
    "\n",
    "알아야 할 점은 변수는 **특정 값을 저장하기 위해 예약된 메모리 위치**일뿐이며, 변수를 만들 때 일부 공간을 예약한다고 봐야 한다.\n",
    "\n",
    "```\n",
    "                    .\n",
    "                    .\n",
    "number_a ------> int(100)\n",
    "                    .\n",
    "                    .\n",
    "                    .\n",
    "```\n",
    "\n",
    "\n",
    "변수의 데이터 유형에 따라 인터프리터는 메모리를 할당하고 예약 된 메모리에 저장할 수 있는 것을 결정한다. 따라서 변수에 다른 데이터 유형을 할당(assigning) 하여 이러한 변수에 `정수`, `소수` 또는 `문자`를 저장할 수 있다.\n",
    "\n",
    "변수는 파이썬을 포함한 모든 프로그래밍 언어에서 가장 중요한 요소이다. 간단히 말해 변수는 메모리 위치에 주어진 이름인데, 이러한 메모리 위치에 저장된 값은 프로그래밍 수명주기 전체에서 변경될 수 있다. 우리가 변수에 할당 된 메모리에 대해 이야기하고 있기 때문에 일단 변수가 정의되면 주 메모리의 실제 주소와 연관 될 것이다. 이러한 값을 실제 주소로 액세스하기 시작하면 코드가 복잡해지며 그 이유 때문에 주소가 변수 이름과 연결된다.\n",
    "\n",
    "\n",
    "```python\n",
    "# number_a 의 value 를 number_b 에 할당\n",
    "number_b = number_a\n",
    "```\n",
    "\n",
    "\n",
    "이렇게 하면 **두 변수 모두 메모리의 동일한 객체를 참조(refer)할 뿐** 새로운 객체가 만들어지지는 않는다. 파이썬에서는 value 의 유형이 변경되면 변수의 유형도 변경된다는 것이다. 따라서 변수의 값이 String 로 변환되면 이전에 생성 된 정수 객체가 사라지고 number_a 는 문자열 객체만 가져온다."
   ]
  },
  {
   "cell_type": "code",
   "execution_count": 48,
   "metadata": {},
   "outputs": [
    {
     "name": "stdout",
     "output_type": "stream",
     "text": [
      "100\n",
      "<class 'int'>\n",
      "<ID 값> 4357877360\n",
      "==========================\n",
      "100\n",
      "<class 'str'>\n",
      "<id 값> 4396156776\n"
     ]
    }
   ],
   "source": [
    "# 메모리에 int 100 을 참조\n",
    "\n",
    "number_a = 100\n",
    "print(number_a)\n",
    "print(type(number_a))\n",
    "print(f'<ID 값> {id(number_a)}')\n",
    "\n",
    "print('==========================')\n",
    "\n",
    "# 형변환을 통해 int 100 에서 str 100 을 참조하면\n",
    "# 메모리에서 다른 위치를 가리키는 것을 확인\n",
    "number_a = str(100)\n",
    "print(number_a)\n",
    "print(type(number_a))\n",
    "print(f'<id 값> {id(number_a)}')"
   ]
  },
  {
   "cell_type": "markdown",
   "metadata": {},
   "source": [
    "일반적으로 Java, C ++ 등의 모든 정적 프로그래밍 언어에서의 접근 방식은 변수를 선언하는 동안 유형을 설명해야 하는데 파이썬은 자동으로 타입을 탐지한다. 이러한 이유 때문에 파이썬은 본질적으로 동적인 언어로 간주된다고 한다.\n",
    "\n",
    "```python\n",
    "# Java\n",
    "int variable_name = 10;\n",
    "\n",
    "# Python\n",
    "variable_name = 10\n",
    "```"
   ]
  },
  {
   "cell_type": "markdown",
   "metadata": {},
   "source": [
    "파이썬은 완전히 **객체 지향**이며 \"정적으로 타입화\"되지 않습니다. 변수를 사용하기 전에 변수를 선언하거나 변수를 선언할 필요가 없습니다. 파이썬의 모든 변수는 하나의 객체입니다.\n",
    "\n",
    "객체 지향이란 Object-Oriented Programming 이다. 즉, 프로그램을 어떻게 설계해야 하는지에 대한 일종의 개념이자 방법론.\n",
    "\n",
    "`절차적 프로그래밍`에서는 메서드를 기계, 데이터를 원료로 생각해서 데이터가 메소드 사이를 통과하면서 차츰 순서대로 가공되어 나가는 방식\n",
    "\n",
    "`객체 지향 프로그래밍`에서는 데이터를 중심으로 메서드가 데이터에 접근해서 수정한다는 개념이다. 즉, 원료가 움직이냐 기계(함수, 메서드)가 움직이냐의 차이\n",
    "\n",
    "정리정돈, 복잡성을 낮추는 것, 서로 연관된 함수와 변수를 그룹핑하고 이름을 붙여서 사용하는 것"
   ]
  },
  {
   "cell_type": "markdown",
   "metadata": {},
   "source": [
    "------------------------------------------\n",
    "### 지역변수와 전역변수\n",
    "------------------------------------------"
   ]
  },
  {
   "cell_type": "code",
   "execution_count": 2,
   "metadata": {},
   "outputs": [
    {
     "name": "stdout",
     "output_type": "stream",
     "text": [
      "지역변수: g_var = 20\n",
      "전역변수: g_var = 10\n"
     ]
    }
   ],
   "source": [
    "g_var = 10\n",
    "\n",
    "def func():\n",
    "    g_var = 20\n",
    "    print(f'지역변수: g_var = {g_var}')\n",
    "    \n",
    "if __name__ == \"__main__\":\n",
    "    func()\n",
    "    print(f'전역변수: g_var = {g_var}')"
   ]
  },
  {
   "cell_type": "code",
   "execution_count": 73,
   "metadata": {},
   "outputs": [
    {
     "name": "stdout",
     "output_type": "stream",
     "text": [
      "g_var = 20\n",
      "g_var = 20\n"
     ]
    }
   ],
   "source": [
    "g_var = 10\n",
    "\n",
    "def func():\n",
    "    global g_var # global 키워드를 사용\n",
    "    g_var = 20\n",
    "    print(f'g_var = {g_var}')\n",
    "    \n",
    "if __name__ == \"__main__\":\n",
    "    func()\n",
    "    print(f'g_var = {g_var}')"
   ]
  },
  {
   "cell_type": "code",
   "execution_count": 61,
   "metadata": {},
   "outputs": [
    {
     "name": "stdout",
     "output_type": "stream",
     "text": [
      "1 2 3\n"
     ]
    }
   ],
   "source": [
    "a = 1\n",
    "\n",
    "def outer():\n",
    "    b = 2\n",
    "    c = 3\n",
    "    print(a, b, c)\n",
    "    def inner():\n",
    "        d = 4\n",
    "        e = 5\n",
    "        print(a, b, c, d, e)\n",
    "        inner()\n",
    "\n",
    "if __name__ == \"__main__\":\n",
    "    outer()"
   ]
  },
  {
   "cell_type": "code",
   "execution_count": 71,
   "metadata": {},
   "outputs": [
    {
     "name": "stdout",
     "output_type": "stream",
     "text": [
      "local in outer : a = 100, b = 3\n"
     ]
    }
   ],
   "source": [
    "def outer():\n",
    "    a = 2\n",
    "    b = 3\n",
    "    \n",
    "    def inner():\n",
    "        nonlocal a\n",
    "        a = 100\n",
    "    inner()\n",
    "    \n",
    "    print(f'local in outer : a = {a}, b = {b}')\n",
    "          \n",
    "if __name__ == \"__main__\":\n",
    "          outer()"
   ]
  }
 ],
 "metadata": {
  "kernelspec": {
   "display_name": "Python 3",
   "language": "python",
   "name": "python3"
  },
  "language_info": {
   "codemirror_mode": {
    "name": "ipython",
    "version": 3
   },
   "file_extension": ".py",
   "mimetype": "text/x-python",
   "name": "python",
   "nbconvert_exporter": "python",
   "pygments_lexer": "ipython3",
   "version": "3.6.5"
  }
 },
 "nbformat": 4,
 "nbformat_minor": 2
}
