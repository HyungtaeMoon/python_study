{
 "cells": [
  {
   "cell_type": "markdown",
   "metadata": {},
   "source": [
    "## Data Structures(자료구조)\n",
    "--------------\n",
    "\n",
    "참조\n",
    "\n",
    "`fastcampus` // `askdjango` // `django document` // `data camp`"
   ]
  },
  {
   "cell_type": "markdown",
   "metadata": {},
   "source": [
    "**개요**\n",
    "\n",
    "자료구조는 효율적으로 액세스하고 작업할 수 있도록 데이터를 구성하고 저장하는 방법\n",
    "\n",
    "---------\n",
    "\n",
    "`자료구조의 기본적인 구성`\n",
    "\n",
    "데이터를 표현하는 가장 단순한 형식(+특징)\n",
    "\n",
    "- Integer  <정수>\n",
    "- Float <실수>\n",
    "- String <문자>\n",
    "- Boolean <비교>\n",
    "\n",
    "*Python 3.x 부터 long, double 는 사라짐\n",
    "\n",
    "------------\n",
    "`비 기본 자료구조`\n",
    "\n",
    "기본 자료구조의 진보 된 형식(+특징)\n",
    "\n",
    "- Array\n",
    "- List <index 로 접근하여 변경 가능>\n",
    "- Tuple <index 로 접근하여 변경 불가>\n",
    "- Dictionary <key:value 중 key 값이 중요>\n",
    "- Set <중복값이 있으면 첫번째 값만 출력>\n",
    "- File\n",
    "\n",
    "`List 의 하위 구분`\n",
    "\n",
    "* List\n",
    "    * Linear\n",
    "        * Queues\n",
    "        * Stackes\n",
    "    * Non-linear\n",
    "        * Graphs\n",
    "        * Trees"
   ]
  },
  {
   "cell_type": "markdown",
   "metadata": {},
   "source": [
    "### 비 기본 자료구조\n",
    "\n",
    "---------------"
   ]
  },
  {
   "cell_type": "markdown",
   "metadata": {},
   "source": [
    "### List(리스트)\n",
    "\n",
    "-----------------\n",
    "\n",
    "- 여러 값을 순차적으로 저장, 순서를 보장\n",
    "- List 는 변경 가능한 Sequence(데이터들의 집합)\n",
    "\n",
    "**List 선언 방법**\n",
    "* variable = []"
   ]
  },
  {
   "cell_type": "code",
   "execution_count": 97,
   "metadata": {},
   "outputs": [
    {
     "name": "stdout",
     "output_type": "stream",
     "text": [
      "[1, 3, 5, 7, 9]\n",
      "['Red', 'Green', 'Blue']\n"
     ]
    }
   ],
   "source": [
    "numbers = [1, 3, 5, 7, 9]\n",
    "print(numbers)\n",
    "\n",
    "colors = [\n",
    "    'Red',\n",
    "    'Green',\n",
    "    'Blue'\n",
    "]\n",
    "\n",
    "print(colors)"
   ]
  },
  {
   "cell_type": "markdown",
   "metadata": {},
   "source": [
    "### List 의 데이터 변경 방법\n",
    "\n",
    "데이터를 변경하는 방법은 해당하는 **index** 또는 직접 **값**을 지정하여 변경할 수 있다\n",
    "\n",
    "`index` # 값의 위치\n",
    "\n",
    "`값` # List에 할당된 값 그 자체\n",
    "\n",
    "---------------\n",
    "- numbers[index] = 변경될 값 # 해당하는 index 의 값을 변경\n",
    "- numbers.append() # List의 마지막에 해당 `값`을 추가\n",
    "- numbers.pop() # 해당하는 `index` 값을 출력하고, List 에서 삭제\n",
    "- numbers.remove() # 해당하는 `값`에서 첫번째만 제거\n",
    "- numbers.insert(a, b) # a 에 해당하는 `index` 값을 b 값으로 대체\n",
    "\n",
    "```python\n",
    "----------------------------\n",
    "# remove 추가 설명\n",
    "numbers = [1, 3, 9, 5, 7, 9]\n",
    "numbers.remove(9) # 9에 해당하는 첫번째 값을 찾아 삭제\n",
    "\n",
    "print(numbers) # 1, 3, 5, 7, 9\n",
    "----------------------------\n",
    "\n",
    "\n",
    "```\n",
    "\n",
    "```python\n",
    "----------------------------\n",
    "# insert 추가 설명\n",
    "numbers = [1, 3, 5, 7, 9]\n",
    "numbers.insert(3, 99) # index 3번째(7)을 99로 대체\n",
    "\n",
    "print(numbers) # 1, 3, 5, 99, 9\n",
    "----------------------------\n",
    "```"
   ]
  },
  {
   "cell_type": "markdown",
   "metadata": {},
   "source": [
    "### List 슬라이싱\n",
    "\n",
    "-------------\n",
    "`django document` _인덱싱은 개별 문자를 가져오는데 사용되지만 슬라이스를 사용하면 하위 문자열을 얻을 수 있습니다._\n",
    "\n",
    "List 슬라이싱을 통해 원하는 값만을 추출 또는 역순으로 정렬 등의 작업이 가능하다\n",
    "\n",
    "#### # List 변수[from first`:`from last`:`step]\n",
    "\n",
    "```\n",
    " ------------------------\n",
    " | p | y | t | h | o | n |\n",
    " -------------------------\n",
    " 0   1   2   3   4   5   6\n",
    "-6  -5  -4  -3  -2  -1\n",
    "\n",
    "```"
   ]
  },
  {
   "cell_type": "markdown",
   "metadata": {},
   "source": [
    "### Tuple(튜플)\n",
    "\n",
    "`출처: realpython`\n",
    "\n",
    "[참조 사이트 바로가기](https://realpython.com/python-lists-tuples/)\n",
    "\n",
    "왜 값을 변경할 수 있는 리스트를 사용하지 않고 튜플을 사용하나?\n",
    "\n",
    "- 프로그램 실행은 동등한 List보다 Tuple을 조작할 때 빠르다.\n",
    "- 때로는 데이터를 수정하고 싶지 않을 때가 있다.\n",
    "    - 컬렉션의 값이 프로그램의 수명 동안 일정하게 유지되는 경우, List 대신 Tuple을 사용하면 우발적인 수정을 방지할 수 있다.\n",
    "- Dict에 곧 호출할 또 다른 파이썬 데이터 유형이 있는데, 이는 구성 요소 중 하나에 변경 불가능한 유형의 값이 필요하다. Tuple은 이 목적으로 사용될 수 있지만 List는 사용할 수 없다.\n",
    "\n",
    "주의할 점은 튜플을 선언할 때는 ()안에 하나 이상의 쉼표(,)가 있어야만 튜플로 인식을 한다.\n"
   ]
  },
  {
   "cell_type": "markdown",
   "metadata": {},
   "source": [
    "Tuple(튜플) 도 index 를 활용하여 값을 출력할 수 있다.\n",
    "```python\n",
    "-----------------\n",
    "# index 활용1\n",
    "numbers = (1, 3, 5, 7, 9)\n",
    "numbers[1]\n",
    "\n",
    "print(numbers) # 3\n",
    "-----------------\n",
    "\n",
    "-----------------\n",
    "# index 활용2\n",
    "numbers = (1, 3, 5, 7, 9, 11)\n",
    "numbers[1:4]\n",
    "\n",
    "print(numbers) # 3, 5, 7\n",
    "-----------------\n",
    "```"
   ]
  }
 ],
 "metadata": {
  "kernelspec": {
   "display_name": "Python 3",
   "language": "python",
   "name": "python3"
  },
  "language_info": {
   "codemirror_mode": {
    "name": "ipython",
    "version": 3
   },
   "file_extension": ".py",
   "mimetype": "text/x-python",
   "name": "python",
   "nbconvert_exporter": "python",
   "pygments_lexer": "ipython3",
   "version": "3.6.5"
  }
 },
 "nbformat": 4,
 "nbformat_minor": 2
}
