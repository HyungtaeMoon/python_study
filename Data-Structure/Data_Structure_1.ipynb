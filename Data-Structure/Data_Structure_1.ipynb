{
 "cells": [
  {
   "cell_type": "markdown",
   "metadata": {},
   "source": [
    "# 자료구조\n",
    "\n",
    "***\n",
    "\n",
    "- 해당 내용은 **파이썬과 함께하는 자료구조** 내용을 토대로 정리"
   ]
  },
  {
   "cell_type": "markdown",
   "metadata": {},
   "source": [
    "***\n",
    "## 기본개념\n",
    "***\n",
    "\n",
    "자료구조의 효율성은 수행되는 연산의 수행 시간으로 측정한다. 그리고 대부분의 알고리즘들이 비슷한 크기의 메모리 공간을 사용하기 때문에 실제로는 시간복잡도를 수행시간으로 명시하기도 한다.\n",
    "\n",
    "> 수행시간 = 시간복잡도 x 공간복잡도\n"
   ]
  },
  {
   "cell_type": "markdown",
   "metadata": {},
   "source": [
    "***\n",
    "## 표기법\n",
    "***\n",
    "\n",
    "### Big-Oh 표기법(대표)\n",
    "\n",
    "이보다 너 나쁠 수는 없다.(점근적 상한)\n",
    "\n",
    "### Big-Omega 표기법\n",
    "\n",
    "이보다 더 좋을 수는 없다.(점근적 하한)\n",
    "\n",
    "### Theta 표기법\n",
    "\n",
    "Big-Oh 와 Big-Omega 동시 성립\n",
    "\n",
    "\n",
    "[!TIP] 점근적: 점점 가까워짐"
   ]
  },
  {
   "cell_type": "markdown",
   "metadata": {},
   "source": [
    "***\n",
    "## 알고리즘의 수행시간\n",
    "***\n",
    "\n",
    "(주로 O- 표기를 사용)\n",
    "\n",
    "아래로 갈수록 비효율적인 알고리즘\n",
    "\n",
    "\n",
    "| 표기     | 시간           | 대표 알고리즘           | 비고 |\n",
    "|----------|--------------|---------------------|------|\n",
    "| O(1)     | 상수시간       | 배열의 요소, 검색       |      |\n",
    "| O(logN)  | 로그(대수)시간 | 이진탐색                |      |\n",
    "| O(N)     | 선형시간       | 순차탐색                |      |\n",
    "| O(NlogN) | 로그선형시간   | 퀵소트                  |      |\n",
    "| O(N^2)   | 제곱시간       | 버블소트                |      |\n",
    "| O(N^3)   | 세제곱시간     |  -                     |      |\n",
    "| O(2^N)   | 지수시간       | 하노이, 재귀적 피보나치    |      |\n",
    "| O(N!)    | N팩토리얼      | 모든 경우의 수 계산       |      |\n"
   ]
  },
  {
   "cell_type": "markdown",
   "metadata": {},
   "source": [
    "***\n",
    "## 입력 크기에 따른 Big-O 처리\n",
    "***\n",
    "\n",
    "| Big O 표기 | 10 개 | 100 개 | 1000 개  |\n",
    "| -------------- | ---------------------------- | ----------------------------- | ------------------------------- |\n",
    "| **O(1)**       | 1                            | 1                             | 1                               |\n",
    "| **O(log N)**   | 3                            | 6                             | 9                               |\n",
    "| **O(N)**       | 10                           | 100                           | 1000                            |\n",
    "| **O(N log N)** | 30                           | 600                           | 9000                            |\n",
    "| **O(N^2)**     | 100                          | 10000                         | 1000000                         |\n",
    "| **O(2^N)**     | 1024                         | 1.26e+29                      | 1.07e+301                       |\n",
    "| **O(N!)**      | 3628800                      | 9.3e+157                      | 4.02e+2567                      |\n"
   ]
  },
  {
   "cell_type": "markdown",
   "metadata": {},
   "source": [
    "***\n",
    "## 의사난수 생성\n",
    "***"
   ]
  },
  {
   "cell_type": "code",
   "execution_count": 1,
   "metadata": {},
   "outputs": [
    {
     "name": "stdout",
     "output_type": "stream",
     "text": [
      "--- 3.409385681152344e-05 seconds ---\n",
      "--- 0.0004260540008544922 seconds ---\n"
     ]
    }
   ],
   "source": [
    "import random\n",
    "import time\n",
    "random.seed(time.time())\n",
    "a = []\n",
    "for i in range(100):\n",
    "    a.append(random.randint(1, 1000))\n",
    "    \n",
    "start_time = time.time()\n",
    "\n",
    "# 같은 포맷팅 방식인데 결과값이 달라보인다.\n",
    "# new 포맷팅은 e-05 에 주목: 5.62.... 에 ^-5 (마이너스 5승) 으로 보면 된다.\n",
    "print('--- {} seconds ---'.format((time.time() - start_time)))\n",
    "print('--- %s seconds ---' % (time.time() - start_time))"
   ]
  },
  {
   "cell_type": "markdown",
   "metadata": {},
   "source": [
    "***\n",
    "## 내장함수\n",
    "***"
   ]
  },
  {
   "cell_type": "code",
   "execution_count": 2,
   "metadata": {},
   "outputs": [],
   "source": [
    "a = [1, 5, 4, 2, 7, 10, 11, 12]"
   ]
  },
  {
   "cell_type": "markdown",
   "metadata": {},
   "source": [
    "### lambda 함수를 사용할 경우\n",
    "\n",
    "lambda 인자(arguments): 식(expression)"
   ]
  },
  {
   "cell_type": "code",
   "execution_count": 3,
   "metadata": {},
   "outputs": [
    {
     "name": "stdout",
     "output_type": "stream",
     "text": [
      "[4, 2, 10, 12]\n"
     ]
    }
   ],
   "source": [
    "even = list(filter(lambda x: (x%2 == 0), a))\n",
    "print(even)"
   ]
  },
  {
   "cell_type": "code",
   "execution_count": 4,
   "metadata": {},
   "outputs": [
    {
     "name": "stdout",
     "output_type": "stream",
     "text": [
      "[10, 50, 40, 20, 70, 100, 110, 120]\n"
     ]
    }
   ],
   "source": [
    "ten_times = list(map(lambda x: x * 10, a))\n",
    "print(ten_times)"
   ]
  },
  {
   "cell_type": "code",
   "execution_count": 5,
   "metadata": {},
   "outputs": [],
   "source": [
    "b = [[0, 1, 8], [7, 2, 2], [5, 3, 10], [1, 4, 5]]"
   ]
  },
  {
   "cell_type": "code",
   "execution_count": 6,
   "metadata": {},
   "outputs": [
    {
     "name": "stdout",
     "output_type": "stream",
     "text": [
      "[[7, 2, 2], [1, 4, 5], [0, 1, 8], [5, 3, 10]]\n"
     ]
    }
   ],
   "source": [
    "b.sort(key = lambda x: x[2])\n",
    "print(b) # b 의 이중리스트에서 각 작은 리스트의 인덱스 3번째 값을 기준으로 정렬"
   ]
  },
  {
   "cell_type": "markdown",
   "metadata": {},
   "source": [
    "### 함수로 사용할 경우"
   ]
  },
  {
   "cell_type": "code",
   "execution_count": 7,
   "metadata": {},
   "outputs": [],
   "source": [
    "def even_method(a):\n",
    "    result = []\n",
    "    for i in a:\n",
    "        if i % 2 == 0:\n",
    "            result.append(i)\n",
    "#     return result\n",
    "    print(type(result))\n",
    "    print(result)"
   ]
  },
  {
   "cell_type": "code",
   "execution_count": 8,
   "metadata": {},
   "outputs": [
    {
     "name": "stdout",
     "output_type": "stream",
     "text": [
      "<class 'list'>\n",
      "[4, 2, 10, 12]\n"
     ]
    }
   ],
   "source": [
    "even_method(a)"
   ]
  },
  {
   "cell_type": "markdown",
   "metadata": {},
   "source": [
    "### 리스트 컴프리헨션으로 구현"
   ]
  },
  {
   "cell_type": "code",
   "execution_count": 9,
   "metadata": {},
   "outputs": [
    {
     "data": {
      "text/plain": [
       "[4, 2, 10, 12]"
      ]
     },
     "execution_count": 9,
     "metadata": {},
     "output_type": "execute_result"
    }
   ],
   "source": [
    "[i for i in a if i % 2 == 0]"
   ]
  }
 ],
 "metadata": {
  "kernelspec": {
   "display_name": "Python 3",
   "language": "python",
   "name": "python3"
  },
  "language_info": {
   "codemirror_mode": {
    "name": "ipython",
    "version": 3
   },
   "file_extension": ".py",
   "mimetype": "text/x-python",
   "name": "python",
   "nbconvert_exporter": "python",
   "pygments_lexer": "ipython3",
   "version": "3.6.5"
  }
 },
 "nbformat": 4,
 "nbformat_minor": 2
}
