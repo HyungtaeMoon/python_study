{
 "cells": [
  {
   "cell_type": "markdown",
   "metadata": {},
   "source": [
    "## 스택과 큐\n",
    "\n",
    "***\n",
    "\n",
    "- 단순 연결리스트로 구현한 stack 에서 push, pop 은 **O(1)** 시간이 소요\n",
    "\n",
    "\n",
    "\n",
    "- 그러나 파이썬의 리스트 크기는 동적으로 자동 확장/축소\n",
    "    - 모든 항목은 새로운 리스트로 복사해야 하기 때문에 **O(N)** 시간이 소요\n",
    "    \n",
    "\n",
    "\n",
    "- 그래도 내 생각엔 기준을 O(1)로 잡는게 맞는듯\n",
    "    - O(1) 상수시간: 가장 효율적인 시간, 한방에 탐색, 삽입, 삭제\n"
   ]
  },
  {
   "cell_type": "code",
   "execution_count": 18,
   "metadata": {},
   "outputs": [],
   "source": [
    "class Node:\n",
    "    # 전역변수 top 에 생성자 함수를 사용한 노드 생성\n",
    "    # top = Node(item, top)\n",
    "    def __init__(self, item, link):\n",
    "        self.item = item\n",
    "        self.next = link\n",
    "        \n",
    "def push(item):\n",
    "    # 전역변수 top/size 선언\n",
    "    global top\n",
    "    global size\n",
    "    # 새로운 노드를 push 할 때는 스택구조이기 때문에, 항상 top = new_node\n",
    "    top = Node(item, top)\n",
    "    size += 1\n",
    "    \n",
    "def peek():\n",
    "    if size != 0:\n",
    "        return top.item\n",
    "    \n",
    "def pop():\n",
    "    # pop 은 해당 스택에서 최상위에 있는 리스트의 값을 꺼내야 함\n",
    "    global top\n",
    "    global size\n",
    "    if size != 0:\n",
    "        # 가장 위에 있는 아이템을 잠시 다른 변수에 담고\n",
    "        top_item = top.item\n",
    "        # pop 이후에 item 을 top 으로 변수 할당\n",
    "        top = top.next\n",
    "        size -= 1\n",
    "        # pop 이 되는 item 을 return\n",
    "        return top_item\n",
    "    \n",
    "def print_stack():\n",
    "    print('top -> ', end='')\n",
    "    p = top\n",
    "    while p:\n",
    "        if p.next != None:\n",
    "            print(p.item)\n",
    "        else:\n",
    "            print(p.item)\n",
    "        p = p.next\n",
    "    print()"
   ]
  },
  {
   "cell_type": "code",
   "execution_count": 19,
   "metadata": {},
   "outputs": [
    {
     "name": "stdout",
     "output_type": "stream",
     "text": [
      "사과, 오렌지, 체리\n",
      "top -> cherry\n",
      "orange\n",
      "apple\n",
      "\n",
      "top -> orange\n",
      "apple\n",
      "\n"
     ]
    }
   ],
   "source": [
    "top = None\n",
    "size = 0\n",
    "push('apple')\n",
    "push('orange')\n",
    "push('cherry')\n",
    "print('사과, 오렌지, 체리')\n",
    "print_stack()\n",
    "\n",
    "pop()\n",
    "print_stack()"
   ]
  },
  {
   "cell_type": "code",
   "execution_count": null,
   "metadata": {},
   "outputs": [],
   "source": []
  }
 ],
 "metadata": {
  "kernelspec": {
   "display_name": "Python 3",
   "language": "python",
   "name": "python3"
  },
  "language_info": {
   "codemirror_mode": {
    "name": "ipython",
    "version": 3
   },
   "file_extension": ".py",
   "mimetype": "text/x-python",
   "name": "python",
   "nbconvert_exporter": "python",
   "pygments_lexer": "ipython3",
   "version": "3.6.5"
  }
 },
 "nbformat": 4,
 "nbformat_minor": 2
}
