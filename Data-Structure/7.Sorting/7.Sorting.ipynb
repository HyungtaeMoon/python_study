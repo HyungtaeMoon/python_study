{
 "cells": [
  {
   "cell_type": "markdown",
   "metadata": {},
   "source": [
    "## 정렬\n",
    "\n",
    "***"
   ]
  },
  {
   "cell_type": "markdown",
   "metadata": {},
   "source": [
    "### 선택정렬"
   ]
  },
  {
   "cell_type": "markdown",
   "metadata": {},
   "source": [
    "- for loop 가 수행될 때마다 정렬 안된 부분(for j loop) 에서 가장 작은 원소를 선택\n",
    "    - 원소들의 총 비교 횟수는 (N-1) + (N-2) + (N-3) + ....\n",
    "    \n",
    "- 부모 for loop 와 자식 for loop 의 관계에 대한 이해가 필수\n",
    "    - 부모 for loop 의 원소가 하나 들어가면 자식 for loop 는 자신의 모든 for loop 를 수행\n",
    "    - 부모 for loop 1 순회 당/자식 for loop 는 자신의 length 만큼의 순회를 수행"
   ]
  },
  {
   "cell_type": "code",
   "execution_count": 28,
   "metadata": {},
   "outputs": [],
   "source": [
    "def selection_sort(a):\n",
    "    for i in range(0, len(a)-1):\n",
    "        \n",
    "        for j in range(i, len(a)): # 부모 for loop 의 포인터가 하나씩 옮겨갈 때마다 자식 for loop 는 부지런하게 끝까지 순회\n",
    "            min_idx = i # 아래의 자식 for loop 를 돌고 가장 작은 값이 minimum 에 저장\n",
    "            if a[min_idx] > a[j]: # 자식 for loop 를 돌면서 가장 작은 값을 찾기\n",
    "                min_idx = j # 찾았으면 실제 값을 minimum 에 할당\n",
    "        a[min_idx], a[i] = a[i], a[min_idx] # 자식 for loop 를 다 돌고 가장 작은 값을 minimum 에 할당(저장)\n",
    "        print(f' ->> 정렬 과정: {a}')\n",
    "    print('정렬 끝: ', a)"
   ]
  },
  {
   "cell_type": "code",
   "execution_count": 29,
   "metadata": {},
   "outputs": [
    {
     "name": "stdout",
     "output_type": "stream",
     "text": [
      " ->> 정렬 과정: [11, 88, 77, 26, 93, 17, 49, 10, 77, 54]\n",
      " ->> 정렬 과정: [11, 54, 77, 26, 93, 17, 49, 10, 77, 88]\n",
      " ->> 정렬 과정: [11, 54, 77, 26, 93, 17, 49, 10, 77, 88]\n",
      " ->> 정렬 과정: [11, 54, 77, 26, 93, 17, 49, 10, 77, 88]\n",
      " ->> 정렬 과정: [11, 54, 77, 26, 88, 17, 49, 10, 77, 93]\n",
      " ->> 정렬 과정: [11, 54, 77, 26, 88, 17, 49, 10, 77, 93]\n",
      " ->> 정렬 과정: [11, 54, 77, 26, 88, 17, 49, 10, 77, 93]\n",
      " ->> 정렬 과정: [11, 54, 77, 26, 88, 17, 49, 10, 77, 93]\n",
      " ->> 정렬 과정: [11, 54, 77, 26, 88, 17, 49, 10, 77, 93]\n",
      "정렬 끝:  [11, 54, 77, 26, 88, 17, 49, 10, 77, 93]\n"
     ]
    }
   ],
   "source": [
    "a = [54, 88, 77, 26, 93, 17, 49, 10, 77, 11]\n",
    "selection_sort(a)"
   ]
  },
  {
   "cell_type": "code",
   "execution_count": null,
   "metadata": {},
   "outputs": [],
   "source": []
  },
  {
   "cell_type": "markdown",
   "metadata": {},
   "source": [
    "### 삽입정렬\n",
    "\n",
    "***"
   ]
  },
  {
   "cell_type": "markdown",
   "metadata": {},
   "source": [
    "- 리스트의 1번째 원소를 지정하여 정렬을 시작\n",
    "    - 리스트의 마지막 원소를 이미 정렬되어 있는 앞부분에 삽입했을 때 정렬 종료\n",
    "    \n",
    "- 입력에 민감한 알고리즘으로 정렬되어 있을 때는 정렬이 빠르지만 역순의 경우에는 느리다는 단점"
   ]
  },
  {
   "cell_type": "markdown",
   "metadata": {},
   "source": [
    "삽입정렬을 이해하기 전 for loop 의 이해(start, end, step)\n",
    "\n",
    "1. 삽입정렬은 정렬이 되지 않은(뒤에서부터)앞의 인덱스와 비교\n",
    "2. 정렬되지 않은 해당 인덱스(포인터)부터 시작해서 앞에 모든 인덱스(값)을 비교하는방법\n",
    "\n",
    "- start=현재 포인터, end=0, step=-1\n",
    "    - 현재 포인터부터 역순으로 for loop 로 원소를 순회"
   ]
  },
  {
   "cell_type": "code",
   "execution_count": 30,
   "metadata": {},
   "outputs": [],
   "source": [
    "abc = [0, 1, 2, 3, 4]"
   ]
  },
  {
   "cell_type": "code",
   "execution_count": 33,
   "metadata": {},
   "outputs": [
    {
     "name": "stdout",
     "output_type": "stream",
     "text": [
      "\n",
      "비교하고자 하는 이 i index [0] 와\n",
      "\n",
      "비교하고자 하는 이 i index [1] 와\n",
      " \t>> 역순으로 들어오는 이 j 인덱스를 비교!! [1]\n",
      "\n",
      "비교하고자 하는 이 i index [2] 와\n",
      " \t>> 역순으로 들어오는 이 j 인덱스를 비교!! [2]\n",
      " \t>> 역순으로 들어오는 이 j 인덱스를 비교!! [1]\n",
      "\n",
      "비교하고자 하는 이 i index [3] 와\n",
      " \t>> 역순으로 들어오는 이 j 인덱스를 비교!! [3]\n",
      " \t>> 역순으로 들어오는 이 j 인덱스를 비교!! [2]\n",
      " \t>> 역순으로 들어오는 이 j 인덱스를 비교!! [1]\n",
      "\n",
      "비교하고자 하는 이 i index [4] 와\n",
      " \t>> 역순으로 들어오는 이 j 인덱스를 비교!! [4]\n",
      " \t>> 역순으로 들어오는 이 j 인덱스를 비교!! [3]\n",
      " \t>> 역순으로 들어오는 이 j 인덱스를 비교!! [2]\n",
      " \t>> 역순으로 들어오는 이 j 인덱스를 비교!! [1]\n"
     ]
    }
   ],
   "source": [
    "# 기본 개념\n",
    "for i in range(0, len(abc)):\n",
    "    print()\n",
    "    print(f'비교하고자 하는 이 i index [{i}] 와')\n",
    "    for j in range(i, 0, -1):\n",
    "        print(f' \\t>> 역순으로 들어오는 이 j 인덱스를 비교!! [{j}]')"
   ]
  },
  {
   "cell_type": "code",
   "execution_count": 52,
   "metadata": {},
   "outputs": [],
   "source": [
    "def insertion_sort(a):\n",
    "    for i in range(1, len(a)): # start=0 은 위에서보면 이해되는데, 정렬(비교)하기 위한 자식 for loop 에 도달하지 못함\n",
    "        for j in range(i, 0, -1):\n",
    "            # a[j-1] = 88, a[j] = 77\n",
    "            # [88, 77] 의 상황이라면 스와핑 진행\n",
    "            if a[j-1] > a[j]:\n",
    "                # j 의 바로 앞에 원소 값이 더 작으면 바로 스와핑\n",
    "                a[j], a[j-1] = a[j-1], a[j]"
   ]
  },
  {
   "cell_type": "code",
   "execution_count": 53,
   "metadata": {},
   "outputs": [
    {
     "name": "stdout",
     "output_type": "stream",
     "text": [
      "\t 정렬 과정: [54, 88, 77, 26, 93, 17, 49, 10, 77, 11]\n",
      "\t 정렬 과정: [54, 77, 88, 26, 93, 17, 49, 10, 77, 11]\n",
      "\t 정렬 과정: [26, 54, 77, 88, 93, 17, 49, 10, 77, 11]\n",
      "\t 정렬 과정: [26, 54, 77, 88, 93, 17, 49, 10, 77, 11]\n",
      "\t 정렬 과정: [17, 26, 54, 77, 88, 93, 49, 10, 77, 11]\n",
      "\t 정렬 과정: [17, 26, 49, 54, 77, 88, 93, 10, 77, 11]\n",
      "\t 정렬 과정: [10, 17, 26, 49, 54, 77, 88, 93, 77, 11]\n",
      "\t 정렬 과정: [10, 17, 26, 49, 54, 77, 77, 88, 93, 11]\n",
      "\t 정렬 과정: [10, 11, 17, 26, 49, 54, 77, 77, 88, 93]\n",
      "정렬 결과: [10, 11, 17, 26, 49, 54, 77, 77, 88, 93]\n"
     ]
    }
   ],
   "source": [
    "a = [54, 88, 77, 26, 93, 17, 49, 10, 77, 11]\n",
    "insertion_sort(a)"
   ]
  }
 ],
 "metadata": {
  "kernelspec": {
   "display_name": "Python 3",
   "language": "python",
   "name": "python3"
  },
  "language_info": {
   "codemirror_mode": {
    "name": "ipython",
    "version": 3
   },
   "file_extension": ".py",
   "mimetype": "text/x-python",
   "name": "python",
   "nbconvert_exporter": "python",
   "pygments_lexer": "ipython3",
   "version": "3.6.5"
  }
 },
 "nbformat": 4,
 "nbformat_minor": 2
}
