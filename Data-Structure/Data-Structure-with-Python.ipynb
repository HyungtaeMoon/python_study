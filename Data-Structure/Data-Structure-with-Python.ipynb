{
 "cells": [
  {
   "cell_type": "markdown",
   "metadata": {
    "slideshow": {
     "slide_type": "-"
    }
   },
   "source": [
    "# 자료구조\n",
    "\n",
    "------------------\n",
    "\n",
    "- 해당 내용은 파이썬과 함께하는 자료구조 내용을 토대로 공부한 내용을 정리했습니다."
   ]
  },
  {
   "cell_type": "markdown",
   "metadata": {},
   "source": [
    "\n",
    "\n"
   ]
  },
  {
   "cell_type": "markdown",
   "metadata": {},
   "source": [
    "### \\# 트리"
   ]
  },
  {
   "cell_type": "markdown",
   "metadata": {},
   "source": [
    "### \\# 이진탐색트리"
   ]
  },
  {
   "cell_type": "markdown",
   "metadata": {},
   "source": [
    "**이진탐색을 트리구조로 변형시킨 자료구조**"
   ]
  },
  {
   "cell_type": "markdown",
   "metadata": {},
   "source": [
    "- 이진탐색트리의 특징 중의 하나는 트리를 중위순회(왼쪽, 노드방문, 오른쪽)을 수행하면 정렬된 출력을 얻는다는 것\n",
    "\n",
    "\n",
    "- `이진탐색트리 조건`\n",
    "\n",
    "    - 각 노드 n의 키값이 n의 왼쪽 서브트리에 있는 노드들의 키값들보다 크고, n의 오른쪽 서브트리에 있는 노드들의 키값들보다 작다.\n",
    "\n",
    "\n",
    "- __부모 노드 기준으로 왼쪽은 모두 부모노드의 값보다 작아야 한다.__ 그렇지않으면 이진탐색 트리가 아니므로 주의\n",
    "\n",
    "    - **노드 값의 크기**\n",
    "\n",
    "        - n2 < n1 < n3"
   ]
  },
  {
   "cell_type": "code",
   "execution_count": 1,
   "metadata": {},
   "outputs": [],
   "source": [
    "class Node:\n",
    "    def __init__(self, key, value, left=None, right=None): # 노드 생성자\n",
    "        self.key   = key\n",
    "        self.value = value \n",
    "        self.left  = left \n",
    "        self.right = right \n",
    "\n",
    "class BST:           \n",
    "    def __init__(self): # 트리 생성자\n",
    "        self.root = None \n",
    "\n",
    "    def get(self, k): # 탐색 연산\n",
    "        return self.get_item(self.root, k)\n",
    "    \n",
    "    def get_item(self, n, k):\n",
    "        if n == None:\n",
    "            return None # key를 발견 못함\n",
    "        if n.key > k: # 왼쪽 서브트리 탐색\n",
    "            return self.get_item(n.left, k)\n",
    "        elif n.key < k: # 오른쪽 서브트리 탐색 \n",
    "            return self.get_item(n.right, k) \n",
    "        else:\n",
    "            return n.value # key를 가진 노드 발견\n",
    "\n",
    "    def put(self, key, value): # 삽입 연산\n",
    "        self.root = self.put_item(self.root, key, value)\n",
    "        \n",
    "    def put_item(self, n, key, value):\n",
    "        if n == None:\n",
    "            return Node(key, value) \n",
    "        if n.key > key: # 왼쪽 서브트리에 삽입\n",
    "            n.left = self.put_item(n.left, key, value)\n",
    "        elif n.key < key: # 오른쪽 서브트리에 삽입\n",
    "            n.right = self.put_item(n.right, key, value) \n",
    "        else: # 노드 n의 value 갱신\n",
    "            n.vlaue = value\n",
    "        return n\n",
    "\n",
    "    def delete_min(self): # 최솟값 삭제\n",
    "        if self.root == None:\n",
    "            print('트리가 비어 있음')\n",
    "        self.root = self.del_min(self.root)\n",
    "        \n",
    "    def del_min(self, n):\n",
    "        if n.left == None:\n",
    "            return n.right  # n의 오른쪽자식 리턴\n",
    "        n.left = self.del_min(n.left) # n의 왼쪽자식으로 재귀호출\n",
    "        return n\n",
    "\n",
    "    def delete(self, k): # 삭제 연산\n",
    "        self.root = self.del_node(self.root, k)\n",
    "         \n",
    "    def del_node(self, n, k):\n",
    "        if n == None:\n",
    "            return None\n",
    "        if n.key > k: # 왼쪽자식으로 이동\n",
    "            n.left = self.del_node(n.left, k)   \n",
    "        elif n.key < k: # 오른쪽자식으로 이동\n",
    "            n.right = self.del_node(n.right, k) \n",
    "        else: # 삭제할 노드 발견\n",
    "            if n.right == None: # case 0, 1\n",
    "                return n.left   \n",
    "            if n.left == None:  # case 1\n",
    "                return n.right \n",
    "            target = n          # case 2, Line 66-69          \n",
    "            n = self.minimum(target.right) # 중위 후속자를 찾아서 n이 참조하게 함\n",
    "            n.right = self.del_min(target.right)\n",
    "            n.left  = target.left\n",
    "        return n\n",
    "    \n",
    "    def min(self): # 최솟값 가진 노드 찾기\n",
    "        if self.root == None:\n",
    "            return None\n",
    "        return self.minimum(self.root)\n",
    "    \n",
    "    def minimum(self, n):\n",
    "        if n.left == None:\n",
    "            return n\n",
    "        return self.minimum(n.left)\n",
    "    \n",
    "    def preorder(self, n): # 전위순회\n",
    "        if n != None:\n",
    "            print(str(n.key),' ', end='')\n",
    "            if n.left:\n",
    "                self.preorder(n.left)\n",
    "            if n.right:\n",
    "                self.preorder(n.right)\n",
    " \n",
    "    def inorder(self, n): # 중위순회\n",
    "        if n != None:\n",
    "            if n.left:\n",
    "                self.inorder(n.left)\n",
    "            print(str(n.key),' ', end='')\n",
    "            if n.right:\n",
    "                self.inorder(n.right)\n",
    "\n",
    "    def postorder(self, n): # 후위순회\n",
    "        if n != None:\n",
    "            if n.left:\n",
    "                self.postorder(n.left)\n",
    "            if n.right:\n",
    "                self.postorder(n.right)\n",
    "            print(str(n.key),' ', end='')\n",
    "              \n",
    "    def levelorder(self, root): # 레벨순회\n",
    "        q = []\n",
    "        q.append(root)\n",
    "        while len(q) != 0:  \n",
    "            t = q.pop(0) \n",
    "            print(str(t.key), ' ', end='')\n",
    "            if t.left != None: \n",
    "                q.append(t.left)  \n",
    "            if t.right != None: \n",
    "                q.append(t.right)"
   ]
  },
  {
   "cell_type": "code",
   "execution_count": 3,
   "metadata": {},
   "outputs": [
    {
     "name": "stdout",
     "output_type": "stream",
     "text": [
      "전위순회:\t500  200  100  50  10  150  400  250  350  600  800  700  \n",
      "중위순회:\t10  50  100  150  200  250  350  400  500  600  700  800  \n",
      "250:  kiwi\n",
      "200 삭제 후:\n",
      "전위순회:\t500  250  100  50  10  150  400  350  600  800  700  \n",
      "중위순회:\t10  50  100  150  250  350  400  500  600  700  800  "
     ]
    },
    {
     "data": {
      "text/plain": [
       "'apple'"
      ]
     },
     "execution_count": 3,
     "metadata": {},
     "output_type": "execute_result"
    }
   ],
   "source": [
    "t = BST()\n",
    "t.put(500, 'apple')\n",
    "t.put(600, 'banana')\n",
    "t.put(200, 'melon')\n",
    "t.put(100, 'orange')\n",
    "t.put(400, 'lime')\n",
    "t.put(250, 'kiwi')\n",
    "t.put(150, 'grape')\n",
    "t.put(800, 'peach')\n",
    "t.put(700, 'cherry')\n",
    "t.put(50, 'pear')\n",
    "t.put(350, 'lemon')\n",
    "t.put(10, 'plum')\n",
    "print('전위순회:\\t', end='')\n",
    "t.preorder(t.root)\n",
    "print('\\n중위순회:\\t', end='')\n",
    "t.inorder(t.root)\n",
    "print('\\n250: ', t.get(250))\n",
    "t.delete(200)\n",
    "print('200 삭제 후:')\n",
    "print('전위순회:\\t', end='')\n",
    "t.preorder(t.root)\n",
    "print('\\n중위순회:\\t', end='')\n",
    "t.inorder(t.root)\n",
    "t.get_item(t.root, 500)"
   ]
  },
  {
   "cell_type": "code",
   "execution_count": null,
   "metadata": {},
   "outputs": [],
   "source": []
  },
  {
   "cell_type": "code",
   "execution_count": null,
   "metadata": {},
   "outputs": [],
   "source": []
  },
  {
   "cell_type": "markdown",
   "metadata": {},
   "source": [
    "### \\# AVL 트리구조"
   ]
  },
  {
   "cell_type": "markdown",
   "metadata": {},
   "source": [
    "- AVL 트리는 한쪽으로 치우쳐 자라나는 현상에 대한 균형을 유지\n",
    "\n",
    "- AVL 트리는 임의의 노드 n 에 대해 n 의 왼쪽 서브트리의 높이와 오른쪽 서브트리의 높이 차이가 1을 넘지 않는 이진탐색트리\n",
    "\n",
    "- 균형을 잡는 방법은 총 4가지\n",
    "    - 오른쪽, 왼쪽, 오른쪽과 왼쪽, 왼쪽과 오른쪽처럼 재귀를 통해 값을 비교하여 노드를 재설정"
   ]
  },
  {
   "cell_type": "code",
   "execution_count": 35,
   "metadata": {},
   "outputs": [],
   "source": [
    "class Node:\n",
    "    def __init__(self, key, value, height, left=None, right=None):\n",
    "        self.key = key\n",
    "        self.value = value\n",
    "        self.height = height\n",
    "        self.left = left\n",
    "        self.right = right\n",
    "        \n",
    "class AVL:\n",
    "    def __init__(self):\n",
    "        self.root = None\n",
    "        \n",
    "    def height(self, n):\n",
    "        if n == None:\n",
    "            return 0\n",
    "        return n.height\n",
    "    \n",
    "    def put(self, key, value):\n",
    "        self.root = self.put_item(self.root, key, value)\n",
    "        \n",
    "    def put_item(self, n, key, value):\n",
    "        \"\"\"\n",
    "        노드가 없으면 새로 만들고 바로 리턴해주고\n",
    "        만약에 노드가 있다면 루트 노드를 시작으로 재귀함수로 n.left, n.right 로 계속 비교 연산\n",
    "        \"\"\"\n",
    "        # 노드가 없을 경우 노드 생성\n",
    "        if n == None:\n",
    "            return Node(key, value, 1)\n",
    "        # 존재하는 노드가 새로 들어오는 key 값보다 크다면\n",
    "        # 새로 들어오는 key 를 왼쪽으로 할당\n",
    "        if n.key > key:\n",
    "            n.left = self.put_item(n.left, key, value)\n",
    "        elif n.key < key:\n",
    "            n.right = self.put_item(n.right, key, value)\n",
    "        else:\n",
    "            # key 가 이미 트리에 있으므로 value 를 갱신시켜줌\n",
    "            n.value = value\n",
    "            return n\n",
    "        n.height= max(self.height(n.left), self.height(n.right)) + 1\n",
    "        # 노드 n 의 균형 점검 및 불균형을 바로 잡음\n",
    "        return self.balance(n)\n",
    "    \n",
    "    def balance(self, n):\n",
    "        if self.bf(n) > 1: # 노드 n의 왼쪽 서브트리가 높아서 불균형 발생\n",
    "            if self.bf(n.left) < 0: # 노드 n의 왼쪽 자식의 오른쪽 서브트리가 높은 경우\n",
    "                n.left = self.rotate_left(n.left) # LR-회전\n",
    "            n = self.rotate_right(n) # LL-회전\n",
    "            \n",
    "        elif self.bf(n) < -1: # 노드 n의 오른쪽 서브트리가 높아서 불균형 발생\n",
    "            if self.bf(n.right) > 0: # 노드 n의 오른쪽 자식의 왼쪽 서브트리가 높은 경우\n",
    "                n.right = self.rotate_right(n.right) # RL-회전\n",
    "            n = self.rotate_left(n) # RR-회전\n",
    "        return n\n",
    "    \n",
    "    def bf(self, n):\n",
    "        return self.height(n.left) - self.height(n.right)\n",
    "    \n",
    "    def rotate_right(self, n): # 오른쪽으로 회전\n",
    "        x = n.left\n",
    "        n.left = x.right\n",
    "        x.right = n\n",
    "        # 높이 갱신\n",
    "        n.height = max(self.height(n.left), self.height(n.right)) + 1\n",
    "        # 높이 갱신\n",
    "        x.height = max(self.height(x.left), self.height(x.right)) + 1\n",
    "        # 회전 후 x 가 n 의 이전 자리로 이동되었으므로 x 를 리턴\n",
    "        return x\n",
    "    \n",
    "    def rotate_left(self, n): # 왼쪽으로 회전\n",
    "        x = n.right\n",
    "        n.right = x.left\n",
    "        x.right = n\n",
    "        n.height = max(self.height(n.left), self.height(n.right)) + 1\n",
    "        n.height = max(self.height(x.left), self.height(x.right)) + 1\n",
    "        return x\n",
    "    \n",
    "    def delete(self, key):\n",
    "        self.root = self.delete_node(self.root, key)\n",
    "        \n",
    "    def delete_node(self, n, key):\n",
    "        if n == None:\n",
    "            return None\n",
    "        # 왼쪽 자식으로 이동\n",
    "        if n.key > key:\n",
    "            n.left = self.delete_node(n.left, key)\n",
    "        # 오른쪽 자식으로 이동\n",
    "        elif n.key < key:\n",
    "            n.right = self.delete_node(n.right, key)\n",
    "        else: # 삭제할 노드 발견\n",
    "            if n.right == None:\n",
    "                return n.left\n",
    "            if n.left == None:\n",
    "                return n.right\n",
    "            target = n\n",
    "            # 중위 후속자를 찾아서 n 이 참조하게 함\n",
    "            n = self.minimum(target.right)\n",
    "            n.right = self.del_min(target.right)\n",
    "            n.left = target.left\n",
    "        n.height = max(self.height(n.left), self.height(n.right)) + 1\n",
    "        return self.balance(n)\n",
    "    \n",
    "    def delete_min(self):\n",
    "        if self.root == None:\n",
    "            print('트리가 비어있음')\n",
    "        self.root = self.del_min(n.left)\n",
    "        \n",
    "    def del_min(self, n):\n",
    "        # 최소값인 n.left 가 비어있으면 n.right 를 반환\n",
    "        if n.left == None:\n",
    "            return n.right\n",
    "        n.left = self.del_min(n.left)\n",
    "        n.height = max(self.height(n.left), self.height(n.right)) + 1\n",
    "        return self.balance(n)\n",
    "    \n",
    "    def min(self):\n",
    "        # 노드가 자체가 없으므로 None 을 반환\n",
    "        if self.root == None:\n",
    "            return None\n",
    "        # 그게 아닐 경우에는 minimum 메서드 실행\n",
    "        return self.minmum(self.root)\n",
    "        \n",
    "    def minimum(self, n):\n",
    "        if n.left == None:\n",
    "            return n\n",
    "        return self.minimum(n.left)\n",
    "    \n",
    "    def preorder(self, n):\n",
    "        print(str(n.key), ' ', end='')\n",
    "        if n.left:\n",
    "            self.preorder(n.left)\n",
    "        if n.right:\n",
    "            self.preorder(n.right)\n",
    "            \n",
    "    def inorder(self, n):\n",
    "        if n.left:\n",
    "            self.inorder(n.left)\n",
    "        print(str(n.key), ' ', end='')\n",
    "        if n.right:\n",
    "            self.inorder(n.right)"
   ]
  },
  {
   "cell_type": "code",
   "execution_count": 36,
   "metadata": {},
   "outputs": [
    {
     "name": "stdout",
     "output_type": "stream",
     "text": [
      "전위순회:\t20  10  40  80  10  40  75  90  \n",
      "중위순회:\t10  40  20  10  40  80  75  90  \n",
      "75와 85 삭제 후:\n",
      "전위순회:\t20  10  40  80  10  40  75  90  \n",
      "중위순회:\t10  40  20  10  40  80  75  90  "
     ]
    }
   ],
   "source": [
    "t = AVL()\n",
    "t.put(75, 'apple')\n",
    "t.put(80, 'grape')\n",
    "t.put(85, 'lime')\n",
    "t.put(20, 'mango')\n",
    "t.put(10, 'strawberry')\n",
    "t.put(50, 'banana')\n",
    "t.put(30, 'cherry')\n",
    "t.put(40, 'watermelon')\n",
    "t.put(70, 'melon')\n",
    "t.put(90, 'plum')\n",
    "print('전위순회:\\t', end='')\n",
    "t.preorder(t.root)\n",
    "print('\\n중위순회:\\t', end='')\n",
    "t.inorder(t.root)\n",
    "print('\\n75와 85 삭제 후:')\n",
    "t.delete(75)\n",
    "t.delete(85)\n",
    "print('전위순회:\\t', end='')\n",
    "t.preorder(t.root)\n",
    "print('\\n중위순회:\\t', end='')\n",
    "t.inorder(t.root)"
   ]
  },
  {
   "cell_type": "code",
   "execution_count": null,
   "metadata": {},
   "outputs": [],
   "source": []
  },
  {
   "cell_type": "markdown",
   "metadata": {},
   "source": [
    "- AVL 트리는 삽입이나 삭제 시 트리의 균형을 유지하여 O(logN) 시간을 보장\n",
    "\n",
    "\n",
    "**2-3 트리**\n",
    "\n",
    "\n",
    "- 2-3 트리는 내부노드의 차수가 2 또는 3인 균형탐색트리\n",
    "    - 2-노드는 자식이 2개, 3-노드는 자식이 3개\n",
    "    - 2-3 트리는 이파리노드들이 동일한 층에 있어야 하므로 트리가 위로 자라거나 낮아짐\n",
    "    \n",
    "    \n",
    "**레드블랙트리**\n",
    "\n",
    "\n",
    "- 노드에 빨간색 또는 기본(검정색)을 인스턴스에 부여해서 만드는 트리\n",
    "    - 색을 부여해서 얻게 되는 장점은 잘 모르겠음..\n",
    "    \n",
    "    \n",
    "**B-트리**\n",
    "\n",
    "- Balanced Tree\n",
    "    - 이진트리의 확장판\n",
    "    - 항상 O(logN)의 검색 성능을 보장\n",
    "    - 주로 데이터베이스의 기본 자료구조\n",
    "        - 운전 면허 소지자, 납세자 등 수많은 데이터의 자료구조로 활용\n",
    "    - 트리구조와 이진탐색의 호환 버전으로 생각\n",
    "    - B*-트리, B+-트리가 있는데 이 트리들은 B-트리의 개선 버전\n",
    "\n",
    "- 이진트리구조처럼 1개의 노드가 2개의 자식 노드를 가지는 것이 아니고, 각 내부노드의 자식 수는 [M/2] 이상 M 이하를 가진다.\n",
    "    - 즉, 트리의 레벨이 깊어질수록 연산 처리가 오래 걸리는데 부모가 많은 자식을 가져서 그 깊이를 최소로 해준다.\n",
    "    \n",
    "    \n",
    "- 삭제 연산을 수행\n",
    "    - 이파리 삭제 후 underflow 발생\n",
    "    - 형제노드에 요청해서 조건에 맞는 노드가 넘어감\n",
    "    - 형제 노드가 underflow 가 발생된다면 부모노드가 도와줌\n",
    "    - 만약 부모노드가 underflow 가 발생된다면 그 부모노드가 도와줌\n",
    "    - 이렇게 계속 흘러가서 만약에 루트노드까지 도달한다면 루트노드가 자기 자식노드와 통합되어 루트 노드를 생성\n",
    "        - 루트 노드는 2개 이상의 노드를 가지게 되는 상태"
   ]
  },
  {
   "cell_type": "markdown",
   "metadata": {},
   "source": [
    "\n"
   ]
  },
  {
   "cell_type": "markdown",
   "metadata": {},
   "source": [
    "## 요약\n",
    "\n",
    "***"
   ]
  },
  {
   "cell_type": "markdown",
   "metadata": {},
   "source": [
    "### 이진탐색\n",
    "\n",
    "- 1차원 리스트에 데이터가 정렬되어 있을 때 주어진 데이터를 효율적으로 찾는 알고리즘\n",
    "\n",
    "- 최악의 경우 O(N) 시간이 소요\n",
    "\n",
    "**이진탐색**\n",
    "\n",
    "1. binary_search(left, right, t) 함수와 같이 전체 길이를 설정하고 mid = left+right 를 더한 값 // 2\n",
    "\n",
    "2. 이 mid 의 값보다 t 가 크면 오른쪽, 작으면 왼쪽으로 재귀함수로 호출하며 mid=t 가 같을 때 return mid\n",
    "\n",
    "### 이진탐색트리\n",
    "\n",
    "- 이진탐색트리는 이진탐색을 수행하기 위해 단순연결리스트를 변형시킨 자료구조\n",
    "\n",
    "- 노드를 기준으로 작으면 왼쪽 서브트리에 크면 오른쪽 서브트리에 값이 있음\n",
    "\n",
    "- 이진탐색트리의 삭제는 삭제할 노드가 자식이 없는 경우, 하나인 경우, 둘인 경우로 나누어짐\n",
    "\n",
    "\n",
    "### AVL 트리\n",
    "\n",
    "- 임의의 노드 n 에 대해 노드 n의 왼쪽 서브트리 높이와 오른쪽 서브트리의 높이가 1을 넘지않는 이진탐색트리\n",
    "\n",
    "- 트리가 한쪽으로 치우쳐 자란다면 LL, LR, RR, RL 회전으로 균형을 맞춤\n",
    "\n",
    "- AVL 트리의 탐색, 삽입, 삭제 연산의 수행시간은 각각 O(logN)\n",
    "\n",
    "### 2-3 트리\n",
    "\n",
    "- 내부노드의 차수가 2 또는 3인 완전 균형탐색트리(부모 하나에 자식 노드가 최대 3개)\n",
    "\n",
    "### 2-3-4 트리\n",
    "\n",
    "- 2-3 트리를 확장한 트리로 4-노드까지 허용\n",
    "\n",
    "- 차수가 적을수록 탐색하는데 걸리는 소요시간이 적게 걸린다는 장점이 있음\n",
    "\n",
    "### 레드블랙트리\n",
    "\n",
    "- 노드의 색을 이용하여 트리의 균형을 유지하며, 탐색, 삽입, 삭제 연산의 수행시간이 각각 O(logN)을 넘지 않는 효율적인 자료구조\n",
    "\n",
    "### B-트리\n",
    "\n",
    "- 다수의 키를 가진 노드로 구성되어 다방향 탐색이 가능한 완전 균형트리\n",
    "\n",
    "- 부모도 자식도 노드를 여러개 가지고 있는 구조로 복잡하지만 가장 효율적인 자료구조 형태를 가지고 있다."
   ]
  },
  {
   "cell_type": "markdown",
   "metadata": {},
   "source": [
    "\n",
    "\n"
   ]
  },
  {
   "cell_type": "markdown",
   "metadata": {},
   "source": [
    "# 해시테이블\n",
    "\n",
    "***"
   ]
  },
  {
   "cell_type": "markdown",
   "metadata": {},
   "source": [
    "이진탐색트리의 성능을 개선한 AVL 트리와 레드블랙트리에 대해 살펴보았다.\n",
    "\n",
    "**이 자료구조들의 삽입과 삭제 연산의 수행시간은 각각 O(logN)이다.**\n",
    "\n",
    "그렇다면 O(logN) 보다 좋은 성능을 가지는 자료구조는 없을까? - **해시테이블** - O(1)\n",
    "\n",
    "\n",
    "**해시값을 굳이 뽑아내는 이유는?**\n",
    "\n",
    "- 원래 key, 즉 리스트의 index 로 1차원 리스트를 만들면 메모리 낭비가 심해진다.\n",
    "    - i.keys() = 3, 12,.... 89 >> self.M = 90 개의 index 공간이 생기는데 실제값은 그보다 현저히 적음\n",
    "        - 그렇기 때문에 self.M 보다 작게 해시값을 만들어서 리스트에 저장하는 것이 효율적이다.\n",
    "        \n",
    "**무한에 가까운 데이터(키)를 해시값을 통해 정해진 값 안에서 정렬시키기 위해 해시테이블을 사용한다**"
   ]
  },
  {
   "cell_type": "markdown",
   "metadata": {},
   "source": [
    "해시테이블 - O(logN) 시간보다 빠른 연산을 위해 키와 1차원 리스트의 인덱스와의 관계를 이용하여 키(항목)을 저장"
   ]
  },
  {
   "cell_type": "markdown",
   "metadata": {},
   "source": [
    "**해싱**\n",
    "\n",
    "키를 간단한 함수를 사용해 변환한 값을 리스트의 인덱스로 이용하여 항목을 저장하는 것\n",
    "\n",
    "***\n",
    "\n",
    "**해시함수**\n",
    "\n",
    "해싱에 사용되는 함수\n",
    "\n",
    "***\n",
    "\n",
    "**해시값 또는 해시주소**\n",
    "\n",
    "해시함수가 계산한 값\n",
    "\n",
    "***\n",
    "\n",
    "**해시테이블**\n",
    "\n",
    "항목이 해시값에 따라 저장되는 1차원 리스트\n",
    "\n",
    "***\n",
    "\n",
    "**한줄정리**\n",
    "\n",
    "해시함수로 계산한 해시값을 해싱이라는 행위를 통해 해시테이블에 저장\n",
    "\n",
    "key % 총 인덱스의 크기(리스트의 길이) 로 해시값을 뽑아내고, 이 해시값이 해시테이블에 이미 존재했을 경우에는 다음 인덱스로 +1 시켜서 해시테이블에 저장\n",
    "\n",
    "\n",
    "***\n",
    "\n",
    "**조사 방식**\n",
    "\n",
    "> **개방주소방식**\n",
    "\n",
    "(그 자리에 값이 없으면 넣고, 아니면 다시 계산해서 다른 위치에 저장 // 리스트에서 한 인덱스 당 하나의 값만 저장)\n",
    "\n",
    "우선 해시값이 뽑히면 그 해시값(인덱스)를 확인, 그 자리에 이미 다른 값이 존재하면 다시 계산하여 해시테이블의 다른 인덱스에 저장\n",
    "\n",
    "> **폐쇄주소방식**\n",
    "\n",
    "해시값이 뽑히고 그 자리에 이미 해시값이 있어도 그 인덱스에 저장\n",
    "\n",
    "\n",
    "- 선형 조사\n",
    "\n",
    "- 이차 조사\n",
    "\n",
    "- 랜덤 조사\n",
    "\n",
    "- 이중 해싱\n",
    "\n"
   ]
  },
  {
   "cell_type": "markdown",
   "metadata": {},
   "source": [
    "## 선형 조사\n",
    "\n",
    "***\n",
    "\n",
    "- 충돌이 나면 바로 다음 원소를 검사\n"
   ]
  },
  {
   "cell_type": "markdown",
   "metadata": {},
   "source": [
    "\n"
   ]
  },
  {
   "cell_type": "code",
   "execution_count": 37,
   "metadata": {},
   "outputs": [],
   "source": [
    "## 책에 있는 프로그램은 예상한 값이 나오지 않는다...시간날 때 디버깅 해보기\n",
    "\n",
    "# class LinearProbing:\n",
    "#     def __init__(self, size):\n",
    "#         self.M = size # 테이블 크기\n",
    "#         self.a = [None for x in range(size+1)] # 해시테이블\n",
    "#         self.d = [None for x in range(size+1)] # key 관련 데이터 저장\n",
    "\n",
    "#     def hash(self, key):\n",
    "#         return self.M % key # 해시테이블의 핵심 메서드\n",
    "    \n",
    "#     def put(self, key, data): # 삽입 연산\n",
    "#         initial_position = self.hash(key)\n",
    "#         i = initial_position\n",
    "#         j = 0\n",
    "#         while True:\n",
    "#             if self.a[i] == None:\n",
    "#                 self.a[i] = key # 삽입할 때는 실제 key 값을 저장(해시값이 아님)\n",
    "#                 self.d[i] = data\n",
    "#                 return # 아무것도 할 필요가 없기 때문에 return 에는 None 도 필요치 않음\n",
    "#             if self.a[i] == key: # 이미 해당 해시테이블의 인덱스에 key 가 존재한다면\n",
    "#                 self.d[i] = data\n",
    "#                 return\n",
    "#             j += 1 # 이미 해시테이블에 해시값이 있으므로 다음 인덱스로 이동\n",
    "#             i = (initial_position + j) % self.M\n",
    "#             if i == initial_position:\n",
    "#                 break\n",
    "                \n",
    "    \n",
    "#     def get(self, key): # 탐색 연산\n",
    "#         initial_position = self.hash(key)\n",
    "#         i = initial_position\n",
    "#         j = 1\n",
    "#         while self.a[i] != None:\n",
    "#             if self.a[i] == key:\n",
    "#                 return self.d[i]\n",
    "#             i = (initial_position + j) % self.M\n",
    "#             j += 1\n",
    "#             if i == initial_position:\n",
    "#                 return None\n",
    "#         return None\n",
    "    \n",
    "#     def print_table(self):\n",
    "#         for i in range(self.M):\n",
    "#             print('{:4}'.format(str(i)), ' ', end='')\n",
    "#         print()\n",
    "#         for i in range(self.M):\n",
    "#             print('{:4}'.format(str(self.a[i])), ' ', end='')\n",
    "#         print()"
   ]
  },
  {
   "cell_type": "code",
   "execution_count": 38,
   "metadata": {},
   "outputs": [],
   "source": [
    "class LinearProbing: \n",
    "    def __init__(self, size): # 생성자\n",
    "        self.M = size\n",
    "        self.a = [None for x in range(size+1)]  # 해시테이블\n",
    "        self.d = [None for x in range(size+1)]  # key관련 데이터 저장\n",
    "\n",
    "    def hash(self, key):\n",
    "        return key % self.M  # 나눗셈 함수\n",
    "    \n",
    "    def put(self, key, data): # 삽입 연산\n",
    "        initial_position = self.hash(key) # 초기 위치 \n",
    "        i = initial_position\n",
    "        j = 0\n",
    "        while True:  \n",
    "            if self.a[i] == None or self.a[i] == '$': # 삽입 위치 발견\n",
    "                self.a[i] = key   # key를 해시테이블에 저장\n",
    "                self.d[i] = data  # key관련 데이터 저장 \n",
    "                return           \n",
    "            if self.a[i] == key:  # 이미 key 존재하면\n",
    "                self.d[i] = data  # 데이터만 갱신\n",
    "                return  \n",
    "            j += 1                      \n",
    "            i = (initial_position + j) % self.M # i의 다음 위치  \n",
    "            if i == initial_position: # i가 초기위치와 같으면 루프 종료\n",
    "                break         \n",
    "           \n",
    "    def get(self, key): # 탐색 연산\n",
    "        initial_position = self.hash(key)\n",
    "        i = initial_position\n",
    "        j = 1\n",
    "        while self.a[i] != None: # a[i]가 empty가 아니면\n",
    "            if self.a[i] == key:\n",
    "                return self.d[i] # 탐색 성공\n",
    "            i = (initial_position + j) % self.M  # i의 다음 위치\n",
    "            j += 1\n",
    "            if i == initial_position: # i가 초기위치와 같으면 루프 종료\n",
    "                return None # 탐색 실패                 \n",
    "        return None # 탐색 실패\n",
    "\n",
    "    def delete(self, key): # 삭제 연산\n",
    "        initial_position = self.hash(key)\n",
    "        i = initial_position\n",
    "        j = 1\n",
    "        while self.a[i] != None: # a[i]가 empty가 아니면\n",
    "            if self.a[i] == key:\n",
    "                self.a[i] = '$' \n",
    "                self.d[i] = None\n",
    "            i = (initial_position + j) % self.M  # i의 다음 위치\n",
    "            j += 1   \n",
    "            if i == initial_position: # i가 초기위치와 같으면 루프 종료\n",
    "                return None # 삭제 실패             \n",
    "        return None # 삭제 실패    \n",
    "\n",
    "    def print_table(self):\n",
    "        for i in range(self.M):\n",
    "            print('{:4}'.format(str(i)), ' ', end='')\n",
    "        print()\n",
    "        for i in range(self.M):\n",
    "            print('{:4}'.format(str(self.a[i])), ' ', end='')\n",
    "        print()"
   ]
  },
  {
   "cell_type": "code",
   "execution_count": 39,
   "metadata": {},
   "outputs": [
    {
     "name": "stdout",
     "output_type": "stream",
     "text": [
      "탐색 결과:\n",
      "50의 data =  orange\n",
      "63의 data =  watermelon\n",
      "해시테이블:\n",
      "0     1     2     3     4     5     6     7     8     9     10    11    12    \n",
      "50    63    None  55    None  18    None  None  None  22    35    37    25    \n",
      "0     1     2     3     4     5     6     7     8     9     10    11    12    \n",
      "$     63    None  55    None  18    None  None  None  22    35    37    25    \n",
      "63의 data =  watermelon\n",
      "0     1     2     3     4     5     6     7     8     9     10    11    12    \n",
      "9     63    None  55    None  18    None  None  None  22    35    37    25    \n"
     ]
    }
   ],
   "source": [
    "t = LinearProbing(13)\n",
    "t.put(25, 'grape') \n",
    "t.put(37, 'apple')    \n",
    "t.put(18, 'banana')\n",
    "t.put(55, 'cherry')\n",
    "t.put(22, 'mango')    \n",
    "t.put(35, 'lime')       \n",
    "t.put(50, 'orange')\n",
    "t.put(63, 'watermelon')\n",
    "print('탐색 결과:')\n",
    "print('50의 data = ', t.get(50))\n",
    "print('63의 data = ', t.get(63))\n",
    "print('해시테이블:')\n",
    "t.print_table() \n",
    "t.delete(50)\n",
    "t.print_table() \n",
    "print('63의 data = ', t.get(63))\n",
    "t.put(9, 'berry')\n",
    "t.print_table()"
   ]
  },
  {
   "cell_type": "markdown",
   "metadata": {},
   "source": [
    "**모든 key 값을 hash 값으로 변환하면 동일한 hash 값을 가진다.**"
   ]
  },
  {
   "cell_type": "code",
   "execution_count": 40,
   "metadata": {},
   "outputs": [],
   "source": [
    "table = [25, 37, 18, 55, 22, 35, 50, 63]\n",
    "\n",
    "def get_hash(length, table):\n",
    "    result = []\n",
    "    for i in range(len(table)):\n",
    "        sub = length % table[i]\n",
    "        result.append(sub)\n",
    "        print(table[i], ' ', end='')\n",
    "    print()\n",
    "    print(result, '', end='')"
   ]
  },
  {
   "cell_type": "code",
   "execution_count": 41,
   "metadata": {},
   "outputs": [
    {
     "name": "stdout",
     "output_type": "stream",
     "text": [
      "25  37  18  55  22  35  50  63  \n",
      "[13, 13, 13, 13, 13, 13, 13, 13] "
     ]
    }
   ],
   "source": [
    "get_hash(13, table)"
   ]
  },
  {
   "cell_type": "markdown",
   "metadata": {},
   "source": [
    "\n",
    "\n"
   ]
  },
  {
   "cell_type": "markdown",
   "metadata": {},
   "source": [
    "## 이차조사\n",
    "\n",
    "***"
   ]
  },
  {
   "cell_type": "markdown",
   "metadata": {},
   "source": [
    "- `해시테이블`은 **1차 군집화 현상**이 발생 \n",
    "    - 그래서 이를 해결하기 위해 `이차조사`로 충돌 해결방법을 제시함\n",
    "\n",
    "\n",
    "- **이차조사**는 __1차 군집화 현상은 피하지만 또 다른 군집화 현상(2차 군집화 현상)이 발생함__\n",
    "\n",
    "\n",
    "- 이차조사도 **해시함수(key % 사이즈)** 를 사용한다는 것을 기억할 것"
   ]
  },
  {
   "cell_type": "code",
   "execution_count": 42,
   "metadata": {},
   "outputs": [],
   "source": [
    "class QuadProbing:\n",
    "    def __init__(self, size):\n",
    "        self.M = size\n",
    "        self.a = [None for x in range(size+1)]  # 해시테이블\n",
    "        self.d = [None for x in range(size+1)]  # key관련 데이터 저장\n",
    "        self.N = 0\n",
    "        \n",
    "    def hash(self, key):\n",
    "        return key % self.M\n",
    "    \n",
    "    def put(self, key, data):\n",
    "        initial_position = self.hash(key)\n",
    "        i = initial_position\n",
    "        j = 0\n",
    "        while True:\n",
    "            if self.a[i] == None:\n",
    "                self.a[i] = key\n",
    "                self.d[i] = data\n",
    "                return\n",
    "            # 위의 조건문을 성립하면 a[i] 에 key 를 넣었기 때문에\n",
    "            # 해시테이블에는 해시값이 아닌 실제 key 값이 들어있으므로\n",
    "            # 인덱스 값이 아니라 key 값이 존재하는지 확인해야 하므로 a[i] == key\n",
    "            if self.a[i] == key:\n",
    "                self.d[i] = data\n",
    "                return\n",
    "            j += 1\n",
    "            i = (initial_position + j*j) % self.M\n",
    "            if self.N > self.M: # 저장된 항목 수가 테이블 크기보다 크면 [저장 실패]\n",
    "                break\n",
    "                \n",
    "    def get(self, key):\n",
    "        initial_position = self.hash(key)\n",
    "        i = initial_position\n",
    "        j = 1\n",
    "        while self.a[i] != None:\n",
    "            if self.a[i] == key:\n",
    "                return self.d[i]\n",
    "            i = (initial_position + j * j) % self.M\n",
    "            j += 1\n",
    "        return None\n",
    "    \n",
    "    def print_table(self):\n",
    "        for i in range(self.M):\n",
    "            print('{:4}'.format(str(i)), ' ', end='')\n",
    "        print()\n",
    "        for i in range(self.M):\n",
    "            print('{:4}'.format(str(self.a[i])), ' ', end='')\n",
    "        print()"
   ]
  },
  {
   "cell_type": "code",
   "execution_count": 43,
   "metadata": {},
   "outputs": [
    {
     "name": "stdout",
     "output_type": "stream",
     "text": [
      "탐색 결과:\n",
      "50의 data =  orange\n",
      "63의 data =  watermelon\n",
      "해시 테이블:\n",
      "0     1     2     3     4     5     6     7     8     9     10    11    12    \n",
      "None  None  50    55    None  18    None  63    None  22    35    37    25    \n"
     ]
    }
   ],
   "source": [
    "t = QuadProbing(13)\n",
    "t.put(25, 'grape')\n",
    "t.put(37, 'apple')\n",
    "t.put(18, 'banana')\n",
    "t.put(55, 'cherry')\n",
    "t.put(22, 'mango')\n",
    "t.put(35, 'lime')\n",
    "t.put(50, 'orange')\n",
    "t.put(63, 'watermelon')\n",
    "print('탐색 결과:')\n",
    "print('50의 data = ', t.get(50))\n",
    "print('63의 data = ', t.get(63))\n",
    "print('해시 테이블:')\n",
    "t.print_table()"
   ]
  },
  {
   "cell_type": "markdown",
   "metadata": {},
   "source": [
    "\n",
    "\n"
   ]
  },
  {
   "cell_type": "markdown",
   "metadata": {},
   "source": [
    "## 랜덤조사\n",
    "\n",
    "***\n",
    "\n",
    "- 충돌이 나면 일정한 규칙 없이 비어 있는 원소를 검사"
   ]
  },
  {
   "cell_type": "code",
   "execution_count": 44,
   "metadata": {},
   "outputs": [],
   "source": [
    "import random\n",
    "\n",
    "class RandProbing:\n",
    "    def __init__(self, size):\n",
    "        self.M = size\n",
    "        self.a = [None for x in range(size+1)]  # 해시테이블\n",
    "        self.d = [None for x in range(size+1)]  # key관련 데이터 저장\n",
    "        self.N = 0\n",
    "        \n",
    "    def hash(self, key):\n",
    "        return key % self.M\n",
    "    \n",
    "    def put(self, key, data):\n",
    "        initial_position = self.hash(key)\n",
    "        i = initial_position\n",
    "        random.seed(1000) # 1000 은 임의의 값으로 seed() 를 사용하여 랜덤 값을 고정\n",
    "        while True:\n",
    "            if self.a[i] == None:\n",
    "                self.a[i] = key\n",
    "                self.d[i] = data\n",
    "                self.N += 1\n",
    "                return\n",
    "            if self.a[i] == key: # 이미 key 가 존재하면\n",
    "                self.d[i] = data # 데이터만 갱신\n",
    "                return\n",
    "            j = random.randint(1, 99)\n",
    "            i = (initial_position + j) % self.M # i 의 다음 위치\n",
    "            if self.N > self.M: # 저장된 항목 수가 테이블 크기보다 크면 [저장 실패]\n",
    "                break\n",
    "                \n",
    "    def get(self, key):\n",
    "        initial_position = self.hash(key)\n",
    "        i = initial_position\n",
    "        random.seed(1000)\n",
    "        while self.a[i] != None:\n",
    "            if self.a[i] == key:\n",
    "                return self.d[i]\n",
    "            i = (initial_position + random.randint(1, 99)) % self.M\n",
    "        return None\n",
    "\n",
    "    def print_table(self):\n",
    "        for i in range(self.M):\n",
    "            print('{:4}'.format(str(i)), ' ', end='')\n",
    "        print()\n",
    "        for i in range(self.M):\n",
    "            print('{:4}'.format(str(self.a[i])), ' ', end='')\n",
    "        print()"
   ]
  },
  {
   "cell_type": "code",
   "execution_count": 45,
   "metadata": {},
   "outputs": [
    {
     "name": "stdout",
     "output_type": "stream",
     "text": [
      "탐색 결과:\n",
      "50의 data =  orange\n",
      "63의 data =  watermelon\n",
      "해시테이블:\n",
      "0     1     2     3     4     5     6     7     8     9     10    11    12    \n",
      "None  50    None  55    35    18    63    None  None  22    None  37    25    \n"
     ]
    }
   ],
   "source": [
    "t = RandProbing(13)\n",
    "t.put(25, 'grape') \n",
    "t.put(37, 'apple')    \n",
    "t.put(18, 'banana')\n",
    "t.put(55, 'cherry')\n",
    "t.put(22, 'mango')    \n",
    "t.put(35, 'lime')       \n",
    "t.put(50, 'orange')\n",
    "t.put(63, 'watermelon')\n",
    "print('탐색 결과:')\n",
    "print('50의 data = ', t.get(50))\n",
    "print('63의 data = ', t.get(63))\n",
    "print('해시테이블:')\n",
    "t.print_table()"
   ]
  },
  {
   "cell_type": "markdown",
   "metadata": {},
   "source": [
    "### random 함수에서 seed() 는 뭐지?"
   ]
  },
  {
   "cell_type": "code",
   "execution_count": 46,
   "metadata": {},
   "outputs": [
    {
     "name": "stdout",
     "output_type": "stream",
     "text": [
      "55\n",
      "86\n"
     ]
    }
   ],
   "source": [
    "import random\n",
    "\n",
    "# 의사 난수 생성(랜덤)에서 random.seed()를 지정할 경우\n",
    "# 랜덤값은 항상 고정되어 있다.\n",
    "# 아래와 같이 i, a 변수에 랜덤값을 할당했다면 그 값은 고정이 되어 재실행해도 같은 값이 출력된다.\n",
    "\n",
    "# 간단히 말해 random.seed() 를 설정하지 않으면 i 와 a 는 계~~~속 랜덤값으로 해당 변수에 값이 할당 됨\n",
    "random.seed(1000)\n",
    "\n",
    "i = random.randint(1, 99)\n",
    "print(i)\n",
    "a = random.randint(1, 99)\n",
    "print(a)"
   ]
  },
  {
   "cell_type": "markdown",
   "metadata": {},
   "source": [
    "\n"
   ]
  },
  {
   "cell_type": "markdown",
   "metadata": {},
   "source": [
    "## 이중해싱\n",
    "\n",
    "***\n",
    "\n",
    "- 충돌이 나면 다른 해시함수의 해시값을 이용하여 원소를 검사\n",
    "\n",
    "\n",
    "- 쉽게 생각하면 1차 충돌이 나면 j += 1 을 해서 다음 인덱스를 찾는다.\n",
    "    - **(해시값) + j(1씩 증가) * d값 인데, j * d 값의 간격이 꽤나 크다**\n",
    "        - ex) 9 + 1 * 7 % self.M(13) = 3\n",
    "        - ex) 9 + 2 * 7 % self.M(13) = 10"
   ]
  },
  {
   "cell_type": "markdown",
   "metadata": {},
   "source": [
    "![이중해싱](./image/double_hashing.jpeg)"
   ]
  },
  {
   "cell_type": "code",
   "execution_count": 47,
   "metadata": {},
   "outputs": [],
   "source": [
    "class DoubleHashing:   \n",
    "    def __init__(self, size):\n",
    "        self.M = size           \n",
    "        self.a = [None for x in range(size+1)]  # 해시테이블\n",
    "        self.d = [None for x in range(size+1)]  # key관련 데이터 저장\n",
    "        self.N = 0  # 항목 수\n",
    "        \n",
    "    def hash(self, key): # 나눗셈 함수\n",
    "        return key % self.M\n",
    "    \n",
    "    def put(self, key, data): # 삽입 연산\n",
    "        initial_position = self.hash(key) # 초기 위치 \n",
    "        i = initial_position\n",
    "        d = 7 - (key % 7) # 2번≳ 해시 함수\n",
    "        j = 0\n",
    "        while True:  \n",
    "            if self.a[i] == None: # 삽입 위치 발견\n",
    "                self.a[i] = key   # key를 해시테이블에 저장\n",
    "                self.d[i] = data  # key관련 데이터를 동일한 인덱스하에 저장 \n",
    "                self.N += 1\n",
    "                return           \n",
    "            if self.a[i] == key:  # 이미 key 존재하면\n",
    "                self.d[i] = data  # 데이터만 갱신\n",
    "                return  \n",
    "            j += 1                      \n",
    "            i = (initial_position + j*d) % self.M   # i의 다음 위치  \n",
    "            if self.N > self.M:   # 테이블이 full이면 \n",
    "                break         \n",
    "           \n",
    "    def get(self, key): # 탐색 연산\n",
    "        initial_position = self.hash(key)\n",
    "        i = initial_position\n",
    "        d = 7 - (key % 7) # 2번≳ 해시 함수\n",
    "        j = 0\n",
    "        while self.a[i] != None: # a[i]가 비어있지 않으면\n",
    "            if self.a[i] == key:\n",
    "                return self.d[i] # 탐색 성공\n",
    "            j += 1\n",
    "            i = (initial_position + j*d) % self.M  # i의 다음 위치                \n",
    "        return None # 탐색 실패\n",
    "    \n",
    "    def print_table(self):\n",
    "        for i in range(self.M):\n",
    "            print('{:4}'.format(str(i)), ' ', end='')\n",
    "        print()\n",
    "        for i in range(self.M):\n",
    "            print('{:4}'.format(str(self.a[i])), ' ', end='')\n",
    "        print()\n"
   ]
  },
  {
   "cell_type": "code",
   "execution_count": 48,
   "metadata": {},
   "outputs": [
    {
     "name": "stdout",
     "output_type": "stream",
     "text": [
      "탐색 결과:\n",
      "50의 data =  orange\n",
      "63의 data =  watermelon\n",
      "해시테이블:\n",
      "0     1     2     3     4     5     6     7     8     9     10    11    12    \n",
      "None  None  None  55    50    18    63    None  None  22    35    37    25    \n"
     ]
    }
   ],
   "source": [
    "t = DoubleHashing(13)\n",
    "t.put(25, 'grape') \n",
    "t.put(37, 'apple')    \n",
    "t.put(18, 'banana')\n",
    "t.put(55, 'cherry')\n",
    "t.put(22, 'mango')    \n",
    "t.put(35, 'lime')       \n",
    "t.put(50, 'orange')\n",
    "t.put(63, 'watermelon')\n",
    "print('탐색 결과:')\n",
    "print('50의 data = ', t.get(50))\n",
    "print('63의 data = ', t.get(63))\n",
    "print('해시테이블:')\n",
    "t.print_table() "
   ]
  },
  {
   "cell_type": "markdown",
   "metadata": {},
   "source": [
    "\n",
    "\n"
   ]
  },
  {
   "cell_type": "markdown",
   "metadata": {},
   "source": [
    "## 폐쇄주소방식\n",
    "\n",
    "***\n",
    "\n",
    "- 해시값이 나오면 그 인덱스에 저장\n",
    "\n",
    "\n",
    "- 폐쇄주소방식의 장점\n",
    "    1. 개방주소방식처럼 해시테이블의 empty 원소를 찾는 오버헤드가 없고\n",
    "    2. 어떠한 군집화 현상도 없으며\n",
    "    3. 구현이 간결하여 실제로 가장 많이 활용되는 해시방법이라고 함\n",
    "    \n",
    "    \n",
    "- 모든 해시테이블은 해시값을 기준으로 검색하여 연산 처리한다.(해시값으로 인덱스를 뽑아 저장했으니 당연한 개념이므로 까먹지 말자)"
   ]
  },
  {
   "cell_type": "code",
   "execution_count": 49,
   "metadata": {},
   "outputs": [],
   "source": [
    "class Chaning:\n",
    "    class Node:\n",
    "        def __init__(self, key, data, link):\n",
    "            self.key = key\n",
    "            self.data = data\n",
    "            self.next = link\n",
    "            \n",
    "    def __init__(self, size):\n",
    "        self.M = size\n",
    "        self.a = [None] * size\n",
    "        \n",
    "    def hash(self, key):\n",
    "        return key % self.M\n",
    "        \n",
    "    def put(self, key, data):\n",
    "        i = self.hash(key) # index\n",
    "        # 만들어진 해시테이블에서 a[9] 에 값이 있다면, 해당 인덱스를 p 변수에 할당\n",
    "        # self 를 통해서 p 변수에 할당했기 때문에 클래스 객체 자체가 p 에 할당이 되었음\n",
    "        # 그렇기 때문에 p.key 값에 접근할 수가 있는 것임\n",
    "        p = self.a[i]\n",
    "        while p != None:\n",
    "            if key == p.key:\n",
    "                return\n",
    "            p = p.next\n",
    "        # new_node 생성하는데, 체이닝은 해시테이블 +  SList 개념이므로 self.a[i] 에 head 생성\n",
    "        self.a[i] = self.Node(key, data, self.a[i])\n",
    "        \n",
    "    def get(self, key):\n",
    "        i = self.hash(key)\n",
    "        p = self.a[i]\n",
    "        # 해당 해시테이블에 해당하는 인덱스(해시값)에 해당하는 SList 에서 key 값이 일치할 때까지 순회\n",
    "        while p != None:\n",
    "            if key == p.key:\n",
    "                return p.data\n",
    "            p = p.next\n",
    "        return None\n",
    "    \n",
    "    def print_table(self):\n",
    "        for i in range(self.M):\n",
    "            print('%2d' % (i), end='')\n",
    "            p = self.a[i]\n",
    "            while p != None:\n",
    "                print(' --> [', p.key, ',', p.data, ']',end='')\n",
    "                p = p.next\n",
    "            print()"
   ]
  },
  {
   "cell_type": "code",
   "execution_count": 50,
   "metadata": {},
   "outputs": [
    {
     "name": "stdout",
     "output_type": "stream",
     "text": [
      "탐색 결과:\n",
      "50의 data =  orange\n",
      "63의 data =  watermelon\n",
      "해시 테이블:\n",
      " 0\n",
      " 1\n",
      " 2\n",
      " 3 --> [ 55 , cherry ]\n",
      " 4\n",
      " 5 --> [ 18 , banana ]\n",
      " 6\n",
      " 7\n",
      " 8\n",
      " 9 --> [ 35 , lime ] --> [ 22 , mango ]\n",
      "10\n",
      "11 --> [ 63 , watermelon ] --> [ 50 , orange ] --> [ 37 , apple ]\n",
      "12 --> [ 25 , grape ]\n"
     ]
    }
   ],
   "source": [
    "t = Chaning(13)\n",
    "t.put(25, 'grape')\n",
    "t.put(37, 'apple')\n",
    "t.put(18, 'banana')\n",
    "t.put(55, 'cherry')\n",
    "t.put(22, 'mango')\n",
    "t.put(35, 'lime')\n",
    "t.put(50, 'orange')\n",
    "t.put(63, 'watermelon')\n",
    "print('탐색 결과:')\n",
    "print('50의 data = ', t.get(50))\n",
    "print('63의 data = ', t.get(63))\n",
    "print('해시 테이블:')\n",
    "t.print_table()"
   ]
  },
  {
   "cell_type": "code",
   "execution_count": null,
   "metadata": {},
   "outputs": [],
   "source": []
  },
  {
   "cell_type": "markdown",
   "metadata": {},
   "source": [
    "## 정렬\n",
    "\n",
    "***"
   ]
  },
  {
   "cell_type": "markdown",
   "metadata": {},
   "source": [
    "\n"
   ]
  },
  {
   "cell_type": "markdown",
   "metadata": {},
   "source": [
    "### 삽입정렬\n",
    "\n",
    "***\n",
    "\n",
    "- 리스트의 1번째 원소를 현재 원소로 지정하여 정렬을 시작\n",
    "    - 리스트의 마지막 원소를 이미 정렬되어 있는 앞부분에 삽입했을 때 정렬 종료\n",
    "    \n",
    "    \n",
    "- 입력에 민감한 알고리즘으로 정렬되어 있을 때는 정렬이 빠르지만 역순의 경우에는 느리다는 단점"
   ]
  },
  {
   "cell_type": "markdown",
   "metadata": {},
   "source": [
    "**삽입정렬을 이해하기 전 for loop 의 이해(start, end, step)**\n",
    "\n",
    "1. 삽입정렬은 정렬이 되지 않은(뒤에서부터) 앞의 인덱스와 비교한다.\n",
    "\n",
    "2. 정렬되지 않은 해당 인덱스(포인터)부터 시작해서 앞에 모든 인덱스(값)을 비교하는 방법\n",
    "    - start=현재 포인터, end=0, step=-1\n",
    "        - 현재 포인터부터 역순으로 for loop 로 원소를 순회"
   ]
  },
  {
   "cell_type": "code",
   "execution_count": 53,
   "metadata": {},
   "outputs": [],
   "source": [
    "abc = [0, 1, 2, 3, 4]"
   ]
  },
  {
   "cell_type": "code",
   "execution_count": 54,
   "metadata": {},
   "outputs": [
    {
     "name": "stdout",
     "output_type": "stream",
     "text": [
      "\n",
      "비교하고자 하는 이 index [0] 과\n",
      "\n",
      "비교하고자 하는 이 index [1] 과\n",
      " \t>> 역순으로 들어오는 이 인덱스를 비교!! [1]\n",
      "\n",
      "비교하고자 하는 이 index [2] 과\n",
      " \t>> 역순으로 들어오는 이 인덱스를 비교!! [2]\n",
      " \t>> 역순으로 들어오는 이 인덱스를 비교!! [1]\n",
      "\n",
      "비교하고자 하는 이 index [3] 과\n",
      " \t>> 역순으로 들어오는 이 인덱스를 비교!! [3]\n",
      " \t>> 역순으로 들어오는 이 인덱스를 비교!! [2]\n",
      " \t>> 역순으로 들어오는 이 인덱스를 비교!! [1]\n",
      "\n",
      "비교하고자 하는 이 index [4] 과\n",
      " \t>> 역순으로 들어오는 이 인덱스를 비교!! [4]\n",
      " \t>> 역순으로 들어오는 이 인덱스를 비교!! [3]\n",
      " \t>> 역순으로 들어오는 이 인덱스를 비교!! [2]\n",
      " \t>> 역순으로 들어오는 이 인덱스를 비교!! [1]\n"
     ]
    }
   ],
   "source": [
    "# 기본 개념\n",
    "for i in range(0, len(abc)):\n",
    "    print()\n",
    "    print(f'비교하고자 하는 이 index [{i}] 과')\n",
    "    for j in range(i, 0, -1):\n",
    "        print(f' \\t>> 역순으로 들어오는 이 인덱스를 비교!! [{j}]')"
   ]
  },
  {
   "cell_type": "code",
   "execution_count": 55,
   "metadata": {},
   "outputs": [],
   "source": [
    "def insertion_sort(a):\n",
    "    for i in range(1, len(a)): # start=0 은 위에서보면 이해되는데, 정렬(비교)하기 위한 자식 for loop 에 도달하지 못함\n",
    "        for j in range(i, 0, -1):\n",
    "            # a[j-1] = 88, a[j] = 77\n",
    "            # [88, 77] 의 상황이라면 스와핑 진행\n",
    "            if a[j-1] > a[j]:\n",
    "                # j 의 바로 앞에 원소 값이 더 작으면 바로 스와핑\n",
    "                a[j], a[j-1] = a[j-1], a[j]"
   ]
  },
  {
   "cell_type": "code",
   "execution_count": 56,
   "metadata": {},
   "outputs": [
    {
     "name": "stdout",
     "output_type": "stream",
     "text": [
      "정렬 전:\t[54, 88, 77, 26, 93, 17, 49, 10, 77, 11]\n",
      "\n",
      "\n",
      "정렬 후:\t[10, 11, 17, 26, 49, 54, 77, 77, 88, 93]\n"
     ]
    }
   ],
   "source": [
    "a = [54, 88, 77, 26, 93, 17, 49, 10, 77, 11]\n",
    "print('정렬 전:\\t', end='')\n",
    "print(a)\n",
    "print()\n",
    "insertion_sort(a)\n",
    "print()\n",
    "print('정렬 후:\\t', end='')\n",
    "print(a)"
   ]
  },
  {
   "cell_type": "markdown",
   "metadata": {},
   "source": [
    "\n"
   ]
  },
  {
   "cell_type": "markdown",
   "metadata": {},
   "source": [
    "### 쉘 정렬\n",
    "\n",
    "***\n",
    "\n",
    "- 삽입정렬을 하기 전에 리스트를 뭉텅지게 크게 잘라서 정렬을 미리 시켜놓음\n",
    "- 만약 h 높이를 h=1 로 잡았을 경우에는 삽입정렬과 동일한 알고리즘 결과를 나타냄\n",
    "- 쉘 정렬의 수행시간은 아직까지 정확히 증명되지 않았다고 함\n",
    "- 임베디드 시스템에서 간격에 따른 그룹별 정렬 알고리즘 하드웨어 설계를 통해 구현하는 것이 매우 편리하다고..."
   ]
  },
  {
   "cell_type": "code",
   "execution_count": 57,
   "metadata": {},
   "outputs": [],
   "source": [
    "def shell_sort(a):\n",
    "    h = 4       # 3x+1 간격: 1, 4, 13, 40, 121,... 중에서 4 와 1만 사용\n",
    "    while h >= 1:        \n",
    "        for i in range(h, len(a)):  # h-정렬 수행\n",
    "            j = i\n",
    "            while j >= h and a[j] < a[j-h]: \n",
    "                a[j], a[j-h] = a[j-h], a[j]\n",
    "                j -= h \n",
    "        h //= 3"
   ]
  },
  {
   "cell_type": "code",
   "execution_count": 58,
   "metadata": {},
   "outputs": [
    {
     "name": "stdout",
     "output_type": "stream",
     "text": [
      "정렬 전:\t[54, 88, 77, 26, 93, 17, 49, 10, 17, 77, 11, 31, 22, 44, 17, 20]\n",
      "정렬 후:\t[10, 11, 17, 17, 17, 20, 22, 26, 31, 44, 49, 54, 77, 77, 88, 93]\n"
     ]
    }
   ],
   "source": [
    "a = [54,88,77,26,93,17,49,10,17,77,11,31,22,44,17,20]\n",
    "print('정렬 전:\\t', end='')\n",
    "print(a)\n",
    "shell_sort(a)\n",
    "print('정렬 후:\\t', end='')\n",
    "print(a)"
   ]
  },
  {
   "cell_type": "code",
   "execution_count": null,
   "metadata": {},
   "outputs": [],
   "source": []
  },
  {
   "cell_type": "markdown",
   "metadata": {},
   "source": [
    "### 힙정렬\n",
    "\n",
    "***\n",
    "\n",
    "최대힙을 이용하여 루트를 힙의 가장 마지막 노드와 교환한 후 힙 크기를 1 감소시키고, 루트로부터 downheap 연산으로 힙 속성을 복원하는 과정을 반복"
   ]
  },
  {
   "cell_type": "code",
   "execution_count": 59,
   "metadata": {},
   "outputs": [],
   "source": [
    "def downheap(i, size):\n",
    "    while 2*i <= size:\n",
    "        k = 2*i\n",
    "        if k < size and a[k] < a[k+1]:\n",
    "            k += 1\n",
    "        if a[i] >= a[k]:\n",
    "            break\n",
    "        a[i], a[k] = a[k], a[i]\n",
    "        i = k\n",
    "        \n",
    "def create_heap(a): # 정렬하기 전에 최대힙 만들기\n",
    "    hsize = len(a) -1\n",
    "    for i in range(1, hsize//2+1):\n",
    "        downheap(i, hsize)\n",
    "        \n",
    "def heap_sort(a):\n",
    "    N = len(a) -1\n",
    "    for i in range(N):\n",
    "        a[1], a[N] = a[N], a[1]\n",
    "        downheap(1, N-1)\n",
    "        N -= 1"
   ]
  },
  {
   "cell_type": "code",
   "execution_count": 60,
   "metadata": {},
   "outputs": [
    {
     "name": "stdout",
     "output_type": "stream",
     "text": [
      "정렬 전:\t[-1, 54, 88, 77, 26, 93, 17, 49, 10, 17, 77, 11, 31, 22, 44, 17, 20]\n",
      "최대 힙: \t[-1, 88, 93, 77, 26, 77, 31, 49, 20, 17, 54, 11, 17, 22, 44, 17, 10]\n",
      "정렬 후 :\t[-1, 10, 11, 17, 17, 17, 20, 22, 26, 31, 44, 49, 54, 77, 77, 93, 88]\n",
      "17\n"
     ]
    }
   ],
   "source": [
    "a = [-1,54,88,77,26,93,17,49,10,17,77,11,31,22,44,17,20]\n",
    "print('정렬 전:\\t', end='')\n",
    "print(a)\n",
    "create_heap(a)\n",
    "print('최대 힙: \\t', end='')\n",
    "print(a)\n",
    "heap_sort(a)\n",
    "print('정렬 후 :\\t', end='')\n",
    "print(a)\n",
    "print(len(a))"
   ]
  },
  {
   "cell_type": "markdown",
   "metadata": {},
   "source": [
    "**heapq 를 이용한 힙정렬**"
   ]
  },
  {
   "cell_type": "code",
   "execution_count": 61,
   "metadata": {},
   "outputs": [
    {
     "name": "stdout",
     "output_type": "stream",
     "text": [
      "정렬전:\t [54, 88, 77, 26, 93, 17, 49, 10, 17, 31, 22, 44, 17, 20]\n",
      "힙:\t [10, 17, 17, 26, 22, 17, 20, 54, 88, 31, 93, 44, 77, 49]\n",
      "정렬후:\t [10, 17, 17, 17, 20, 22, 26, 31, 44, 49, 54, 77, 88, 93]\n"
     ]
    }
   ],
   "source": [
    "import heapq\n",
    "a = [54,88,77,26,93,17,49,10,17,31,22,44,17,20]\n",
    "print('정렬전:\\t', a)\n",
    "\n",
    "heapq.heapify(a) #최소힙 만들기\n",
    "print('힙:\\t', a)\n",
    "\n",
    "s = []\n",
    "while a:\n",
    "    s.append(heapq.heappop(a)) # 리스트 a의 가장 작은 항목을 삭제하여 리스트 s 의 맨 뒤에 추가\n",
    "print('정렬후:\\t', s)"
   ]
  },
  {
   "cell_type": "markdown",
   "metadata": {},
   "source": [
    "\n",
    "\n"
   ]
  },
  {
   "cell_type": "markdown",
   "metadata": {},
   "source": [
    "***\n",
    "### 합병정렬(Merge sort)\n",
    "***\n",
    "\n",
    "1) a 리스트는 정렬되기 전의 리스트이고, b 리스트는 a 리스트에서 인덱스, 인덱스 +1 값을 비교하여 b 리스트에 저장해둔다.\n",
    "\n",
    "그리고 merge 에서 두번째 for loop 를 통해서 b 리스트에서 정렬된 값을 a 리스트에 복사한다.\n",
    "\n",
    "2) a 리스트에서 2개의 값을 비교하여 b 리스트에 인덱스 그대로 복사, a\\[0\\] 와 a\\[2\\] 를 비교하여 a\\[2\\] 값이 더 작으면 b 리스트에 a\\[2\\] 값을 넣어줌\n",
    "\n",
    "```\n",
    "2개를 비교해서 b 리스트에 넣어줌 // 그리고 b 리스트에 a[0] ~ a[3] 에 값을 비교하여 더 작은 값을 b[0] 리스트에 넣어줌\n",
    "```"
   ]
  },
  {
   "cell_type": "code",
   "execution_count": 62,
   "metadata": {},
   "outputs": [],
   "source": [
    "def merge(a, b, low, mid, high):\n",
    "        i = low\n",
    "        j = mid+1 # i, j 는 type:int 로 리스트의 인덱스를 가리키면서 비교하고 할당 할당\n",
    "        print(f'{i, j}')\n",
    "        for k in range(low, high+1): # a의 앞/뒷부분을 합병하여 b에 저장\n",
    "            if i > mid:             \n",
    "                b[k] = a[j] # 앞부분이 먼저 소진된 경우\n",
    "                j += 1\n",
    "            elif j > high:\n",
    "                b[k] = a[i] # 뒷부분이 먼저 소진된 경우\n",
    "                i += 1\n",
    "            elif a[j] < a[i]:\n",
    "                b[k] = a[j] # a[j]가 승자, # a[j] 값이 더 작기 때문에 b 리스트에 a[j] 값을 할당\n",
    "                j += 1\n",
    "            else:\n",
    "                b[k] = a[i] # a[i]가 승자\n",
    "                i += 1\n",
    "        for k in range(low, high+1):\n",
    "            a[k] = b[k]  # b를 a에 복사    \n",
    "            \n",
    "def merge_sort(a, b, low, high): # 위치인자로, 4번째 파라미터가 high, (24번째 줄)merger_sort()의 4번째 파라미터 mid..재귀 재귀\n",
    "    if high <= low: \n",
    "        return\n",
    "    mid = low + (high - low) // 2 # 1//2 == 0\n",
    "    merge_sort(a, b, low, mid) # 앞부분 재귀호출 # low, mid 를 비우는(?)과정 low=0, mid=0\n",
    "    merge_sort(a, b, mid + 1, high) # 뒷부분 재귀호출 # 재귀함수로 올라가서 if 문을 비교할 때 mid 는 해당되지 않음\n",
    "    merge(a, b, low, mid, high) # 합병 수행 # 이제서야 지옥의 관문"
   ]
  },
  {
   "cell_type": "code",
   "execution_count": 63,
   "metadata": {},
   "outputs": [
    {
     "name": "stdout",
     "output_type": "stream",
     "text": [
      "정렬 전:\t[54, 88, 77, 26, 93, 17, 49, 10, 17, 77, 11, 31, 22, 44, 17, 20]\n",
      "(0, 1)\n",
      "(2, 3)\n",
      "(0, 2)\n",
      "(4, 5)\n",
      "(6, 7)\n",
      "(4, 6)\n",
      "(0, 4)\n",
      "(8, 9)\n",
      "(10, 11)\n",
      "(8, 10)\n",
      "(12, 13)\n",
      "(14, 15)\n",
      "(12, 14)\n",
      "(8, 12)\n",
      "(0, 8)\n",
      "정렬 후 :\t[10, 11, 17, 17, 17, 20, 22, 26, 31, 44, 49, 54, 77, 77, 88, 93]\n"
     ]
    }
   ],
   "source": [
    "a = [54,88,77,26,93,17,49,10,17,77,11,31,22,44,17,20]\n",
    "b = [None] * len(a)\n",
    "print('정렬 전:\\t', end='')\n",
    "print(a)\n",
    "merge_sort(a, b, 0, len(a)-1)   \n",
    "print('정렬 후 :\\t', end='')\n",
    "print(a)"
   ]
  },
  {
   "cell_type": "markdown",
   "metadata": {},
   "source": [
    "\n",
    "\n"
   ]
  },
  {
   "cell_type": "markdown",
   "metadata": {},
   "source": [
    "## 퀵정렬\n",
    "\n",
    "***\n",
    "\n",
    "입력의 맨 왼쪽 원소를 기준으로 피벗보다 작은 원소들과 큰 원소들을 각각 피벗의 좌우로 분할한 후, 피벗보다 작은 부분과 피벗보다 큰 부분을 각각 재귀적으로 정렬하는 알고리즘"
   ]
  },
  {
   "cell_type": "code",
   "execution_count": 64,
   "metadata": {},
   "outputs": [],
   "source": [
    "def qsort(a, low, high):\n",
    "    if low < high:\n",
    "        pivot = partition(a, low, high) # 피벗을 기준으로 분할\n",
    "        qsort(a, low, pivot-1) # 앞부분 재귀호출\n",
    "        qsort(a, pivot+1, high) # 뒷부분 재귀호출\n",
    "        \n",
    "def partition(a, pivot, high):\n",
    "    i = pivot + 1\n",
    "    j = high\n",
    "    while True:\n",
    "        while i < high and a[i] < a[pivot]: # a[i] 가 피벗보다 작으면 i 를 1 증가\n",
    "            i += 1\n",
    "        while j > pivot and a[j] > a[pivot]: # a[j] 가 피벗보다 작으면 j 를 1감소\n",
    "            j -= 1\n",
    "        if j <= i: # 루프 중단\n",
    "            break\n",
    "        a[i], a[j] = a[j], a[i] # a[i] 와 a[j] 를 교환\n",
    "        i += 1\n",
    "        j -= 1\n",
    "        \n",
    "    a[pivot], a[j] = a[j], a[pivot]\n",
    "    return j # 피벗 인덱스"
   ]
  },
  {
   "cell_type": "code",
   "execution_count": 65,
   "metadata": {},
   "outputs": [
    {
     "name": "stdout",
     "output_type": "stream",
     "text": [
      "정렬 전:\t [54, 88, 77, 26, 93, 17, 49, 10, 17, 77, 11, 31, 22, 44, 17, 20]\n",
      "정렬 후:\t [10, 11, 17, 17, 17, 20, 22, 26, 31, 44, 49, 54, 77, 77, 88, 93]\n"
     ]
    }
   ],
   "source": [
    "a = [54, 88, 77, 26, 93, 17, 49, 10, 17, 77, 11, 31, 22, 44, 17, 20]\n",
    "print('정렬 전:\\t', a)\n",
    "qsort(a, 0, len(a)-1)\n",
    "print('정렬 후:\\t', a)"
   ]
  },
  {
   "cell_type": "code",
   "execution_count": null,
   "metadata": {},
   "outputs": [],
   "source": []
  }
 ],
 "metadata": {
  "kernelspec": {
   "display_name": "Python 3",
   "language": "python",
   "name": "python3"
  },
  "language_info": {
   "codemirror_mode": {
    "name": "ipython",
    "version": 3
   },
   "file_extension": ".py",
   "mimetype": "text/x-python",
   "name": "python",
   "nbconvert_exporter": "python",
   "pygments_lexer": "ipython3",
   "version": "3.6.5"
  }
 },
 "nbformat": 4,
 "nbformat_minor": 2
}
