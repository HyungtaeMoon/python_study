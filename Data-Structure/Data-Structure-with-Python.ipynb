{
 "cells": [
  {
   "cell_type": "markdown",
   "metadata": {
    "slideshow": {
     "slide_type": "-"
    }
   },
   "source": [
    "# 자료구조\n",
    "\n",
    "------------------\n",
    "\n",
    "- 해당 내용은 파이썬과 함께하는 자료구조 내용을 토대로 공부한 내용을 정리했습니다."
   ]
  },
  {
   "cell_type": "markdown",
   "metadata": {},
   "source": [
    "\n",
    "\n"
   ]
  },
  {
   "cell_type": "markdown",
   "metadata": {},
   "source": [
    "## 기본개념\n",
    "\n",
    "***\n",
    "\n",
    "#### 1. 자료구조의 효율성은 수행되는 연산의 **수행시간**으로 측정\n",
    "\n",
    "\n",
    "#### 2. 대부분의 알고리즘들이 비슷한 크기의 메모리 공간을 사용하기 때문에 실제로는 **시간복잡도**를 수행시간으로 명시하기도 함\n",
    "\n",
    "<br>\n",
    "\n",
    "> **수행시간 = 시간복잡도 * 공간복잡도**\n"
   ]
  },
  {
   "cell_type": "markdown",
   "metadata": {},
   "source": [
    "\n"
   ]
  },
  {
   "cell_type": "markdown",
   "metadata": {},
   "source": [
    "## 표기법(3가지)\n",
    "\n",
    "***\n",
    "\n",
    "### Big-Oh 표기법(대표)\n",
    "> **이보다 너 나쁠 수는 없다.(점근적 상한)**\n",
    "\n",
    "\n",
    "### Big-Omega 표기법\n",
    "> 이보다 더 좋을 수는 없다.(점근적 하한)\n",
    "\n",
    "\n",
    "### Theta 표기법\n",
    "> Big-Oh 와 Big-Omega 동시 성립\n",
    "\n",
    "\n",
    "**[!TIP]** 점근적: 점점 가까워짐"
   ]
  },
  {
   "cell_type": "markdown",
   "metadata": {},
   "source": [
    "\n",
    "\n"
   ]
  },
  {
   "cell_type": "markdown",
   "metadata": {},
   "source": [
    "### <p style=\"text-align: center;\">[알고리즘의 수행시간]</p>"
   ]
  },
  {
   "cell_type": "markdown",
   "metadata": {},
   "source": [
    "| 표기     | 시간           | 대표 알고리즘           | 비고 |   |\n",
    "|----------|----------------|-------------------------|------|---|\n",
    "| O(1)     | 상수시간       | 배열의 요소, 검색       |      |        |\n",
    "| O(logN)  | 로그(대수)시간 | 이진탐색                |      |       |\n",
    "| O(N)     | 선형시간       | 순차탐색                |      |      |\n",
    "| O(NlogN) | 로그선형시간   | 퀵소트                  |      |      |\n",
    "| O(N^2)   | 제곱시간       | 버블소트                |      |   |\n",
    "| O(N^3)   | 세제곱시간     |                       |      |   |\n",
    "| O(2^N)   | 지수시간       | 하노이, 재귀적 피보나치    |      |   |\n",
    "| O(N!)    | N팩토리얼      | 모든 경우의 수 계산       |      |   |\n",
    "\n",
    "<p style=\"text-align:center;\">*(주로 O- 표기를 사용)</p>\n",
    "<p style=\"text-align:center;\">* 아래로 갈수록 비효율적인 알고리즘</p>"
   ]
  },
  {
   "cell_type": "markdown",
   "metadata": {},
   "source": [
    "### <p style=\"text-align: center;\">[입력크기에 따른 Big-O 처리]</p>"
   ]
  },
  {
   "cell_type": "markdown",
   "metadata": {},
   "source": [
    "\n",
    "| Big O 표기 | 10 개 | 100 개 | 1000 개  |\n",
    "| -------------- | ---------------------------- | ----------------------------- | ------------------------------- |\n",
    "| **O(1)**       | 1                            | 1                             | 1                               |\n",
    "| **O(log N)**   | 3                            | 6                             | 9                               |\n",
    "| **O(N)**       | 10                           | 100                           | 1000                            |\n",
    "| **O(N log N)** | 30                           | 600                           | 9000                            |\n",
    "| **O(N^2)**     | 100                          | 10000                         | 1000000                         |\n",
    "| **O(2^N)**     | 1024                         | 1.26e+29                      | 1.07e+301                       |\n",
    "| **O(N!)**      | 3628800                      | 9.3e+157                      | 4.02e+2567                      |\n"
   ]
  },
  {
   "cell_type": "markdown",
   "metadata": {},
   "source": [
    "-------------------"
   ]
  },
  {
   "cell_type": "markdown",
   "metadata": {},
   "source": [
    "\n",
    "\n"
   ]
  },
  {
   "cell_type": "markdown",
   "metadata": {},
   "source": [
    "##  파이썬 언어 기본지식\n",
    "\n",
    "***\n"
   ]
  },
  {
   "cell_type": "code",
   "execution_count": 1,
   "metadata": {},
   "outputs": [],
   "source": [
    "a = [] # 비어있는 리스트 a 선언\n",
    "b = [None] * 10 # 크기가 10//각 원소가 None 로 초기화 된 리스트\n",
    "c = [40, 10, 70, 60] # 크기가 4이고, 4개의 정수로 초기화 된 리스트"
   ]
  },
  {
   "cell_type": "markdown",
   "metadata": {},
   "source": [
    "**[!TIP]**\n",
    "- 리스트에 들어있는 값을 개수로 하지 않고 **크기**라고 부름\n",
    "    - **배열은 동일한 타입의 항목**들을 저장\n",
    "    - **리스트는 다른 타입의 항목**들을 저장\n",
    "    "
   ]
  },
  {
   "cell_type": "markdown",
   "metadata": {},
   "source": [
    "\n",
    "\n"
   ]
  },
  {
   "cell_type": "markdown",
   "metadata": {},
   "source": [
    "### \\# 의사난수(Pseudo-random Number) 생성"
   ]
  },
  {
   "cell_type": "code",
   "execution_count": 2,
   "metadata": {},
   "outputs": [],
   "source": [
    "import random\n",
    "import time\n",
    "random.seed(time.time())\n",
    "a = []\n",
    "for i in range(100):\n",
    "    a.append(random.randint(1, 1000))\n",
    "    \n",
    "start_time = time.time()\n",
    "\n",
    "\n",
    "# 같은 포맷팅 방식인데 결과값이 달라보인다.\n",
    "# new 포맷팅은 e-05 에 주목: 5.62.... 에 ^-5 (마이너스 5승) 으로 보면 된다.\n",
    "print('--- {} seconds ---'.format((time.time() - start_time)))\n",
    "print('--- %s seconds ---' % (time.time() - start_time))"
   ]
  },
  {
   "cell_type": "markdown",
   "metadata": {},
   "source": [
    "\n"
   ]
  },
  {
   "cell_type": "markdown",
   "metadata": {},
   "source": [
    "\n"
   ]
  },
  {
   "cell_type": "code",
   "execution_count": 3,
   "metadata": {},
   "outputs": [],
   "source": [
    "# 포맷팅 문서를 보니 포맷팅으로 인덱싱, 슬라이싱이 가능한 것을 확인.\n",
    "# 언젠가는 사용할 수도 있을 것 같아 기억만 해두자. (*자세한 내용은 관련 문서 참조)\n",
    "\n",
    "'{:>10}'.format('test')"
   ]
  },
  {
   "cell_type": "markdown",
   "metadata": {},
   "source": [
    "\n",
    "\n"
   ]
  },
  {
   "cell_type": "markdown",
   "metadata": {},
   "source": [
    "## 내장함수\n",
    "\n",
    "***"
   ]
  },
  {
   "cell_type": "markdown",
   "metadata": {},
   "source": [
    "a 라는 리스트가 있고 이를 lambda 또는 함수로 구현"
   ]
  },
  {
   "cell_type": "code",
   "execution_count": 4,
   "metadata": {},
   "outputs": [],
   "source": [
    "a = [1, 5, 4, 2, 7, 10, 11, 12]"
   ]
  },
  {
   "cell_type": "markdown",
   "metadata": {},
   "source": [
    "\n"
   ]
  },
  {
   "cell_type": "markdown",
   "metadata": {},
   "source": [
    "## **lambda 함수를 사용할 경우**\n",
    "\n",
    "\n",
    "> - lambda 인자(arguments): 식(expression)\n"
   ]
  },
  {
   "cell_type": "code",
   "execution_count": 5,
   "metadata": {},
   "outputs": [
    {
     "name": "stdout",
     "output_type": "stream",
     "text": [
      "[4, 2, 10, 12]\n"
     ]
    }
   ],
   "source": [
    "even = list(filter(lambda x: (x%2 == 0), a))\n",
    "print(even) # type: list"
   ]
  },
  {
   "cell_type": "code",
   "execution_count": 6,
   "metadata": {},
   "outputs": [
    {
     "name": "stdout",
     "output_type": "stream",
     "text": [
      "[10, 50, 40, 20, 70, 100, 110, 120]\n"
     ]
    }
   ],
   "source": [
    "ten_times = list(map(lambda x: x * 10, a))\n",
    "print(ten_times) # list a 의 각 숫자 * 10 를 리턴"
   ]
  },
  {
   "cell_type": "code",
   "execution_count": 7,
   "metadata": {},
   "outputs": [],
   "source": [
    "b = [[0, 1, 8], [7, 2, 2], [5, 3, 10], [1, 4, 5]]"
   ]
  },
  {
   "cell_type": "code",
   "execution_count": 8,
   "metadata": {},
   "outputs": [
    {
     "name": "stdout",
     "output_type": "stream",
     "text": [
      "[[7, 2, 2], [1, 4, 5], [0, 1, 8], [5, 3, 10]]\n"
     ]
    }
   ],
   "source": [
    "b.sort(key = lambda x: x[2])\n",
    "print(b) # list 의 마지막 숫자를 기준으로 정렬 b[[2번째], [4번째], [1번째], [3번째]]"
   ]
  },
  {
   "cell_type": "markdown",
   "metadata": {},
   "source": [
    "**함수로 사용할 경우**"
   ]
  },
  {
   "cell_type": "code",
   "execution_count": 9,
   "metadata": {},
   "outputs": [],
   "source": [
    "def even_method(a):\n",
    "    result = []\n",
    "    for i in a:\n",
    "        if i % 2 == 0:\n",
    "            result.append(i)\n",
    "#     return result\n",
    "    print(type(result))\n",
    "    print(result)"
   ]
  },
  {
   "cell_type": "code",
   "execution_count": 10,
   "metadata": {},
   "outputs": [
    {
     "name": "stdout",
     "output_type": "stream",
     "text": [
      "<class 'list'>\n",
      "[4, 2, 10, 12]\n"
     ]
    }
   ],
   "source": [
    "even_method(a)"
   ]
  },
  {
   "cell_type": "markdown",
   "metadata": {},
   "source": [
    "**리스트 컴프리헨션으로 구현**"
   ]
  },
  {
   "cell_type": "code",
   "execution_count": 11,
   "metadata": {},
   "outputs": [
    {
     "data": {
      "text/plain": [
       "[4, 2, 10, 12]"
      ]
     },
     "execution_count": 11,
     "metadata": {},
     "output_type": "execute_result"
    }
   ],
   "source": [
    "[i for i in a if i % 2 == 0] # type: list"
   ]
  },
  {
   "cell_type": "markdown",
   "metadata": {},
   "source": [
    "\n"
   ]
  },
  {
   "cell_type": "markdown",
   "metadata": {},
   "source": [
    "### \\# 단순연결리스트"
   ]
  },
  {
   "cell_type": "markdown",
   "metadata": {},
   "source": [
    "- 단순연결리스트는 **`동적 메모리 할당`**을 이용해 노드들을 한 방향으로 연결하여 리스트를 구현\n",
    "    - 동적 메모리 할당: 실행 시간동안에 메모리를 사용(C 언어는 가비지 컬렉터가 없어서 직접 해제해야 하지만 파이썬은 자동 해제)"
   ]
  },
  {
   "cell_type": "code",
   "execution_count": 12,
   "metadata": {},
   "outputs": [],
   "source": [
    "class SList:\n",
    "    class Node:\n",
    "        def __init__(self, item, link):\n",
    "            self.item = item\n",
    "            self.next = link\n",
    "            \n",
    "    def __init__(self):\n",
    "        self.head = None\n",
    "        self.size = 0\n",
    "\n",
    "    def size(self):\n",
    "        return self.size\n",
    "\n",
    "    def is_empty(self):\n",
    "        return self.size == 0\n",
    "\n",
    "    def insert_front(self, item):  # 첫 노드에 삽입\n",
    "        # 첫번째 노드가 비어있으면\n",
    "        if self.is_empty():\n",
    "            # 새로 만든 Node 객체를 self.head 에 참조\n",
    "            self.head = self.Node(item, None)\n",
    "        else:\n",
    "            # Node 에 데이터가 있다면 이번에 들어오는 Node 값을 head 에 참조\n",
    "            self.head = self.Node(item, self.head)\n",
    "        # if, else 문에서 Node 객체가 삽입되었다면 size + 1\n",
    "        self.size += 1\n",
    "\n",
    "    def insert_after(self, item, p):    # 지정한 pointer 노드 다음에 삽입\n",
    "        # pointer.next 에 노드 삽입 = Node 객체 생성(pointer 노드 다음에 item 을 삽입)\n",
    "        p.next = SList.Node(item, p.next)\n",
    "        self.size += 1\n",
    "\n",
    "    def delete_front(self):    # 첫 번째 노드를 삭제할 때\n",
    "        # 만약 지정한 노드 객체가 없다면\n",
    "        if self.is_empty():\n",
    "            # 에러를 발생\n",
    "            raise EmptyError('Underflow')\n",
    "        # 지정한 노드(item) 이 있고, 그게 head 라면\n",
    "        else:\n",
    "            # self.head 의 다음 노드를 self.head 로 참조\n",
    "            self.head = self.head.next\n",
    "            self.size -= 1\n",
    "\n",
    "    def delete_after(self, p):\n",
    "        if self.is_empty():\n",
    "            raise EmptyError('Under Flow')\n",
    "        else:\n",
    "            # p.next 가 t 와 동일한 3번째 노드에 있다. 그런데 t 가 4번째 노드로 가서 p.next 를 선언\n",
    "            # 이렇게 되면 기존의 p.next 는 노드의 연결이 끊기게 됨\n",
    "            # 한줄요약: t 의 배신\n",
    "\n",
    "            # 현재 t 와 p.next 는 동일한 곳을 가리키고 있는 상태\n",
    "            t = p.next\n",
    "            # t 는 p.next 의 다음 노드를 가리키고 p.next 에 할당\n",
    "            p.next = t.next\n",
    "            self.size -= 1\n",
    "\n",
    "    def search(self, target):\n",
    "        p = self.head\n",
    "        # 노드가 5개라면 총 5번을 순회(k: 인덱스)\n",
    "        for k in range(self.size):\n",
    "            # 파라미터로 받은 target 과 p.item 을 비교하여\n",
    "            if target == p.item:\n",
    "                # 인덱스 값을 반환\n",
    "                return k\n",
    "            # 만약 target 과 p.item 이 다르다면 p 를 다음 노드로 이동시킴\n",
    "            p = p.next\n",
    "        # 검색에 실패할 경우 None 를 반환\n",
    "        return None\n",
    "\n",
    "    def print_list(self):\n",
    "        p = self.head\n",
    "        while p:\n",
    "            if p != None:\n",
    "                print(p.item, '->', end='')\n",
    "            else:\n",
    "                print(p.item)\n",
    "            p = p.next\n",
    "\n",
    "class EmptyError(Exception):\n",
    "    pass\n"
   ]
  },
  {
   "cell_type": "code",
   "execution_count": 13,
   "metadata": {},
   "outputs": [
    {
     "name": "stdout",
     "output_type": "stream",
     "text": [
      "pear ->apple ->orange ->cherry ->cherry 는 3번째\n",
      "kiwi 는\n",
      "pear ->orange ->cherry ->첫 노드 삭제 후:\t \torange ->cherry ->첫 노드로 망고, 딸기 삽입 후:\tstrawberry ->mango ->orange ->cherry ->오렌지 다음 노드 삭제 후:\tstrawberry ->mango ->orange ->"
     ]
    }
   ],
   "source": [
    "s = SList()\n",
    "s.insert_front('orange')\n",
    "s.insert_front('apple')\n",
    "s.insert_after('cherry', s.head.next)\n",
    "s.insert_front('pear')\n",
    "s.print_list()\n",
    "print('cherry 는 {}번째'.format(s.search('cherry')))\n",
    "print('kiwi 는'.format(s.search('kiwi')))\n",
    "s.delete_after(s.head)\n",
    "s.print_list()\n",
    "print('첫 노드 삭제 후:\\t \\t', end='')\n",
    "s.delete_front()\n",
    "s.print_list()\n",
    "print('첫 노드로 망고, 딸기 삽입 후:\\t', end='')\n",
    "s.insert_front('mango')\n",
    "s.insert_front('strawberry')\n",
    "s.print_list()\n",
    "s.delete_after(s.head.next.next)\n",
    "print('오렌지 다음 노드 삭제 후:\\t', end='')\n",
    "s.print_list()"
   ]
  },
  {
   "cell_type": "markdown",
   "metadata": {},
   "source": [
    "\n",
    "\n"
   ]
  },
  {
   "cell_type": "markdown",
   "metadata": {},
   "source": [
    "### \\# 이중연결리스트"
   ]
  },
  {
   "cell_type": "markdown",
   "metadata": {},
   "source": [
    "이중연결리스트는 각 노드가 두 개의 레퍼런스를 가지고 각각 이전 노드와 다음 노드를 가리키는 연결리스트"
   ]
  },
  {
   "cell_type": "code",
   "execution_count": 14,
   "metadata": {},
   "outputs": [],
   "source": [
    "class DList:\n",
    "    class Node:\n",
    "        def __init__(self, item, prev, link):\n",
    "            self.item = item\n",
    "            self.prev = prev\n",
    "            self.next = link\n",
    "\n",
    "    def __init__(self):\n",
    "        self.head = self.Node(None, None, None)\n",
    "        self.tail = self.Node(None, self.head, None)\n",
    "        self.head.next = self.tail\n",
    "        self.size = 0\n",
    "\n",
    "    def size(self):\n",
    "        return self.size\n",
    "\n",
    "    def is_empty(self):\n",
    "        return self.size == 0\n",
    "\n",
    "    def insert_before(self, p, item):   # 지정한 p 노드 앞에 삽입\n",
    "        # t 변수에 지정한 pointer 의 앞 객체를 참조\n",
    "        t = p.prev\n",
    "        # Node 객체를 만드는데 prev 는 p.prev, p 는 새로운 Node 가 아닌 '뒤로 밀리게 되는 Node'가 된다\n",
    "        # 앞과 뒤의 Node 를 연결하고 n 변수에 할당\n",
    "        n = self.Node(item, t, p)\n",
    "        # 새로 만들어진 Node 객체 n 의 앞과 뒤를 연결해준다\n",
    "        p.prev = n\n",
    "        t.next = n\n",
    "        # Node 객체가 만들어졌기 때문에 데이터의 크기(size +1) 을 시켜줌\n",
    "        self.size += 1\n",
    "\n",
    "    def insert_after(self, p, item):    # 지정한 p 노드 뒤에 삽입\n",
    "        # t 변수에 지정한 pointer 의 다음 객체를 참조\n",
    "        t = p.next\n",
    "        # Node 객체를 만드는데 p 에 현재 지정한 Node, t 에는 현재 지정한 객체의 다음 Node 를 가리킴\n",
    "        # p 와 t 노드 사이에 n Node 객체를 만들어줌\n",
    "        n = self.Node(item, p, t)\n",
    "        # 새로 만들어진 n Node 객체의 앞과 뒤(p와 t)를 n 에 연결시켜준다\n",
    "        t.prev = n\n",
    "        p.next = n\n",
    "\n",
    "    def delete(self, x):    # x 의 연결을 끊고, f 와 r 을 이어줌\n",
    "        # forward 변수에 x 의 앞 노드를 가리킴\n",
    "        f = x.prev\n",
    "        # rear 변수에 x 의 다음 노드를 가리킴\n",
    "        r = x.next\n",
    "        # x 노드를 삭제하기 위해 f 노드는 을 가리키고, r 노드는 f 를 가리킴\n",
    "        # 이로써 x 의 연결이 끊어짐, 연결이 끊어졌다는건 이 연결 리스트에서 제외되었다는 뜻\n",
    "        f.next = r\n",
    "        r.prev = f\n",
    "        self.size -= 1\n",
    "        # x 의 실제 값을 return 시켜줌\n",
    "        return x.item\n",
    "\n",
    "    def print_list(self):\n",
    "        if self.is_empty():\n",
    "            print('리스트 비어있음')\n",
    "        else:\n",
    "            # pointer 가 self.head 가 아닌 self.head.next 를 가리키는 이유는??\n",
    "            # 내 생각에는 pointer 가 self.head 를 가리켜야 head 부터 p.item 을 print 할텐데..\n",
    "            p = self.head.next\n",
    "            # p 가 tail 이 아니라면 while 문 안에서 무한 순회\n",
    "            while p != self.tail:\n",
    "                # pointer 의 next Node 객체가 tail 이 아니라면\n",
    "                if p.next != self.tail:\n",
    "                    # p.item(입력한 값)을 출력\n",
    "                    print(p.item, ' <--> ', end='')\n",
    "                # self.tail 일 경우에는\n",
    "                else:\n",
    "                    # p.item(입력한 값)을 출력, 이 값은 tail 의 값이 되어 while 문 종료\n",
    "                    print(p.item)\n",
    "                # 위의 if 문이 true 이면 pointer 는 다음 Node 객체를 가리키게 설정\n",
    "                p = p.next\n",
    "\n",
    "\n",
    "class EmptyError(Exception):\n",
    "    pass\n"
   ]
  },
  {
   "cell_type": "code",
   "execution_count": 15,
   "metadata": {},
   "outputs": [
    {
     "name": "stdout",
     "output_type": "stream",
     "text": [
      "apple  <--> pear  <--> orange  <--> cherry\n",
      "마지막 노드 삭제 후:\tapple  <--> pear  <--> orange\n",
      "맨 끝에 포도 삽입 후:\tapple  <--> pear  <--> orange  <--> grape\n",
      "첫 노드 삭제 후:\tpear  <--> orange  <--> grape\n",
      "첫 노드 삭제 후:\t리스트 비어있음\n",
      "첫 노드 삭제 후:\tgrape\n"
     ]
    }
   ],
   "source": [
    "s = DList()\n",
    "s.insert_after(s.head, 'apple')\n",
    "s.insert_before(s.tail, 'orange')\n",
    "s.insert_before(s.tail, 'cherry')\n",
    "s.insert_after(s.head.next, 'pear')\n",
    "s.print_list()\n",
    "print('마지막 노드 삭제 후:\\t', end='')\n",
    "s.delete(s.tail.prev)\n",
    "s.print_list()\n",
    "print('맨 끝에 포도 삽입 후:\\t', end='')\n",
    "s.insert_before(s.tail, 'grape')\n",
    "s.print_list()\n",
    "print('첫 노드 삭제 후:\\t', end='')\n",
    "s.delete(s.head.next)\n",
    "s.print_list()\n",
    "print('첫 노드 삭제 후:\\t', end='')\n",
    "s.delete(s.head.next)\n",
    "s.print_list()\n",
    "print('첫 노드 삭제 후:\\t', end='')\n",
    "s.delete(s.head.next)\n",
    "s.print_list()"
   ]
  },
  {
   "cell_type": "markdown",
   "metadata": {},
   "source": [
    "\n"
   ]
  },
  {
   "cell_type": "markdown",
   "metadata": {},
   "source": [
    "### \\# 원형연결리스트"
   ]
  },
  {
   "cell_type": "code",
   "execution_count": 16,
   "metadata": {},
   "outputs": [],
   "source": [
    "class CList:\n",
    "    class _Node:\n",
    "        def __init__(self, item, link):\n",
    "            self.item = item\n",
    "            self.next = link\n",
    "\n",
    "    def __init__(self):\n",
    "        self.last = None\n",
    "        self.size = 0\n",
    "\n",
    "    # Node 의 size(데이터 크기)를 리턴\n",
    "    def no_items(self):\n",
    "        return self.size\n",
    "\n",
    "    # Node 가 비어있을 때의 상황을 함수화 시켜놓음\n",
    "    # self.is_empty() 로 메서드를 불러 사용하기 때문에 가독성이 좋아짐\n",
    "    def is_empty(self):\n",
    "        return self.size == 0\n",
    "\n",
    "    def insert(self, item):\n",
    "        # n 변수에 새로운 Node 객체를 생성\n",
    "        n = self._Node(item, None)\n",
    "        # Note List 가 비어있다면\n",
    "        if self.is_empty():\n",
    "            # Node 객체의 next 를 자신을 참조하면서, last 로 참조(레퍼런스 카운트 2)\n",
    "            n.next = n\n",
    "            self.last = n\n",
    "        # CList 에 Node 객체가 존재한다면\n",
    "        else:\n",
    "            # self.last.next(즉 첫번째 생성한 Node 의 다음) 에 n.next 할당\n",
    "            n.next = self.last.next\n",
    "            # 새로 만든 Node 는 첫번째 노드의 다음에 위치한다\n",
    "            self.last.next = n\n",
    "        self.size += 1\n",
    "\n",
    "    def first(self):\n",
    "        if self.is_empty():\n",
    "            raise EmptyError('Underflow')\n",
    "        f = self.last.next\n",
    "        return f.item\n",
    "\n",
    "    def delete(self):\n",
    "        if self.is_empty():\n",
    "            raise EmptyError('Underflow')\n",
    "        x = self.last.next\n",
    "        if self.size == 1:\n",
    "            self.last = None\n",
    "        else:\n",
    "            self.last.next = x.next\n",
    "        self.size -= 1\n",
    "        return x.item\n",
    "\n",
    "    def print_list(self):\n",
    "        if self.is_empty():\n",
    "            print('리스트 비어있음')\n",
    "        else:\n",
    "            f = self.last.next\n",
    "            p = f\n",
    "            while p.next != f:\n",
    "                print(p.item, ' -> ', end='')\n",
    "                p = p.next\n",
    "            print(p.item)\n",
    "\n",
    "\n",
    "class EmptyError(Exception):\n",
    "    pass"
   ]
  },
  {
   "cell_type": "code",
   "execution_count": 17,
   "metadata": {},
   "outputs": [
    {
     "name": "stdout",
     "output_type": "stream",
     "text": [
      "apple  -> orange  -> cherry  -> pear\n",
      "s의 길이 = 4\n",
      "s의 첫 항목 : apple\n",
      "첫번째 노드 삭제 후: orange  -> cherry  -> pear\n",
      "s의 길이 = 3\n",
      "s의 첫 항목:  orange\n",
      "첫번째 노드 삭제 후: cherry  -> pear\n",
      "첫번째 노드 삭제 후: pear\n",
      "첫번째 노드 삭제 후: 리스트 비어있음\n"
     ]
    }
   ],
   "source": [
    "s = CList()\n",
    "s.insert('pear')\n",
    "s.insert('cherry')\n",
    "s.insert('orange')\n",
    "s.insert('apple')\n",
    "s.print_list()\n",
    "print('s의 길이 =', s.no_items())\n",
    "print('s의 첫 항목 :', s.first())\n",
    "s.delete()\n",
    "print('첫번째 노드 삭제 후: ', end='')\n",
    "s.print_list()\n",
    "print('s의 길이 =', s.no_items())\n",
    "print('s의 첫 항목: ', s.first())\n",
    "s.delete()\n",
    "print('첫번째 노드 삭제 후: ', end='')\n",
    "s.print_list()\n",
    "s.delete()\n",
    "print('첫번째 노드 삭제 후: ', end='')\n",
    "s.print_list()\n",
    "s.delete()\n",
    "print('첫번째 노드 삭제 후: ', end='')\n",
    "s.print_list()"
   ]
  },
  {
   "cell_type": "markdown",
   "metadata": {},
   "source": [
    "\n"
   ]
  },
  {
   "cell_type": "markdown",
   "metadata": {},
   "source": [
    "### \\# 스택과 큐"
   ]
  },
  {
   "cell_type": "code",
   "execution_count": 18,
   "metadata": {},
   "outputs": [
    {
     "name": "stdout",
     "output_type": "stream",
     "text": [
      "사과, 오렌지, 체리  push 후\t\n",
      "top -> cherry \n",
      "orange \n",
      "apple \n",
      "\n",
      "top 항목:cherry\n",
      "\n",
      "[배(pear) push 후]\n",
      "top -> pear \n",
      "cherry \n",
      "orange \n",
      "apple \n",
      "\n",
      "[pop(), 포도(grape) push 후]\n",
      "top -> grape \n",
      "cherry \n",
      "orange \n",
      "apple \n",
      "\n"
     ]
    }
   ],
   "source": [
    "class Node:\n",
    "    # 전역변수 top 에 생성자함수를 사용한 노드를 생성\n",
    "    # top = Node(item, top)\n",
    "    def __init__(self, item, link):\n",
    "        self.item = item\n",
    "        self.next = link\n",
    "        \n",
    "def push(item):\n",
    "    # 전역변수 top/size 선언\n",
    "    global top\n",
    "    global size\n",
    "    # 새로운 노드를 push 할 때는 스택구조이기 때문에, 항상 top = new_node\n",
    "    top = Node(item, top)\n",
    "    size += 1\n",
    "    \n",
    "def peek():\n",
    "    if size != 0:\n",
    "        # top 인스턴스의 item 속성에 접근\n",
    "        return top.item\n",
    "    \n",
    "def pop():\n",
    "    # pop 은 해당 스택에서 최상위에 있는 리스트의 값을 꺼내야 함\n",
    "    global top\n",
    "    global size\n",
    "    if size != 0:\n",
    "        # 해당 스택에서 top.item 을 임의의 변수 top_item 으로 할당\n",
    "        # (이 변수에 할당된 값이 return 됨)\n",
    "        top_item = top.item\n",
    "        # 바로 아래에 있는 리스트의 값을 새로운 top 으로 포인터 지정\n",
    "        top = top.next\n",
    "        size -= 1\n",
    "        # 위에서 지정한 임의의 변수 top_item 을 리턴\n",
    "        # 리턴은 함수를 부르면 1번만 실행되기 때문에\n",
    "        # top_item 이 존재하지 않는다는 에러메시지는 발생하지 않음\n",
    "        return top_item\n",
    "    \n",
    "def print_stack():\n",
    "    print('top -> ', end='')\n",
    "    p = top\n",
    "    while p:\n",
    "        # stack 구조상 바로 아래에 아이템이 있을 경우 if 처리\n",
    "        if p.next != None:\n",
    "            print(p.item, '\\n', end='')\n",
    "        # stack 에서 가장 아래에 아이템일 경우 else 처리\n",
    "        else:\n",
    "            print(p.item, '\\n', end='')\n",
    "        # if, else 문에서 처리하고 바로 아래의 item 을 .next 에 할당\n",
    "        p = p.next\n",
    "    print()\n",
    "\n",
    "\n",
    "top = None\n",
    "size = 0\n",
    "push('apple')\n",
    "push('orange')\n",
    "push('cherry')\n",
    "print('사과, 오렌지, 체리  push 후\\t', end='')\n",
    "print()\n",
    "\n",
    "print_stack()\n",
    "print('top 항목:', end='')\n",
    "print(peek())\n",
    "print()\n",
    "\n",
    "push('pear')\n",
    "print('[배(pear) push 후]\\n', end='')\n",
    "print_stack()\n",
    "pop()\n",
    "push('grape')\n",
    "print('[pop(), 포도(grape) push 후]\\n', end='')\n",
    "print_stack()"
   ]
  },
  {
   "cell_type": "markdown",
   "metadata": {},
   "source": [
    "\n"
   ]
  },
  {
   "cell_type": "markdown",
   "metadata": {},
   "source": [
    "[!TIP]\n",
    "> 알고리즘의 수행시간은 주로 big-O 표기법(이보다 나쁠 수는 없다.) 로 표현하며, 단순연결리스트로 구현한 stack 에서 push, pop 은 `O(1)` 시간이 소요\n",
    "\n",
    "> 그러나 우리 눈에는 보이지 않지만 파이썬의 리스트 크기는 동적으로 자동으로 확장/축소 되며, 모든 항목은 새로운 리스트로 복사해야 하기 때문에 `O(N)` 시간이 소요"
   ]
  },
  {
   "cell_type": "markdown",
   "metadata": {},
   "source": [
    "| 표기     | 시간           | 비고         |\n",
    "|----------|----------------|----------|\n",
    "| O(1)     | 상수시간       | 효율적 **(단순연결리스트 push, pop)**   |\n",
    "| O(logN)  | 로그(대수)시간 |          |\n",
    "| O(N)     | 선형시간       |          |\n",
    "| O(NlogN) | 로그선형시간   |          |\n",
    "| O(N^2)   | 제곱시간       |          |\n",
    "| O(N^3)   | 세제곱시간     |          |\n",
    "| O(2^N)   | 지수시간       | 비효율적 |\n",
    "\n",
    "<p style=\"text-align: center;\">*(주로 O-표기를 사용)</p>"
   ]
  },
  {
   "cell_type": "markdown",
   "metadata": {},
   "source": [
    "\n",
    "\n"
   ]
  },
  {
   "cell_type": "markdown",
   "metadata": {},
   "source": [
    "#### \\# 스택의 응용\n",
    "\n",
    "1. 괄호 짝 맞추기\n",
    "    - 왼쪽 괄호는 스택에 push, 오른쪽 괄호는 스택에 pop 하여 짝이 맞지 않을 경우 에러를 발생\n",
    "\n",
    "\n",
    "2. 회문(Palindrome)\n",
    "    - 앞으로부터 읽으나 뒤로부터 읽으나 같은 string type 을 검사  예) RACECAR\n",
    "    - 전반부의 문자들을 스택에 push, 후반부의 각 문자를 차례로 pop 한 문자와 비교\n"
   ]
  },
  {
   "cell_type": "markdown",
   "metadata": {},
   "source": [
    "\n",
    "\\# RACECAR\n",
    "\n",
    "\\# RAC 는 stack 에 push 하고, pop은 역순으로 나오기 때문에 CAR 이 나옴\n",
    "\n",
    "step7. pop(`R`)\n",
    "\n",
    "step6. pop(`A`)\n",
    "\n",
    "step5. pop(`C`)\n",
    "\n",
    "step4. `E` 는 읽고 버림\n",
    "\n",
    "step3. push(`C`)\n",
    "\n",
    "step2. push(`A`)\n",
    "\n",
    "step1. push(`R`)"
   ]
  },
  {
   "cell_type": "markdown",
   "metadata": {},
   "source": [
    "\n"
   ]
  },
  {
   "cell_type": "markdown",
   "metadata": {},
   "source": [
    "### \\# 큐"
   ]
  },
  {
   "cell_type": "markdown",
   "metadata": {},
   "source": [
    "- 단순연결리스트로 구현한 큐\n",
    "    - CPU 의 태스트 스케줄링, 네트워크 프린터, 실시간 시스템의 인터럽트 처리, 다양한 이벤트 구동 방식 컴퓨터 시뮬레이션, 콜 센터의 전화 서비스 처리 등\n",
    "    - 이진트리의 레벨순회, 그래프의 너비우선탐색"
   ]
  },
  {
   "cell_type": "code",
   "execution_count": 19,
   "metadata": {},
   "outputs": [],
   "source": [
    "class Node:\n",
    "    def __init__(self, item, n):\n",
    "        self.item = item\n",
    "        self.next = n\n",
    "        \n",
    "def add(item):\n",
    "    # 전역변수로 size, front, rear 선언\n",
    "    # 전역변수를 선언하면 해당 함수가 종료되도 메모리 공간 어디엔가 존재\n",
    "    global size\n",
    "    global front\n",
    "    global rear\n",
    "    # 새로운 Node 를 생성하고, link 는 없음\n",
    "    new_node = Node(item, None)\n",
    "    if size == 0:\n",
    "        front = new_node\n",
    "    else:\n",
    "        # 이미 Node 가 존재한다면 리스트의 맨 뒤.next 를 새로 만든 Node 로 지정\n",
    "        rear.next = new_node\n",
    "    rear = new_node\n",
    "    size += 1\n",
    "\n",
    "# remove 는 파라미터를 따로 받지 않고, 전역변수 자체에 접근하여 연산 처리를 진행\n",
    "def remove():\n",
    "    global size\n",
    "    global front\n",
    "    global rear\n",
    "    if size != 0:\n",
    "        # 큐 구조는 맨 처음에 들어간 front 의 값을 return 시킴\n",
    "        # front.item 을 따로 변수로 지정, front.next 의 값을 front 변수로 지정\n",
    "        fitem = front.item\n",
    "        front = front.next\n",
    "        size -= 1\n",
    "        if size == 0:\n",
    "            rear = None\n",
    "        # return 시킴으로 인해서 리스트의 길이가 -1 됨\n",
    "        return fitem\n",
    "    \n",
    "def print_q():\n",
    "    p = front\n",
    "    print('front: ', end='')\n",
    "    while p:\n",
    "        if p.next != None:\n",
    "            print(p.item, '-> ', end='')\n",
    "        else:\n",
    "            print(p.item, end='')\n",
    "        p = p.next\n",
    "    print(' : rear')"
   ]
  },
  {
   "cell_type": "code",
   "execution_count": 20,
   "metadata": {},
   "outputs": [
    {
     "name": "stdout",
     "output_type": "stream",
     "text": [
      "사과, 오렌지, 체리, 배 삽입 후: \tfront: apple -> orange -> cherry -> pear : rear\n",
      "remove한 후:\t\tfront: orange -> cherry -> pear : rear\n",
      "remove한 후:\t\tfront: cherry -> pear : rear\n",
      "포도 삽입 후:\t\tfront: cherry -> pear -> grape : rear\n"
     ]
    }
   ],
   "source": [
    "front = None\n",
    "rear = None\n",
    "size = 0\n",
    "\n",
    "add('apple')\n",
    "add('orange')\n",
    "add('cherry')\n",
    "add('pear')\n",
    "print('사과, 오렌지, 체리, 배 삽입 후: \\t', end='')\n",
    "print_q()\n",
    "remove()\n",
    "print('remove한 후:\\t\\t', end='')\n",
    "print_q()\n",
    "remove()\n",
    "print('remove한 후:\\t\\t', end='')\n",
    "print_q()\n",
    "add('grape')\n",
    "print('포도 삽입 후:\\t\\t', end='')\n",
    "print_q()"
   ]
  },
  {
   "cell_type": "markdown",
   "metadata": {},
   "source": [
    "\n"
   ]
  },
  {
   "cell_type": "markdown",
   "metadata": {},
   "source": [
    "### \\# 데크(Deque)"
   ]
  },
  {
   "cell_type": "markdown",
   "metadata": {},
   "source": [
    "- (Double-ended Queue, Deque)는 양쪽 끝에서 삽입과 삭제를 허용하는 자료구조\n",
    "- 데크는 스택과 큐 자료구조를 혼합한 자료구조\n"
   ]
  },
  {
   "cell_type": "code",
   "execution_count": 21,
   "metadata": {},
   "outputs": [
    {
     "name": "stdout",
     "output_type": "stream",
     "text": [
      "D\n",
      "A\n",
      "T\n",
      "A\n",
      "\n",
      "deque(['k', 'd', 'a', 't', 'a', 'r'])\n",
      "a\n",
      "False\n",
      "deque(['p', 'y', 't', 'h', 'o', 'n', 'd', 'a', 't', 'a', 's', 't', 'r', 'u', 'c', 't', 'u', 'r', 'e'])\n"
     ]
    }
   ],
   "source": [
    "from collections import deque\n",
    "dq = deque('data') # deque 객체 생성, deque(['d', 'a', 't', 'a'])\n",
    "for elem in dq:\n",
    "    print(elem.upper())\n",
    "print()\n",
    "# 하나의 문자열로 해당 리스트에 삽입\n",
    "dq.append('r')\n",
    "dq.appendleft('k')\n",
    "print(dq)\n",
    "dq.pop()\n",
    "dq.popleft()\n",
    "print(dq[-1])\n",
    "print('x' in dq)\n",
    "# 문자열이 아닌 각 문자마다 dq 리스트에 추가\n",
    "dq.extend('structure')\n",
    "dq.extendleft(reversed('python'))\n",
    "print(dq)"
   ]
  },
  {
   "cell_type": "markdown",
   "metadata": {},
   "source": [
    "\n"
   ]
  },
  {
   "cell_type": "markdown",
   "metadata": {},
   "source": [
    "### \\# 트리"
   ]
  },
  {
   "cell_type": "markdown",
   "metadata": {},
   "source": [
    "#### 이진트리\n",
    "\n",
    "**1. 각 노드의 자식 수가 2 이하인 트리**\n",
    "    - 이진트리는 1. 비어있거나 // 2. 비어있지 않다면 루트와 2개의 이진트리인 왼쪽 서브트리와 오른쪽 서브트리로 구성\n",
    "    \n",
    "\n",
    "**2. 이진트리의 형태**\n",
    "    - 포화이진트리, 완전이진트리(또는 불완전한 이진트리)\n",
    "    \n",
    "    \n",
    "**3. 리스트에 저장해야 효율적인 이진트리와 그렇지 않은 이진트리**\n",
    "    - 완전이진트리(또는 포화이진트리)는 리스트에 꽉꽉 채워져있어(메모리에 순서대로 저장) 효율적이다.\n",
    "    - 그렇지만 편향이진트리는 리스트에 듬성듬성 값이 채워져있어(메모리에 듬성듬성 저장) 비효율적이다.\n",
    "\n",
    "\n",
    "**4. 재귀함수로 호출**\n",
    "    - 재귀함수로 호출하면 바로 이전의 데이터값은 재귀함수의 호출 위치에 머물러있다가, 재귀함수 호출값이 다음 코드로 넘어갔을 때 그 함수 호출 값을 처리한다......(말로 하니 어렵다)\n",
    "    \n",
    "    \n",
    "**5. 스택프레임에 쌓이는 것은 재귀함수**\n",
    "    - 레벨순회를 제외하고는 모두 스택 자료구조를 사용\n",
    "    - 함수의 재귀호출은 시스템 스택을 사용하므로 스택 자료구조를 사용한 것으로 간주\n",
    "    - 스택에 사용되는 메모리 공간의 크기는 트리의 높이에 비례\n",
    "    \n",
    "\n",
    "**6. 이진트리에서 부모와 자식노드를 찾는 공식**\n",
    "    - a[i] 의 부모는 a[i//2] 에 있다. 단, i > 1 이다.\n",
    "        - a[11] 의 부모: a[11//2] == 5, 즉 a[5] 가 부모노드이다.\n",
    "    - a[i] 의 왼쪽자식은 a[2i] 에 있다. 단 2i <= N 이다.\n",
    "        - a[5] 의 왼쪽자식: a[2*5] == 10, 즉 a[10] 이 왼쪽 자식노드이다.\n",
    "    - a[i] 의 오른쪽자식은 a[2i + 1] 에 있다. 단 2i + 1 <= N 이다.\n",
    "        - a[5] 의 오른쪽자식: a[2*5+1] == 11, 즉 a[11] 이 오른쪽 자식노드이다.\n",
    "        \n",
    "\n",
    "**7. 이진트리 형태의 한계**\n",
    "    - 이진트리 형태의 자료구조는 대용량의 데이터 처리에 효율적이지 못하다\n",
    "        - B 트리 구조가 효율적(노드에 수백개에서 수천 개의 키를 저장하여 트리의 높이를 낮춤\n"
   ]
  },
  {
   "cell_type": "markdown",
   "metadata": {},
   "source": [
    "\n"
   ]
  },
  {
   "cell_type": "code",
   "execution_count": 22,
   "metadata": {},
   "outputs": [],
   "source": [
    "class Node:\n",
    "    def __init__(self, item, left=None, right=None):\n",
    "        self.item = item\n",
    "        self.left = left\n",
    "        self.right = right\n",
    "        \n",
    "class BinaryTree:\n",
    "    def __init__(self):\n",
    "        self.root = None\n",
    "        \n",
    "    def preorder(self, n):\n",
    "        # 재귀함수로 root 를 기준으로 계속해서 하위 레벨의 노드를 호출\n",
    "        # 최하위의 레벨의 노드가 종료되면, 그 부모 레벨의 노드에 대한 print()\n",
    "        # 즉, 1레벨, 2레벨, 3레벨의 순서로 스택프레임은 쌓였기 때문에 3레벨, 2레벨, 1레벨의 순으로 연산 처리를 진행\n",
    "        if n != None:\n",
    "            print(str(n.item), ' ', end='')\n",
    "            if n.left:\n",
    "                self.preorder(n.left)\n",
    "            if n.right:\n",
    "                self.preorder(n.right)\n",
    "                \n",
    "    def inorder(self, n):\n",
    "        if n != None:\n",
    "            if n.left:\n",
    "                self.preorder(n.left) # 루트 노드부터 스택프레임이 차곡차곡 쌓여있음\n",
    "            print(str(n.item), ' ', end='')\n",
    "            if n.right:\n",
    "                self.preorder(n.right)\n",
    "                \n",
    "    def postorder(self, n):\n",
    "        if n != None:\n",
    "            if n.left:\n",
    "                self.postorder(n.left)\n",
    "            if n.right:\n",
    "                self.postorder(n.right)\n",
    "            print(str(n.item), ' ', end='')\n",
    "            \n",
    "    def levelorder(self, root):\n",
    "        q = []\n",
    "        q.append(root)\n",
    "        # 노드는 while 문을 기준으로 계속 순회한다\n",
    "        while len(q) != 0:\n",
    "            t = q.pop(0)\n",
    "            print(str(t.item), ' ', end='')\n",
    "            # 부모노드의 자식노드들을 계속해서 q 리스트에 추가, 그러나 print()는 부모 노드가 출력\n",
    "            if t.left:\n",
    "                q.append(t.left)\n",
    "            if t.right:\n",
    "                q.append(t.right)\n",
    "\n",
    "    def height(self, root):\n",
    "        if root == None:\n",
    "            return 0\n",
    "        return max(self.height(root.left), self.height(root.right)) + 1\n",
    "    "
   ]
  },
  {
   "cell_type": "code",
   "execution_count": 23,
   "metadata": {},
   "outputs": [
    {
     "name": "stdout",
     "output_type": "stream",
     "text": [
      " 트리 높이 = 4\n",
      " 전위순회: \t100  200  400  800  500  300  600  700  \n",
      " 중위순회: \t200  400  800  500  100  300  600  700  \n",
      " 후위순회: \t800  400  500  200  600  700  300  100  \n",
      " 레벨순회: \t100  200  300  400  500  600  700  800  "
     ]
    }
   ],
   "source": [
    "t = BinaryTree()\n",
    "n1 = Node(100)\n",
    "n2 = Node(200)\n",
    "n3 = Node(300)\n",
    "n4 = Node(400)\n",
    "n5 = Node(500)\n",
    "n6 = Node(600)\n",
    "n7 = Node(700)\n",
    "n8 = Node(800)\n",
    "n1.left = n2\n",
    "n1.right = n3\n",
    "n2.left = n4\n",
    "n2.right = n5\n",
    "n3.left = n6\n",
    "n3.right = n7\n",
    "n4.left = n8\n",
    "t.root = n1\n",
    "\n",
    "print(' 트리 높이 =', t.height(t.root))\n",
    "print(' 전위순회: \\t', end='')\n",
    "t.preorder(t.root)\n",
    "print('\\n 중위순회: \\t', end='')\n",
    "t.inorder(t.root)\n",
    "print('\\n 후위순회: \\t', end='')\n",
    "t.postorder(t.root)\n",
    "print('\\n 레벨순회: \\t', end='')\n",
    "t.levelorder(t.root)"
   ]
  },
  {
   "cell_type": "markdown",
   "metadata": {},
   "source": [
    "\n",
    "\n"
   ]
  },
  {
   "cell_type": "markdown",
   "metadata": {},
   "source": [
    "### \\# 이진힙"
   ]
  },
  {
   "cell_type": "markdown",
   "metadata": {},
   "source": [
    "1. 최소힙과 최대힙으로 구분\n",
    "    - 최소힙에서 최소값의 삭제는 루트 노드를 삭제하고, 최하위(최대값)을 루트노드에 삽입하여 자식 노드와 비교하여 결과값 리턴(다운힙)\n",
    "    \n",
    "    \n",
    "2. 이진힙의 사용\n",
    "    - 우선순위를 가진 데이터를 처리하는 자료구조로서, 관공서, 은행, 병원, 우체국, 대형마켓, 공항 등에서 이루어지는 업무와 관련된 이벤트 처리, 컴퓨터 운영체제의 프로세스 처리, 네트워크 라우터에서의 패킷 처리 등에 적합한 자료구조\n",
    "    - **실시간 급상승 검색어(데이터 스트림에서 Top k 항목을 유지) 제공을 위한 적절한 자료구조**\n",
    "    \n",
    "    \n",
    "3. 검색어 구현\n",
    "    - real_time_rank = \\[[76, '파이썬'], [43, '자바'], [32, '고']\\]\n",
    "        - 여기서 갑자기 \\[[120, '인공지능']\\] 검색어가 급상승한다면?? 이진힙에서 최대힙으로 구현\n",
    "        \n",
    "        \n",
    "4. upheap, downheap\n",
    "    - 삽입할 때는 upheap() 이 사용된다. 즉, 노드 추가는 최하위에 삽입되고 해당 부모노드와 비교하여 작으면 더 위로 올라가게 되는 구조\n",
    "    - 삭제할 때는 downheap() 이 사용된다. 최상위 노드를 삭제하고, 그 자리에 최하위 노드를 추가하여 둘이서 스와핑을 진행.\n",
    "        - *스와핑: 최상위, 최하위 = 최하위, 최상위\n",
    "        - 최하위가 완전부모 노드에 있기 때문에 자식 노드와 비교하면서 아래로 내려가게 되는 자료구조"
   ]
  },
  {
   "cell_type": "code",
   "execution_count": 24,
   "metadata": {},
   "outputs": [],
   "source": [
    "class BHeap:\n",
    "    def __init__(self, a): # 이진힙 생성자\n",
    "        self.a = a # 리스트 a\n",
    "        self.N = len(a) -1 # 항목 수\n",
    "        \n",
    "    def create_heap(self): # 초기힙 생성\n",
    "        # start 는 항목 수, end 는 모든 항목이 순회할 때까지, step 는 역순으로\n",
    "        # 즉, 항목 수 -1 해서 역순으로 이진힙을 순회\n",
    "        for i in range(self.N//2, 0, -1):\n",
    "            self.downheap(i)\n",
    "            \n",
    "    def insert(self, key_value):\n",
    "        self.N += 1\n",
    "        self.a.append(key_value)\n",
    "        self.upheap(self.N)\n",
    "        \n",
    "    def delete_min(self): #최소값 삭제\n",
    "        if self.N == 0:\n",
    "            print('힙이 비어있음')\n",
    "            return None\n",
    "        # 최상위 노드에 있는 루트 노드가 최소값이 되며 이를 minimum 변수에 할당\n",
    "        # minimum 변수에 해당 값을 할당했으니, a[1] 의 실제값은 레퍼런스 카운트 2\n",
    "        # a[1] 이 다른 값을 참조해도 minimum 은 최소값을 참조한 상태이다(헷갈리지 말 것!!!!)\n",
    "        minimum = a[1] \n",
    "        self.a[1], self.a[-1] = self.a[-1], self.a[1] # 최소값과 최대값을 스위칭\n",
    "        del self.a[-1] # 스위칭 된 최소값을 삭제\n",
    "        self.N -= 1 # 삭제했으니 항목 수도 -1\n",
    "        self.downheap(1)\n",
    "        return minimum\n",
    "    \n",
    "    def downheap(self, i):\n",
    "        while 2 * i <= self.N:\n",
    "            k = 2 * i\n",
    "            # k 인덱스가 크다면 k+1 인덱스가 최소값으로 지정되어야 함\n",
    "            if k < self.N and self.a[k][0] > self.a[k+1][0]:\n",
    "                k += 1\n",
    "            if self.a[i][0] < self.a[k][0]:\n",
    "                break\n",
    "            self.a[i], self.a[k] = self.a[k], self.a[i]\n",
    "            i = k\n",
    "            \n",
    "    def upheap(self, j): # 힙 올라가며 힙속성 회복\n",
    "        # j 는 항목수(리스트의 개수)\n",
    "        while j > 1 and self.a[j//2][0] > self.a[j][0]:\n",
    "            # 부모노드와 자식노드를 교환\n",
    "            self.a[j], self.a[j//2] = self.a[j//2], self.a[j]\n",
    "            j = j//2 # 노드가 한 층 올라감\n",
    "            \n",
    "    def print_heap(self):\n",
    "        for i in range(1, self.N+1):\n",
    "            print('[%2d' % self.a[i][0], self.a[i][1], ']', end='')\n",
    "        print('\\n힙 크기 = ', self.N)\n",
    "                "
   ]
  },
  {
   "cell_type": "code",
   "execution_count": 25,
   "metadata": {},
   "outputs": [
    {
     "name": "stdout",
     "output_type": "stream",
     "text": [
      "힙 만들기 전:\n",
      "[90 watermelon ][80 pear ][70 melon ][60 lime ][50 mango ][40 cherry ][30 grape ][20 orange ][10 apricot ][15 banana ][45 lemon ][40 kiwi ]\n",
      "힙 크기 =  12\n",
      "최소힙:\n",
      "[10 apricot ][15 banana ][30 grape ][20 orange ][45 lemon ][40 kiwi ][70 melon ][80 pear ][60 lime ][50 mango ][90 watermelon ][40 cherry ]\n",
      "힙 크기 =  12\n",
      "최솟값 삭제 후\n",
      "[10, 'apricot']\n",
      "[15 banana ][20 orange ][30 grape ][40 cherry ][45 lemon ][40 kiwi ][70 melon ][80 pear ][60 lime ][50 mango ][90 watermelon ]\n",
      "힙 크기 =  11\n",
      "5 삽입 후\n",
      "[ 5 apple ][20 orange ][15 banana ][40 cherry ][45 lemon ][30 grape ][70 melon ][80 pear ][60 lime ][50 mango ][90 watermelon ][40 kiwi ]\n",
      "힙 크기 =  12\n"
     ]
    }
   ],
   "source": [
    "a = [None] * 1\n",
    "a.append([90, 'watermelon'])\n",
    "a.append([80, 'pear'])\n",
    "a.append([70, 'melon'])\n",
    "a.append([60, 'lime'])\n",
    "a.append([50, 'mango'])\n",
    "a.append([40, 'cherry'])\n",
    "a.append([30, 'grape'])\n",
    "a.append([20, 'orange'])\n",
    "a.append([10, 'apricot'])\n",
    "a.append([15, 'banana'])\n",
    "a.append([45, 'lemon'])\n",
    "a.append([40, 'kiwi'])\n",
    "b = BHeap(a)\n",
    "print('힙 만들기 전:')\n",
    "b.print_heap()\n",
    "b.create_heap()\n",
    "print('최소힙:')\n",
    "b.print_heap()\n",
    "print('최솟값 삭제 후')\n",
    "print(b.delete_min())\n",
    "b.print_heap()\n",
    "b.insert([5,'apple'])\n",
    "print('5 삽입 후')\n",
    "b.print_heap()"
   ]
  },
  {
   "cell_type": "markdown",
   "metadata": {},
   "source": [
    "\n",
    "\n"
   ]
  },
  {
   "cell_type": "markdown",
   "metadata": {},
   "source": [
    "#### \\# 2 차원 리스트"
   ]
  },
  {
   "cell_type": "code",
   "execution_count": 26,
   "metadata": {},
   "outputs": [],
   "source": [
    "fruit = [[10, 'apple'], [20, 'banana'], [30, 'kiwi', 'steve']]"
   ]
  },
  {
   "cell_type": "code",
   "execution_count": 27,
   "metadata": {},
   "outputs": [
    {
     "data": {
      "text/plain": [
       "[[10, 'apple'], [20, 'banana'], [30, 'kiwi', 'steve']]"
      ]
     },
     "execution_count": 27,
     "metadata": {},
     "output_type": "execute_result"
    }
   ],
   "source": [
    "fruit"
   ]
  },
  {
   "cell_type": "code",
   "execution_count": 28,
   "metadata": {},
   "outputs": [],
   "source": [
    "a = 2"
   ]
  },
  {
   "cell_type": "code",
   "execution_count": 29,
   "metadata": {},
   "outputs": [
    {
     "data": {
      "text/plain": [
       "30"
      ]
     },
     "execution_count": 29,
     "metadata": {},
     "output_type": "execute_result"
    }
   ],
   "source": [
    "fruit[a*1][0]"
   ]
  },
  {
   "cell_type": "code",
   "execution_count": 30,
   "metadata": {},
   "outputs": [
    {
     "data": {
      "text/plain": [
       "'kiwi'"
      ]
     },
     "execution_count": 30,
     "metadata": {},
     "output_type": "execute_result"
    }
   ],
   "source": [
    "fruit[a*1][1]"
   ]
  },
  {
   "cell_type": "code",
   "execution_count": 31,
   "metadata": {},
   "outputs": [
    {
     "data": {
      "text/plain": [
       "'steve'"
      ]
     },
     "execution_count": 31,
     "metadata": {},
     "output_type": "execute_result"
    }
   ],
   "source": [
    "fruit[a*1][2] # 세번째 리스트에만 3개의 리스트값을 가지고 있어도 출력된다. 물론 다른 fruit 리스트들을 출력하면 에러 발생"
   ]
  },
  {
   "cell_type": "code",
   "execution_count": null,
   "metadata": {},
   "outputs": [],
   "source": []
  },
  {
   "cell_type": "markdown",
   "metadata": {},
   "source": [
    "### \\# 이진탐색"
   ]
  },
  {
   "cell_type": "code",
   "execution_count": 32,
   "metadata": {},
   "outputs": [],
   "source": [
    "def binary_search(left, right, t):\n",
    "    if left > right:\n",
    "        return None # 탐색 실패(즉, t가 리스트에 없음)\n",
    "    mid = (left + right) // 2 # 리스트에서 탐색할 부분의 중간 항목의 인덱스 계산\n",
    "    if a[mid] == t:\n",
    "        return mid # 탐색 성공\n",
    "    if a[mid] > t:\n",
    "        binary_search(left, mid-1, t) # 앞부분 탐색\n",
    "    else:\n",
    "        binary_search(mid+1, right, t) #뒷부분 탐색"
   ]
  },
  {
   "cell_type": "markdown",
   "metadata": {},
   "source": [
    "\\# **1차원 구조로 되어있고, mid 를 잡고 그 인덱스를 기준으로 반으로 자르고 비교를 해나가는 구조**\n",
    "\n",
    "\\# **각 노드는 바로 양옆에만 참조하고 있기 때문에 운이 없을 경우에는 많은 시간이 소요된다**\n",
    "\n",
    "\n",
    "1. 기본 전제는 a 리스트의 N 개 값들은 정렬이 되어있다.\n",
    "2. mid 로 범위를 좁여나간다\n",
    "3. 최악의 경우에는 리스트에 거의 대부분을 검색하여 return mid 가 된다.\n",
    "    - 삽입과 삭제가 빈번하면 정렬을 유지하기 위해 시간이 오래 걸린다.\n",
    "    - O(N): 선형시간(3번째)\n",
    "    \n",
    "    \n",
    "\n",
    "[!TIP]\n",
    "- binary_search(인덱스 첫번째, 인덱스 마지막, 원하는 검색값)\n",
    "- binary_esarch(mid, 인덱스 마지막, 원하는 검색값)\n",
    "- mid 를 +- 하면서 최종적으로는 binary_search(10, 10, 66) # 2개의 범위를 일치\n",
    "- 조건에 만족하지 않으면 재귀함수로 호출하여 범위를 좁혀 나가는 것 또한 잊지말자."
   ]
  },
  {
   "cell_type": "code",
   "execution_count": null,
   "metadata": {},
   "outputs": [],
   "source": []
  },
  {
   "cell_type": "markdown",
   "metadata": {},
   "source": [
    "### \\# 이진탐색트리"
   ]
  },
  {
   "cell_type": "markdown",
   "metadata": {},
   "source": [
    "**이진탐색을 트리구조로 변형시킨 자료구조**"
   ]
  },
  {
   "cell_type": "markdown",
   "metadata": {},
   "source": [
    "- 이진탐색트리의 특징 중의 하나는 트리를 중위순회(왼쪽, 노드방문, 오른쪽)을 수행하면 정렬된 출력을 얻는다는 것\n",
    "\n",
    "\n",
    "- `이진탐색트리 조건`\n",
    "\n",
    "    - 각 노드 n의 키값이 n의 왼쪽 서브트리에 있는 노드들의 키값들보다 크고, n의 오른쪽 서브트리에 있는 노드들의 키값들보다 작다.\n",
    "\n",
    "\n",
    "- __부모 노드 기준으로 왼쪽은 모두 부모노드의 값보다 작아야 한다.__ 그렇지않으면 이진탐색 트리가 아니므로 주의\n",
    "\n",
    "    - **노드 값의 크기**\n",
    "\n",
    "        - n2 < n1 < n3"
   ]
  },
  {
   "cell_type": "code",
   "execution_count": 33,
   "metadata": {},
   "outputs": [],
   "source": [
    "class Node:\n",
    "    def __init__(self, key, value, left=None, right=None): # 노드 생성자\n",
    "        self.key   = key\n",
    "        self.value = value \n",
    "        self.left  = left \n",
    "        self.right = right \n",
    "\n",
    "class BST:           \n",
    "    def __init__(self): # 트리 생성자\n",
    "        self.root = None \n",
    "\n",
    "    def get(self, k): # 탐색 연산\n",
    "        return self.get_item(self.root, k)\n",
    "    \n",
    "    def get_item(self, n, k):\n",
    "        if n == None:\n",
    "            return None # key를 발견 못함\n",
    "        if n.key > k: # 왼쪽 서브트리 탐색\n",
    "            return self.get_item(n.left, k)\n",
    "        elif n.key < k: # 오른쪽 서브트리 탐색 \n",
    "            return self.get_item(n.right, k) \n",
    "        else:\n",
    "            return n.value # key를 가진 노드 발견\n",
    "\n",
    "    def put(self, key, value): # 삽입 연산\n",
    "        self.root = self.put_item(self.root, key, value)\n",
    "        \n",
    "    def put_item(self, n, key, value):\n",
    "        if n == None:\n",
    "            return Node(key, value) \n",
    "        if n.key > key: # 왼쪽 서브트리에 삽입\n",
    "            n.left = self.put_item(n.left, key, value)\n",
    "        elif n.key < key: # 오른쪽 서브트리에 삽입\n",
    "            n.right = self.put_item(n.right, key, value) \n",
    "        else: # 노드 n의 value 갱신\n",
    "            n.vlaue = value\n",
    "        return n\n",
    "\n",
    "    def delete_min(self): # 최솟값 삭제\n",
    "        if self.root == None:\n",
    "            print('트리가 비어 있음')\n",
    "        self.root = self.del_min(self.root)\n",
    "        \n",
    "    def del_min(self, n):\n",
    "        if n.left == None:\n",
    "            return n.right  # n의 오른쪽자식 리턴\n",
    "        n.left = self.del_min(n.left) # n의 왼쪽자식으로 재귀호출\n",
    "        return n\n",
    "\n",
    "    def delete(self, k): # 삭제 연산\n",
    "        self.root = self.del_node(self.root, k)\n",
    "         \n",
    "    def del_node(self, n, k):\n",
    "        if n == None:\n",
    "            return None\n",
    "        if n.key > k: # 왼쪽자식으로 이동\n",
    "            n.left = self.del_node(n.left, k)   \n",
    "        elif n.key < k: # 오른쪽자식으로 이동\n",
    "            n.right = self.del_node(n.right, k) \n",
    "        else: # 삭제할 노드 발견\n",
    "            if n.right == None: # case 0, 1\n",
    "                return n.left   \n",
    "            if n.left == None:  # case 1\n",
    "                return n.right \n",
    "            target = n          # case 2, Line 66-69          \n",
    "            n = self.minimum(target.right) # 중위 후속자를 찾아서 n이 참조하게 함\n",
    "            n.right = self.del_min(target.right)\n",
    "            n.left  = target.left\n",
    "        return n\n",
    "    \n",
    "    def min(self): # 최솟값 가진 노드 찾기\n",
    "        if self.root == None:\n",
    "            return None\n",
    "        return self.minimum(self.root)\n",
    "    \n",
    "    def minimum(self, n):\n",
    "        if n.left == None:\n",
    "            return n\n",
    "        return self.minimum(n.left)\n",
    "    \n",
    "    def preorder(self, n): # 전위순회\n",
    "        if n != None:\n",
    "            print(str(n.key),' ', end='')\n",
    "            if n.left:\n",
    "                self.preorder(n.left)\n",
    "            if n.right:\n",
    "                self.preorder(n.right)\n",
    " \n",
    "    def inorder(self, n): # 중위순회\n",
    "        if n != None:\n",
    "            if n.left:\n",
    "                self.inorder(n.left)\n",
    "            print(str(n.key),' ', end='')\n",
    "            if n.right:\n",
    "                self.inorder(n.right)\n",
    "\n",
    "    def postorder(self, n): # 후위순회\n",
    "        if n != None:\n",
    "            if n.left:\n",
    "                self.postorder(n.left)\n",
    "            if n.right:\n",
    "                self.postorder(n.right)\n",
    "            print(str(n.key),' ', end='')\n",
    "              \n",
    "    def levelorder(self, root): # 레벨순회\n",
    "        q = []\n",
    "        q.append(root)\n",
    "        while len(q) != 0:  \n",
    "            t = q.pop(0) \n",
    "            print(str(t.key), ' ', end='')\n",
    "            if t.left != None: \n",
    "                q.append(t.left)  \n",
    "            if t.right != None: \n",
    "                q.append(t.right)"
   ]
  },
  {
   "cell_type": "code",
   "execution_count": 34,
   "metadata": {},
   "outputs": [
    {
     "name": "stdout",
     "output_type": "stream",
     "text": [
      "전위순회:\t500  200  100  50  10  150  400  250  350  600  800  700  \n",
      "중위순회:\t10  50  100  150  200  250  350  400  500  600  700  800  \n",
      "250:  kiwi\n",
      "200 삭제 후:\n",
      "전위순회:\t500  250  100  50  10  150  400  350  600  800  700  \n",
      "중위순회:\t10  50  100  150  250  350  400  500  600  700  800  "
     ]
    }
   ],
   "source": [
    "t = BST()\n",
    "t.put(500, 'apple')\n",
    "t.put(600, 'banana')\n",
    "t.put(200, 'melon')\n",
    "t.put(100, 'orange')\n",
    "t.put(400, 'lime')\n",
    "t.put(250, 'kiwi')\n",
    "t.put(150, 'grape')\n",
    "t.put(800, 'peach')\n",
    "t.put(700, 'cherry')\n",
    "t.put(50, 'pear')\n",
    "t.put(350, 'lemon')\n",
    "t.put(10, 'plum')\n",
    "print('전위순회:\\t', end='')\n",
    "t.preorder(t.root)\n",
    "print('\\n중위순회:\\t', end='')\n",
    "t.inorder(t.root)\n",
    "print('\\n250: ', t.get(250))\n",
    "t.delete(200)\n",
    "print('200 삭제 후:')\n",
    "print('전위순회:\\t', end='')\n",
    "t.preorder(t.root)\n",
    "print('\\n중위순회:\\t', end='')\n",
    "t.inorder(t.root)"
   ]
  },
  {
   "cell_type": "code",
   "execution_count": null,
   "metadata": {},
   "outputs": [],
   "source": []
  },
  {
   "cell_type": "code",
   "execution_count": null,
   "metadata": {},
   "outputs": [],
   "source": []
  },
  {
   "cell_type": "markdown",
   "metadata": {},
   "source": [
    "### \\# AVL 트리구조"
   ]
  },
  {
   "cell_type": "markdown",
   "metadata": {},
   "source": [
    "- AVL 트리는 한쪽으로 치우쳐 자라나는 현상에 대한 균형을 유지\n",
    "\n",
    "- AVL 트리는 임의의 노드 n 에 대해 n 의 왼쪽 서브트리의 높이와 오른쪽 서브트리의 높이 차이가 1을 넘지 않는 이진탐색트리\n",
    "\n",
    "- 균형을 잡는 방법은 총 4가지\n",
    "    - 오른쪽, 왼쪽, 오른쪽과 왼쪽, 왼쪽과 오른쪽처럼 재귀를 통해 값을 비교하여 노드를 재설정"
   ]
  },
  {
   "cell_type": "code",
   "execution_count": 35,
   "metadata": {},
   "outputs": [],
   "source": [
    "class Node:\n",
    "    def __init__(self, key, value, height, left=None, right=None):\n",
    "        self.key = key\n",
    "        self.value = value\n",
    "        self.height = height\n",
    "        self.left = left\n",
    "        self.right = right\n",
    "        \n",
    "class AVL:\n",
    "    def __init__(self):\n",
    "        self.root = None\n",
    "        \n",
    "    def height(self, n):\n",
    "        if n == None:\n",
    "            return 0\n",
    "        return n.height\n",
    "    \n",
    "    def put(self, key, value):\n",
    "        self.root = self.put_item(self.root, key, value)\n",
    "        \n",
    "    def put_item(self, n, key, value):\n",
    "        \"\"\"\n",
    "        노드가 없으면 새로 만들고 바로 리턴해주고\n",
    "        만약에 노드가 있다면 루트 노드를 시작으로 재귀함수로 n.left, n.right 로 계속 비교 연산\n",
    "        \"\"\"\n",
    "        # 노드가 없을 경우 노드 생성\n",
    "        if n == None:\n",
    "            return Node(key, value, 1)\n",
    "        # 존재하는 노드가 새로 들어오는 key 값보다 크다면\n",
    "        # 새로 들어오는 key 를 왼쪽으로 할당\n",
    "        if n.key > key:\n",
    "            n.left = self.put_item(n.left, key, value)\n",
    "        elif n.key < key:\n",
    "            n.right = self.put_item(n.right, key, value)\n",
    "        else:\n",
    "            # key 가 이미 트리에 있으므로 value 를 갱신시켜줌\n",
    "            n.value = value\n",
    "            return n\n",
    "        n.height= max(self.height(n.left), self.height(n.right)) + 1\n",
    "        # 노드 n 의 균형 점검 및 불균형을 바로 잡음\n",
    "        return self.balance(n)\n",
    "    \n",
    "    def balance(self, n):\n",
    "        if self.bf(n) > 1: # 노드 n의 왼쪽 서브트리가 높아서 불균형 발생\n",
    "            if self.bf(n.left) < 0: # 노드 n의 왼쪽 자식의 오른쪽 서브트리가 높은 경우\n",
    "                n.left = self.rotate_left(n.left) # LR-회전\n",
    "            n = self.rotate_right(n) # LL-회전\n",
    "            \n",
    "        elif self.bf(n) < -1: # 노드 n의 오른쪽 서브트리가 높아서 불균형 발생\n",
    "            if self.bf(n.right) > 0: # 노드 n의 오른쪽 자식의 왼쪽 서브트리가 높은 경우\n",
    "                n.right = self.rotate_right(n.right) # RL-회전\n",
    "            n = self.rotate_left(n) # RR-회전\n",
    "        return n\n",
    "    \n",
    "    def bf(self, n):\n",
    "        return self.height(n.left) - self.height(n.right)\n",
    "    \n",
    "    def rotate_right(self, n): # 오른쪽으로 회전\n",
    "        x = n.left\n",
    "        n.left = x.right\n",
    "        x.right = n\n",
    "        # 높이 갱신\n",
    "        n.height = max(self.height(n.left), self.height(n.right)) + 1\n",
    "        # 높이 갱신\n",
    "        x.height = max(self.height(x.left), self.height(x.right)) + 1\n",
    "        # 회전 후 x 가 n 의 이전 자리로 이동되었으므로 x 를 리턴\n",
    "        return x\n",
    "    \n",
    "    def rotate_left(self, n): # 왼쪽으로 회전\n",
    "        x = n.right\n",
    "        n.right = x.left\n",
    "        x.right = n\n",
    "        n.height = max(self.height(n.left), self.height(n.right)) + 1\n",
    "        n.height = max(self.height(x.left), self.height(x.right)) + 1\n",
    "        return x\n",
    "    \n",
    "    def delete(self, key):\n",
    "        self.root = self.delete_node(self.root, key)\n",
    "        \n",
    "    def delete_node(self, n, key):\n",
    "        if n == None:\n",
    "            return None\n",
    "        # 왼쪽 자식으로 이동\n",
    "        if n.key > key:\n",
    "            n.left = self.delete_node(n.left, key)\n",
    "        # 오른쪽 자식으로 이동\n",
    "        elif n.key < key:\n",
    "            n.right = self.delete_node(n.right, key)\n",
    "        else: # 삭제할 노드 발견\n",
    "            if n.right == None:\n",
    "                return n.left\n",
    "            if n.left == None:\n",
    "                return n.right\n",
    "            target = n\n",
    "            # 중위 후속자를 찾아서 n 이 참조하게 함\n",
    "            n = self.minimum(target.right)\n",
    "            n.right = self.del_min(target.right)\n",
    "            n.left = target.left\n",
    "        n.height = max(self.height(n.left), self.height(n.right)) + 1\n",
    "        return self.balance(n)\n",
    "    \n",
    "    def delete_min(self):\n",
    "        if self.root == None:\n",
    "            print('트리가 비어있음')\n",
    "        self.root = self.del_min(n.left)\n",
    "        \n",
    "    def del_min(self, n):\n",
    "        # 최소값인 n.left 가 비어있으면 n.right 를 반환\n",
    "        if n.left == None:\n",
    "            return n.right\n",
    "        n.left = self.del_min(n.left)\n",
    "        n.height = max(self.height(n.left), self.height(n.right)) + 1\n",
    "        return self.balance(n)\n",
    "    \n",
    "    def min(self):\n",
    "        # 노드가 자체가 없으므로 None 을 반환\n",
    "        if self.root == None:\n",
    "            return None\n",
    "        # 그게 아닐 경우에는 minimum 메서드 실행\n",
    "        return self.minmum(self.root)\n",
    "        \n",
    "    def minimum(self, n):\n",
    "        if n.left == None:\n",
    "            return n\n",
    "        return self.minimum(n.left)\n",
    "    \n",
    "    def preorder(self, n):\n",
    "        print(str(n.key), ' ', end='')\n",
    "        if n.left:\n",
    "            self.preorder(n.left)\n",
    "        if n.right:\n",
    "            self.preorder(n.right)\n",
    "            \n",
    "    def inorder(self, n):\n",
    "        if n.left:\n",
    "            self.inorder(n.left)\n",
    "        print(str(n.key), ' ', end='')\n",
    "        if n.right:\n",
    "            self.inorder(n.right)"
   ]
  },
  {
   "cell_type": "code",
   "execution_count": 36,
   "metadata": {},
   "outputs": [
    {
     "name": "stdout",
     "output_type": "stream",
     "text": [
      "전위순회:\t20  10  40  80  10  40  75  90  \n",
      "중위순회:\t10  40  20  10  40  80  75  90  \n",
      "75와 85 삭제 후:\n",
      "전위순회:\t20  10  40  80  10  40  75  90  \n",
      "중위순회:\t10  40  20  10  40  80  75  90  "
     ]
    }
   ],
   "source": [
    "t = AVL()\n",
    "t.put(75, 'apple')\n",
    "t.put(80, 'grape')\n",
    "t.put(85, 'lime')\n",
    "t.put(20, 'mango')\n",
    "t.put(10, 'strawberry')\n",
    "t.put(50, 'banana')\n",
    "t.put(30, 'cherry')\n",
    "t.put(40, 'watermelon')\n",
    "t.put(70, 'melon')\n",
    "t.put(90, 'plum')\n",
    "print('전위순회:\\t', end='')\n",
    "t.preorder(t.root)\n",
    "print('\\n중위순회:\\t', end='')\n",
    "t.inorder(t.root)\n",
    "print('\\n75와 85 삭제 후:')\n",
    "t.delete(75)\n",
    "t.delete(85)\n",
    "print('전위순회:\\t', end='')\n",
    "t.preorder(t.root)\n",
    "print('\\n중위순회:\\t', end='')\n",
    "t.inorder(t.root)"
   ]
  },
  {
   "cell_type": "code",
   "execution_count": null,
   "metadata": {},
   "outputs": [],
   "source": []
  },
  {
   "cell_type": "markdown",
   "metadata": {},
   "source": [
    "- AVL 트리는 삽입이나 삭제 시 트리의 균형을 유지하여 O(logN) 시간을 보장\n",
    "\n",
    "\n",
    "**2-3 트리**\n",
    "\n",
    "\n",
    "- 2-3 트리는 내부노드의 차수가 2 또는 3인 균형탐색트리\n",
    "    - 2-노드는 자식이 2개, 3-노드는 자식이 3개\n",
    "    - 2-3 트리는 이파리노드들이 동일한 층에 있어야 하므로 트리가 위로 자라거나 낮아짐\n",
    "    \n",
    "    \n",
    "**레드블랙트리**\n",
    "\n",
    "\n",
    "- 노드에 빨간색 또는 기본(검정색)을 인스턴스에 부여해서 만드는 트리\n",
    "    - 색을 부여해서 얻게 되는 장점은 잘 모르겠음..\n",
    "    \n",
    "    \n",
    "**B-트리**\n",
    "\n",
    "- Balanced Tree\n",
    "    - 이진트리의 확장판\n",
    "    - 항상 O(logN)의 검색 성능을 보장\n",
    "    - 주로 데이터베이스의 기본 자료구조\n",
    "        - 운전 면허 소지자, 납세자 등 수많은 데이터의 자료구조로 활용\n",
    "    - 트리구조와 이진탐색의 호환 버전으로 생각\n",
    "    - B*-트리, B+-트리가 있는데 이 트리들은 B-트리의 개선 버전\n",
    "\n",
    "- 이진트리구조처럼 1개의 노드가 2개의 자식 노드를 가지는 것이 아니고, 각 내부노드의 자식 수는 [M/2] 이상 M 이하를 가진다.\n",
    "    - 즉, 트리의 레벨이 깊어질수록 연산 처리가 오래 걸리는데 부모가 많은 자식을 가져서 그 깊이를 최소로 해준다.\n",
    "    \n",
    "    \n",
    "- 삭제 연산을 수행\n",
    "    - 이파리 삭제 후 underflow 발생\n",
    "    - 형제노드에 요청해서 조건에 맞는 노드가 넘어감\n",
    "    - 형제 노드가 underflow 가 발생된다면 부모노드가 도와줌\n",
    "    - 만약 부모노드가 underflow 가 발생된다면 그 부모노드가 도와줌\n",
    "    - 이렇게 계속 흘러가서 만약에 루트노드까지 도달한다면 루트노드가 자기 자식노드와 통합되어 루트 노드를 생성\n",
    "        - 루트 노드는 2개 이상의 노드를 가지게 되는 상태"
   ]
  },
  {
   "cell_type": "markdown",
   "metadata": {},
   "source": [
    "\n"
   ]
  },
  {
   "cell_type": "markdown",
   "metadata": {},
   "source": [
    "## 요약\n",
    "\n",
    "***"
   ]
  },
  {
   "cell_type": "markdown",
   "metadata": {},
   "source": [
    "### 이진탐색\n",
    "\n",
    "- 1차원 리스트에 데이터가 정렬되어 있을 때 주어진 데이터를 효율적으로 찾는 알고리즘\n",
    "\n",
    "- 최악의 경우 O(N) 시간이 소요\n",
    "\n",
    "**이진탐색**\n",
    "\n",
    "1. binary_search(left, right, t) 함수와 같이 전체 길이를 설정하고 mid = left+right 를 더한 값 // 2\n",
    "\n",
    "2. 이 mid 의 값보다 t 가 크면 오른쪽, 작으면 왼쪽으로 재귀함수로 호출하며 mid=t 가 같을 때 return mid\n",
    "\n",
    "### 이진탐색트리\n",
    "\n",
    "- 이진탐색트리는 이진탐색을 수행하기 위해 단순연결리스트를 변형시킨 자료구조\n",
    "\n",
    "- 노드를 기준으로 작으면 왼쪽 서브트리에 크면 오른쪽 서브트리에 값이 있음\n",
    "\n",
    "- 이진탐색트리의 삭제는 삭제할 노드가 자식이 없는 경우, 하나인 경우, 둘인 경우로 나누어짐\n",
    "\n",
    "\n",
    "### AVL 트리\n",
    "\n",
    "- 임의의 노드 n 에 대해 노드 n의 왼쪽 서브트리 높이와 오른쪽 서브트리의 높이가 1을 넘지않는 이진탐색트리\n",
    "\n",
    "- 트리가 한쪽으로 치우쳐 자란다면 LL, LR, RR, RL 회전으로 균형을 맞춤\n",
    "\n",
    "- AVL 트리의 탐색, 삽입, 삭제 연산의 수행시간은 각각 O(logN)\n",
    "\n",
    "### 2-3 트리\n",
    "\n",
    "- 내부노드의 차수가 2 또는 3인 완전 균형탐색트리(부모 하나에 자식 노드가 최대 3개)\n",
    "\n",
    "### 2-3-4 트리\n",
    "\n",
    "- 2-3 트리를 확장한 트리로 4-노드까지 허용\n",
    "\n",
    "- 차수가 적을수록 탐색하는데 걸리는 소요시간이 적게 걸린다는 장점이 있음\n",
    "\n",
    "### 레드블랙트리\n",
    "\n",
    "- 노드의 색을 이용하여 트리의 균형을 유지하며, 탐색, 삽입, 삭제 연산의 수행시간이 각각 O(logN)을 넘지 않는 효율적인 자료구조\n",
    "\n",
    "### B-트리\n",
    "\n",
    "- 다수의 키를 가진 노드로 구성되어 다방향 탐색이 가능한 완전 균형트리\n",
    "\n",
    "- 부모도 자식도 노드를 여러개 가지고 있는 구조로 복잡하지만 가장 효율적인 자료구조 형태를 가지고 있다."
   ]
  },
  {
   "cell_type": "markdown",
   "metadata": {},
   "source": [
    "\n",
    "\n"
   ]
  },
  {
   "cell_type": "markdown",
   "metadata": {},
   "source": [
    "# 해시테이블\n",
    "\n",
    "***"
   ]
  },
  {
   "cell_type": "markdown",
   "metadata": {},
   "source": [
    "이진탐색트리의 성능을 개선한 AVL 트리와 레드블랙트리에 대해 살펴보았다.\n",
    "\n",
    "**이 자료구조들의 삽입과 삭제 연산의 수행시간은 각각 O(logN)이다.**\n",
    "\n",
    "그렇다면 O(logN) 보다 좋은 성능을 가지는 자료구조는 없을까? - **해시테이블** - O(1)\n",
    "\n",
    "\n",
    "**해시값을 굳이 뽑아내는 이유는?**\n",
    "\n",
    "- 원래 key, 즉 리스트의 index 로 1차원 리스트를 만들면 메모리 낭비가 심해진다.\n",
    "    - i.keys() = 3, 12,.... 89 >> self.M = 90 개의 index 공간이 생기는데 실제값은 그보다 현저히 적음\n",
    "        - 그렇기 때문에 self.M 보다 작게 해시값을 만들어서 리스트에 저장하는 것이 효율적이다.\n",
    "        \n",
    "**무한에 가까운 데이터(키)를 해시값을 통해 정해진 값 안에서 정렬시키기 위해 해시테이블을 사용한다**"
   ]
  },
  {
   "cell_type": "markdown",
   "metadata": {},
   "source": [
    "해시테이블 - O(logN) 시간보다 빠른 연산을 위해 키와 1차원 리스트의 인덱스와의 관계를 이용하여 키(항목)을 저장"
   ]
  },
  {
   "cell_type": "markdown",
   "metadata": {},
   "source": [
    "**해싱**\n",
    "\n",
    "키를 간단한 함수를 사용해 변환한 값을 리스트의 인덱스로 이용하여 항목을 저장하는 것\n",
    "\n",
    "***\n",
    "\n",
    "**해시함수**\n",
    "\n",
    "해싱에 사용되는 함수\n",
    "\n",
    "***\n",
    "\n",
    "**해시값 또는 해시주소**\n",
    "\n",
    "해시함수가 계산한 값\n",
    "\n",
    "***\n",
    "\n",
    "**해시테이블**\n",
    "\n",
    "항목이 해시값에 따라 저장되는 1차원 리스트\n",
    "\n",
    "***\n",
    "\n",
    "**한줄정리**\n",
    "\n",
    "해시함수로 계산한 해시값을 해싱이라는 행위를 통해 해시테이블에 저장\n",
    "\n",
    "key % 총 인덱스의 크기(리스트의 길이) 로 해시값을 뽑아내고, 이 해시값이 해시테이블에 이미 존재했을 경우에는 다음 인덱스로 +1 시켜서 해시테이블에 저장\n",
    "\n",
    "\n",
    "***\n",
    "\n",
    "**조사 방식**\n",
    "\n",
    "> **개방주소방식**\n",
    "\n",
    "(그 자리에 값이 없으면 넣고, 아니면 다시 계산해서 다른 위치에 저장 // 리스트에서 한 인덱스 당 하나의 값만 저장)\n",
    "\n",
    "우선 해시값이 뽑히면 그 해시값(인덱스)를 확인, 그 자리에 이미 다른 값이 존재하면 다시 계산하여 해시테이블의 다른 인덱스에 저장\n",
    "\n",
    "> **폐쇄주소방식**\n",
    "\n",
    "해시값이 뽑히고 그 자리에 이미 해시값이 있어도 그 인덱스에 저장\n",
    "\n",
    "\n",
    "- 선형 조사\n",
    "\n",
    "- 이차 조사\n",
    "\n",
    "- 랜덤 조사\n",
    "\n",
    "- 이중 해싱\n",
    "\n"
   ]
  },
  {
   "cell_type": "markdown",
   "metadata": {},
   "source": [
    "## 선형 조사\n",
    "\n",
    "***\n",
    "\n",
    "- 충돌이 나면 바로 다음 원소를 검사\n"
   ]
  },
  {
   "cell_type": "markdown",
   "metadata": {},
   "source": [
    "\n"
   ]
  },
  {
   "cell_type": "code",
   "execution_count": 37,
   "metadata": {},
   "outputs": [],
   "source": [
    "## 책에 있는 프로그램은 예상한 값이 나오지 않는다...시간날 때 디버깅 해보기\n",
    "\n",
    "# class LinearProbing:\n",
    "#     def __init__(self, size):\n",
    "#         self.M = size # 테이블 크기\n",
    "#         self.a = [None for x in range(size+1)] # 해시테이블\n",
    "#         self.d = [None for x in range(size+1)] # key 관련 데이터 저장\n",
    "\n",
    "#     def hash(self, key):\n",
    "#         return self.M % key # 해시테이블의 핵심 메서드\n",
    "    \n",
    "#     def put(self, key, data): # 삽입 연산\n",
    "#         initial_position = self.hash(key)\n",
    "#         i = initial_position\n",
    "#         j = 0\n",
    "#         while True:\n",
    "#             if self.a[i] == None:\n",
    "#                 self.a[i] = key # 삽입할 때는 실제 key 값을 저장(해시값이 아님)\n",
    "#                 self.d[i] = data\n",
    "#                 return # 아무것도 할 필요가 없기 때문에 return 에는 None 도 필요치 않음\n",
    "#             if self.a[i] == key: # 이미 해당 해시테이블의 인덱스에 key 가 존재한다면\n",
    "#                 self.d[i] = data\n",
    "#                 return\n",
    "#             j += 1 # 이미 해시테이블에 해시값이 있으므로 다음 인덱스로 이동\n",
    "#             i = (initial_position + j) % self.M\n",
    "#             if i == initial_position:\n",
    "#                 break\n",
    "                \n",
    "    \n",
    "#     def get(self, key): # 탐색 연산\n",
    "#         initial_position = self.hash(key)\n",
    "#         i = initial_position\n",
    "#         j = 1\n",
    "#         while self.a[i] != None:\n",
    "#             if self.a[i] == key:\n",
    "#                 return self.d[i]\n",
    "#             i = (initial_position + j) % self.M\n",
    "#             j += 1\n",
    "#             if i == initial_position:\n",
    "#                 return None\n",
    "#         return None\n",
    "    \n",
    "#     def print_table(self):\n",
    "#         for i in range(self.M):\n",
    "#             print('{:4}'.format(str(i)), ' ', end='')\n",
    "#         print()\n",
    "#         for i in range(self.M):\n",
    "#             print('{:4}'.format(str(self.a[i])), ' ', end='')\n",
    "#         print()"
   ]
  },
  {
   "cell_type": "code",
   "execution_count": 38,
   "metadata": {},
   "outputs": [],
   "source": [
    "class LinearProbing: \n",
    "    def __init__(self, size): # 생성자\n",
    "        self.M = size\n",
    "        self.a = [None for x in range(size+1)]  # 해시테이블\n",
    "        self.d = [None for x in range(size+1)]  # key관련 데이터 저장\n",
    "\n",
    "    def hash(self, key):\n",
    "        return key % self.M  # 나눗셈 함수\n",
    "    \n",
    "    def put(self, key, data): # 삽입 연산\n",
    "        initial_position = self.hash(key) # 초기 위치 \n",
    "        i = initial_position\n",
    "        j = 0\n",
    "        while True:  \n",
    "            if self.a[i] == None or self.a[i] == '$': # 삽입 위치 발견\n",
    "                self.a[i] = key   # key를 해시테이블에 저장\n",
    "                self.d[i] = data  # key관련 데이터 저장 \n",
    "                return           \n",
    "            if self.a[i] == key:  # 이미 key 존재하면\n",
    "                self.d[i] = data  # 데이터만 갱신\n",
    "                return  \n",
    "            j += 1                      \n",
    "            i = (initial_position + j) % self.M # i의 다음 위치  \n",
    "            if i == initial_position: # i가 초기위치와 같으면 루프 종료\n",
    "                break         \n",
    "           \n",
    "    def get(self, key): # 탐색 연산\n",
    "        initial_position = self.hash(key)\n",
    "        i = initial_position\n",
    "        j = 1\n",
    "        while self.a[i] != None: # a[i]가 empty가 아니면\n",
    "            if self.a[i] == key:\n",
    "                return self.d[i] # 탐색 성공\n",
    "            i = (initial_position + j) % self.M  # i의 다음 위치\n",
    "            j += 1\n",
    "            if i == initial_position: # i가 초기위치와 같으면 루프 종료\n",
    "                return None # 탐색 실패                 \n",
    "        return None # 탐색 실패\n",
    "\n",
    "    def delete(self, key): # 삭제 연산\n",
    "        initial_position = self.hash(key)\n",
    "        i = initial_position\n",
    "        j = 1\n",
    "        while self.a[i] != None: # a[i]가 empty가 아니면\n",
    "            if self.a[i] == key:\n",
    "                self.a[i] = '$' \n",
    "                self.d[i] = None\n",
    "            i = (initial_position + j) % self.M  # i의 다음 위치\n",
    "            j += 1   \n",
    "            if i == initial_position: # i가 초기위치와 같으면 루프 종료\n",
    "                return None # 삭제 실패             \n",
    "        return None # 삭제 실패    \n",
    "\n",
    "    def print_table(self):\n",
    "        for i in range(self.M):\n",
    "            print('{:4}'.format(str(i)), ' ', end='')\n",
    "        print()\n",
    "        for i in range(self.M):\n",
    "            print('{:4}'.format(str(self.a[i])), ' ', end='')\n",
    "        print()"
   ]
  },
  {
   "cell_type": "code",
   "execution_count": 39,
   "metadata": {},
   "outputs": [
    {
     "name": "stdout",
     "output_type": "stream",
     "text": [
      "탐색 결과:\n",
      "50의 data =  orange\n",
      "63의 data =  watermelon\n",
      "해시테이블:\n",
      "0     1     2     3     4     5     6     7     8     9     10    11    12    \n",
      "50    63    None  55    None  18    None  None  None  22    35    37    25    \n",
      "0     1     2     3     4     5     6     7     8     9     10    11    12    \n",
      "$     63    None  55    None  18    None  None  None  22    35    37    25    \n",
      "63의 data =  watermelon\n",
      "0     1     2     3     4     5     6     7     8     9     10    11    12    \n",
      "9     63    None  55    None  18    None  None  None  22    35    37    25    \n"
     ]
    }
   ],
   "source": [
    "t = LinearProbing(13)\n",
    "t.put(25, 'grape') \n",
    "t.put(37, 'apple')    \n",
    "t.put(18, 'banana')\n",
    "t.put(55, 'cherry')\n",
    "t.put(22, 'mango')    \n",
    "t.put(35, 'lime')       \n",
    "t.put(50, 'orange')\n",
    "t.put(63, 'watermelon')\n",
    "print('탐색 결과:')\n",
    "print('50의 data = ', t.get(50))\n",
    "print('63의 data = ', t.get(63))\n",
    "print('해시테이블:')\n",
    "t.print_table() \n",
    "t.delete(50)\n",
    "t.print_table() \n",
    "print('63의 data = ', t.get(63))\n",
    "t.put(9, 'berry')\n",
    "t.print_table()"
   ]
  },
  {
   "cell_type": "markdown",
   "metadata": {},
   "source": [
    "**모든 key 값을 hash 값으로 변환하면 동일한 hash 값을 가진다.**"
   ]
  },
  {
   "cell_type": "code",
   "execution_count": 40,
   "metadata": {},
   "outputs": [],
   "source": [
    "table = [25, 37, 18, 55, 22, 35, 50, 63]\n",
    "\n",
    "def get_hash(length, table):\n",
    "    result = []\n",
    "    for i in range(len(table)):\n",
    "        sub = length % table[i]\n",
    "        result.append(sub)\n",
    "        print(table[i], ' ', end='')\n",
    "    print()\n",
    "    print(result, '', end='')"
   ]
  },
  {
   "cell_type": "code",
   "execution_count": 41,
   "metadata": {},
   "outputs": [
    {
     "name": "stdout",
     "output_type": "stream",
     "text": [
      "25  37  18  55  22  35  50  63  \n",
      "[13, 13, 13, 13, 13, 13, 13, 13] "
     ]
    }
   ],
   "source": [
    "get_hash(13, table)"
   ]
  },
  {
   "cell_type": "markdown",
   "metadata": {},
   "source": [
    "\n",
    "\n"
   ]
  },
  {
   "cell_type": "markdown",
   "metadata": {},
   "source": [
    "## 이차조사\n",
    "\n",
    "***"
   ]
  },
  {
   "cell_type": "markdown",
   "metadata": {},
   "source": [
    "- `해시테이블`은 **1차 군집화 현상**이 발생 \n",
    "    - 그래서 이를 해결하기 위해 `이차조사`로 충돌 해결방법을 제시함\n",
    "\n",
    "\n",
    "- **이차조사**는 __1차 군집화 현상은 피하지만 또 다른 군집화 현상(2차 군집화 현상)이 발생함__\n",
    "\n",
    "\n",
    "- 이차조사도 **해시함수(key % 사이즈)** 를 사용한다는 것을 기억할 것"
   ]
  },
  {
   "cell_type": "code",
   "execution_count": 42,
   "metadata": {},
   "outputs": [],
   "source": [
    "class QuadProbing:\n",
    "    def __init__(self, size):\n",
    "        self.M = size\n",
    "        self.a = [None for x in range(size+1)]  # 해시테이블\n",
    "        self.d = [None for x in range(size+1)]  # key관련 데이터 저장\n",
    "        self.N = 0\n",
    "        \n",
    "    def hash(self, key):\n",
    "        return key % self.M\n",
    "    \n",
    "    def put(self, key, data):\n",
    "        initial_position = self.hash(key)\n",
    "        i = initial_position\n",
    "        j = 0\n",
    "        while True:\n",
    "            if self.a[i] == None:\n",
    "                self.a[i] = key\n",
    "                self.d[i] = data\n",
    "                return\n",
    "            # 위의 조건문을 성립하면 a[i] 에 key 를 넣었기 때문에\n",
    "            # 해시테이블에는 해시값이 아닌 실제 key 값이 들어있으므로\n",
    "            # 인덱스 값이 아니라 key 값이 존재하는지 확인해야 하므로 a[i] == key\n",
    "            if self.a[i] == key:\n",
    "                self.d[i] = data\n",
    "                return\n",
    "            j += 1\n",
    "            i = (initial_position + j*j) % self.M\n",
    "            if self.N > self.M: # 저장된 항목 수가 테이블 크기보다 크면 [저장 실패]\n",
    "                break\n",
    "                \n",
    "    def get(self, key):\n",
    "        initial_position = self.hash(key)\n",
    "        i = initial_position\n",
    "        j = 1\n",
    "        while self.a[i] != None:\n",
    "            if self.a[i] == key:\n",
    "                return self.d[i]\n",
    "            i = (initial_position + j * j) % self.M\n",
    "            j += 1\n",
    "        return None\n",
    "    \n",
    "    def print_table(self):\n",
    "        for i in range(self.M):\n",
    "            print('{:4}'.format(str(i)), ' ', end='')\n",
    "        print()\n",
    "        for i in range(self.M):\n",
    "            print('{:4}'.format(str(self.a[i])), ' ', end='')\n",
    "        print()"
   ]
  },
  {
   "cell_type": "code",
   "execution_count": 43,
   "metadata": {},
   "outputs": [
    {
     "name": "stdout",
     "output_type": "stream",
     "text": [
      "탐색 결과:\n",
      "50의 data =  orange\n",
      "63의 data =  watermelon\n",
      "해시 테이블:\n",
      "0     1     2     3     4     5     6     7     8     9     10    11    12    \n",
      "None  None  50    55    None  18    None  63    None  22    35    37    25    \n"
     ]
    }
   ],
   "source": [
    "t = QuadProbing(13)\n",
    "t.put(25, 'grape')\n",
    "t.put(37, 'apple')\n",
    "t.put(18, 'banana')\n",
    "t.put(55, 'cherry')\n",
    "t.put(22, 'mango')\n",
    "t.put(35, 'lime')\n",
    "t.put(50, 'orange')\n",
    "t.put(63, 'watermelon')\n",
    "print('탐색 결과:')\n",
    "print('50의 data = ', t.get(50))\n",
    "print('63의 data = ', t.get(63))\n",
    "print('해시 테이블:')\n",
    "t.print_table()"
   ]
  },
  {
   "cell_type": "markdown",
   "metadata": {},
   "source": [
    "\n",
    "\n"
   ]
  },
  {
   "cell_type": "markdown",
   "metadata": {},
   "source": [
    "## 랜덤조사\n",
    "\n",
    "***\n",
    "\n",
    "- 충돌이 나면 일정한 규칙 없이 비어 있는 원소를 검사"
   ]
  },
  {
   "cell_type": "code",
   "execution_count": 44,
   "metadata": {},
   "outputs": [],
   "source": [
    "import random\n",
    "\n",
    "class RandProbing:\n",
    "    def __init__(self, size):\n",
    "        self.M = size\n",
    "        self.a = [None for x in range(size+1)]  # 해시테이블\n",
    "        self.d = [None for x in range(size+1)]  # key관련 데이터 저장\n",
    "        self.N = 0\n",
    "        \n",
    "    def hash(self, key):\n",
    "        return key % self.M\n",
    "    \n",
    "    def put(self, key, data):\n",
    "        initial_position = self.hash(key)\n",
    "        i = initial_position\n",
    "        random.seed(1000) # 1000 은 임의의 값으로 seed() 를 사용하여 랜덤 값을 고정\n",
    "        while True:\n",
    "            if self.a[i] == None:\n",
    "                self.a[i] = key\n",
    "                self.d[i] = data\n",
    "                self.N += 1\n",
    "                return\n",
    "            if self.a[i] == key: # 이미 key 가 존재하면\n",
    "                self.d[i] = data # 데이터만 갱신\n",
    "                return\n",
    "            j = random.randint(1, 99)\n",
    "            i = (initial_position + j) % self.M # i 의 다음 위치\n",
    "            if self.N > self.M: # 저장된 항목 수가 테이블 크기보다 크면 [저장 실패]\n",
    "                break\n",
    "                \n",
    "    def get(self, key):\n",
    "        initial_position = self.hash(key)\n",
    "        i = initial_position\n",
    "        random.seed(1000)\n",
    "        while self.a[i] != None:\n",
    "            if self.a[i] == key:\n",
    "                return self.d[i]\n",
    "            i = (initial_position + random.randint(1, 99)) % self.M\n",
    "        return None\n",
    "\n",
    "    def print_table(self):\n",
    "        for i in range(self.M):\n",
    "            print('{:4}'.format(str(i)), ' ', end='')\n",
    "        print()\n",
    "        for i in range(self.M):\n",
    "            print('{:4}'.format(str(self.a[i])), ' ', end='')\n",
    "        print()"
   ]
  },
  {
   "cell_type": "code",
   "execution_count": 45,
   "metadata": {},
   "outputs": [
    {
     "name": "stdout",
     "output_type": "stream",
     "text": [
      "탐색 결과:\n",
      "50의 data =  orange\n",
      "63의 data =  watermelon\n",
      "해시테이블:\n",
      "0     1     2     3     4     5     6     7     8     9     10    11    12    \n",
      "None  50    None  55    35    18    63    None  None  22    None  37    25    \n"
     ]
    }
   ],
   "source": [
    "t = RandProbing(13)\n",
    "t.put(25, 'grape') \n",
    "t.put(37, 'apple')    \n",
    "t.put(18, 'banana')\n",
    "t.put(55, 'cherry')\n",
    "t.put(22, 'mango')    \n",
    "t.put(35, 'lime')       \n",
    "t.put(50, 'orange')\n",
    "t.put(63, 'watermelon')\n",
    "print('탐색 결과:')\n",
    "print('50의 data = ', t.get(50))\n",
    "print('63의 data = ', t.get(63))\n",
    "print('해시테이블:')\n",
    "t.print_table()"
   ]
  },
  {
   "cell_type": "markdown",
   "metadata": {},
   "source": [
    "### random 함수에서 seed() 는 뭐지?"
   ]
  },
  {
   "cell_type": "code",
   "execution_count": 46,
   "metadata": {},
   "outputs": [
    {
     "name": "stdout",
     "output_type": "stream",
     "text": [
      "55\n",
      "86\n"
     ]
    }
   ],
   "source": [
    "import random\n",
    "\n",
    "# 의사 난수 생성(랜덤)에서 random.seed()를 지정할 경우\n",
    "# 랜덤값은 항상 고정되어 있다.\n",
    "# 아래와 같이 i, a 변수에 랜덤값을 할당했다면 그 값은 고정이 되어 재실행해도 같은 값이 출력된다.\n",
    "\n",
    "# 간단히 말해 random.seed() 를 설정하지 않으면 i 와 a 는 계~~~속 랜덤값으로 해당 변수에 값이 할당 됨\n",
    "random.seed(1000)\n",
    "\n",
    "i = random.randint(1, 99)\n",
    "print(i)\n",
    "a = random.randint(1, 99)\n",
    "print(a)"
   ]
  },
  {
   "cell_type": "markdown",
   "metadata": {},
   "source": [
    "\n"
   ]
  },
  {
   "cell_type": "markdown",
   "metadata": {},
   "source": [
    "## 이중해싱\n",
    "\n",
    "***\n",
    "\n",
    "- 충돌이 나면 다른 해시함수의 해시값을 이용하여 원소를 검사\n",
    "\n",
    "\n",
    "- 쉽게 생각하면 1차 충돌이 나면 j += 1 을 해서 다음 인덱스를 찾는다.\n",
    "    - **(해시값) + j(1씩 증가) * d값 인데, j * d 값의 간격이 꽤나 크다**\n",
    "        - ex) 9 + 1 * 7 % self.M(13) = 3\n",
    "        - ex) 9 + 2 * 7 % self.M(13) = 10"
   ]
  },
  {
   "cell_type": "markdown",
   "metadata": {},
   "source": [
    "![이중해싱](./image/double_hashing.jpeg)"
   ]
  },
  {
   "cell_type": "code",
   "execution_count": 47,
   "metadata": {},
   "outputs": [],
   "source": [
    "class DoubleHashing:   \n",
    "    def __init__(self, size):\n",
    "        self.M = size           \n",
    "        self.a = [None for x in range(size+1)]  # 해시테이블\n",
    "        self.d = [None for x in range(size+1)]  # key관련 데이터 저장\n",
    "        self.N = 0  # 항목 수\n",
    "        \n",
    "    def hash(self, key): # 나눗셈 함수\n",
    "        return key % self.M\n",
    "    \n",
    "    def put(self, key, data): # 삽입 연산\n",
    "        initial_position = self.hash(key) # 초기 위치 \n",
    "        i = initial_position\n",
    "        d = 7 - (key % 7) # 2번≳ 해시 함수\n",
    "        j = 0\n",
    "        while True:  \n",
    "            if self.a[i] == None: # 삽입 위치 발견\n",
    "                self.a[i] = key   # key를 해시테이블에 저장\n",
    "                self.d[i] = data  # key관련 데이터를 동일한 인덱스하에 저장 \n",
    "                self.N += 1\n",
    "                return           \n",
    "            if self.a[i] == key:  # 이미 key 존재하면\n",
    "                self.d[i] = data  # 데이터만 갱신\n",
    "                return  \n",
    "            j += 1                      \n",
    "            i = (initial_position + j*d) % self.M   # i의 다음 위치  \n",
    "            if self.N > self.M:   # 테이블이 full이면 \n",
    "                break         \n",
    "           \n",
    "    def get(self, key): # 탐색 연산\n",
    "        initial_position = self.hash(key)\n",
    "        i = initial_position\n",
    "        d = 7 - (key % 7) # 2번≳ 해시 함수\n",
    "        j = 0\n",
    "        while self.a[i] != None: # a[i]가 비어있지 않으면\n",
    "            if self.a[i] == key:\n",
    "                return self.d[i] # 탐색 성공\n",
    "            j += 1\n",
    "            i = (initial_position + j*d) % self.M  # i의 다음 위치                \n",
    "        return None # 탐색 실패\n",
    "    \n",
    "    def print_table(self):\n",
    "        for i in range(self.M):\n",
    "            print('{:4}'.format(str(i)), ' ', end='')\n",
    "        print()\n",
    "        for i in range(self.M):\n",
    "            print('{:4}'.format(str(self.a[i])), ' ', end='')\n",
    "        print()\n"
   ]
  },
  {
   "cell_type": "code",
   "execution_count": 48,
   "metadata": {},
   "outputs": [
    {
     "name": "stdout",
     "output_type": "stream",
     "text": [
      "탐색 결과:\n",
      "50의 data =  orange\n",
      "63의 data =  watermelon\n",
      "해시테이블:\n",
      "0     1     2     3     4     5     6     7     8     9     10    11    12    \n",
      "None  None  None  55    50    18    63    None  None  22    35    37    25    \n"
     ]
    }
   ],
   "source": [
    "t = DoubleHashing(13)\n",
    "t.put(25, 'grape') \n",
    "t.put(37, 'apple')    \n",
    "t.put(18, 'banana')\n",
    "t.put(55, 'cherry')\n",
    "t.put(22, 'mango')    \n",
    "t.put(35, 'lime')       \n",
    "t.put(50, 'orange')\n",
    "t.put(63, 'watermelon')\n",
    "print('탐색 결과:')\n",
    "print('50의 data = ', t.get(50))\n",
    "print('63의 data = ', t.get(63))\n",
    "print('해시테이블:')\n",
    "t.print_table() "
   ]
  },
  {
   "cell_type": "markdown",
   "metadata": {},
   "source": [
    "\n",
    "\n"
   ]
  },
  {
   "cell_type": "markdown",
   "metadata": {},
   "source": [
    "## 폐쇄주소방식\n",
    "\n",
    "***\n",
    "\n",
    "- 해시값이 나오면 그 인덱스에 저장\n",
    "\n",
    "\n",
    "- 폐쇄주소방식의 장점\n",
    "    1. 개방주소방식처럼 해시테이블의 empty 원소를 찾는 오버헤드가 없고\n",
    "    2. 어떠한 군집화 현상도 없으며\n",
    "    3. 구현이 간결하여 실제로 가장 많이 활용되는 해시방법이라고 함\n",
    "    \n",
    "    \n",
    "- 모든 해시테이블은 해시값을 기준으로 검색하여 연산 처리한다.(해시값으로 인덱스를 뽑아 저장했으니 당연한 개념이므로 까먹지 말자)"
   ]
  },
  {
   "cell_type": "code",
   "execution_count": 49,
   "metadata": {},
   "outputs": [],
   "source": [
    "class Chaning:\n",
    "    class Node:\n",
    "        def __init__(self, key, data, link):\n",
    "            self.key = key\n",
    "            self.data = data\n",
    "            self.next = link\n",
    "            \n",
    "    def __init__(self, size):\n",
    "        self.M = size\n",
    "        self.a = [None] * size\n",
    "        \n",
    "    def hash(self, key):\n",
    "        return key % self.M\n",
    "        \n",
    "    def put(self, key, data):\n",
    "        i = self.hash(key) # index\n",
    "        # 만들어진 해시테이블에서 a[9] 에 값이 있다면, 해당 인덱스를 p 변수에 할당\n",
    "        # self 를 통해서 p 변수에 할당했기 때문에 클래스 객체 자체가 p 에 할당이 되었음\n",
    "        # 그렇기 때문에 p.key 값에 접근할 수가 있는 것임\n",
    "        p = self.a[i]\n",
    "        while p != None:\n",
    "            if key == p.key:\n",
    "                return\n",
    "            p = p.next\n",
    "        # new_node 생성하는데, 체이닝은 해시테이블 +  SList 개념이므로 self.a[i] 에 head 생성\n",
    "        self.a[i] = self.Node(key, data, self.a[i])\n",
    "        \n",
    "    def get(self, key):\n",
    "        i = self.hash(key)\n",
    "        p = self.a[i]\n",
    "        # 해당 해시테이블에 해당하는 인덱스(해시값)에 해당하는 SList 에서 key 값이 일치할 때까지 순회\n",
    "        while p != None:\n",
    "            if key == p.key:\n",
    "                return p.data\n",
    "            p = p.next\n",
    "        return None\n",
    "    \n",
    "    def print_table(self):\n",
    "        for i in range(self.M):\n",
    "            print('%2d' % (i), end='')\n",
    "            p = self.a[i]\n",
    "            while p != None:\n",
    "                print(' --> [', p.key, ',', p.data, ']',end='')\n",
    "                p = p.next\n",
    "            print()"
   ]
  },
  {
   "cell_type": "code",
   "execution_count": 50,
   "metadata": {},
   "outputs": [
    {
     "name": "stdout",
     "output_type": "stream",
     "text": [
      "탐색 결과:\n",
      "50의 data =  orange\n",
      "63의 data =  watermelon\n",
      "해시 테이블:\n",
      " 0\n",
      " 1\n",
      " 2\n",
      " 3 --> [ 55 , cherry ]\n",
      " 4\n",
      " 5 --> [ 18 , banana ]\n",
      " 6\n",
      " 7\n",
      " 8\n",
      " 9 --> [ 35 , lime ] --> [ 22 , mango ]\n",
      "10\n",
      "11 --> [ 63 , watermelon ] --> [ 50 , orange ] --> [ 37 , apple ]\n",
      "12 --> [ 25 , grape ]\n"
     ]
    }
   ],
   "source": [
    "t = Chaning(13)\n",
    "t.put(25, 'grape')\n",
    "t.put(37, 'apple')\n",
    "t.put(18, 'banana')\n",
    "t.put(55, 'cherry')\n",
    "t.put(22, 'mango')\n",
    "t.put(35, 'lime')\n",
    "t.put(50, 'orange')\n",
    "t.put(63, 'watermelon')\n",
    "print('탐색 결과:')\n",
    "print('50의 data = ', t.get(50))\n",
    "print('63의 data = ', t.get(63))\n",
    "print('해시 테이블:')\n",
    "t.print_table()"
   ]
  },
  {
   "cell_type": "code",
   "execution_count": null,
   "metadata": {},
   "outputs": [],
   "source": []
  },
  {
   "cell_type": "markdown",
   "metadata": {},
   "source": [
    "## 정렬\n",
    "\n",
    "***"
   ]
  },
  {
   "cell_type": "markdown",
   "metadata": {},
   "source": [
    "### 선택정렬"
   ]
  },
  {
   "cell_type": "markdown",
   "metadata": {},
   "source": [
    "- for loop 가 수행될 때마다 정렬 안된 부분(for j loop) 에서 가장 작은 원소를 선택\n",
    "    - 원소들의 총 비교 횟수는 (N-1) + (N-2) + (N-3) + ....\n",
    "    \n",
    "    \n",
    "- 부모 for loop 와 자식 for loop 의 관계에 대한 이해가 필수\n",
    "    - 부모 for loop 의 원소가 하나 들어가면 자식 for loop 는 자신의 모든 for loop 를 수행한다.\n",
    "        - 부모 for loop 1 순회 당, 자식 for loop 는 자신의 length 만큼의 순회를 수행"
   ]
  },
  {
   "cell_type": "code",
   "execution_count": 51,
   "metadata": {},
   "outputs": [],
   "source": [
    "def selection_sort(a):\n",
    "    for i in range(0, len(a)-1):\n",
    "        min_idx = i # 아래의 자식 for loop 를 돌고 가장 작은 값이 minimum 에 저장\n",
    "        for j in range(i, len(a)): # 부모 for loop 의 포인터가 하나씩 옮겨갈 때마다 자식 for loop 는 부지런하게 끝까지 순회\n",
    "            if a[min_idx] > a[j]: # 자식 for loop 를 돌면서 가장 작은 값을 찾기\n",
    "                min_idx = j # 찾았으면 실제 값을 minimum 에 할당\n",
    "        a[min_idx], a[i] = a[i], a[min_idx] # 자식 for loop 를 다 돌고 가장 작은 값을 minimum 에 할당(저장)\n",
    "        print(f' ->> 정렬 과정: {a}')"
   ]
  },
  {
   "cell_type": "code",
   "execution_count": 52,
   "metadata": {},
   "outputs": [
    {
     "name": "stdout",
     "output_type": "stream",
     "text": [
      "정렬 전:\t[54, 88, 77, 26, 93, 17, 49, 10, 77, 11]\n",
      "\n",
      " ->> 정렬 과정: [10, 88, 77, 26, 93, 17, 49, 54, 77, 11]\n",
      " ->> 정렬 과정: [10, 11, 77, 26, 93, 17, 49, 54, 77, 88]\n",
      " ->> 정렬 과정: [10, 11, 17, 26, 93, 77, 49, 54, 77, 88]\n",
      " ->> 정렬 과정: [10, 11, 17, 26, 93, 77, 49, 54, 77, 88]\n",
      " ->> 정렬 과정: [10, 11, 17, 26, 49, 77, 93, 54, 77, 88]\n",
      " ->> 정렬 과정: [10, 11, 17, 26, 49, 54, 93, 77, 77, 88]\n",
      " ->> 정렬 과정: [10, 11, 17, 26, 49, 54, 77, 93, 77, 88]\n",
      " ->> 정렬 과정: [10, 11, 17, 26, 49, 54, 77, 77, 93, 88]\n",
      " ->> 정렬 과정: [10, 11, 17, 26, 49, 54, 77, 77, 88, 93]\n",
      "\n",
      "정렬 후:\t[10, 11, 17, 26, 49, 54, 77, 77, 88, 93]\n"
     ]
    }
   ],
   "source": [
    "a = [54, 88, 77, 26, 93, 17, 49, 10, 77, 11]\n",
    "print('정렬 전:\\t', end='')\n",
    "print(a)\n",
    "print()\n",
    "selection_sort(a)\n",
    "print()\n",
    "print('정렬 후:\\t', end='')\n",
    "print(a)"
   ]
  },
  {
   "cell_type": "markdown",
   "metadata": {},
   "source": [
    "\n"
   ]
  },
  {
   "cell_type": "markdown",
   "metadata": {},
   "source": [
    "### 삽입정렬\n",
    "\n",
    "***\n",
    "\n",
    "- 리스트의 1번째 원소를 현재 원소로 지정하여 정렬을 시작\n",
    "    - 리스트의 마지막 원소를 이미 정렬되어 있는 앞부분에 삽입했을 때 정렬 종료\n",
    "    \n",
    "    \n",
    "- 입력에 민감한 알고리즘으로 정렬되어 있을 때는 정렬이 빠르지만 역순의 경우에는 느리다는 단점"
   ]
  },
  {
   "cell_type": "markdown",
   "metadata": {},
   "source": [
    "**삽입정렬을 이해하기 전 for loop 의 이해(start, end, step)**\n",
    "\n",
    "1. 삽입정렬은 정렬이 되지 않은(뒤에서부터) 앞의 인덱스와 비교한다.\n",
    "\n",
    "2. 정렬되지 않은 해당 인덱스(포인터)부터 시작해서 앞에 모든 인덱스(값)을 비교하는 방법\n",
    "    - start=현재 포인터, end=0, step=-1\n",
    "        - 현재 포인터부터 역순으로 for loop 로 원소를 순회"
   ]
  },
  {
   "cell_type": "code",
   "execution_count": 53,
   "metadata": {},
   "outputs": [],
   "source": [
    "abc = [0, 1, 2, 3, 4]"
   ]
  },
  {
   "cell_type": "code",
   "execution_count": 54,
   "metadata": {},
   "outputs": [
    {
     "name": "stdout",
     "output_type": "stream",
     "text": [
      "\n",
      "비교하고자 하는 이 index [0] 과\n",
      "\n",
      "비교하고자 하는 이 index [1] 과\n",
      " \t>> 역순으로 들어오는 이 인덱스를 비교!! [1]\n",
      "\n",
      "비교하고자 하는 이 index [2] 과\n",
      " \t>> 역순으로 들어오는 이 인덱스를 비교!! [2]\n",
      " \t>> 역순으로 들어오는 이 인덱스를 비교!! [1]\n",
      "\n",
      "비교하고자 하는 이 index [3] 과\n",
      " \t>> 역순으로 들어오는 이 인덱스를 비교!! [3]\n",
      " \t>> 역순으로 들어오는 이 인덱스를 비교!! [2]\n",
      " \t>> 역순으로 들어오는 이 인덱스를 비교!! [1]\n",
      "\n",
      "비교하고자 하는 이 index [4] 과\n",
      " \t>> 역순으로 들어오는 이 인덱스를 비교!! [4]\n",
      " \t>> 역순으로 들어오는 이 인덱스를 비교!! [3]\n",
      " \t>> 역순으로 들어오는 이 인덱스를 비교!! [2]\n",
      " \t>> 역순으로 들어오는 이 인덱스를 비교!! [1]\n"
     ]
    }
   ],
   "source": [
    "# 기본 개념\n",
    "for i in range(0, len(abc)):\n",
    "    print()\n",
    "    print(f'비교하고자 하는 이 index [{i}] 과')\n",
    "    for j in range(i, 0, -1):\n",
    "        print(f' \\t>> 역순으로 들어오는 이 인덱스를 비교!! [{j}]')"
   ]
  },
  {
   "cell_type": "code",
   "execution_count": 55,
   "metadata": {},
   "outputs": [],
   "source": [
    "def insertion_sort(a):\n",
    "    for i in range(1, len(a)): # start=0 은 위에서보면 이해되는데, 정렬(비교)하기 위한 자식 for loop 에 도달하지 못함\n",
    "        for j in range(i, 0, -1):\n",
    "            # a[j-1] = 88, a[j] = 77\n",
    "            # [88, 77] 의 상황이라면 스와핑 진행\n",
    "            if a[j-1] > a[j]:\n",
    "                # j 의 바로 앞에 원소 값이 더 작으면 바로 스와핑\n",
    "                a[j], a[j-1] = a[j-1], a[j]"
   ]
  },
  {
   "cell_type": "code",
   "execution_count": 56,
   "metadata": {},
   "outputs": [
    {
     "name": "stdout",
     "output_type": "stream",
     "text": [
      "정렬 전:\t[54, 88, 77, 26, 93, 17, 49, 10, 77, 11]\n",
      "\n",
      "\n",
      "정렬 후:\t[10, 11, 17, 26, 49, 54, 77, 77, 88, 93]\n"
     ]
    }
   ],
   "source": [
    "a = [54, 88, 77, 26, 93, 17, 49, 10, 77, 11]\n",
    "print('정렬 전:\\t', end='')\n",
    "print(a)\n",
    "print()\n",
    "insertion_sort(a)\n",
    "print()\n",
    "print('정렬 후:\\t', end='')\n",
    "print(a)"
   ]
  },
  {
   "cell_type": "markdown",
   "metadata": {},
   "source": [
    "\n"
   ]
  },
  {
   "cell_type": "markdown",
   "metadata": {},
   "source": [
    "### 쉘 정렬\n",
    "\n",
    "***\n",
    "\n",
    "- 삽입정렬을 하기 전에 리스트를 뭉텅지게 크게 잘라서 정렬을 미리 시켜놓음\n",
    "- 만약 h 높이를 h=1 로 잡았을 경우에는 삽입정렬과 동일한 알고리즘 결과를 나타냄\n",
    "- 쉘 정렬의 수행시간은 아직까지 정확히 증명되지 않았다고 함\n",
    "- 임베디드 시스템에서 간격에 따른 그룹별 정렬 알고리즘 하드웨어 설계를 통해 구현하는 것이 매우 편리하다고..."
   ]
  },
  {
   "cell_type": "code",
   "execution_count": 71,
   "metadata": {},
   "outputs": [],
   "source": [
    "def shell_sort(a):\n",
    "    h = 4       # 3x+1 간격: 1, 4, 13, 40, 121,... 중에서 4 와 1만 사용\n",
    "    while h >= 1:        \n",
    "        for i in range(h, len(a)):  # h-정렬 수행\n",
    "            j = i\n",
    "            while j >= h and a[j] < a[j-h]: \n",
    "                a[j], a[j-h] = a[j-h], a[j]\n",
    "                j -= h \n",
    "        h //= 3"
   ]
  },
  {
   "cell_type": "code",
   "execution_count": 72,
   "metadata": {},
   "outputs": [
    {
     "name": "stdout",
     "output_type": "stream",
     "text": [
      "정렬 전:\t[54, 88, 77, 26, 93, 17, 49, 10, 17, 77, 11, 31, 22, 44, 17, 20]\n",
      "정렬 후:\t[10, 11, 17, 17, 17, 20, 22, 26, 31, 44, 49, 54, 77, 77, 88, 93]\n"
     ]
    }
   ],
   "source": [
    "a = [54,88,77,26,93,17,49,10,17,77,11,31,22,44,17,20]\n",
    "print('정렬 전:\\t', end='')\n",
    "print(a)\n",
    "shell_sort(a)\n",
    "print('정렬 후:\\t', end='')\n",
    "print(a)"
   ]
  },
  {
   "cell_type": "code",
   "execution_count": 74,
   "metadata": {},
   "outputs": [
    {
     "data": {
      "text/plain": [
       "2.0"
      ]
     },
     "execution_count": 74,
     "metadata": {},
     "output_type": "execute_result"
    }
   ],
   "source": []
  },
  {
   "cell_type": "markdown",
   "metadata": {},
   "source": [
    "### 힙정렬\n",
    "\n",
    "***\n",
    "\n",
    "최대힙을 이용하여 루트를 힙의 가장 마지막 노드와 교환한 후 힙 크기를 1 감소시키고, 루트로부터 downheap 연산으로 힙 속성을 복원하는 과정을 반복"
   ]
  },
  {
   "cell_type": "code",
   "execution_count": 76,
   "metadata": {},
   "outputs": [],
   "source": [
    "def downheap(i, size):\n",
    "    while 2*i <= size:\n",
    "        k = 2*i\n",
    "        if k < size and a[k] < a[k+1]:\n",
    "            k += 1\n",
    "        if a[i] >= a[k]:\n",
    "            break\n",
    "        a[i], a[k] = a[k], a[i]\n",
    "        i = k\n",
    "        \n",
    "def create_heap(a): # 정렬하기 전에 최대힙 만들기\n",
    "    hsize = len(a) -1\n",
    "    for i in range(1, hsize//2+1):\n",
    "        downheap(i, hsize)\n",
    "        \n",
    "def heap_sort(a):\n",
    "    N = len(a) -1\n",
    "    for i in range(N):\n",
    "        a[1], a[N] = a[N], a[1]\n",
    "        downheap(1, N-1)\n",
    "        N -= 1"
   ]
  },
  {
   "cell_type": "code",
   "execution_count": 78,
   "metadata": {},
   "outputs": [
    {
     "name": "stdout",
     "output_type": "stream",
     "text": [
      "정렬 전:\t[-1, 54, 88, 77, 26, 93, 17, 49, 10, 17, 77, 11, 31, 22, 44, 17, 20]\n",
      "최대 힙: \t[-1, 88, 93, 77, 26, 77, 31, 49, 20, 17, 54, 11, 17, 22, 44, 17, 10]\n",
      "정렬 후 :\t[-1, 10, 11, 17, 17, 17, 20, 22, 26, 31, 44, 49, 54, 77, 77, 93, 88]\n",
      "17\n"
     ]
    }
   ],
   "source": [
    "a = [-1,54,88,77,26,93,17,49,10,17,77,11,31,22,44,17,20]\n",
    "print('정렬 전:\\t', end='')\n",
    "print(a)\n",
    "create_heap(a)\n",
    "print('최대 힙: \\t', end='')\n",
    "print(a)\n",
    "heap_sort(a)\n",
    "print('정렬 후 :\\t', end='')\n",
    "print(a)\n",
    "print(len(a))"
   ]
  },
  {
   "cell_type": "markdown",
   "metadata": {},
   "source": [
    "**heapq 를 이용한 힙정렬**"
   ]
  },
  {
   "cell_type": "code",
   "execution_count": 79,
   "metadata": {},
   "outputs": [
    {
     "name": "stdout",
     "output_type": "stream",
     "text": [
      "정렬전:\t [54, 88, 77, 26, 93, 17, 49, 10, 17, 31, 22, 44, 17, 20]\n",
      "힙:\t [10, 17, 17, 26, 22, 17, 20, 54, 88, 31, 93, 44, 77, 49]\n",
      "정렬후:\t [10, 17, 17, 17, 20, 22, 26, 31, 44, 49, 54, 77, 88, 93]\n"
     ]
    }
   ],
   "source": [
    "import heapq\n",
    "a = [54,88,77,26,93,17,49,10,17,31,22,44,17,20]\n",
    "print('정렬전:\\t', a)\n",
    "\n",
    "heapq.heapify(a) #최소힙 만들기\n",
    "print('힙:\\t', a)\n",
    "\n",
    "s = []\n",
    "while a:\n",
    "    s.append(heapq.heappop(a)) # 리스트 a의 가장 작은 항목을 삭제하여 리스트 s 의 맨 뒤에 추가\n",
    "print('정렬후:\\t', s)"
   ]
  },
  {
   "cell_type": "markdown",
   "metadata": {},
   "source": [
    "\n",
    "\n"
   ]
  },
  {
   "cell_type": "markdown",
   "metadata": {},
   "source": [
    "### 합병정렬(Merge sort)"
   ]
  },
  {
   "cell_type": "code",
   "execution_count": 29,
   "metadata": {},
   "outputs": [],
   "source": [
    "def merge(a, b, low, mid, high):\n",
    "        i = low\n",
    "        j = mid+1 # i, j 는 type:int 로 리스트의 인덱스를 가리키면서 비교하고 할당 할당\n",
    "        print(f'{i, j}')\n",
    "        for k in range(low, high+1): # a의 앞/뒷부분을 합병하여 b에 저장\n",
    "            if i > mid:             \n",
    "                b[k] = a[j] # 앞부분이 먼저 소진된 경우\n",
    "                j += 1\n",
    "            elif j > high:\n",
    "                b[k] = a[i] # 뒷부분이 먼저 소진된 경우\n",
    "                i += 1\n",
    "            elif a[j] < a[i]:\n",
    "                b[k] = a[j] # a[j]가 승자\n",
    "                j += 1\n",
    "            else:\n",
    "                b[k] = a[i] # a[i]가 승자\n",
    "                i += 1\n",
    "        for k in range(low, high+1):\n",
    "            a[k] = b[k]  # b를 a에 복사    \n",
    "            \n",
    "def merge_sort(a, b, low, high): # 위치인자로, 4번째 파라미터가 high, (24번째 줄)merger_sort()의 4번째 파라미터 mid..재귀 재귀\n",
    "    if high <= low: \n",
    "        return\n",
    "    mid = low + (high - low) // 2 # 1//2 == 0\n",
    "    merge_sort(a, b, low, mid) # 앞부분 재귀호출 # low, mid 를 비우는(?)과정 low=0, mid=0\n",
    "    merge_sort(a, b, mid + 1, high) # 뒷부분 재귀호출 # 재귀함수로 올라가서 if 문을 비교할 때 mid 는 해당되지 않음\n",
    "    merge(a, b, low, mid, high) # 합병 수행 # 이제서야 지옥의 관문"
   ]
  },
  {
   "cell_type": "code",
   "execution_count": 30,
   "metadata": {},
   "outputs": [
    {
     "name": "stdout",
     "output_type": "stream",
     "text": [
      "정렬 전:\t[54, 88, 77, 26, 93, 17, 49, 10, 17, 77, 11, 31, 22, 44, 17, 20]\n",
      "(0, 1)\n",
      "(2, 3)\n",
      "(0, 2)\n",
      "(4, 5)\n",
      "(6, 7)\n",
      "(4, 6)\n",
      "(0, 4)\n",
      "(8, 9)\n",
      "(10, 11)\n",
      "(8, 10)\n",
      "(12, 13)\n",
      "(14, 15)\n",
      "(12, 14)\n",
      "(8, 12)\n",
      "(0, 8)\n",
      "정렬 후 :\t[10, 11, 17, 17, 17, 20, 22, 26, 31, 44, 49, 54, 77, 77, 88, 93]\n"
     ]
    }
   ],
   "source": [
    "a = [54,88,77,26,93,17,49,10,17,77,11,31,22,44,17,20]\n",
    "b = [None] * len(a)\n",
    "print('정렬 전:\\t', end='')\n",
    "print(a)\n",
    "merge_sort(a, b, 0, len(a)-1)   \n",
    "print('정렬 후 :\\t', end='')\n",
    "print(a)"
   ]
  },
  {
   "cell_type": "code",
   "execution_count": 2,
   "metadata": {},
   "outputs": [
    {
     "data": {
      "text/plain": [
       "0"
      ]
     },
     "execution_count": 2,
     "metadata": {},
     "output_type": "execute_result"
    }
   ],
   "source": [
    "def merge(a, b, low, mid, high):\n",
    "    i = low\n",
    "    j = mid+1\n",
    "    for k in range(low, high+1):\n",
    "        if i > mid:\n",
    "            b[k] = a[j]\n",
    "            j += 1\n",
    "        elif j > high:\n",
    "            b[k] = a[i]\n",
    "            i += 1\n",
    "        elif a[j] < a[i]"
   ]
  },
  {
   "cell_type": "code",
   "execution_count": null,
   "metadata": {},
   "outputs": [],
   "source": []
  }
 ],
 "metadata": {
  "kernelspec": {
   "display_name": "Python 3",
   "language": "python",
   "name": "python3"
  },
  "language_info": {
   "codemirror_mode": {
    "name": "ipython",
    "version": 3
   },
   "file_extension": ".py",
   "mimetype": "text/x-python",
   "name": "python",
   "nbconvert_exporter": "python",
   "pygments_lexer": "ipython3",
   "version": "3.6.5"
  }
 },
 "nbformat": 4,
 "nbformat_minor": 2
}
