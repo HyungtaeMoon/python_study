{
 "cells": [
  {
   "cell_type": "markdown",
   "metadata": {},
   "source": [
    "## 단순연결리스트"
   ]
  },
  {
   "cell_type": "markdown",
   "metadata": {},
   "source": [
    "- 단순연결리스트는 **동적 메모리 할당**을 이용해 노드들을 한 방향으로 연결하여 리스트를 구현\n",
    "    - 동적 메모리 할당: 실행 시간동안에 메모리를 사용(C언어는 가비지 컬렉터가 없어서 직접 해제해야 하지만 파이썬은 자동 해제)"
   ]
  },
  {
   "cell_type": "markdown",
   "metadata": {},
   "source": [
    "### 배열 vs 연결리스트\n",
    "\n",
    "- 배열은 순서대로 연결을 함\n",
    "- 배열에는 자료마다 번호가 있어서 원하는 노드를 불러내기 쉬움\n",
    "- 크기를 크게 키우기 어려워 연속된 메모리 공간을 할당받야아 하는데 크기가 커지면 연속된 공간을 할당하기가 어려워짐\n",
    "\n",
    "\n",
    "- 연결리스트는 순서의 중간에 노드 삽입이 가능\n",
    "- 연결리스트에는 번호가 없이 연결만 되어 있기 때문에 원하는 노드를 불러내기 어려움"
   ]
  },
  {
   "cell_type": "code",
   "execution_count": 9,
   "metadata": {},
   "outputs": [],
   "source": [
    "class SList:\n",
    "    class Node:\n",
    "        def __init__(self, item, link):\n",
    "            self.item = item\n",
    "            self.next = link\n",
    "            \n",
    "    def __init__(self):\n",
    "        self.head = None\n",
    "        self.size = 0\n",
    "        \n",
    "    def size(self):\n",
    "        return self.size\n",
    "    \n",
    "    def is_empty(self):\n",
    "        return self.size == 0\n",
    "    \n",
    "    def insert_front(self, item): # 첫 노드에 삽입\n",
    "        # 첫번째 노드가 비어있다면\n",
    "        if self.is_empty():\n",
    "            # 새로 만든 Node 객체를 self.head 에 참조\n",
    "            self.head = self.Node(item, None)\n",
    "        else:\n",
    "            # Node 에 데이터가 있다면 이번에 들어오는 Node 값을 head 에 참조\n",
    "            self.head = self.Node(item, self.head)\n",
    "        # Node 객체가 삽입되었다면 size + 1\n",
    "        self.size += 1\n",
    "        \n",
    "    def insert_after(self, item, p):\n",
    "        # 지정한 pointer 노드 다음에 삽입\n",
    "        p.next = SList.Node(item, p.next)\n",
    "        self.size += 1\n",
    "        \n",
    "    def delete_front(self): # 첫 번째 노드를 삭제할 때\n",
    "        # 만약 지정한 노드 객체가 없다면\n",
    "        if self.is_empty():\n",
    "            # 에러를 발생\n",
    "            raise EmptyError('Underflow')\n",
    "        # 지정한 노드(item)이 있고, 그게 head 라면\n",
    "        else:\n",
    "            # self.head 의 다음 노드를 self.head 로 참조\n",
    "            # 이렇게되면 자동으로 연결이 끊겨서 head 다음이 head 로 됨\n",
    "            self.head = self.head.next\n",
    "            self.size -= 1\n",
    "            \n",
    "    def delete_after(self, p):\n",
    "        if self.is_empty():\n",
    "            raise EmptyError('Underflow')\n",
    "        else:\n",
    "            # p.next 가 t 와 동일한 3번째 노드에 있다. 그런데 t 가 4번째 노드로 가서 next 를 선언\n",
    "            # 이렇게 되면 기존의 p.next 는 노드의 연결이 끊기게 됨\n",
    "            # 현재 t 와 p.next 는 동일한 곳을 가리키고 있느 ㄴ상태\n",
    "            t = p.next\n",
    "            # t 는 p.next 의 다음 노드를 가리키고 p.next 에 할당\n",
    "            p.next = t.next\n",
    "            self.size -= 1\n",
    "            \n",
    "    def search(self, target):\n",
    "        p = self.head\n",
    "        # 노드가 5개라면 총 5번을 순회(k: 인덱스)\n",
    "        for k in range(self.size):\n",
    "            # 파라미터로 받은 target 과 p.itrem 을 비교하여\n",
    "            if target == p.item:\n",
    "                # 인덱스 값을 반환\n",
    "                return k\n",
    "            # 만약 target 과 p.item 이 다르다면 p 를 다음 노드로 이동시킴\n",
    "            p = p.next\n",
    "        # 검색에 실패할 경우 None 를 반환\n",
    "        return None\n",
    "    \n",
    "    def print_list(self):\n",
    "        p = self.head\n",
    "        while p:\n",
    "            if p != None:\n",
    "                print(p.item, '->', end='')\n",
    "            else:\n",
    "                print(p.item)\n",
    "            p = p.next\n",
    "            \n",
    "class EmptyError(Exception):\n",
    "    pass\n"
   ]
  },
  {
   "cell_type": "code",
   "execution_count": 10,
   "metadata": {},
   "outputs": [
    {
     "name": "stdout",
     "output_type": "stream",
     "text": [
      "pear ->apple ->orange ->cherry ->cherry 는 3번째\n",
      "kiwi 는\n",
      "pear ->orange ->cherry ->첫 노드 삭제 후:\t \torange ->cherry ->첫 노드로 망고, 딸기 삽입 후:\tstrawberry ->mango ->orange ->cherry ->오렌지 다음 노드 삭제 후:\tstrawberry ->mango ->orange ->"
     ]
    }
   ],
   "source": [
    "s = SList()\n",
    "s.insert_front('orange')\n",
    "s.insert_front('apple')\n",
    "s.insert_after('cherry', s.head.next)\n",
    "s.insert_front('pear')\n",
    "s.print_list()\n",
    "print('cherry 는 {}번째'.format(s.search('cherry')))\n",
    "print('kiwi 는'.format(s.search('kiwi')))\n",
    "s.delete_after(s.head)\n",
    "s.print_list()\n",
    "print('첫 노드 삭제 후:\\t \\t', end='')\n",
    "s.delete_front()\n",
    "s.print_list()\n",
    "print('첫 노드로 망고, 딸기 삽입 후:\\t', end='')\n",
    "s.insert_front('mango')\n",
    "s.insert_front('strawberry')\n",
    "s.print_list()\n",
    "s.delete_after(s.head.next.next)\n",
    "print('오렌지 다음 노드 삭제 후:\\t', end='')\n",
    "s.print_list()"
   ]
  },
  {
   "cell_type": "code",
   "execution_count": null,
   "metadata": {},
   "outputs": [],
   "source": []
  }
 ],
 "metadata": {
  "kernelspec": {
   "display_name": "Python 3",
   "language": "python",
   "name": "python3"
  },
  "language_info": {
   "codemirror_mode": {
    "name": "ipython",
    "version": 3
   },
   "file_extension": ".py",
   "mimetype": "text/x-python",
   "name": "python",
   "nbconvert_exporter": "python",
   "pygments_lexer": "ipython3",
   "version": "3.6.5"
  }
 },
 "nbformat": 4,
 "nbformat_minor": 2
}
