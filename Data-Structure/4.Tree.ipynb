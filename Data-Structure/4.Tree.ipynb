{
 "cells": [
  {
   "cell_type": "markdown",
   "metadata": {},
   "source": [
    "***\n",
    "\n",
    "## 트리구조\n",
    "\n",
    "***\n",
    "\n",
    "- 자료구조는 선형, 비선형(또는 계층적) 구조로 나뉜다.\n",
    "\n",
    "- 선형 구조는 배열, 연결리스트와 같은 것이고, 트리구조는 비선형 자료구조에 속한다.\n",
    "\n",
    "- 대표적 예시: 파일시스템, 회사구조, HTML 의 DOM(태그 요소의 계층적 구조)"
   ]
  },
  {
   "cell_type": "markdown",
   "metadata": {},
   "source": [
    "## 트리구조의 특징\n",
    "\n",
    "***\n",
    "\n",
    "\n",
    "### 1. 각 노드의 자식 수가 **2개** 이하인 트리\n",
    "    - 이진트리는 1. 비어있거나 2. 비어있지 않다면 루트와 2개의 이진트리인 왼쪽(오른쪽) 서브트리로 구성\n",
    "    \n",
    "    \n",
    "### 2. 이진트리의 형태\n",
    "    - 포화이진트리, 완전이진트리(또는 불완전한 이진트리)\n",
    "    \n",
    "    \n",
    "### 3. 리스트에 저장해야 할 효율적인 이진트리와 그렇지 않은 이진트리\n",
    "    - 완전이진트리(또는 포화이진트리)는 리스트에 꽉꽉 채워져있어 효율적\n",
    "        - 메모리에 순서대로 채워져있기 때문이다.\n",
    "        \n",
    "    - 편향이진트리는 리스트에 듬성듬성 값이 채워져있어 비효율적이다\n",
    "\n",
    "\n",
    "### 4. 재귀함수로 호출\n",
    "    1. 재귀함수로 호출하면 현재의 값은 스택 프레임에 쌓인다.\n",
    "    2. 그리고 그 위에 새로운 재귀함수가 호출되어 스택 프레임에 쌓이는 것이 반복\n",
    "    3. 조건이 성립되면 가장 위에 스택 프레임에 쌓인 값부터 차례대로 값을 처리\n",
    "    \n",
    "    \n",
    "### 5. 이진트리에서 부모와 자식노드를 찾는 공식\n",
    "    - a[i] 의 부모는 a[i//2] 에 있다. 단, i > 1 이다.\n",
    "        - a[11] 의 부모는?\n",
    "            - a[11//2] == 5, 즉 a[5] 가 부모노드\n",
    "    - a[i] 의 왼쪽자식은 a[2i] 에 있다. 단 2i <= N 이다.\n",
    "        - a[5] 의 왼쪽자식은?\n",
    "            - a[2*5] == 10, 즉 a[10]이 왼쪽 자식 노드\n",
    "    - a[i] 의 오른쪽자식은 a[2i +1] 에 있다. 단, 2i + 1 <= N 이다.\n",
    "        - a[5] 의 오른쪽자식은?\n",
    "            - a[2*5+1] == 11, 즉 a[11] 이 오른쪽 자식노드\n",
    "         \n",
    "         \n",
    "### 6. 이진트리 형태의 한계\n",
    "    - 이진트리 형태의 자료구조는 대용량의 데이터 처리에 효율적이지 못하다\n",
    "    - B 트리 구조가 효율적\n",
    "        - 동일한 노드 위치에 수백개에서 수천개의 키를 저장하여 트리의 높이를 낮춤"
   ]
  },
  {
   "cell_type": "code",
   "execution_count": 1,
   "metadata": {},
   "outputs": [],
   "source": [
    "class Node:\n",
    "    def __init__(self, item, left=None, right=None):\n",
    "        self.item = item\n",
    "        self.left = left\n",
    "        self.right = right\n",
    "\n",
    "class BinaryTree:\n",
    "    def __init__(self):\n",
    "        self.root = None\n",
    "        \n",
    "    def preorder(self, n):\n",
    "        \"\"\"전위순회\"\"\"\n",
    "        # 재귀함수로 root 를 기준으로 계속해서 하위 레벨의 노드를 호출\n",
    "        # 최하위의 레벨의 노드가 종료되면, 그 부모 레벨의 노드에 대한 방문, print()\n",
    "        # 즉, 1레벨, 2레벨, 3레벨의 순서로 스택프레임이 쌓였기 때문에 최상위 스택프레임부터 호출됨\n",
    "        if n != None: # 조건 설정\n",
    "            print(str(n.item), ' ', end='')\n",
    "            if n.left:\n",
    "                self.preorder(n.left)\n",
    "            if n.right:\n",
    "                self.preorder(n.right)\n",
    "\n",
    "    def inorder(self, n):\n",
    "        \"\"\"중위순회\"\"\"\n",
    "        if n != None:\n",
    "            if n.left:\n",
    "                self.inorder(n.left)\n",
    "            print(str(n.item), ' ', end='')\n",
    "            if n.right:\n",
    "                self.inorder(n.right)\n",
    "                \n",
    "    def postorder(self, n):\n",
    "        \"\"\"후위순회\"\"\"\n",
    "        if n != None:\n",
    "            if n.left:\n",
    "                self.postorder(n.left)\n",
    "            if n.right:\n",
    "                self.postorder(n.right)\n",
    "            print(str(n.item), ' ', end=' ')\n",
    "            \n",
    "    def levelorder(self, root):\n",
    "        \"\"\"레벨순회\"\"\"\n",
    "        q = []\n",
    "        q.append(root)\n",
    "        while len(q) != 0:\n",
    "            t = q.pop(0)\n",
    "            print(str(t.item), ' ', end=' ')\n",
    "            if t.left:\n",
    "                q.append(t.left)\n",
    "            if t.right:\n",
    "                q.append(t.right)\n",
    "            \n",
    "    def height(self, root):\n",
    "        if root == None:\n",
    "            return 0\n",
    "        return max(self.height(root.left), self.height(root.right)) + 1"
   ]
  },
  {
   "cell_type": "code",
   "execution_count": 2,
   "metadata": {},
   "outputs": [
    {
     "name": "stdout",
     "output_type": "stream",
     "text": [
      "트리 높이 4\n",
      "전위 순회 \t 100  200  400  800  500  300  600  700  None\n",
      "중위 순회 \t 800  400  200  500  100  600  300  700  None\n",
      "후위 순회 \t 800   400   500   200   600   700   300   100   None\n",
      "레벨 순회 \t 100   200   300   400   500   600   700   800   None\n"
     ]
    }
   ],
   "source": [
    "t = BinaryTree()\n",
    "n1 = Node(100)\n",
    "n2 = Node(200)\n",
    "n3 = Node(300)\n",
    "n4 = Node(400)\n",
    "n5 = Node(500)\n",
    "n6 = Node(600)\n",
    "n7 = Node(700)\n",
    "n8 = Node(800)\n",
    "n1.left = n2\n",
    "n1.right = n3\n",
    "n2.left = n4\n",
    "n2.right = n5\n",
    "n3.left = n6\n",
    "n3.right = n7\n",
    "n4.left = n8\n",
    "t.root = n1 # t.root 에 n1 을 할당함으로써 노드가 생성\n",
    "\n",
    "print('트리 높이', t.height(t.root))\n",
    "print('전위 순회 \\t', end=' ')\n",
    "print(t.preorder(t.root))\n",
    "print('중위 순회 \\t', end=' ')\n",
    "print(t.inorder(t.root))\n",
    "print('후위 순회 \\t', end=' ')\n",
    "print(t.postorder(t.root))\n",
    "print('레벨 순회 \\t', end=' ')\n",
    "print(t.levelorder(t.root))"
   ]
  },
  {
   "cell_type": "markdown",
   "metadata": {},
   "source": [
    "\n",
    "\n"
   ]
  },
  {
   "cell_type": "markdown",
   "metadata": {},
   "source": [
    "***\n",
    "\n",
    "## 이진힙\n",
    "\n",
    "***"
   ]
  },
  {
   "cell_type": "markdown",
   "metadata": {},
   "source": [
    "- 이진힙(최소힙/최대힙)은 최소값/최대값을 검색하는데 O(1) 시간이 소요되는 알고리즘\n",
    "\n",
    "- 병원에서 각 진료의 우선순위를 두어 현재 치료해야 할 환자가 누구인지 확인\n",
    "    - 감기(3), 눈병(7), 탈골(12), ... 응급(25)"
   ]
  },
  {
   "cell_type": "markdown",
   "metadata": {},
   "source": [
    "### 1. 최소힙과 최대힙으로 구분\n",
    "\n",
    "- **최소힙**에서 최대값의 삭제는 루트 노드를 삭제 -> 최하위(최대값)을 루트노드에 삽입하여 자식 노드와 비교하여 결과값을 리턴(다운힙)\n",
    "\n",
    "### 2. 이진힙의 사용\n",
    "\n",
    "- 우선순위를 가진 데이터를 처리하는 자료구조로서 관공서, 은행, 병원, 우체국, 대형마켓, 공항 등에서 이루어지는 업무와 관련된 이벤트 처리, 컴퓨터 운영체제의 프로세스 처리, 네트워크 라우터에서의 패킷 처리 등에 적합한 자료구조\n",
    "\n",
    "- **실시간 급상승 검색어(데이터 스트림에서 Top k 항목을 유지) 제공을 위한 적절한 자료구조**\n",
    "\n",
    "### 3. 검색어 구현\n",
    "\n",
    "- real_time_rank = [[76, '파이썬'], [[42, '자바']], [32, '고']]\n",
    "    - 여기서 갑자기 [[120, '인공지능']] 검색어가 급상승한다면? 최대힙으로 구현\n",
    "    \n",
    "### 4. upheap, downheap\n",
    "\n",
    "- 삽입할 때는 upheap() 이 사용된다. 즉, 노드 추가는 최하위에 삽입되고 해당 부모노드와 비교하여 본인 노드가 작으면 올라가고, 작으면 올라가는 구조\n",
    "\n",
    "- 삭제할 때는 downheap() 이 사용된다. 최상위 노드를 삭제하고, 그 자리에 최하위 노드를 추가하여 결국 최하위 노드가 가장 아래로 내려가게 됨"
   ]
  },
  {
   "cell_type": "markdown",
   "metadata": {},
   "source": [
    "## 최소힙 구현하기"
   ]
  },
  {
   "cell_type": "code",
   "execution_count": 3,
   "metadata": {},
   "outputs": [],
   "source": [
    "class BHeap:\n",
    "    def __init__(self, a):\n",
    "        self.a = a # a = [None]n*1 // 크기를 동적으로 생성\n",
    "        self.N = len(a) - 1\n",
    "        \n",
    "    def create_heap(self):\n",
    "        # 항목 개수 -1 로 역순 이진힙 순회\n",
    "        for i in range(self.N//2, 0, -1):\n",
    "            self.downheap(i)\n",
    "            \n",
    "    def insert(self, key_value):\n",
    "        self.N += 1\n",
    "        self.a.append(key_value)\n",
    "        self.upheap(self.N)\n",
    "    \n",
    "    def delete_min(self):\n",
    "        if self.N == 0:\n",
    "            print('힙이 비어있음')\n",
    "            return None\n",
    "        minimum = a[1]\n",
    "        # 힙 구조에서 가장 작은값과 가장 큰 값을 스와핑\n",
    "        self.a[1], self.a[-1] = self.a[-1], self.a[1]\n",
    "        # 바꿔줬으니 가장 작은 값으로 된 a[-1] 인덱스 값을 삭제\n",
    "        del self.a[-1]\n",
    "        self.N -= 1\n",
    "        self.downheap(1)\n",
    "        # 모든 작업이 끝났으니 바꾸기 전 minimum 에 저장했던\n",
    "        # 최소값을 return 시켜줌\n",
    "        return minimum\n",
    "    \n",
    "    def downheap(self, i):\n",
    "        while 2 * i <= self.N:\n",
    "            k = 2 * i\n",
    "            # k 인덱스가 크다면 k+1 인덱스가 최소값으로 지정\n",
    "            if k < self.N and self.a[k][0] > self.a[k+1][0]:\n",
    "                k += 1\n",
    "            if self.a[i][0] < self.a[k][0]:\n",
    "                break\n",
    "            self.a[i], self.a[k] = self.a[k], self.a[i]\n",
    "            i = k\n",
    "            \n",
    "    def upheap(self, j):\n",
    "        while j > 1 and self.a[j//2][0] > self.a[j][0]:\n",
    "            self.a[j], self.a[j//2] = self.a[j//2], self.a[j]\n",
    "            j = j//2 # 노드가 한 층 올라감\n",
    "            \n",
    "    def print_heap(self):\n",
    "        for i in range(1, self.N+1):\n",
    "            print('[%2d' % self.a[i][0], self.a[i][1], ']', end=' ')\n",
    "        print('\\n힙 크기 = ', self.N)"
   ]
  },
  {
   "cell_type": "code",
   "execution_count": 4,
   "metadata": {},
   "outputs": [
    {
     "name": "stdout",
     "output_type": "stream",
     "text": [
      "힙 만들기 전:\n",
      "[90 watermelon ] [80 pear ] [70 melon ] [60 lime ] [50 mango ] [40 cherry ] [30 grape ] [20 orange ] [10 apricot ] [15 banana ] [45 lemon ] [40 kiwi ] \n",
      "힙 크기 =  12\n",
      "최소힙:\n",
      "[10 apricot ] [15 banana ] [30 grape ] [20 orange ] [45 lemon ] [40 kiwi ] [70 melon ] [80 pear ] [60 lime ] [50 mango ] [90 watermelon ] [40 cherry ] \n",
      "힙 크기 =  12\n",
      "최솟값 삭제 후\n",
      "[10, 'apricot']\n",
      "[15 banana ] [20 orange ] [30 grape ] [40 cherry ] [45 lemon ] [40 kiwi ] [70 melon ] [80 pear ] [60 lime ] [50 mango ] [90 watermelon ] \n",
      "힙 크기 =  11\n",
      "5 삽입 후\n",
      "[ 5 apple ] [20 orange ] [15 banana ] [40 cherry ] [45 lemon ] [30 grape ] [70 melon ] [80 pear ] [60 lime ] [50 mango ] [90 watermelon ] [40 kiwi ] \n",
      "힙 크기 =  12\n"
     ]
    }
   ],
   "source": [
    "a = [None] * 1\n",
    "a.append([90, 'watermelon'])\n",
    "a.append([80, 'pear'])\n",
    "a.append([70, 'melon'])\n",
    "a.append([60, 'lime'])\n",
    "a.append([50, 'mango'])\n",
    "a.append([40, 'cherry'])\n",
    "a.append([30, 'grape'])\n",
    "a.append([20, 'orange'])\n",
    "a.append([10, 'apricot'])\n",
    "a.append([15, 'banana'])\n",
    "a.append([45, 'lemon'])\n",
    "a.append([40, 'kiwi'])\n",
    "b = BHeap(a)\n",
    "print('힙 만들기 전:')\n",
    "b.print_heap()\n",
    "b.create_heap()\n",
    "print('최소힙:')\n",
    "b.print_heap()\n",
    "print('최솟값 삭제 후')\n",
    "print(b.delete_min())\n",
    "b.print_heap()\n",
    "b.insert([5,'apple'])\n",
    "print('5 삽입 후')\n",
    "b.print_heap()"
   ]
  },
  {
   "cell_type": "markdown",
   "metadata": {},
   "source": [
    "**2차원 리스트**"
   ]
  },
  {
   "cell_type": "code",
   "execution_count": 5,
   "metadata": {},
   "outputs": [],
   "source": [
    "surgery = [[3, '감기',], [7, '눈병'], [12, '탈골'], [25, '응급']]"
   ]
  },
  {
   "cell_type": "code",
   "execution_count": 6,
   "metadata": {},
   "outputs": [
    {
     "data": {
      "text/plain": [
       "[[3, '감기'], [7, '눈병'], [12, '탈골'], [25, '응급']]"
      ]
     },
     "execution_count": 6,
     "metadata": {},
     "output_type": "execute_result"
    }
   ],
   "source": [
    "surgery"
   ]
  },
  {
   "cell_type": "code",
   "execution_count": 7,
   "metadata": {},
   "outputs": [
    {
     "data": {
      "text/plain": [
       "[7, '눈병']"
      ]
     },
     "execution_count": 7,
     "metadata": {},
     "output_type": "execute_result"
    }
   ],
   "source": [
    "surgery[1]"
   ]
  },
  {
   "cell_type": "code",
   "execution_count": 8,
   "metadata": {},
   "outputs": [
    {
     "data": {
      "text/plain": [
       "'눈병'"
      ]
     },
     "execution_count": 8,
     "metadata": {},
     "output_type": "execute_result"
    }
   ],
   "source": [
    "surgery[1][1] # 인덱스 첫번째에 인덱스 첫번째 값 # 입체적으로 생각하기!!"
   ]
  },
  {
   "cell_type": "code",
   "execution_count": null,
   "metadata": {},
   "outputs": [],
   "source": []
  },
  {
   "cell_type": "markdown",
   "metadata": {},
   "source": [
    "***\n",
    "\n",
    "### 이진탐색\n",
    "\n",
    "***\n",
    "\n",
    "- 1차원 구조로 되어있고, mid 를 잡고 그 인덱스를 기준으로 반으로 자르고 비교를 해나가는 구조\n",
    "\n",
    "- 각 노드는 바로 양 옆에만 참조하고 있기 때문에 운이 없을 경우에는 많은 시간이 소요된다"
   ]
  },
  {
   "cell_type": "markdown",
   "metadata": {},
   "source": [
    "1. 기본 전제는 **a 리스트의 N 개 값은 정렬이 되어있다**\n",
    "2. mid 로 범위를 좁혀나간다\n",
    "3. 최악의 경우에는 리스트에 거의 대부분을 검색하여 return mid 가 된다\n",
    "    - 삽입과 삭제가 빈번하면 정렬을 유지하기 위해 시간이 오래 걸린다.\n",
    "    - O(N): 선형시간 소요"
   ]
  },
  {
   "cell_type": "markdown",
   "metadata": {},
   "source": [
    "- binary_search(인덱스 첫번째, 인덱스 마지막, 원하는 검색값)\n",
    "- binary_search(mid, 인덱스 마지막, 원하는 검색값)\n",
    "- mid 를 +- 하면서 최종적으로 binary_search(10, 10, 66) # 2개의 범위 일치\n",
    "- 조건에 만족하지 않으면 재귀함수로 호출하여 범위를 좁혀 나가는 것\n",
    "- mid(중간)를 잡고 검색하기 때문에 최악의 경우에는 target 이 처음/끝에 있어 오래걸림"
   ]
  },
  {
   "cell_type": "markdown",
   "metadata": {},
   "source": [
    "**책에 나와있는 이진탐색 코드**"
   ]
  },
  {
   "cell_type": "code",
   "execution_count": 9,
   "metadata": {},
   "outputs": [],
   "source": [
    "def binary_search(left, right, t):\n",
    "    if left > right:\n",
    "        return None # 탐색 실패(즉, t가 리스트에 없음)\n",
    "    mid = (left + right) // 2 # 리스트에서 탐색할 부분의 중간 항목의 인덱스 계산\n",
    "    if a[mid] == t:\n",
    "        print(f'a 리스트의 [{mid}]번째에 [{a[mid]}]값을 찾았습니다.')\n",
    "        return mid # 탐색 성공\n",
    "    if a[mid] > t:\n",
    "        binary_search(left, mid-1, t) # 앞부분 탐색\n",
    "    else:\n",
    "        binary_search(mid+1, right, t) #뒷부분 탐색"
   ]
  },
  {
   "cell_type": "code",
   "execution_count": 30,
   "metadata": {},
   "outputs": [],
   "source": [
    "def binary_search(left, right, t):\n",
    "    if left > right:\n",
    "        return None\n",
    "    mid = (left + right) // 2\n",
    "    if a[mid] == t:\n",
    "        return mid\n",
    "    if a[mid] > t:\n",
    "        # 책에서는 mid-1 이라고 하지만 난 right 가 편함\n",
    "        binary_search(left, right-1, t)\n",
    "    else:\n",
    "        a[mid] < t\n",
    "        # 책에서는 mid-1 이라고 하지만 난 left 가 편함\n",
    "        binary_search(left+1, right, t)"
   ]
  },
  {
   "cell_type": "code",
   "execution_count": 31,
   "metadata": {},
   "outputs": [],
   "source": [
    "a = [1, 4, 9, 16, 25, 36, 49, 64, 81, 100]\n",
    "right = len(a) -1\n",
    "target = 25"
   ]
  },
  {
   "cell_type": "code",
   "execution_count": 32,
   "metadata": {},
   "outputs": [
    {
     "data": {
      "text/plain": [
       "4"
      ]
     },
     "execution_count": 32,
     "metadata": {},
     "output_type": "execute_result"
    }
   ],
   "source": [
    "binary_search(0, right, target)"
   ]
  },
  {
   "cell_type": "markdown",
   "metadata": {},
   "source": [
    "**초보몽키님의 블로그**"
   ]
  },
  {
   "cell_type": "code",
   "execution_count": 13,
   "metadata": {},
   "outputs": [],
   "source": [
    "def binary_search(target, data):\n",
    "    data.sort()\n",
    "    start = 0\n",
    "    end = len(data) - 1\n",
    "    # start +1 // end -1 하면서 mid 포인터를 이동시킴\n",
    "    while start <= end:\n",
    "        mid = (start + end) // 2\n",
    "\n",
    "        if data[mid] == target:\n",
    "            return mid # 함수를 끝내버린다.\n",
    "        elif data[mid] < target:\n",
    "            start = mid + 1\n",
    "        else:\n",
    "            end = mid -1\n",
    "\n",
    "    return None\n"
   ]
  },
  {
   "cell_type": "code",
   "execution_count": 14,
   "metadata": {},
   "outputs": [
    {
     "name": "stdout",
     "output_type": "stream",
     "text": [
      "9\n"
     ]
    }
   ],
   "source": [
    "li = [i**2 for i in range(11)]\n",
    "target = 9\n",
    "idx = binary_search(target, li)\n",
    "\n",
    "if idx:\n",
    "    print(li[idx])\n",
    "else:\n",
    "    print(\"찾으시는 타겟 {}가 없습니다\".format(target))"
   ]
  },
  {
   "cell_type": "markdown",
   "metadata": {},
   "source": [
    "**.sort(reverse=False(optional))함수 **"
   ]
  },
  {
   "cell_type": "code",
   "execution_count": 15,
   "metadata": {},
   "outputs": [],
   "source": [
    "li =[5, 7, 3, 1, 2, 101, 12, 67]"
   ]
  },
  {
   "cell_type": "code",
   "execution_count": 16,
   "metadata": {},
   "outputs": [
    {
     "data": {
      "text/plain": [
       "[5, 7, 3, 1, 2, 101, 12, 67]"
      ]
     },
     "execution_count": 16,
     "metadata": {},
     "output_type": "execute_result"
    }
   ],
   "source": [
    "li"
   ]
  },
  {
   "cell_type": "code",
   "execution_count": 17,
   "metadata": {},
   "outputs": [],
   "source": [
    "li.sort()"
   ]
  },
  {
   "cell_type": "code",
   "execution_count": 18,
   "metadata": {},
   "outputs": [
    {
     "data": {
      "text/plain": [
       "[1, 2, 3, 5, 7, 12, 67, 101]"
      ]
     },
     "execution_count": 18,
     "metadata": {},
     "output_type": "execute_result"
    }
   ],
   "source": [
    "li"
   ]
  },
  {
   "cell_type": "code",
   "execution_count": 19,
   "metadata": {},
   "outputs": [
    {
     "data": {
      "text/plain": [
       "5"
      ]
     },
     "execution_count": 19,
     "metadata": {},
     "output_type": "execute_result"
    }
   ],
   "source": [
    "(0 + 10) // 2"
   ]
  },
  {
   "cell_type": "code",
   "execution_count": 20,
   "metadata": {},
   "outputs": [
    {
     "data": {
      "text/plain": [
       "2"
      ]
     },
     "execution_count": 20,
     "metadata": {},
     "output_type": "execute_result"
    }
   ],
   "source": [
    "5 // 2"
   ]
  },
  {
   "cell_type": "code",
   "execution_count": null,
   "metadata": {},
   "outputs": [],
   "source": []
  }
 ],
 "metadata": {
  "kernelspec": {
   "display_name": "Python 3",
   "language": "python",
   "name": "python3"
  },
  "language_info": {
   "codemirror_mode": {
    "name": "ipython",
    "version": 3
   },
   "file_extension": ".py",
   "mimetype": "text/x-python",
   "name": "python",
   "nbconvert_exporter": "python",
   "pygments_lexer": "ipython3",
   "version": "3.6.5"
  }
 },
 "nbformat": 4,
 "nbformat_minor": 2
}
