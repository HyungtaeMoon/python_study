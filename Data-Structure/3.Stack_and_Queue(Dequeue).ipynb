{
 "cells": [
  {
   "cell_type": "markdown",
   "metadata": {},
   "source": [
    "## 스택과 큐\n",
    "\n",
    "***\n",
    "\n",
    "- 단순 연결리스트로 구현한 stack 에서 push, pop 은 **O(1)** 시간이 소요\n",
    "\n",
    "\n",
    "\n",
    "- 그러나 파이썬의 리스트 크기는 동적으로 자동 확장/축소\n",
    "    - 모든 항목은 새로운 리스트로 복사해야 하기 때문에 **O(N)** 시간이 소요\n",
    "    \n",
    "\n",
    "\n",
    "- 그래도 내 생각엔 기준을 O(1)로 잡는게 맞는듯\n",
    "    - O(1) 상수시간: 가장 효율적인 시간, 한방에 탐색, 삽입, 삭제\n"
   ]
  },
  {
   "cell_type": "markdown",
   "metadata": {},
   "source": [
    "***\n",
    "\n",
    "### 스택\n",
    "\n",
    "***"
   ]
  },
  {
   "cell_type": "code",
   "execution_count": 5,
   "metadata": {},
   "outputs": [],
   "source": [
    "class Node:\n",
    "    # 전역변수 top 에 생성자 함수를 사용한 노드 생성\n",
    "    # top = Node(item, top)\n",
    "    def __init__(self, item, link):\n",
    "        self.item = item\n",
    "        self.next = link\n",
    "        \n",
    "def push(item):\n",
    "    # 전역변수 top/size 선언\n",
    "    global top\n",
    "    global size\n",
    "    # 새로운 노드를 push 할 때는 스택구조이기 때문에, 항상 top = new_node\n",
    "    top = Node(item, top)\n",
    "    size += 1\n",
    "    \n",
    "def peek():\n",
    "    if size != 0:\n",
    "        return top.item\n",
    "    \n",
    "def pop():\n",
    "    # pop 은 해당 스택에서 최상위에 있는 리스트의 값을 꺼내야 함\n",
    "    global top\n",
    "    global size\n",
    "    if size != 0:\n",
    "        # 가장 위에 있는 아이템을 잠시 다른 변수에 담고\n",
    "        top_item = top.item\n",
    "        # pop 이후에 item 을 top 으로 변수 할당\n",
    "        top = top.next\n",
    "        size -= 1\n",
    "        # pop 이 되는 item 을 return\n",
    "        return top_item\n",
    "    \n",
    "def print_stack():\n",
    "    print('top -> ', end='')\n",
    "    p = top\n",
    "    while p:\n",
    "        if p.next != None:\n",
    "            print(p.item)\n",
    "        else:\n",
    "            print(p.item)\n",
    "        p = p.next\n",
    "    print()"
   ]
  },
  {
   "cell_type": "code",
   "execution_count": 6,
   "metadata": {},
   "outputs": [
    {
     "name": "stdout",
     "output_type": "stream",
     "text": [
      "사과, 오렌지, 체리\n",
      "top -> cherry\n",
      "orange\n",
      "apple\n",
      "\n",
      "top -> orange\n",
      "apple\n",
      "\n"
     ]
    }
   ],
   "source": [
    "top = None\n",
    "size = 0\n",
    "push('apple')\n",
    "push('orange')\n",
    "push('cherry')\n",
    "print('사과, 오렌지, 체리')\n",
    "print_stack()\n",
    "\n",
    "pop()\n",
    "print_stack()"
   ]
  },
  {
   "cell_type": "code",
   "execution_count": null,
   "metadata": {},
   "outputs": [],
   "source": []
  },
  {
   "cell_type": "markdown",
   "metadata": {},
   "source": [
    "***\n",
    "\n",
    "### 큐\n",
    "\n",
    "***"
   ]
  },
  {
   "cell_type": "markdown",
   "metadata": {},
   "source": [
    "- 큐의 종류: 선형(막대모양), 환형(원형), 연결리스트로 구현한 큐\n",
    "    - 연결리스트로 구현한 큐는 큐의 길이를 쉽게 늘릴 수 있어 오버플로우가 발생하지 않음(필요에 따라 환형으로 만들 수도 있음) 참고: 위키백과\n",
    "\n",
    "- CPU 의 태스크 스케줄링, 네트워크 프린터, 실시간 시스템의 인터럽트 처리, 콜 센터의 전화 서비스 처리 등\n",
    "\n",
    "- (추가 내용: 메시지 큐) 오픈 소스 메시지 큐 RabbitMQ\n",
    "    - 메시지 지향 미들웨어(Message Oriented Middleware: MOM)은 비동기 메시지를 사용하는 다른 응용 프로그램 사이에서 데이터를 송수신\n",
    "\n",
    "- 메시지 큐(MQ)는 프로세스 또는 프로그램 인스턴스가 데이터를 서로 교환할 때 사용하는 방법\n",
    "\n",
    "- 큐가 꽉 차서 더 이상 자료를 넣을 수 없는 경우 오버플로우(Overflow)\n",
    "\n",
    "- 큐가 비어있어서 자료를 꺼낼 수 없는 경우 언더플로우(Underflow)"
   ]
  },
  {
   "cell_type": "code",
   "execution_count": 7,
   "metadata": {},
   "outputs": [],
   "source": [
    "class Node:\n",
    "    def __init__(self, item, n):\n",
    "        self.item = item\n",
    "        self.next = n\n",
    "        \n",
    "def task_add(item):\n",
    "    \"\"\"\n",
    "    1) 전역 변수로 size, front, rear 선언\n",
    "    2) 전역변수를 선언하면 해당 함수가 종료되더라도 메모리 공간 어디엔가 존재\n",
    "    3) 최초 생성된 노드는 front, rear 변수 모두를 가지게 됨\n",
    "    4) 그 이후에 rear.next, rear.next... 이런식으로 노드들을 연결\n",
    "    \"\"\"\n",
    "    global size\n",
    "    global front\n",
    "    global rear\n",
    "    new_node = Node(item, None)\n",
    "    if size == 0:\n",
    "        front = new_node\n",
    "    else:\n",
    "        rear.next = new_node\n",
    "    rear = new_node\n",
    "    size += 1\n",
    "    \n",
    "def task_active():\n",
    "    \"\"\"\n",
    "    1) 삭제는 파라미터를 따로 받지 않고, 전역변수에 접근하여 삭제 연산 처리를 진행\n",
    "    2) 연결이 끊기면 레퍼런스 카운트가 0으로 됨\n",
    "    3) front 인스턴스의 연결을 끊기 전에 다음 노드를 front 로 위임하는 작업을 해야 함\n",
    "    4) remove 를 메시지 큐에서는 해당 태스크를 실행해도 된다고 이해해도 될 듯\n",
    "    \"\"\"\n",
    "    global size\n",
    "    global front\n",
    "    global rear\n",
    "    if size != 0:\n",
    "        fitem = front.item\n",
    "        front = front.next\n",
    "        size -= 1\n",
    "        if size == 0:\n",
    "            rear = None\n",
    "        return fitem\n",
    "    \n",
    "def print_queue():\n",
    "    p = front\n",
    "    print('시작', end='')\n",
    "    while p:\n",
    "        if p.next != None:\n",
    "            print(p.item, '-> ', end='')\n",
    "        else:\n",
    "            print(p.item)\n",
    "        p = p.next\n",
    "            "
   ]
  },
  {
   "cell_type": "code",
   "execution_count": 8,
   "metadata": {},
   "outputs": [
    {
     "name": "stdout",
     "output_type": "stream",
     "text": [
      "시작15:00 에 크롤링 시작 -> 16:00 에 크롤링 시작 -> 17:00 에 크롤링 시작 -> 18:00 에 크롤링 시작\n",
      "\n",
      "작업을 실행합니다:  15:00 에 크롤링 시작\n",
      "작업을 실행합니다:  16:00 에 크롤링 시작\n",
      "작업을 실행합니다:  17:00 에 크롤링 시작\n",
      "작업을 실행합니다:  18:00 에 크롤링 시작\n",
      "작업을 실행합니다:  None\n"
     ]
    }
   ],
   "source": [
    "front = None\n",
    "rear = None\n",
    "size = 0\n",
    "\n",
    "task_add('15:00 에 크롤링 시작')\n",
    "task_add('16:00 에 크롤링 시작')\n",
    "task_add('17:00 에 크롤링 시작')\n",
    "task_add('18:00 에 크롤링 시작')\n",
    "print_queue()\n",
    "print()\n",
    "print('작업을 실행합니다: ', task_active())\n",
    "print('작업을 실행합니다: ', task_active())\n",
    "print('작업을 실행합니다: ', task_active())\n",
    "print('작업을 실행합니다: ', task_active())\n",
    "print('작업을 실행합니다: ', task_active())"
   ]
  },
  {
   "cell_type": "code",
   "execution_count": null,
   "metadata": {},
   "outputs": [],
   "source": []
  }
 ],
 "metadata": {
  "kernelspec": {
   "display_name": "Python 3",
   "language": "python",
   "name": "python3"
  },
  "language_info": {
   "codemirror_mode": {
    "name": "ipython",
    "version": 3
   },
   "file_extension": ".py",
   "mimetype": "text/x-python",
   "name": "python",
   "nbconvert_exporter": "python",
   "pygments_lexer": "ipython3",
   "version": "3.6.5"
  }
 },
 "nbformat": 4,
 "nbformat_minor": 2
}
