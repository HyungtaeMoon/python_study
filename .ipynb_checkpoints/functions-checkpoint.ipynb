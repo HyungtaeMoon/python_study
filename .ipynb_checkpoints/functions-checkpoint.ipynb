{
 "cells": [
  {
   "cell_type": "markdown",
   "metadata": {},
   "source": [
    "## Functions(함수)\n",
    "\n",
    "------------------"
   ]
  },
  {
   "cell_type": "markdown",
   "metadata": {},
   "source": [
    "- 반복적으로 사용하려는 명령 집합을 번들로 묶음\n",
    "- 특정 작업을 수행하기 위해 작성된 코드"
   ]
  },
  {
   "cell_type": "code",
   "execution_count": 1,
   "metadata": {},
   "outputs": [
    {
     "name": "stdout",
     "output_type": "stream",
     "text": [
      "산토끼 토끼야\n",
      "어디를 가느냐\n",
      "깡총깡총 뛰면서\n",
      "어디를 가느냐\n"
     ]
    }
   ],
   "source": [
    "# 함수를 사용하지 않을 경우에는 출력해야 하는 값들을 매번 입력\n",
    "\n",
    "print('산토끼 토끼야')\n",
    "print('어디를 가느냐')\n",
    "print('깡총깡총 뛰면서')\n",
    "print('어디를 가느냐')"
   ]
  },
  {
   "cell_type": "code",
   "execution_count": 2,
   "metadata": {},
   "outputs": [],
   "source": [
    "# 함수를 사용함으로 인해서 함수명만 호출(간편화)\n",
    "\n",
    "def rabbit_song():\n",
    "    print('산토끼 토끼야')\n",
    "    print('어디를 가느냐')\n",
    "    print('깡총깡총 뛰면서')\n",
    "    print('어디를 가느냐')"
   ]
  },
  {
   "cell_type": "code",
   "execution_count": 3,
   "metadata": {},
   "outputs": [
    {
     "name": "stdout",
     "output_type": "stream",
     "text": [
      "산토끼 토끼야\n",
      "어디를 가느냐\n",
      "깡총깡총 뛰면서\n",
      "어디를 가느냐\n"
     ]
    }
   ],
   "source": [
    "rabbit_song() # 함수를 호출하여 출력 예시"
   ]
  },
  {
   "cell_type": "code",
   "execution_count": 4,
   "metadata": {},
   "outputs": [
    {
     "name": "stdout",
     "output_type": "stream",
     "text": [
      "산토끼 토끼야\n",
      "어디를 가느냐\n",
      "깡총깡총 뛰면서\n",
      "어디를 가느냐\n"
     ]
    }
   ],
   "source": [
    "rabbit_song.__call__() # 함수 호출 구문을 사용하여 호출"
   ]
  },
  {
   "cell_type": "markdown",
   "metadata": {},
   "source": [
    "### 함수의 타입\n",
    "\n",
    "- Built-in functions(내장함수)\n",
    "- 사용자가 정의한 함수\n",
    "- 익명 함수(lamda 함수)"
   ]
  },
  {
   "cell_type": "code",
   "execution_count": 5,
   "metadata": {},
   "outputs": [
    {
     "data": {
      "text/plain": [
       "8"
      ]
     },
     "execution_count": 5,
     "metadata": {},
     "output_type": "execute_result"
    }
   ],
   "source": [
    "sum((3, 5)) # 내장함수"
   ]
  },
  {
   "cell_type": "code",
   "execution_count": 6,
   "metadata": {},
   "outputs": [
    {
     "data": {
      "text/plain": [
       "8"
      ]
     },
     "execution_count": 6,
     "metadata": {},
     "output_type": "execute_result"
    }
   ],
   "source": [
    "def sum_function(a, b): # 사용자가 정의한 함수\n",
    "    return a + b\n",
    "\n",
    "sum_function(3, 5)"
   ]
  },
  {
   "cell_type": "code",
   "execution_count": 7,
   "metadata": {},
   "outputs": [
    {
     "data": {
      "text/plain": [
       "8"
      ]
     },
     "execution_count": 7,
     "metadata": {},
     "output_type": "execute_result"
    }
   ],
   "source": [
    "sum_lambda = lambda a, b:a+b # 람다함수\n",
    "sum_lambda(3, 5)"
   ]
  },
  {
   "cell_type": "markdown",
   "metadata": {},
   "source": [
    "### 메서드와 함수의 차이\n",
    "---------------------------\n",
    "\n",
    "`메서드`는 클래스의 일부인 함수를 참조하며, 클래스의 인스턴스 또는 객체를 사용하여 액세스\n",
    "\n",
    "`함수`는 독립적으로 실행이 가능"
   ]
  },
  {
   "cell_type": "code",
   "execution_count": 8,
   "metadata": {},
   "outputs": [],
   "source": [
    "def sum_function(a, b): # 독립적으로 실행 가능한 '함수'\n",
    "    return a + b"
   ]
  },
  {
   "cell_type": "code",
   "execution_count": 9,
   "metadata": {},
   "outputs": [
    {
     "data": {
      "text/plain": [
       "8"
      ]
     },
     "execution_count": 9,
     "metadata": {},
     "output_type": "execute_result"
    }
   ],
   "source": [
    "sum_function(3, 5)"
   ]
  },
  {
   "cell_type": "code",
   "execution_count": 10,
   "metadata": {},
   "outputs": [],
   "source": [
    "class Sum_class(object): # 클래스의 인스턴스로 호출해야 가능한 '메서드'\n",
    "    def sum(self, a, b):\n",
    "        result = a + b\n",
    "        return result\n"
   ]
  },
  {
   "cell_type": "code",
   "execution_count": 11,
   "metadata": {},
   "outputs": [
    {
     "data": {
      "text/plain": [
       "8"
      ]
     },
     "execution_count": 11,
     "metadata": {},
     "output_type": "execute_result"
    }
   ],
   "source": [
    "sum_func = Sum_class()\n",
    "sum_func.sum(3, 5)"
   ]
  }
 ],
 "metadata": {
  "kernelspec": {
   "display_name": "Python 3",
   "language": "python",
   "name": "python3"
  },
  "language_info": {
   "codemirror_mode": {
    "name": "ipython",
    "version": 3
   },
   "file_extension": ".py",
   "mimetype": "text/x-python",
   "name": "python",
   "nbconvert_exporter": "python",
   "pygments_lexer": "ipython3",
   "version": "3.6.5"
  }
 },
 "nbformat": 4,
 "nbformat_minor": 2
}
