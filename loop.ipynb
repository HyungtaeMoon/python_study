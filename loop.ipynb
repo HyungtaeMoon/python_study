{
 "cells": [
  {
   "cell_type": "markdown",
   "metadata": {},
   "source": [
    "### 순회 가능한 객체\n",
    "\n",
    "------------------------"
   ]
  },
  {
   "cell_type": "markdown",
   "metadata": {},
   "source": [
    "- set, list, tuple, dict, string, generator 는 순회 가능한 객체"
   ]
  },
  {
   "cell_type": "code",
   "execution_count": null,
   "metadata": {},
   "outputs": [],
   "source": [
    "for i in range(4):\n",
    "    print(i)"
   ]
  },
  {
   "cell_type": "markdown",
   "metadata": {},
   "source": [
    "```c\n",
    "// c코드\n",
    "for(int i=0; i<4; i++) {\n",
    "    printf(\"%d\\n\", i)\n",
    "}\n",
    "```"
   ]
  },
  {
   "cell_type": "code",
   "execution_count": 16,
   "metadata": {},
   "outputs": [
    {
     "name": "stdout",
     "output_type": "stream",
     "text": [
      "{'Tom': 10, 'Jackson': 11}\n"
     ]
    }
   ],
   "source": [
    "'''\n",
    "설명을 씁니다.\n",
    "'''\n",
    "name= {\n",
    "    'Tom': 10,\n",
    "    'Jackson': 11,\n",
    "\n",
    "#     'John': 13,\n",
    "#     'Steve': 20\n",
    "}\n",
    "print(name)"
   ]
  },
  {
   "cell_type": "code",
   "execution_count": 21,
   "metadata": {},
   "outputs": [],
   "source": [
    "def mysum(a, b, c):\n",
    "    '''\n",
    "    세 인자를 받아서, 더한 값을 리턴해줍니다.\n",
    "    '''\n",
    "    return a + b + c\n",
    "\n",
    "mysum?"
   ]
  },
  {
   "cell_type": "code",
   "execution_count": 45,
   "metadata": {},
   "outputs": [
    {
     "name": "stdout",
     "output_type": "stream",
     "text": [
      "<__main__.BoolAnswer object at 0x10833c978>\n"
     ]
    }
   ],
   "source": [
    "class BoolAnswer:\n",
    "\n",
    "    def __init__(self, number):\n",
    "        self.number = number\n",
    "        \n",
    "    def Result(self, number):\n",
    "        if number > 0:\n",
    "            print(f'{number}은 양수입니다')\n",
    "        elif number < 0:\n",
    "            print(f'{number}은 음수입니다')\n",
    "        elif number == 0:\n",
    "            print(f'{number}은 같습니다')\n",
    "        else:\n",
    "            print(f'숫자를 넣어주세요')\n",
    "\n",
    "    def __int__(self):\n",
    "        return self.number\n",
    "\n",
    "print(BoolAnswer('1'))"
   ]
  },
  {
   "cell_type": "code",
   "execution_count": 67,
   "metadata": {},
   "outputs": [],
   "source": [
    "def myfn1():\n",
    "    result = 1 + 2\n"
   ]
  },
  {
   "cell_type": "markdown",
   "metadata": {},
   "source": [
    "### 위치, 키워드 인자"
   ]
  },
  {
   "cell_type": "code",
   "execution_count": 68,
   "metadata": {},
   "outputs": [
    {
     "name": "stdout",
     "output_type": "stream",
     "text": [
      "당신의 이름은 문형태 이며, 나이는 34세 입니다.\n",
      "당신의 이름은 문형태 이며, 나이는 34세 입니다.\n",
      "당신의 이름은 문형태 이며, 나이는 34세 입니다.\n",
      "당신의 이름은 문형태 이며, 나이는 0세 입니다.\n"
     ]
    }
   ],
   "source": [
    "def fn_with_keyword_arguments(name=\"\", age=0):\n",
    "    print(f'당신의 이름은 {name} 이며, 나이는 {age}세 입니다.')\n",
    "          \n",
    "fn_with_keyword_arguments(name='문형태', age=34)\n",
    "fn_with_keyword_arguments('문형태', 34)\n",
    "fn_with_keyword_arguments('문형태', age=34) #위치인자가 우선\n",
    "fn_with_keyword_arguments('문형태') #인자를 지정안하면 default 값 출력"
   ]
  },
  {
   "cell_type": "code",
   "execution_count": 72,
   "metadata": {},
   "outputs": [],
   "source": [
    "def fn2(*colors): # 0개 이상의 인자를 받을 수 있음\n",
    "    for color in colors:\n",
    "        print(color)"
   ]
  },
  {
   "cell_type": "code",
   "execution_count": 79,
   "metadata": {},
   "outputs": [
    {
     "name": "stdout",
     "output_type": "stream",
     "text": [
      "yellow\n",
      "blue\n"
     ]
    }
   ],
   "source": [
    "fn2('yellow', 'blue')"
   ]
  },
  {
   "cell_type": "code",
   "execution_count": 80,
   "metadata": {},
   "outputs": [
    {
     "name": "stdout",
     "output_type": "stream",
     "text": [
      "white\n",
      "black\n",
      "red\n"
     ]
    }
   ],
   "source": [
    "fn2('white', 'black', 'red')"
   ]
  },
  {
   "cell_type": "code",
   "execution_count": 87,
   "metadata": {},
   "outputs": [],
   "source": [
    "def fn2(**scores):\n",
    "    for key, score in scores.items():\n",
    "        print(key, score)"
   ]
  },
  {
   "cell_type": "code",
   "execution_count": 89,
   "metadata": {},
   "outputs": [
    {
     "name": "stdout",
     "output_type": "stream",
     "text": [
      "apple 10\n",
      "yellow 31\n"
     ]
    }
   ],
   "source": [
    "fn2(apple=10, yellow=31)"
   ]
  },
  {
   "cell_type": "code",
   "execution_count": 93,
   "metadata": {},
   "outputs": [],
   "source": [
    "dict = {'shape': 'man', 'jenny': 'girl'}"
   ]
  },
  {
   "cell_type": "code",
   "execution_count": 98,
   "metadata": {},
   "outputs": [],
   "source": [
    "dict['tom'] = 'man'"
   ]
  },
  {
   "cell_type": "code",
   "execution_count": 2,
   "metadata": {},
   "outputs": [
    {
     "name": "stdout",
     "output_type": "stream",
     "text": [
      "<class 'dict'>\n"
     ]
    }
   ],
   "source": [
    "print(dict)"
   ]
  },
  {
   "cell_type": "code",
   "execution_count": 4,
   "metadata": {},
   "outputs": [],
   "source": [
    "mydict = {'a': 1, 'b': 2}"
   ]
  },
  {
   "cell_type": "code",
   "execution_count": 6,
   "metadata": {},
   "outputs": [
    {
     "name": "stdout",
     "output_type": "stream",
     "text": [
      "a\n",
      "b\n"
     ]
    }
   ],
   "source": [
    "for obj in mydict:\n",
    "    print(obj)"
   ]
  },
  {
   "cell_type": "code",
   "execution_count": 8,
   "metadata": {},
   "outputs": [
    {
     "name": "stdout",
     "output_type": "stream",
     "text": [
      "a\n",
      "b\n"
     ]
    }
   ],
   "source": [
    "for key in mydict:\n",
    "    print(key)"
   ]
  },
  {
   "cell_type": "code",
   "execution_count": 10,
   "metadata": {},
   "outputs": [
    {
     "data": {
      "text/plain": [
       "dict_items([('a', 1), ('b', 2)])"
      ]
     },
     "execution_count": 10,
     "metadata": {},
     "output_type": "execute_result"
    }
   ],
   "source": [
    "mydict.items()"
   ]
  },
  {
   "cell_type": "code",
   "execution_count": 28,
   "metadata": {},
   "outputs": [
    {
     "name": "stdout",
     "output_type": "stream",
     "text": [
      "a 1\n",
      "b 2\n"
     ]
    }
   ],
   "source": [
    "for key, value in mydict.items():\n",
    "    print(key, value)"
   ]
  },
  {
   "cell_type": "code",
   "execution_count": 30,
   "metadata": {},
   "outputs": [
    {
     "name": "stdout",
     "output_type": "stream",
     "text": [
      "a 1\n",
      "b 2\n"
     ]
    }
   ],
   "source": [
    "# 튜플() 은 괄호를 사용해도 사용하지 않아도 튜플로 인식한다\n",
    "# 다만 관례적으로 괄호()를 사용하여 명시적으로 사용\n",
    "# 또한 1개의 튜플이라도 콤마(,)를 넣어주지 않으면 튜플로 인식하지 않기 때문에 유의\n",
    "for (key, value) in mydict.items():\n",
    "    print(key, value)"
   ]
  },
  {
   "cell_type": "code",
   "execution_count": 38,
   "metadata": {},
   "outputs": [
    {
     "name": "stdout",
     "output_type": "stream",
     "text": [
      "<class 'tuple'>\n",
      "<class 'tuple'>\n"
     ]
    }
   ],
   "source": [
    "one_tuple1 = 'a',\n",
    "print(type(one_tuple))\n",
    "\n",
    "one_tuple2 = ('b',)\n",
    "print(type(one_tuple2))"
   ]
  },
  {
   "cell_type": "code",
   "execution_count": 16,
   "metadata": {},
   "outputs": [
    {
     "data": {
      "text/plain": [
       "dict_keys(['a', 'b'])"
      ]
     },
     "execution_count": 16,
     "metadata": {},
     "output_type": "execute_result"
    }
   ],
   "source": [
    "mydict.keys()"
   ]
  },
  {
   "cell_type": "code",
   "execution_count": 17,
   "metadata": {},
   "outputs": [
    {
     "name": "stdout",
     "output_type": "stream",
     "text": [
      "a\n",
      "b\n"
     ]
    }
   ],
   "source": [
    "for key in mydict.keys():\n",
    "    print(key)"
   ]
  },
  {
   "cell_type": "code",
   "execution_count": 18,
   "metadata": {},
   "outputs": [
    {
     "data": {
      "text/plain": [
       "dict_values([1, 2])"
      ]
     },
     "execution_count": 18,
     "metadata": {},
     "output_type": "execute_result"
    }
   ],
   "source": [
    "mydict.values()"
   ]
  },
  {
   "cell_type": "code",
   "execution_count": 26,
   "metadata": {},
   "outputs": [
    {
     "name": "stdout",
     "output_type": "stream",
     "text": [
      "1\n",
      "2\n"
     ]
    }
   ],
   "source": [
    "for value in mydict.values():\n",
    "    print(value)"
   ]
  },
  {
   "cell_type": "code",
   "execution_count": 39,
   "metadata": {},
   "outputs": [
    {
     "name": "stdout",
     "output_type": "stream",
     "text": [
      "('a', 1)\n",
      "('b', 2)\n"
     ]
    }
   ],
   "source": [
    "for key in mydict.items():\n",
    "    print(key)"
   ]
  },
  {
   "cell_type": "markdown",
   "metadata": {},
   "source": [
    "### generator(제너레이터)\n",
    "\n",
    "--------------------\n",
    "\n",
    "- iterator(순환가능한) 객체를 생성해주는 함수\n",
    "\n",
    "- 제너레이터를 메모리 관리에 효율적\n",
    "\n",
    "참고자료: [바로가기](https://docs.python.org/2/glossary.html#term-generator%20%EC%B6%9C%EC%B2%98:%20http://bluese05.tistory.com/56%20[%E3%85%8D%E3%85%8D%E3%85%8B%E3%84%B7])\n",
    "\n",
    "`**파이썬 문서번역**`\n",
    "\n",
    "**generator**\n",
    "```\n",
    "반복자를 반환하는 함수. for 루프에서 사용할 수 있는 일련의 값을 생성하는 yield문을 포함하거나 next() 함수를 사용하여 한 번에 하나씩 검색할 수 있다는 점만 제외하면 정상적인 함수처럼 보입니다. 각 출력은 일시적으로 처리를 중단하고 위치 실행 상태 (로컬 변수 및 보류중인 try문 포함)를 기억합니다. 생성기가 다시 시작되면, 모든 호출에서 새로 시작하는 함수와 달리 중단된 부분이 나타납니다.\n",
    "```\n",
    "\n",
    "**generator expression**\n",
    "```\n",
    "반복자를 반환하는 표현식입니다. 일반 표현식에 다음에 루프 변수, 범위 및 선택적 if 표현식을 정의하는 for 표현식입니다. 결합된 표현식은 둘러싼 함수의 값을 생성합니다.\n",
    "```\n"
   ]
  },
  {
   "cell_type": "code",
   "execution_count": 41,
   "metadata": {},
   "outputs": [
    {
     "data": {
      "text/plain": [
       "[1, 3, 5, 7, 9]"
      ]
     },
     "execution_count": 41,
     "metadata": {},
     "output_type": "execute_result"
    }
   ],
   "source": [
    "[i for i in range(10) if i % 2] # list 생성"
   ]
  },
  {
   "cell_type": "code",
   "execution_count": 52,
   "metadata": {},
   "outputs": [
    {
     "data": {
      "text/plain": [
       "<generator object <genexpr> at 0x109012468>"
      ]
     },
     "execution_count": 52,
     "metadata": {},
     "output_type": "execute_result"
    }
   ],
   "source": [
    "(i for i in range(10) if i % 2) # generator 생성"
   ]
  },
  {
   "cell_type": "code",
   "execution_count": 77,
   "metadata": {},
   "outputs": [
    {
     "data": {
      "text/plain": [
       "<generator object <genexpr> at 0x109012f68>"
      ]
     },
     "execution_count": 77,
     "metadata": {},
     "output_type": "execute_result"
    }
   ],
   "source": [
    "(i ** 2 for i in range(10)) # generator 생성2"
   ]
  },
  {
   "cell_type": "code",
   "execution_count": 78,
   "metadata": {},
   "outputs": [
    {
     "data": {
      "text/plain": [
       "[0, 1, 4, 9, 16, 25, 36, 49, 64, 81]"
      ]
     },
     "execution_count": 78,
     "metadata": {},
     "output_type": "execute_result"
    }
   ],
   "source": [
    "list(i ** 2 for i in range(10)) # generator로 list 생성"
   ]
  },
  {
   "cell_type": "markdown",
   "metadata": {},
   "source": [
    "### Generator 맛보기"
   ]
  },
  {
   "cell_type": "code",
   "execution_count": 61,
   "metadata": {},
   "outputs": [],
   "source": [
    "def power():\n",
    "    for i in range(10):\n",
    "        yield i ** 2"
   ]
  },
  {
   "cell_type": "code",
   "execution_count": 63,
   "metadata": {},
   "outputs": [
    {
     "data": {
      "text/plain": [
       "<generator object power at 0x1090125c8>"
      ]
     },
     "execution_count": 63,
     "metadata": {},
     "output_type": "execute_result"
    }
   ],
   "source": [
    "power()"
   ]
  },
  {
   "cell_type": "code",
   "execution_count": 80,
   "metadata": {},
   "outputs": [
    {
     "data": {
      "text/plain": [
       "160"
      ]
     },
     "execution_count": 80,
     "metadata": {},
     "output_type": "execute_result"
    }
   ],
   "source": [
    "import sys\n",
    "list(power())\n",
    "\n",
    "sys.getsizeof(list(power()))"
   ]
  },
  {
   "cell_type": "markdown",
   "metadata": {},
   "source": [
    "### list 와 generator 메모리 사용 비교\n",
    "\n",
    "\n",
    "**list와 generator의 메모리 사용 상태 비교**\n",
    "\n",
    "- list는 list 안의 데이터가 메모리에 쌓이기 때문에 list가 커지면 커질수록 메모리 할당량도 그만큼 늘어나게 된다.\n",
    "\n",
    "- generator 는 next() 메서드를 이용하여 값에 접근할 때마다 메모리에 값을 쌓는 방식이다"
   ]
  },
  {
   "cell_type": "code",
   "execution_count": 74,
   "metadata": {},
   "outputs": [
    {
     "data": {
      "text/plain": [
       "88"
      ]
     },
     "execution_count": 74,
     "metadata": {},
     "output_type": "execute_result"
    }
   ],
   "source": [
    "import sys\n",
    "sys.getsizeof([i ** 2 for i in range(10)]) # 192\n",
    "\n",
    "sys.getsizeof([i ** 2 for i in range(100)]) # 912\n",
    "\n",
    "sys.getsizeof((i ** 2 for i in range(10))) # 88\n",
    "\n",
    "sys.getsizeof((i ** 2 for i in range(100))) # 88"
   ]
  }
 ],
 "metadata": {
  "kernelspec": {
   "display_name": "Python 3",
   "language": "python",
   "name": "python3"
  },
  "language_info": {
   "codemirror_mode": {
    "name": "ipython",
    "version": 3
   },
   "file_extension": ".py",
   "mimetype": "text/x-python",
   "name": "python",
   "nbconvert_exporter": "python",
   "pygments_lexer": "ipython3",
   "version": "3.6.5"
  }
 },
 "nbformat": 4,
 "nbformat_minor": 2
}
