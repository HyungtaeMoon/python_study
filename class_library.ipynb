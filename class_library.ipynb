{
 "cells": [
  {
   "cell_type": "code",
   "execution_count": 1,
   "metadata": {},
   "outputs": [],
   "source": [
    "class Library:\n",
    "    def __init__(self, name, book_list):\n",
    "        self.name = name\n",
    "        self.book_list = book_list\n",
    "        \n",
    "    def __repr__(self):\n",
    "        # 객체가 리턴하는 값을 오버라이딩하여 재정의\n",
    "        # repr 로 정의하지 않으면\n",
    "        # <__main__.Library at 0x10b32c8d0> 가 반환 됨\n",
    "        return f'Library ({self.name}, id:{id(self)})'\n",
    "    \n",
    "    def __str__(self):\n",
    "        # repr 의 self.name 을 <__main__.Library at 0x10b32c8d0> 가 아닌\n",
    "        # 인스턴스의 속성을 반환\n",
    "        return self.name\n",
    "    \n",
    "    def add_book(self, book_title):\n",
    "        \"\"\"\n",
    "        입력받은 book_title에 해당하는 Book 이 자신의 book_list에 없다면,\n",
    "        새로운 Book 을 만들어서 추가\n",
    "        \"\"\"\n",
    "        # 호출한 인스턴스의 book_list 를 for 문을 순회하며 객체들을 반환\n",
    "        for book in self.book_list:\n",
    "            # book 객체의 title 속성과 book_title 인자를 비교(str 비교)\n",
    "            if book.title == book_title:\n",
    "                print(f'{book_title}은 이미 존재합니다.')\n",
    "                break\n",
    "\n",
    "        else:\n",
    "            # Book 인스턴스를 생성\n",
    "            # Book 의 두번째 인자 self 는 Book 클래스에서 location 매개변수를 받기 때문이다.\n",
    "            new_book = Book(book_title, location=self)\n",
    "            # Library 의 book_list 에 Book 인스턴스를 추가\n",
    "            self.book_list.append(new_book)\n",
    "            print(f'해당 도서가 추가되었습니다. [{book_title}]')\n",
    "    \n",
    "    def remove_book(self, book_title):\n",
    "        \"\"\"\n",
    "        입력받은 book_title에 해당하는 Book이\n",
    "        자신의 book_list에 있다면 삭제\n",
    "        \"\"\"\n",
    "        # 호출한 인스턴스의 book_list 를 for 문을 순회하며 객체들을 반환\n",
    "        for book in self.book_list:\n",
    "            # book 객체의 .title 속성과 메서드로 입력한 book_title 의 str 을 비교\n",
    "            if book.title == book_title:\n",
    "                # book_list 에 있는 book 객체 중에서 해당하는 book 객체를 삭제 시킴\n",
    "                self.book_list.remove(book)\n",
    "                print(f'{book.title}은 삭제 되었습니다.')\n",
    "                break\n",
    "        else:\n",
    "            print(f'해당 도서는 우리 도서관에 없습니다.')\n",
    "    \n",
    "    @property\n",
    "    def info(self):\n",
    "        \"\"\"\n",
    "        자신이 가진 도서 목록(book_list)에 대한 정보를 적절히 텍스트로 리턴\n",
    "        \"\"\"\n",
    "\n",
    "        return '{info_title}\\n{book_list}\\n{total}'.format(\n",
    "            info_title=f'{self.name} 도서 목록',\n",
    "            book_list='\\n'.join(f'{index}: {book.title}'for index, book in enumerate(self.book_list, start=1)),\n",
    "            total=f'총 도서 목록 {len(self.book_list)}'\n",
    "        )"
   ]
  },
  {
   "cell_type": "code",
   "execution_count": 2,
   "metadata": {},
   "outputs": [],
   "source": [
    "class Book:\n",
    "    book_list = []\n",
    "    \n",
    "    def __init__(self, title, location):\n",
    "        self.title = title\n",
    "        self.location = location\n",
    "        # Book 클래스의 전역변수에 인스턴스가 생성될 때마다 book_list 에 추가\n",
    "        self.book_list.append(self)\n",
    "        \n",
    "    @classmethod\n",
    "    def show_total_book_info(cls):\n",
    "        \"\"\"\n",
    "        모든 책 정보 문자열을 리턴\n",
    "\n",
    "        도서 목록\n",
    "        1. 처음 시작하는 파이썬(성수 도서관)\n",
    "        2. 전문가를 위한 파이썬(건대 도서관)\n",
    "        총 2권\n",
    "        \"\"\"\n",
    "        print('도서 목록\\n{book_list}\\n{total}'.format(\n",
    "            book_list='\\n'.join([f'{index}: {book.title}, {book.location}' for index, book in enumerate(cls.book_list, start=1)]),\n",
    "            total=f'총 {len(cls.book_list)}권',\n",
    "        ))\n",
    "    \n",
    "    def __repr__(self):\n",
    "        return f'Book ({self.title}, id:{id(self)})'\n",
    "    \n",
    "    def __str__(self):\n",
    "        return self.title\n",
    "    \n",
    "    @property\n",
    "    def is_borrowed(self):\n",
    "        if isinstance(self.location, User):\n",
    "            return True\n",
    "        return False\n",
    "    "
   ]
  },
  {
   "cell_type": "code",
   "execution_count": 3,
   "metadata": {},
   "outputs": [],
   "source": [
    "class User:\n",
    "    def __init__(self, name, book_list=[]):\n",
    "        self.name = name\n",
    "        # 만약 book_list 가 있으면 book_list 에 추가하고\n",
    "        # 없으면 빈 list 를 만듦\n",
    "        self.book_list = book_list if book_list else []\n",
    "        \n",
    "    def __repr__(self):\n",
    "        return f'User ({self.name}, id:{id(self)})'\n",
    "    \n",
    "    def __str__(self):\n",
    "        return self.name\n",
    "\n",
    "    def borrow_book(self, library, book_title):\n",
    "        # library 인스턴스의 book_list 를 for 문을 순회\n",
    "        for book in library.book_list:\n",
    "            # book 인스턴스의 .title 속성과 매개변수 book_title 을 검사(str)\n",
    "            if book.title == book_title:\n",
    "                # user 인스턴스의 book_list 에 book 매개변수를 추가\n",
    "                self.book_list.append(book)\n",
    "                # library 인스턴스에서 book_list 중 해당하는 book 객체를 삭제\n",
    "                library.book_list.remove(book)\n",
    "                # book 인스턴스의 location 을 user 인스턴스로 지정\n",
    "                book.location = self\n",
    "                print(f'대여가 완료 되었습니다.')\n",
    "                break\n",
    "        else:\n",
    "            print(f'이미 그 책은 대여 상태 입니다.')\n",
    "                \n",
    "    def return_book(self, library, book_title):\n",
    "        # library 인스턴스의 book_list 에 접근하여 for 문을 순회\n",
    "        for book in library.book_list:\n",
    "            # library 인스턴스의 book.title 과 매개변수 book_title\n",
    "            if book.title == book_title:\n",
    "                # user 인스턴스의 book_list 에 접근하여 book 객체를 삭제\n",
    "                self.book_list.remove(book)\n",
    "                # library 인스턴스의 book_list 에 접근하여 book 객체를 추가\n",
    "                library.book_list.append(book)\n",
    "                # book 객체의 location 속성에 접근하여 library 인스턴스로 할당\n",
    "                book.location = library\n",
    "                print(f'반납이 완료 되었습니다')\n",
    "                \n",
    "        else:\n",
    "            print(f'해당 도서를 가지고 있지 않습니다')"
   ]
  },
  {
   "cell_type": "code",
   "execution_count": null,
   "metadata": {},
   "outputs": [],
   "source": []
  },
  {
   "cell_type": "code",
   "execution_count": 4,
   "metadata": {},
   "outputs": [],
   "source": [
    "library1 = Library('성수 도서관', [])"
   ]
  },
  {
   "cell_type": "code",
   "execution_count": 5,
   "metadata": {},
   "outputs": [],
   "source": [
    "library2 = Library('건대 도서관', [])"
   ]
  },
  {
   "cell_type": "code",
   "execution_count": 6,
   "metadata": {},
   "outputs": [
    {
     "name": "stdout",
     "output_type": "stream",
     "text": [
      "해당 도서가 추가되었습니다. [처음 시작하는 파이썬]\n"
     ]
    }
   ],
   "source": [
    "library1.add_book('처음 시작하는 파이썬')"
   ]
  },
  {
   "cell_type": "code",
   "execution_count": 7,
   "metadata": {},
   "outputs": [
    {
     "name": "stdout",
     "output_type": "stream",
     "text": [
      "해당 도서가 추가되었습니다. [전문가를 위한 파이썬]\n"
     ]
    }
   ],
   "source": [
    "library1.add_book('전문가를 위한 파이썬')"
   ]
  },
  {
   "cell_type": "code",
   "execution_count": 8,
   "metadata": {},
   "outputs": [
    {
     "name": "stdout",
     "output_type": "stream",
     "text": [
      "해당 도서가 추가되었습니다. [전문가를 위한 파이썬]\n"
     ]
    }
   ],
   "source": [
    "library2.add_book('전문가를 위한 파이썬')"
   ]
  },
  {
   "cell_type": "code",
   "execution_count": null,
   "metadata": {},
   "outputs": [],
   "source": []
  },
  {
   "cell_type": "code",
   "execution_count": 9,
   "metadata": {},
   "outputs": [],
   "source": [
    "user1 = User('스미스')"
   ]
  },
  {
   "cell_type": "code",
   "execution_count": 10,
   "metadata": {},
   "outputs": [
    {
     "name": "stdout",
     "output_type": "stream",
     "text": [
      "대여가 완료 되었습니다.\n"
     ]
    }
   ],
   "source": [
    "user1.borrow_book(library1, '전문가를 위한 파이썬')"
   ]
  },
  {
   "cell_type": "code",
   "execution_count": 11,
   "metadata": {},
   "outputs": [
    {
     "data": {
      "text/plain": [
       "[Book (전문가를 위한 파이썬, id:4588996144)]"
      ]
     },
     "execution_count": 11,
     "metadata": {},
     "output_type": "execute_result"
    }
   ],
   "source": [
    "user1.book_list"
   ]
  },
  {
   "cell_type": "code",
   "execution_count": 12,
   "metadata": {},
   "outputs": [
    {
     "name": "stdout",
     "output_type": "stream",
     "text": [
      "도서 목록\n",
      "1: 처음 시작하는 파이썬, 성수 도서관\n",
      "2: 전문가를 위한 파이썬, 스미스\n",
      "3: 전문가를 위한 파이썬, 건대 도서관\n",
      "총 3권\n"
     ]
    }
   ],
   "source": [
    "Book.show_total_book_info()"
   ]
  },
  {
   "cell_type": "code",
   "execution_count": null,
   "metadata": {},
   "outputs": [],
   "source": []
  }
 ],
 "metadata": {
  "kernelspec": {
   "display_name": "Python 3",
   "language": "python",
   "name": "python3"
  },
  "language_info": {
   "codemirror_mode": {
    "name": "ipython",
    "version": 3
   },
   "file_extension": ".py",
   "mimetype": "text/x-python",
   "name": "python",
   "nbconvert_exporter": "python",
   "pygments_lexer": "ipython3",
   "version": "3.6.5"
  }
 },
 "nbformat": 4,
 "nbformat_minor": 2
}
