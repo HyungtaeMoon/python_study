{
 "cells": [
  {
   "cell_type": "code",
   "execution_count": 1,
   "metadata": {},
   "outputs": [],
   "source": [
    "class Library:\n",
    "    def __init__(self, name, book_list=[]):\n",
    "        self.name = name\n",
    "        self.book_list = book_list\n",
    "        \n",
    "    def __repr__(self):\n",
    "        return f'{self.name}, {self.book_list}'\n",
    "        \n",
    "    def add_book(self, book_title):\n",
    "        for book in self.book_list:\n",
    "            if book.title == book_title:\n",
    "                print(f'{book_title}은 이미 있습니다.')\n",
    "                break\n",
    "        else:\n",
    "            self.book_list.append(Book(book_title, self))\n",
    "            print(f'{book_title} 이(가) 입고 되었습니다.')\n",
    "    \n",
    "    def remove_book(self, book_title):\n",
    "        for book in self.book_list:\n",
    "            if book.title == book_title:\n",
    "                self.book_list.remove(book)\n",
    "                print(f'{book.title} 을 폐기 처분했습니다.')\n",
    "                break\n",
    "        else:\n",
    "            print(f'{book_title} 은 저희 도서관에 없습니다.')\n",
    "    "
   ]
  },
  {
   "cell_type": "code",
   "execution_count": 2,
   "metadata": {},
   "outputs": [],
   "source": [
    "class Book:\n",
    "    def __init__(self, title, location):\n",
    "        self.title = title\n",
    "        self.location = location\n",
    "        \n",
    "    def __repr__(self):\n",
    "        return self.title\n"
   ]
  },
  {
   "cell_type": "code",
   "execution_count": 3,
   "metadata": {},
   "outputs": [],
   "source": [
    "class User:\n",
    "    def __init__(self, name, book_list=[]):\n",
    "        self.name = name\n",
    "        self.book_list = book_list\n",
    "        \n",
    "    def borrow_book(self, library, book_title):\n",
    "        for book in library.book_list:\n",
    "            if book.title == book_title:\n",
    "                self.book_list.append(book)\n",
    "                library.book_list.remove(book)\n",
    "                print(f'[{book.title}] 대출이 완료되었습니다.')\n",
    "                break\n",
    "        \n",
    "        else:\n",
    "            print(f'[{book_title}]은(는) {library.name} 에 없습니다.')\n",
    "    \n",
    "    def return_book(self, library, book_title):\n",
    "        for book in self.book_list:\n",
    "            if book.title == book_title:\n",
    "                self.book_list.remove(book)\n",
    "                library.book_list.append(book)\n",
    "                print(f'{book.title} 이 반납되었습니다.')\n",
    "                break\n",
    "                \n",
    "        else:\n",
    "            print(f'{book.title}은(는) 소유하고 있지 않습니다.')"
   ]
  },
  {
   "cell_type": "markdown",
   "metadata": {},
   "source": [
    "### library 인스턴스 생성 및 book 인스턴스를 추가"
   ]
  },
  {
   "cell_type": "code",
   "execution_count": 4,
   "metadata": {},
   "outputs": [],
   "source": [
    "library1 = Library('사당 도서관')"
   ]
  },
  {
   "cell_type": "code",
   "execution_count": 5,
   "metadata": {},
   "outputs": [
    {
     "name": "stdout",
     "output_type": "stream",
     "text": [
      "처음 시작하는 파이썬 이(가) 입고 되었습니다.\n"
     ]
    }
   ],
   "source": [
    "library1.add_book('처음 시작하는 파이썬')"
   ]
  },
  {
   "cell_type": "code",
   "execution_count": 6,
   "metadata": {},
   "outputs": [
    {
     "name": "stdout",
     "output_type": "stream",
     "text": [
      "전문가를 위한 파이썬 이(가) 입고 되었습니다.\n"
     ]
    }
   ],
   "source": [
    "library1.add_book('전문가를 위한 파이썬')"
   ]
  },
  {
   "cell_type": "code",
   "execution_count": null,
   "metadata": {},
   "outputs": [],
   "source": []
  },
  {
   "cell_type": "code",
   "execution_count": 7,
   "metadata": {},
   "outputs": [
    {
     "data": {
      "text/plain": [
       "[처음 시작하는 파이썬, 전문가를 위한 파이썬]"
      ]
     },
     "execution_count": 7,
     "metadata": {},
     "output_type": "execute_result"
    }
   ],
   "source": [
    "library1.book_list"
   ]
  },
  {
   "cell_type": "markdown",
   "metadata": {},
   "source": [
    "### user 인스턴스 생성 및 대출 신청"
   ]
  },
  {
   "cell_type": "code",
   "execution_count": 8,
   "metadata": {},
   "outputs": [],
   "source": [
    "user1 = User('')"
   ]
  },
  {
   "cell_type": "code",
   "execution_count": 9,
   "metadata": {},
   "outputs": [
    {
     "name": "stdout",
     "output_type": "stream",
     "text": [
      "[처음 시작하는 파이썬] 대출이 완료되었습니다.\n"
     ]
    }
   ],
   "source": [
    "user1.borrow_book(library1, '처음 시작하는 파이썬')"
   ]
  },
  {
   "cell_type": "code",
   "execution_count": 10,
   "metadata": {},
   "outputs": [
    {
     "data": {
      "text/plain": [
       "'문형태'"
      ]
     },
     "execution_count": 10,
     "metadata": {},
     "output_type": "execute_result"
    }
   ],
   "source": [
    "user1.name"
   ]
  },
  {
   "cell_type": "code",
   "execution_count": 11,
   "metadata": {},
   "outputs": [
    {
     "data": {
      "text/plain": [
       "[처음 시작하는 파이썬]"
      ]
     },
     "execution_count": 11,
     "metadata": {},
     "output_type": "execute_result"
    }
   ],
   "source": [
    "user1.book_list"
   ]
  },
  {
   "cell_type": "code",
   "execution_count": 12,
   "metadata": {},
   "outputs": [
    {
     "name": "stdout",
     "output_type": "stream",
     "text": [
      "[아무거나]은(는) 사당 도서관 에 없습니다.\n"
     ]
    }
   ],
   "source": [
    "user1.borrow_book(library1, '아무거나')"
   ]
  },
  {
   "cell_type": "code",
   "execution_count": null,
   "metadata": {},
   "outputs": [],
   "source": []
  }
 ],
 "metadata": {
  "kernelspec": {
   "display_name": "Python 3",
   "language": "python",
   "name": "python3"
  },
  "language_info": {
   "codemirror_mode": {
    "name": "ipython",
    "version": 3
   },
   "file_extension": ".py",
   "mimetype": "text/x-python",
   "name": "python",
   "nbconvert_exporter": "python",
   "pygments_lexer": "ipython3",
   "version": "3.6.5"
  }
 },
 "nbformat": 4,
 "nbformat_minor": 2
}
