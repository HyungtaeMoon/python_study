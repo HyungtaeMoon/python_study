{
 "cells": [
  {
   "cell_type": "markdown",
   "metadata": {},
   "source": [
    "## 자료구조\n",
    "\n",
    "------------------"
   ]
  },
  {
   "cell_type": "markdown",
   "metadata": {},
   "source": [
    "### \\# 기본개념\n",
    "\n",
    "1. 자료구조의 효율성은 수행되는 연산의 `수행시간`으로 측정\n",
    "    - `수행시간` 측정 = `시간복잡도` * 공간복잡도\n",
    "\n",
    "\n",
    "\n",
    "2. 대부분의 알고리즘들이 비슷한 크기의 메모리 공간을 사용하기 때문에 `시간복잡도`가 중점이다.\n",
    "    - `시간복잡도`는 수행시간으로 명시하기도 한다."
   ]
  },
  {
   "cell_type": "markdown",
   "metadata": {},
   "source": [
    "**[!TIP]** 한줄요약: 수행시간은 시간복잡도와 공간복잡도를 기반하여 분석하지만 대부분 알고리즘은 비슷한 메모리 공간을 차지하여 시간복잡도(수행시간)이 중요하다."
   ]
  },
  {
   "cell_type": "markdown",
   "metadata": {},
   "source": [
    "\n"
   ]
  },
  {
   "cell_type": "markdown",
   "metadata": {},
   "source": [
    "### \\# 표기법은 총 3가지가 있다\n",
    "\n",
    "#### Big-Oh 표기법\n",
    "- 이보다 너 나쁠 수는 없다.(점근적 상한)\n",
    "    - 최악의 수행 시간이 될 수 있는 가능성을 판단\n",
    "\n",
    "#### Big-Omega 표기법\n",
    "- 이보다 더 좋을 수는 없다.(점근적 하한)\n",
    "\n",
    "#### Theta 표기법\n",
    "- Big-Oh 와 Big-Omega 동시 성립\n",
    "\n",
    "\n",
    "\n",
    "**[!TIP]** 점근적: 점점 가까워짐"
   ]
  },
  {
   "cell_type": "markdown",
   "metadata": {},
   "source": [
    "\n",
    "\n"
   ]
  },
  {
   "cell_type": "markdown",
   "metadata": {},
   "source": [
    "### <p style=\"text-align: center;\">[알고리즘의 수행시간]</p>"
   ]
  },
  {
   "cell_type": "markdown",
   "metadata": {},
   "source": [
    "| 표기     | 시간           |          |\n",
    "|----------|----------------|----------|\n",
    "| O(1)     | 상수시간       | 효율적   |\n",
    "| O(logN)  | 로그(대수)시간 |          |\n",
    "| O(N)     | 선형시간       |          |\n",
    "| O(NlogN) | 로그선형시간   |          |\n",
    "| O(N^2)   | 제곱시간       |          |\n",
    "| O(N^3)   | 세제곱시간     |          |\n",
    "| O(2^N)   | 지수시간       | 비효율적 |\n",
    "\n",
    "<p style=\"text-align: center;\">*(주로 O-표기를 사용)</p>"
   ]
  },
  {
   "cell_type": "markdown",
   "metadata": {},
   "source": [
    "-------------------"
   ]
  },
  {
   "cell_type": "markdown",
   "metadata": {},
   "source": [
    "\n",
    "\n"
   ]
  },
  {
   "cell_type": "markdown",
   "metadata": {},
   "source": [
    "### \\# 파이썬 언어 기본지식"
   ]
  },
  {
   "cell_type": "code",
   "execution_count": 1,
   "metadata": {},
   "outputs": [],
   "source": [
    "a = [] # 비어있는 리스트 a 선언\n",
    "b = [None] * 10 # 크기가 10//각 원소가 None 로 초기화 된 리스트\n",
    "c = [40, 10, 70, 60] # 크기가 4이고, 4개의 정수로 초기화 된 리스트"
   ]
  },
  {
   "cell_type": "markdown",
   "metadata": {},
   "source": [
    "**[!TIP]**\n",
    "- 리스트에 들어있는 값을 개수로 하지 않고 `크기`라고 부름\n",
    "    - 배열은 동일한 타입의 항목들을 저장\n",
    "    - 리스트는 다른 타입의 항목들을 저장"
   ]
  },
  {
   "cell_type": "markdown",
   "metadata": {},
   "source": [
    "\n",
    "\n"
   ]
  },
  {
   "cell_type": "markdown",
   "metadata": {},
   "source": [
    "### \\# 의사난수(Pseudo-random Number) 생성"
   ]
  },
  {
   "cell_type": "code",
   "execution_count": 2,
   "metadata": {},
   "outputs": [
    {
     "name": "stdout",
     "output_type": "stream",
     "text": [
      "--- 5.459785461425781e-05 seconds ---\n",
      "--- 0.001172780990600586 seconds ---\n"
     ]
    }
   ],
   "source": [
    "import random\n",
    "import time\n",
    "random.seed(time.time())\n",
    "a = []\n",
    "for i in range(100):\n",
    "    a.append(random.randint(1, 1000))\n",
    "    \n",
    "start_time = time.time()\n",
    "\n",
    "\n",
    "# 같은 포맷팅 방식인데 결과값이 달라보인다.\n",
    "# new 포맷팅은 e-05 에 주목: 5.62.... 에 ^-5 (마이너스 5승) 으로 보면 된다.\n",
    "print('--- {} seconds ---'.format((time.time() - start_time)))\n",
    "print('--- %s seconds ---' % (time.time() - start_time))"
   ]
  },
  {
   "cell_type": "markdown",
   "metadata": {},
   "source": [
    "\n"
   ]
  },
  {
   "cell_type": "markdown",
   "metadata": {},
   "source": [
    "\n"
   ]
  },
  {
   "cell_type": "code",
   "execution_count": 3,
   "metadata": {},
   "outputs": [
    {
     "data": {
      "text/plain": [
       "'      test'"
      ]
     },
     "execution_count": 3,
     "metadata": {},
     "output_type": "execute_result"
    }
   ],
   "source": [
    "# 포맷팅 문서를 보니 포맷팅으로 인덱싱, 슬라이싱이 가능한 것을 확인.\n",
    "# 언젠가는 사용할 수도 있을 것 같아 기억만 해두자. (*자세한 내용은 관련 문서 참조)\n",
    "\n",
    "'{:>10}'.format('test')"
   ]
  },
  {
   "cell_type": "markdown",
   "metadata": {},
   "source": [
    "\n",
    "\n"
   ]
  },
  {
   "cell_type": "markdown",
   "metadata": {},
   "source": [
    "### \\# 내장함수"
   ]
  },
  {
   "cell_type": "markdown",
   "metadata": {},
   "source": [
    "\n"
   ]
  },
  {
   "cell_type": "code",
   "execution_count": 4,
   "metadata": {},
   "outputs": [],
   "source": [
    "a = [1, 5, 4, 2, 7, 10, 11, 12]"
   ]
  },
  {
   "cell_type": "markdown",
   "metadata": {},
   "source": [
    "**lambda 함수를 사용할 경우**\n",
    "\n",
    "```\n",
    "- lambda 인자(arguments): 식(expression)\n",
    "```"
   ]
  },
  {
   "cell_type": "code",
   "execution_count": 5,
   "metadata": {},
   "outputs": [
    {
     "name": "stdout",
     "output_type": "stream",
     "text": [
      "[4, 2, 10, 12]\n"
     ]
    }
   ],
   "source": [
    "even = list(filter(lambda x: (x%2 == 0), a))\n",
    "print(even) # type: list"
   ]
  },
  {
   "cell_type": "code",
   "execution_count": 6,
   "metadata": {},
   "outputs": [
    {
     "name": "stdout",
     "output_type": "stream",
     "text": [
      "[10, 50, 40, 20, 70, 100, 110, 120]\n"
     ]
    }
   ],
   "source": [
    "ten_times = list(map(lambda x: x * 10, a))\n",
    "print(ten_times) # list a 의 각 숫자 * 10 를 리턴"
   ]
  },
  {
   "cell_type": "code",
   "execution_count": 7,
   "metadata": {},
   "outputs": [],
   "source": [
    "b = [[0, 1, 8], [7, 2, 2], [5, 3, 10], [1, 4, 5]]"
   ]
  },
  {
   "cell_type": "code",
   "execution_count": 8,
   "metadata": {},
   "outputs": [
    {
     "name": "stdout",
     "output_type": "stream",
     "text": [
      "[[7, 2, 2], [1, 4, 5], [0, 1, 8], [5, 3, 10]]\n"
     ]
    }
   ],
   "source": [
    "b.sort(key = lambda x: x[2])\n",
    "print(b) # list 의 마지막 숫자를 기준으로 정렬 b[[2번째], [4번째], [1번째], [3번째]]"
   ]
  },
  {
   "cell_type": "markdown",
   "metadata": {},
   "source": [
    "**함수로 사용할 경우**"
   ]
  },
  {
   "cell_type": "code",
   "execution_count": 9,
   "metadata": {},
   "outputs": [],
   "source": [
    "def even_method(a):\n",
    "    result = []\n",
    "    for i in a:\n",
    "        if i % 2 == 0:\n",
    "            result.append(i)\n",
    "#     return result\n",
    "    print(type(result))\n",
    "    print(result)"
   ]
  },
  {
   "cell_type": "code",
   "execution_count": 10,
   "metadata": {},
   "outputs": [
    {
     "name": "stdout",
     "output_type": "stream",
     "text": [
      "<class 'list'>\n",
      "[4, 2, 10, 12]\n"
     ]
    }
   ],
   "source": [
    "even_method(a)"
   ]
  },
  {
   "cell_type": "markdown",
   "metadata": {},
   "source": [
    "**리스트 컴프리헨션으로 구현**"
   ]
  },
  {
   "cell_type": "code",
   "execution_count": 11,
   "metadata": {},
   "outputs": [
    {
     "data": {
      "text/plain": [
       "[4, 2, 10, 12]"
      ]
     },
     "execution_count": 11,
     "metadata": {},
     "output_type": "execute_result"
    }
   ],
   "source": [
    "[i for i in a if i % 2 == 0] # type: list"
   ]
  },
  {
   "cell_type": "markdown",
   "metadata": {},
   "source": [
    "\n"
   ]
  },
  {
   "cell_type": "markdown",
   "metadata": {},
   "source": [
    "### \\# 단순연결리스트"
   ]
  },
  {
   "cell_type": "markdown",
   "metadata": {},
   "source": [
    "- 단순연결리스트는 `동적 메모리 할당`을 이용해 노드들을 한 방향으로 연결하여 리스트를 구현\n",
    "    - 동적 메모리 할당: 실행 시간동안에 메모리를 사용(C 언어는 가비지 컬렉터가 없어서 직접 해제해야 하지만 파이썬은 자동 해제)"
   ]
  },
  {
   "cell_type": "code",
   "execution_count": 12,
   "metadata": {},
   "outputs": [],
   "source": [
    "class SList:\n",
    "    class Node:\n",
    "        def __init__(self, item, link):\n",
    "            self.item = item\n",
    "            self.next = link\n",
    "            \n",
    "    def __init__(self):\n",
    "        self.head = None\n",
    "        self.size = 0\n",
    "\n",
    "    def size(self):\n",
    "        return self.size\n",
    "\n",
    "    def is_empty(self):\n",
    "        return self.size == 0\n",
    "\n",
    "    def insert_front(self, item):  # 첫 노드에 삽입\n",
    "        # 첫번째 노드가 비어있으면\n",
    "        if self.is_empty():\n",
    "            # 새로 만든 Node 객체를 self.head 에 참조\n",
    "            self.head = self.Node(item, None)\n",
    "        else:\n",
    "            # Node 에 데이터가 있다면 이번에 들어오는 Node 값을 head 에 참조\n",
    "            self.head = self.Node(item, self.head)\n",
    "        # if, else 문에서 Node 객체가 삽입되었다면 size + 1\n",
    "        self.size += 1\n",
    "\n",
    "    def insert_after(self, item, p):    # 지정한 pointer 노드 다음에 삽입\n",
    "        # pointer.next 에 노드 삽입 = Node 객체 생성(pointer 노드 다음에 item 을 삽입)\n",
    "        p.next = SList.Node(item, p.next)\n",
    "        self.size += 1\n",
    "\n",
    "    def delete_front(self):    # 첫 번째 노드를 삭제할 때\n",
    "        # 만약 지정한 노드 객체가 없다면\n",
    "        if self.is_empty():\n",
    "            # 에러를 발생\n",
    "            raise EmptyError('Underflow')\n",
    "        # 지정한 노드(item) 이 있고, 그게 head 라면\n",
    "        else:\n",
    "            # self.head 의 다음 노드를 self.head 로 참조\n",
    "            self.head = self.head.next\n",
    "            self.size -= 1\n",
    "\n",
    "    def delete_after(self, p):\n",
    "        if self.is_empty():\n",
    "            raise EmptyError('Under Flow')\n",
    "        else:\n",
    "            # p.next 가 t 와 동일한 3번째 노드에 있다. 그런데 t 가 4번째 노드로 가서 p.next 를 선언\n",
    "            # 이렇게 되면 기존의 p.next 는 노드의 연결이 끊기게 됨\n",
    "            # 한줄요약: t 의 배신\n",
    "\n",
    "            # 현재 t 와 p.next 는 동일한 곳을 가리키고 있는 상태\n",
    "            t = p.next\n",
    "            # t 는 p.next 의 다음 노드를 가리키고 p.next 에 할당\n",
    "            p.next = t.next\n",
    "            self.size -= 1\n",
    "\n",
    "    def search(self, target):\n",
    "        p = self.head\n",
    "        # 노드가 5개라면 총 5번을 순회(k: 인덱스)\n",
    "        for k in range(self.size):\n",
    "            # 파라미터로 받은 target 과 p.item 을 비교하여\n",
    "            if target == p.item:\n",
    "                # 인덱스 값을 반환\n",
    "                return k\n",
    "            # 만약 target 과 p.item 이 다르다면 p 를 다음 노드로 이동시킴\n",
    "            p = p.next\n",
    "        # 검색에 실패할 경우 None 를 반환\n",
    "        return None\n",
    "\n",
    "    def print_list(self):\n",
    "        p = self.head\n",
    "        while p:\n",
    "            if p != None:\n",
    "                print(p.item, '->', end='')\n",
    "            else:\n",
    "                print(p.item)\n",
    "            p = p.next\n",
    "\n",
    "class EmptyError(Exception):\n",
    "    pass\n"
   ]
  },
  {
   "cell_type": "code",
   "execution_count": 13,
   "metadata": {},
   "outputs": [
    {
     "name": "stdout",
     "output_type": "stream",
     "text": [
      "pear ->apple ->orange ->cherry ->cherry 는 3번째\n",
      "kiwi 는\n",
      "pear ->orange ->cherry ->첫 노드 삭제 후:\t \torange ->cherry ->첫 노드로 망고, 딸기 삽입 후:\tstrawberry ->mango ->orange ->cherry ->오렌지 다음 노드 삭제 후:\tstrawberry ->mango ->orange ->"
     ]
    }
   ],
   "source": [
    "s = SList()\n",
    "s.insert_front('orange')\n",
    "s.insert_front('apple')\n",
    "s.insert_after('cherry', s.head.next)\n",
    "s.insert_front('pear')\n",
    "s.print_list()\n",
    "print('cherry 는 {}번째'.format(s.search('cherry')))\n",
    "print('kiwi 는'.format(s.search('kiwi')))\n",
    "s.delete_after(s.head)\n",
    "s.print_list()\n",
    "print('첫 노드 삭제 후:\\t \\t', end='')\n",
    "s.delete_front()\n",
    "s.print_list()\n",
    "print('첫 노드로 망고, 딸기 삽입 후:\\t', end='')\n",
    "s.insert_front('mango')\n",
    "s.insert_front('strawberry')\n",
    "s.print_list()\n",
    "s.delete_after(s.head.next.next)\n",
    "print('오렌지 다음 노드 삭제 후:\\t', end='')\n",
    "s.print_list()"
   ]
  },
  {
   "cell_type": "markdown",
   "metadata": {},
   "source": [
    "\n",
    "\n"
   ]
  },
  {
   "cell_type": "markdown",
   "metadata": {},
   "source": [
    "### \\# 이중연결리스트"
   ]
  },
  {
   "cell_type": "markdown",
   "metadata": {},
   "source": [
    "이중연결리스트는 각 노드가 두 개의 레퍼런스를 가지고 각각 이전 노드와 다음 노드를 가리키는 연결리스트"
   ]
  },
  {
   "cell_type": "code",
   "execution_count": 14,
   "metadata": {},
   "outputs": [],
   "source": [
    "class DList:\n",
    "    class Node:\n",
    "        def __init__(self, item, prev, link):\n",
    "            self.item = item\n",
    "            self.prev = prev\n",
    "            self.next = link\n",
    "\n",
    "    def __init__(self):\n",
    "        self.head = self.Node(None, None, None)\n",
    "        self.tail = self.Node(None, self.head, None)\n",
    "        self.head.next = self.tail\n",
    "        self.size = 0\n",
    "\n",
    "    def size(self):\n",
    "        return self.size\n",
    "\n",
    "    def is_empty(self):\n",
    "        return self.size == 0\n",
    "\n",
    "    def insert_before(self, p, item):   # 지정한 p 노드 앞에 삽입\n",
    "        # t 변수에 지정한 pointer 의 앞 객체를 참조\n",
    "        t = p.prev\n",
    "        # Node 객체를 만드는데 prev 는 p.prev, p 는 새로운 Node 가 아닌 '뒤로 밀리게 되는 Node'가 된다\n",
    "        # 앞과 뒤의 Node 를 연결하고 n 변수에 할당\n",
    "        n = self.Node(item, t, p)\n",
    "        # 새로 만들어진 Node 객체 n 의 앞과 뒤를 연결해준다\n",
    "        p.prev = n\n",
    "        t.next = n\n",
    "        # Node 객체가 만들어졌기 때문에 데이터의 크기(size +1) 을 시켜줌\n",
    "        self.size += 1\n",
    "\n",
    "    def insert_after(self, p, item):    # 지정한 p 노드 뒤에 삽입\n",
    "        # t 변수에 지정한 pointer 의 다음 객체를 참조\n",
    "        t = p.next\n",
    "        # Node 객체를 만드는데 p 에 현재 지정한 Node, t 에는 현재 지정한 객체의 다음 Node 를 가리킴\n",
    "        # p 와 t 노드 사이에 n Node 객체를 만들어줌\n",
    "        n = self.Node(item, p, t)\n",
    "        # 새로 만들어진 n Node 객체의 앞과 뒤(p와 t)를 n 에 연결시켜준다\n",
    "        t.prev = n\n",
    "        p.next = n\n",
    "\n",
    "    def delete(self, x):    # x 의 연결을 끊고, f 와 r 을 이어줌\n",
    "        # forward 변수에 x 의 앞 노드를 가리킴\n",
    "        f = x.prev\n",
    "        # rear 변수에 x 의 다음 노드를 가리킴\n",
    "        r = x.next\n",
    "        # x 노드를 삭제하기 위해 f 노드는 을 가리키고, r 노드는 f 를 가리킴\n",
    "        # 이로써 x 의 연결이 끊어짐, 연결이 끊어졌다는건 이 연결 리스트에서 제외되었다는 뜻\n",
    "        f.next = r\n",
    "        r.prev = f\n",
    "        self.size -= 1\n",
    "        # x 의 실제 값을 return 시켜줌\n",
    "        return x.item\n",
    "\n",
    "    def print_list(self):\n",
    "        if self.is_empty():\n",
    "            print('리스트 비어있음')\n",
    "        else:\n",
    "            # pointer 가 self.head 가 아닌 self.head.next 를 가리키는 이유는??\n",
    "            # 내 생각에는 pointer 가 self.head 를 가리켜야 head 부터 p.item 을 print 할텐데..\n",
    "            p = self.head.next\n",
    "            # p 가 tail 이 아니라면 while 문 안에서 무한 순회\n",
    "            while p != self.tail:\n",
    "                # pointer 의 next Node 객체가 tail 이 아니라면\n",
    "                if p.next != self.tail:\n",
    "                    # p.item(입력한 값)을 출력\n",
    "                    print(p.item, ' <--> ', end='')\n",
    "                # self.tail 일 경우에는\n",
    "                else:\n",
    "                    # p.item(입력한 값)을 출력, 이 값은 tail 의 값이 되어 while 문 종료\n",
    "                    print(p.item)\n",
    "                # 위의 if 문이 true 이면 pointer 는 다음 Node 객체를 가리키게 설정\n",
    "                p = p.next\n",
    "\n",
    "\n",
    "class EmptyError(Exception):\n",
    "    pass\n"
   ]
  },
  {
   "cell_type": "code",
   "execution_count": 15,
   "metadata": {},
   "outputs": [
    {
     "name": "stdout",
     "output_type": "stream",
     "text": [
      "apple  <--> pear  <--> orange  <--> cherry\n",
      "마지막 노드 삭제 후:\tapple  <--> pear  <--> orange\n",
      "맨 끝에 포도 삽입 후:\tapple  <--> pear  <--> orange  <--> grape\n",
      "첫 노드 삭제 후:\tpear  <--> orange  <--> grape\n",
      "첫 노드 삭제 후:\t리스트 비어있음\n",
      "첫 노드 삭제 후:\tgrape\n"
     ]
    }
   ],
   "source": [
    "s = DList()\n",
    "s.insert_after(s.head, 'apple')\n",
    "s.insert_before(s.tail, 'orange')\n",
    "s.insert_before(s.tail, 'cherry')\n",
    "s.insert_after(s.head.next, 'pear')\n",
    "s.print_list()\n",
    "print('마지막 노드 삭제 후:\\t', end='')\n",
    "s.delete(s.tail.prev)\n",
    "s.print_list()\n",
    "print('맨 끝에 포도 삽입 후:\\t', end='')\n",
    "s.insert_before(s.tail, 'grape')\n",
    "s.print_list()\n",
    "print('첫 노드 삭제 후:\\t', end='')\n",
    "s.delete(s.head.next)\n",
    "s.print_list()\n",
    "print('첫 노드 삭제 후:\\t', end='')\n",
    "s.delete(s.head.next)\n",
    "s.print_list()\n",
    "print('첫 노드 삭제 후:\\t', end='')\n",
    "s.delete(s.head.next)\n",
    "s.print_list()"
   ]
  },
  {
   "cell_type": "markdown",
   "metadata": {},
   "source": [
    "\n"
   ]
  },
  {
   "cell_type": "markdown",
   "metadata": {},
   "source": [
    "### \\# 원형연결리스트"
   ]
  },
  {
   "cell_type": "code",
   "execution_count": 16,
   "metadata": {},
   "outputs": [],
   "source": [
    "class CList:\n",
    "    class _Node:\n",
    "        def __init__(self, item, link):\n",
    "            self.item = item\n",
    "            self.next = link\n",
    "\n",
    "    def __init__(self):\n",
    "        self.last = None\n",
    "        self.size = 0\n",
    "\n",
    "    # Node 의 size(데이터 크기)를 리턴\n",
    "    def no_items(self):\n",
    "        return self.size\n",
    "\n",
    "    # Node 가 비어있을 때의 상황을 함수화 시켜놓음\n",
    "    # self.is_empty() 로 메서드를 불러 사용하기 때문에 가독성이 좋아짐\n",
    "    def is_empty(self):\n",
    "        return self.size == 0\n",
    "\n",
    "    def insert(self, item):\n",
    "        # n 변수에 새로운 Node 객체를 생성\n",
    "        n = self._Node(item, None)\n",
    "        # Note List 가 비어있다면\n",
    "        if self.is_empty():\n",
    "            # Node 객체의 next 를 자신을 참조하면서, last 로 참조(레퍼런스 카운트 2)\n",
    "            n.next = n\n",
    "            self.last = n\n",
    "        # CList 에 Node 객체가 존재한다면\n",
    "        else:\n",
    "            # self.last.next(즉 첫번째 생성한 Node 의 다음) 에 n.next 할당\n",
    "            n.next = self.last.next\n",
    "            # 새로 만든 Node 는 첫번째 노드의 다음에 위치한다\n",
    "            self.last.next = n\n",
    "        self.size += 1\n",
    "\n",
    "    def first(self):\n",
    "        if self.is_empty():\n",
    "            raise EmptyError('Underflow')\n",
    "        f = self.last.next\n",
    "        return f.item\n",
    "\n",
    "    def delete(self):\n",
    "        if self.is_empty():\n",
    "            raise EmptyError('Underflow')\n",
    "        x = self.last.next\n",
    "        if self.size == 1:\n",
    "            self.last = None\n",
    "        else:\n",
    "            self.last.next = x.next\n",
    "        self.size -= 1\n",
    "        return x.item\n",
    "\n",
    "    def print_list(self):\n",
    "        if self.is_empty():\n",
    "            print('리스트 비어있음')\n",
    "        else:\n",
    "            f = self.last.next\n",
    "            p = f\n",
    "            while p.next != f:\n",
    "                print(p.item, ' -> ', end='')\n",
    "                p = p.next\n",
    "            print(p.item)\n",
    "\n",
    "\n",
    "class EmptyError(Exception):\n",
    "    pass"
   ]
  },
  {
   "cell_type": "code",
   "execution_count": 17,
   "metadata": {},
   "outputs": [
    {
     "name": "stdout",
     "output_type": "stream",
     "text": [
      "apple  -> orange  -> cherry  -> pear\n",
      "s의 길이 = 4\n",
      "s의 첫 항목 : apple\n",
      "첫번째 노드 삭제 후: orange  -> cherry  -> pear\n",
      "s의 길이 = 3\n",
      "s의 첫 항목:  orange\n",
      "첫번째 노드 삭제 후: cherry  -> pear\n",
      "첫번째 노드 삭제 후: pear\n",
      "첫번째 노드 삭제 후: 리스트 비어있음\n"
     ]
    }
   ],
   "source": [
    "s = CList()\n",
    "s.insert('pear')\n",
    "s.insert('cherry')\n",
    "s.insert('orange')\n",
    "s.insert('apple')\n",
    "s.print_list()\n",
    "print('s의 길이 =', s.no_items())\n",
    "print('s의 첫 항목 :', s.first())\n",
    "s.delete()\n",
    "print('첫번째 노드 삭제 후: ', end='')\n",
    "s.print_list()\n",
    "print('s의 길이 =', s.no_items())\n",
    "print('s의 첫 항목: ', s.first())\n",
    "s.delete()\n",
    "print('첫번째 노드 삭제 후: ', end='')\n",
    "s.print_list()\n",
    "s.delete()\n",
    "print('첫번째 노드 삭제 후: ', end='')\n",
    "s.print_list()\n",
    "s.delete()\n",
    "print('첫번째 노드 삭제 후: ', end='')\n",
    "s.print_list()"
   ]
  },
  {
   "cell_type": "markdown",
   "metadata": {},
   "source": [
    "\n"
   ]
  },
  {
   "cell_type": "markdown",
   "metadata": {},
   "source": [
    "### \\# 스택과 큐"
   ]
  },
  {
   "cell_type": "code",
   "execution_count": 18,
   "metadata": {},
   "outputs": [
    {
     "name": "stdout",
     "output_type": "stream",
     "text": [
      "사과, 오렌지, 체리  push 후\t\n",
      "top -> cherry \n",
      "orange \n",
      "apple \n",
      "\n",
      "top 항목:cherry\n",
      "\n",
      "[배(pear) push 후]\n",
      "top -> pear \n",
      "cherry \n",
      "orange \n",
      "apple \n",
      "\n",
      "[pop(), 포도(grape) push 후]\n",
      "top -> grape \n",
      "cherry \n",
      "orange \n",
      "apple \n",
      "\n"
     ]
    }
   ],
   "source": [
    "class Node:\n",
    "    # 전역변수 top 에 생성자함수를 사용한 노드를 생성\n",
    "    # top = Node(item, top)\n",
    "    def __init__(self, item, link):\n",
    "        self.item = item\n",
    "        self.next = link\n",
    "        \n",
    "def push(item):\n",
    "    # 전역변수 top/size 선언\n",
    "    global top\n",
    "    global size\n",
    "    # 새로운 노드를 push 할 때는 스택구조이기 때문에, 항상 top = 새로 생성한 노드\n",
    "    top = Node(item, top)\n",
    "    size += 1\n",
    "    \n",
    "def peek():\n",
    "    if size != 0:\n",
    "        # top 인스턴스의 item 속성에 접근\n",
    "        return top.item\n",
    "    \n",
    "def pop():\n",
    "    # pop 은 해당 스택에서 최상위에 있는 리스트의 값을 꺼내야 함\n",
    "    global top\n",
    "    global size\n",
    "    if size != 0:\n",
    "        # 해당 스택에서 top.item 을 임의의 변수 top_item 으로 할당\n",
    "        # (이 변수에 할당된 값이 return 됨)\n",
    "        top_item = top.item\n",
    "        # 바로 아래에 있는 리스트의 값을 새로운 top 으로 포인터 지정\n",
    "        top = top.next\n",
    "        size -= 1\n",
    "        # 위에서 지정한 임의의 변수 top_item 을 리턴\n",
    "        # 리턴은 함수를 부르면 1번만 실행되기 때문에\n",
    "        # top_item 이 존재하지 않는다는 에러메시지는 발생하지 않음\n",
    "        return top_item\n",
    "    \n",
    "def print_stack():\n",
    "    print('top -> ', end='')\n",
    "    p = top\n",
    "    while p:\n",
    "        # stack 구조상 바로 아래에 아이템이 있을 경우 if 처리\n",
    "        if p.next != None:\n",
    "            print(p.item, '\\n', end='')\n",
    "        # stack 에서 가장 아래에 아이템일 경우 else 처리\n",
    "        else:\n",
    "            print(p.item, '\\n', end='')\n",
    "        # if, else 문에서 처리하고 바로 아래의 item 을 .next 에 할당\n",
    "        p = p.next\n",
    "    print()\n",
    "\n",
    "\n",
    "top = None\n",
    "size = 0\n",
    "push('apple')\n",
    "push('orange')\n",
    "push('cherry')\n",
    "print('사과, 오렌지, 체리  push 후\\t', end='')\n",
    "print()\n",
    "\n",
    "print_stack()\n",
    "print('top 항목:', end='')\n",
    "print(peek())\n",
    "print()\n",
    "\n",
    "push('pear')\n",
    "print('[배(pear) push 후]\\n', end='')\n",
    "print_stack()\n",
    "pop()\n",
    "push('grape')\n",
    "print('[pop(), 포도(grape) push 후]\\n', end='')\n",
    "print_stack()"
   ]
  },
  {
   "cell_type": "markdown",
   "metadata": {},
   "source": [
    "\n"
   ]
  },
  {
   "cell_type": "markdown",
   "metadata": {},
   "source": [
    "[!TIP]\n",
    "> 알고리즘의 수행시간은 주로 big-O 표기법(이보다 나쁠 수는 없다.) 로 표현하며, 단순연결리스트로 구현한 stack 에서 push, pop 은 `O(1)` 시간이 소요\n",
    "\n",
    "> 그러나 우리 눈에는 보이지 않지만 파이썬의 리스트 크기는 동적으로 자동으로 확장/축소 되며, 모든 항목은 새로운 리스트로 복사해야 하기 때문에 `O(N)` 시간이 소요"
   ]
  },
  {
   "cell_type": "markdown",
   "metadata": {},
   "source": [
    "| 표기     | 시간           | 비고         |\n",
    "|----------|----------------|----------|\n",
    "| O(1)     | 상수시간       | 효율적 **(단순연결리스트 push, pop)**   |\n",
    "| O(logN)  | 로그(대수)시간 |          |\n",
    "| O(N)     | 선형시간       |          |\n",
    "| O(NlogN) | 로그선형시간   |          |\n",
    "| O(N^2)   | 제곱시간       |          |\n",
    "| O(N^3)   | 세제곱시간     |          |\n",
    "| O(2^N)   | 지수시간       | 비효율적 |\n",
    "\n",
    "<p style=\"text-align: center;\">*(주로 O-표기를 사용)</p>"
   ]
  },
  {
   "cell_type": "markdown",
   "metadata": {},
   "source": [
    "\n",
    "\n"
   ]
  },
  {
   "cell_type": "markdown",
   "metadata": {},
   "source": [
    "#### \\# 스택의 응용\n",
    "\n",
    "1. 괄호 짝 맞추기\n",
    "    - 왼쪽 괄호는 스택에 push, 오른쪽 괄호는 스택에 pop 하여 짝이 맞지 않을 경우 에러를 발생\n",
    "\n",
    "\n",
    "2. 회문(Palindrome)\n",
    "    - 앞으로부터 읽으나 뒤로부터 읽으나 같은 string type 을 검사  예) RACECAR\n",
    "    - 전반부의 문자들을 스택에 push, 후반부의 각 문자를 차례로 pop 한 문자와 비교\n"
   ]
  },
  {
   "cell_type": "markdown",
   "metadata": {},
   "source": [
    "\n",
    "\\# RACECAR\n",
    "\n",
    "\\# RAC 는 stack 에 push 하고, pop은 역순으로 나오기 때문에 CAR 이 나옴\n",
    "\n",
    "step7. pop(`R`)\n",
    "\n",
    "step6. pop(`A`)\n",
    "\n",
    "step5. pop(`C`)\n",
    "\n",
    "step4. `E` 는 읽고 버림\n",
    "\n",
    "step3. push(`C`)\n",
    "\n",
    "step2. push(`A`)\n",
    "\n",
    "step1. push(`R`)"
   ]
  },
  {
   "cell_type": "markdown",
   "metadata": {},
   "source": [
    "\n"
   ]
  },
  {
   "cell_type": "markdown",
   "metadata": {},
   "source": [
    "### \\# 큐"
   ]
  },
  {
   "cell_type": "markdown",
   "metadata": {},
   "source": [
    "- 단순연결리스트로 구현한 큐\n",
    "    - CPU 의 태스트 스케줄링, 네트워크 프린터, 실시간 시스템의 인터럽트 처리, 다양한 이벤트 구동 방식 컴퓨터 시뮬레이션, 콜 센터의 전화 서비스 처리 등\n",
    "    - 이진트리의 레벨순회, 그래프의 너비우선탐색"
   ]
  },
  {
   "cell_type": "code",
   "execution_count": 19,
   "metadata": {},
   "outputs": [],
   "source": [
    "class Node:\n",
    "    def __init__(self, item, n):\n",
    "        self.item = item\n",
    "        self.next = n\n",
    "        \n",
    "def add(item):\n",
    "    # 전역변수로 size, front, rear 선언\n",
    "    # 전역변수를 선언하면 해당 함수가 종료되도 메모리 공간 어디엔가 존재\n",
    "    global size\n",
    "    global front\n",
    "    global rear\n",
    "    # 새로운 Node 를 생성하고, link 는 없음\n",
    "    new_node = Node(item, None)\n",
    "    if size == 0:\n",
    "        front = new_node\n",
    "    else:\n",
    "        # 이미 Node 가 존재한다면 리스트의 맨 뒤.next 를 새로 만든 Node 로 지정\n",
    "        rear.next = new_node\n",
    "    rear = new_node\n",
    "    size += 1\n",
    "\n",
    "# remove 는 파라미터를 따로 받지 않고, 전역변수 자체에 접근하여 연산 처리를 진행\n",
    "def remove():\n",
    "    global size\n",
    "    global front\n",
    "    global rear\n",
    "    if size != 0:\n",
    "        # 큐 구조는 맨 처음에 들어간 front 의 값을 return 시킴\n",
    "        # front.item 을 따로 변수로 지정, front.next 의 값을 front 변수로 지정\n",
    "        fitem = front.item\n",
    "        front = front.next\n",
    "        size -= 1\n",
    "        if size == 0:\n",
    "            rear = None\n",
    "        # return 시킴으로 인해서 리스트의 길이가 -1 됨\n",
    "        return fitem\n",
    "    \n",
    "def print_q():\n",
    "    p = front\n",
    "    print('front: ', end='')\n",
    "    while p:\n",
    "        if p.next != None:\n",
    "            print(p.item, '-> ', end='')\n",
    "        else:\n",
    "            print(p.item, end='')\n",
    "        p = p.next\n",
    "    print(' : rear')"
   ]
  },
  {
   "cell_type": "code",
   "execution_count": 20,
   "metadata": {},
   "outputs": [
    {
     "name": "stdout",
     "output_type": "stream",
     "text": [
      "사과, 오렌지, 체리, 배 삽입 후: \tfront: apple -> orange -> cherry -> pear : rear\n",
      "remove한 후:\t\tfront: orange -> cherry -> pear : rear\n",
      "remove한 후:\t\tfront: cherry -> pear : rear\n",
      "포도 삽입 후:\t\tfront: cherry -> pear -> grape : rear\n"
     ]
    }
   ],
   "source": [
    "front = None\n",
    "rear = None\n",
    "size = 0\n",
    "\n",
    "add('apple')\n",
    "add('orange')\n",
    "add('cherry')\n",
    "add('pear')\n",
    "print('사과, 오렌지, 체리, 배 삽입 후: \\t', end='')\n",
    "print_q()\n",
    "remove()\n",
    "print('remove한 후:\\t\\t', end='')\n",
    "print_q()\n",
    "remove()\n",
    "print('remove한 후:\\t\\t', end='')\n",
    "print_q()\n",
    "add('grape')\n",
    "print('포도 삽입 후:\\t\\t', end='')\n",
    "print_q()"
   ]
  },
  {
   "cell_type": "markdown",
   "metadata": {},
   "source": [
    "\n"
   ]
  },
  {
   "cell_type": "markdown",
   "metadata": {},
   "source": [
    "### \\# 데크(Deque)"
   ]
  },
  {
   "cell_type": "markdown",
   "metadata": {},
   "source": [
    "- (Double-ended Queue, Deque)는 양쪽 끝에서 삽입과 삭제를 허용하는 자료구조\n",
    "- 데크는 스택과 큐 자료구조를 혼합한 자료구조\n"
   ]
  },
  {
   "cell_type": "code",
   "execution_count": 21,
   "metadata": {},
   "outputs": [
    {
     "name": "stdout",
     "output_type": "stream",
     "text": [
      "D\n",
      "A\n",
      "T\n",
      "A\n",
      "\n",
      "deque(['k', 'd', 'a', 't', 'a', 'r'])\n",
      "a\n",
      "False\n",
      "deque(['p', 'y', 't', 'h', 'o', 'n', 'd', 'a', 't', 'a', 's', 't', 'r', 'u', 'c', 't', 'u', 'r', 'e'])\n"
     ]
    }
   ],
   "source": [
    "from collections import deque\n",
    "dq = deque('data') # deque 객체 생성, deque(['d', 'a', 't', 'a'])\n",
    "for elem in dq:\n",
    "    print(elem.upper())\n",
    "print()\n",
    "# 하나의 문자열로 해당 리스트에 삽입\n",
    "dq.append('r')\n",
    "dq.appendleft('k')\n",
    "print(dq)\n",
    "dq.pop()\n",
    "dq.popleft()\n",
    "print(dq[-1])\n",
    "print('x' in dq)\n",
    "# 문자열이 아닌 각 문자마다 dq 리스트에 추가\n",
    "dq.extend('structure')\n",
    "dq.extendleft(reversed('python'))\n",
    "print(dq)"
   ]
  },
  {
   "cell_type": "markdown",
   "metadata": {},
   "source": [
    "\n"
   ]
  },
  {
   "cell_type": "markdown",
   "metadata": {},
   "source": [
    "### \\# 트리"
   ]
  },
  {
   "cell_type": "markdown",
   "metadata": {},
   "source": [
    "#### 이진트리\n",
    "\n",
    "1. 각 노드의 자식 수가 2 이하인 트리\n",
    "    - 이진트리는 1. 비어있거나 // 2. 비어있지 않다면 루트와 2개의 이진트리인 왼쪽 서브트리와 오른쪽 서브트리로 구성\n",
    "    \n",
    "\n",
    "2. 이진트리의 형태\n",
    "    - 포화이진트리, 완전이진트리(또는 불완전한 이진트리)\n",
    "    \n",
    "    \n",
    "3. 리스트에 저장해야 효율적인 이진트리와 그렇지 않은 이진트리\n",
    "    - 완전이진트리(또는 포화이진트리)는 리스트에 꽉꽉 채워져있어(메모리에 순서대로 저장) 효율적이다.\n",
    "    - 그렇지만 편향이진트리는 리스트에 듬성듬성 값이 채워져있어(메모리에 듬성듬성 저장) 비효율적이다.\n",
    "\n",
    "\n",
    "4. 재귀함수로 호출\n",
    "    - 재귀함수로 호출하면 바로 이전의 데이터값은 재귀함수의 호출 위치에 머물러있다가, 재귀함수 호출값이 다음 코드로 넘어갔을 때 그 함수 호출 값을 처리한다......(말로 하니 어렵다)\n",
    "    \n",
    "    \n",
    "5. 스택프레임에 쌓이는 것은 재귀함수\n",
    "    - 레벨순회를 제외하고는 모두 스택 자료구조를 사용\n",
    "    - 함수의 재귀호출은 시스템 스택을 사용하므로 스택 자료구조를 사용한 것으로 간주\n",
    "    - 스택에 사용되는 메모리 공간의 크기는 트리의 높이에 비례"
   ]
  },
  {
   "cell_type": "markdown",
   "metadata": {},
   "source": [
    "\n"
   ]
  },
  {
   "cell_type": "code",
   "execution_count": 22,
   "metadata": {},
   "outputs": [],
   "source": [
    "class Node:\n",
    "    def __init__(self, item, left=None, right=None):\n",
    "        self.item = item\n",
    "        self.left = left\n",
    "        self.right = right\n",
    "        \n",
    "class BinaryTree:\n",
    "    def __init__(self):\n",
    "        self.root = None\n",
    "        \n",
    "    def preorder(self, n):\n",
    "        # 재귀함수로 root 를 기준으로 계속해서 하위 레벨의 노드를 호출\n",
    "        # 최하위의 레벨의 노드가 종료되면, 그 부모 레벨의 노드에 대한 print()\n",
    "        # 즉, 1레벨, 2레벨, 3레벨의 순서로 스택프레임은 쌓였기 때문에 3레벨, 2레벨, 1레벨의 순으로 연산 처리를 진행\n",
    "        if n != None:\n",
    "            print(str(n.item), ' ', end='')\n",
    "            if n.left:\n",
    "                self.preorder(n.left)\n",
    "            if n.right:\n",
    "                self.preorder(n.right)\n",
    "                \n",
    "    def inorder(self, n):\n",
    "        if n != None:\n",
    "            if n.left:\n",
    "                self.preorder(n.left) # 루트 노드부터 스택프레임이 차곡차곡 쌓여있음\n",
    "            print(str(n.item), ' ', end='')\n",
    "            if n.right:\n",
    "                self.preorder(n.right)\n",
    "                \n",
    "    def postorder(self, n):\n",
    "        if n != None:\n",
    "            if n.left:\n",
    "                self.postorder(n.left)\n",
    "            if n.right:\n",
    "                self.postorder(n.right)\n",
    "            print(str(n.item), ' ', end='')\n",
    "            \n",
    "    def levelorder(self, root):\n",
    "        q = []\n",
    "        q.append(root)\n",
    "        # 노드는 while 문을 기준으로 계속 순회한다\n",
    "        while len(q) != 0:\n",
    "            t = q.pop(0)\n",
    "            print(str(t.item), ' ', end='')\n",
    "            # 부모노드의 자식노드들을 계속해서 q 리스트에 추가, 그러나 print()는 부모 노드가 출력\n",
    "            if t.left:\n",
    "                q.append(t.left)\n",
    "            if t.right:\n",
    "                q.append(t.right)\n",
    "\n",
    "    def height(self, root):\n",
    "        if root == None:\n",
    "            return 0\n",
    "        return max(self.height(root.left), self.height(root.right)) + 1\n",
    "    "
   ]
  },
  {
   "cell_type": "code",
   "execution_count": 23,
   "metadata": {},
   "outputs": [
    {
     "name": "stdout",
     "output_type": "stream",
     "text": [
      " 트리 높이 = 4\n",
      " 전위순회: \t100  200  400  800  500  300  600  700  \n",
      " 중위순회: \t200  400  800  500  100  300  600  700  \n",
      " 후위순회: \t800  400  500  200  600  700  300  100  \n",
      " 레벨순회: \t100  200  300  400  500  600  700  800  "
     ]
    }
   ],
   "source": [
    "t = BinaryTree()\n",
    "n1 = Node(100)\n",
    "n2 = Node(200)\n",
    "n3 = Node(300)\n",
    "n4 = Node(400)\n",
    "n5 = Node(500)\n",
    "n6 = Node(600)\n",
    "n7 = Node(700)\n",
    "n8 = Node(800)\n",
    "n1.left = n2\n",
    "n1.right = n3\n",
    "n2.left = n4\n",
    "n2.right = n5\n",
    "n3.left = n6\n",
    "n3.right = n7\n",
    "n4.left = n8\n",
    "t.root = n1\n",
    "\n",
    "print(' 트리 높이 =', t.height(t.root))\n",
    "print(' 전위순회: \\t', end='')\n",
    "t.preorder(t.root)\n",
    "print('\\n 중위순회: \\t', end='')\n",
    "t.inorder(t.root)\n",
    "print('\\n 후위순회: \\t', end='')\n",
    "t.postorder(t.root)\n",
    "print('\\n 레벨순회: \\t', end='')\n",
    "t.levelorder(t.root)"
   ]
  },
  {
   "cell_type": "markdown",
   "metadata": {},
   "source": [
    "\n",
    "\n"
   ]
  },
  {
   "cell_type": "markdown",
   "metadata": {},
   "source": [
    "### \\# 이진힙"
   ]
  },
  {
   "cell_type": "markdown",
   "metadata": {},
   "source": [
    "1. 최소힙과 최대힙으로 구분\n",
    "    - 최소힙에서 최소값의 삭제는 루트 노드를 삭제하고, 최하위(최대값)을 루트노드에 삽입하여 자식 노드와 비교하여 결과값 리턴(다운힙)\n",
    "    \n",
    "    \n",
    "2. 이진힙의 사용\n",
    "    - 우선순위를 가진 데이터를 처리하는 자료구조로서, 관공서, 은행, 병원, 우체국, 대형마켓, 공항 등에서 이루어지는 업무와 관련된 이벤트 처리, 컴퓨터 운영체제의 프로세스 처리, 네트워크 라우터에서의 패킷 처리 등에 적합한 자료구조\n",
    "    - **실시간 급상승 검색어(데이터 스트림에서 Top k 항목을 유지) 제공을 위한 적절한 자료구조**\n",
    "    \n",
    "    \n",
    "3. 검색어 구현\n",
    "    - real_time_rank = \\[[76, '파이썬'], [43, '자바'], [32, '고']\\]\n",
    "        - 여기서 갑자기 \\[[120, '인공지능']\\] 검색어가 급상승한다면?? 이진힙에서 최대힙으로 구현\n",
    "        \n",
    "        \n",
    "4. upheap, downheap\n",
    "    - 삽입할 때는 upheap() 이 사용된다. 즉, 노드 추가는 최하위에 삽입되고 해당 부모노드와 비교하여 작으면 더 위로 올라가게 되는 구조\n",
    "    - 삭제할 때는 downheap() 이 사용된다. 최상위 노드를 삭제하고, 그 자리에 최하위 노드를 추가하여 둘이서 스와핑을 진행.\n",
    "        - *스와핑: 최상위, 최하위 = 최하위, 최상위\n",
    "        - 최하위가 완전부모 노드에 있기 때문에 자식 노드와 비교하면서 아래로 내려가게 되는 자료구조"
   ]
  },
  {
   "cell_type": "code",
   "execution_count": 24,
   "metadata": {},
   "outputs": [],
   "source": [
    "class BHeap:\n",
    "    def __init__(self, a): # 이진힙 생성자\n",
    "        self.a = a # 리스트 a\n",
    "        self.N = len(a) -1 # 항목 수\n",
    "        \n",
    "    def create_heap(self): # 초기힙 생성\n",
    "        # start 는 항목 수, end 는 모든 항목이 순회할 때까지, step 는 역순으로\n",
    "        # 즉, 항목 수 -1 해서 역순으로 이진힙을 순회\n",
    "        for i in range(self.N//2, 0, -1):\n",
    "            self.downheap(i)\n",
    "            \n",
    "    def insert(self, key_value):\n",
    "        self.N += 1\n",
    "        self.a.append(key_value)\n",
    "        self.upheap(self.N)\n",
    "        \n",
    "    def delete_min(self): #최소값 삭제\n",
    "        if self.N == 0:\n",
    "            print('힙이 비어있음')\n",
    "            return None\n",
    "        # 최상위 노드에 있는 루트 노드가 최소값이 되며 이를 minimum 변수에 할당\n",
    "        # minimum 변수에 해당 값을 할당했으니, a[1] 의 실제값은 레퍼런스 카운트 2\n",
    "        # a[1] 이 다른 값을 참조해도 minimum 은 최소값을 참조한 상태이다(헷갈리지 말 것!!!!)\n",
    "        minimum = a[1] \n",
    "        self.a[1], self.a[-1] = self.a[-1], self.a[1] # 최소값과 최대값을 스위칭\n",
    "        del self.a[-1] # 스위칭 된 최소값을 삭제\n",
    "        self.N -= 1 # 삭제했으니 항목 수도 -1\n",
    "        self.downheap(1)\n",
    "        return minimum\n",
    "    \n",
    "    def downheap(self, i):\n",
    "        while 2 * i <= self.N:\n",
    "            k = 2 * i\n",
    "            # k 인덱스가 크다면 k+1 인덱스가 최소값으로 지정되어야 함\n",
    "            if k < self.N and self.a[k][0] > self.a[k+1][0]:\n",
    "                k += 1\n",
    "            if self.a[i][0] < self.a[k][0]:\n",
    "                break\n",
    "            self.a[i], self.a[k] = self.a[k], self.a[i]\n",
    "            i = k\n",
    "            \n",
    "    def upheap(self, j): # 힙 올라가며 힙속성 회복\n",
    "        # j 는 항목수(리스트의 개수)\n",
    "        while j > 1 and self.a[j//2][0] > self.a[j][0]:\n",
    "            # 부모노드와 자식노드를 교환\n",
    "            self.a[j], self.a[j//2] = self.a[j//2], self.a[j]\n",
    "            j = j//2 # 노드가 한 층 올라감\n",
    "            \n",
    "    def print_heap(self):\n",
    "        for i in range(1, self.N+1):\n",
    "            print('[%2d' % self.a[i][0], self.a[i][1], ']', end='')\n",
    "        print('\\n힙 크기 = ', self.N)\n",
    "                "
   ]
  },
  {
   "cell_type": "code",
   "execution_count": 25,
   "metadata": {},
   "outputs": [
    {
     "name": "stdout",
     "output_type": "stream",
     "text": [
      "힙 만들기 전:\n",
      "[90 watermelon ][80 pear ][70 melon ][60 lime ][50 mango ][40 cherry ][30 grape ][20 orange ][10 apricot ][15 banana ][45 lemon ][40 kiwi ]\n",
      "힙 크기 =  12\n",
      "최소힙:\n",
      "[10 apricot ][15 banana ][30 grape ][20 orange ][45 lemon ][40 kiwi ][70 melon ][80 pear ][60 lime ][50 mango ][90 watermelon ][40 cherry ]\n",
      "힙 크기 =  12\n",
      "최솟값 삭제 후\n",
      "[10, 'apricot']\n",
      "[15 banana ][20 orange ][30 grape ][40 cherry ][45 lemon ][40 kiwi ][70 melon ][80 pear ][60 lime ][50 mango ][90 watermelon ]\n",
      "힙 크기 =  11\n",
      "5 삽입 후\n",
      "[ 5 apple ][20 orange ][15 banana ][40 cherry ][45 lemon ][30 grape ][70 melon ][80 pear ][60 lime ][50 mango ][90 watermelon ][40 kiwi ]\n",
      "힙 크기 =  12\n"
     ]
    }
   ],
   "source": [
    "a = [None] * 1\n",
    "a.append([90, 'watermelon'])\n",
    "a.append([80, 'pear'])\n",
    "a.append([70, 'melon'])\n",
    "a.append([60, 'lime'])\n",
    "a.append([50, 'mango'])\n",
    "a.append([40, 'cherry'])\n",
    "a.append([30, 'grape'])\n",
    "a.append([20, 'orange'])\n",
    "a.append([10, 'apricot'])\n",
    "a.append([15, 'banana'])\n",
    "a.append([45, 'lemon'])\n",
    "a.append([40, 'kiwi'])\n",
    "b = BHeap(a)\n",
    "print('힙 만들기 전:')\n",
    "b.print_heap()\n",
    "b.create_heap()\n",
    "print('최소힙:')\n",
    "b.print_heap()\n",
    "print('최솟값 삭제 후')\n",
    "print(b.delete_min())\n",
    "b.print_heap()\n",
    "b.insert([5,'apple'])\n",
    "print('5 삽입 후')\n",
    "b.print_heap()"
   ]
  },
  {
   "cell_type": "markdown",
   "metadata": {},
   "source": [
    "\n",
    "\n"
   ]
  },
  {
   "cell_type": "markdown",
   "metadata": {},
   "source": [
    "#### \\# 2 차원 리스트"
   ]
  },
  {
   "cell_type": "code",
   "execution_count": 26,
   "metadata": {},
   "outputs": [],
   "source": [
    "fruit = [[10, 'apple'], [20, 'banana'], [30, 'kiwi', 'steve']]"
   ]
  },
  {
   "cell_type": "code",
   "execution_count": 27,
   "metadata": {},
   "outputs": [
    {
     "data": {
      "text/plain": [
       "[[10, 'apple'], [20, 'banana'], [30, 'kiwi', 'steve']]"
      ]
     },
     "execution_count": 27,
     "metadata": {},
     "output_type": "execute_result"
    }
   ],
   "source": [
    "fruit"
   ]
  },
  {
   "cell_type": "code",
   "execution_count": 28,
   "metadata": {},
   "outputs": [],
   "source": [
    "a = 2"
   ]
  },
  {
   "cell_type": "code",
   "execution_count": 29,
   "metadata": {},
   "outputs": [
    {
     "data": {
      "text/plain": [
       "30"
      ]
     },
     "execution_count": 29,
     "metadata": {},
     "output_type": "execute_result"
    }
   ],
   "source": [
    "fruit[a*1][0]"
   ]
  },
  {
   "cell_type": "code",
   "execution_count": 30,
   "metadata": {},
   "outputs": [
    {
     "data": {
      "text/plain": [
       "'kiwi'"
      ]
     },
     "execution_count": 30,
     "metadata": {},
     "output_type": "execute_result"
    }
   ],
   "source": [
    "fruit[a*1][1]"
   ]
  },
  {
   "cell_type": "code",
   "execution_count": 31,
   "metadata": {},
   "outputs": [
    {
     "data": {
      "text/plain": [
       "'steve'"
      ]
     },
     "execution_count": 31,
     "metadata": {},
     "output_type": "execute_result"
    }
   ],
   "source": [
    "fruit[a*1][2] # 세번째 리스트에만 3개의 리스트값을 가지고 있어도 출력된다. 물론 다른 fruit 리스트들을 출력하면 에러 발생"
   ]
  },
  {
   "cell_type": "code",
   "execution_count": null,
   "metadata": {},
   "outputs": [],
   "source": []
  },
  {
   "cell_type": "markdown",
   "metadata": {},
   "source": [
    "### \\# 이진탐색"
   ]
  },
  {
   "cell_type": "code",
   "execution_count": 2,
   "metadata": {},
   "outputs": [],
   "source": [
    "def binary_search(left, right, t):\n",
    "    if left > right:\n",
    "        return None # 탐색 실패(즉, t가 리스트에 없음)\n",
    "    mid = (left + right) // 2 # 리스트에서 탐색할 부분의 중간 항목의 인덱스 계산\n",
    "    if a[mid] == t:\n",
    "        return mid # 탐색 성공\n",
    "    if a[mid] > t:\n",
    "        binary_search(left, mid-1, t) # 앞부분 탐색\n",
    "    else:\n",
    "        binary_search(mid+1, right, t) #뒷부분 탐색"
   ]
  },
  {
   "cell_type": "markdown",
   "metadata": {},
   "source": [
    "1. 기본 전제는 a 리스트의 N 개 값들은 정렬이 되어있다.\n",
    "2. mid 로 범위를 좁여나간다\n",
    "3. 최악의 경우에는 리스트에 거의 대부분을 검색하여 return mid 가 된다.\n",
    "    - 삽입과 삭제가 빈번하면 정렬을 유지하기 위해 시간이 오래 걸린다.\n",
    "    - O(N): 선형시간(3번째)\n",
    "    \n",
    "    \n",
    "\n",
    "[!TIP]\n",
    "- binary_search(인덱스 첫번째, 인덱스 마지막, 원하는 검색값)\n",
    "- binary_esarch(mid, 인덱스 마지막, 원하는 검색값)\n",
    "- mid 를 +- 하면서 최종적으로는 binary_search(10, 10, 66) # 2개의 범위를 일치\n",
    "- 조건에 만족하지 않으면 재귀함수로 호출하여 범위를 좁혀 나가는 것 또한 잊지말자."
   ]
  },
  {
   "cell_type": "code",
   "execution_count": null,
   "metadata": {},
   "outputs": [],
   "source": []
  }
 ],
 "metadata": {
  "kernelspec": {
   "display_name": "Python 3",
   "language": "python",
   "name": "python3"
  },
  "language_info": {
   "codemirror_mode": {
    "name": "ipython",
    "version": 3
   },
   "file_extension": ".py",
   "mimetype": "text/x-python",
   "name": "python",
   "nbconvert_exporter": "python",
   "pygments_lexer": "ipython3",
   "version": "3.6.5"
  }
 },
 "nbformat": 4,
 "nbformat_minor": 2
}
