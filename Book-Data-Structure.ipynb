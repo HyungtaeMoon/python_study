{
 "cells": [
  {
   "cell_type": "markdown",
   "metadata": {},
   "source": [
    "## 자료구조\n",
    "\n",
    "------------------"
   ]
  },
  {
   "cell_type": "markdown",
   "metadata": {},
   "source": [
    "### \\# 기본개념\n",
    "\n",
    "1. 자료구조의 효율성은 수행되는 연산의 `수행시간`으로 측정\n",
    "    - `수행시간` 측정 = `시간복잡도` * 공간복잡도\n",
    "\n",
    "\n",
    "\n",
    "2. 대부분의 알고리즘들이 비슷한 크기의 메모리 공간을 사용하기 때문에 `시간복잡도`가 중점이다.\n",
    "    - `시간복잡도`는 수행시간으로 명시하기도 한다."
   ]
  },
  {
   "cell_type": "markdown",
   "metadata": {},
   "source": [
    "**[!TIP]** 한줄요약: 수행시간은 시간복잡도와 공간복잡도를 기반하여 분석하지만 대부분 알고리즘은 비슷한 메모리 공간을 차지하여 시간복잡도(수행시간)이 중요하다."
   ]
  },
  {
   "cell_type": "markdown",
   "metadata": {},
   "source": [
    "\n"
   ]
  },
  {
   "cell_type": "markdown",
   "metadata": {},
   "source": [
    "### \\# 표기법은 총 3가지가 있다\n",
    "\n",
    "#### Big-Oh 표기법\n",
    "- 이보다 너 나쁠 수는 없다.(점근적 상한)\n",
    "    - 최악의 수행 시간이 될 수 있는 가능성을 판단\n",
    "\n",
    "#### Big-Omega 표기법\n",
    "- 이보다 더 좋을 수는 없다.(점근적 하한)\n",
    "\n",
    "#### Theta 표기법\n",
    "- Big-Oh 와 Big-Omega 동시 성립\n",
    "\n",
    "\n",
    "\n",
    "**[!TIP]** 점근적: 점점 가까워짐"
   ]
  },
  {
   "cell_type": "markdown",
   "metadata": {},
   "source": [
    "\n",
    "\n"
   ]
  },
  {
   "cell_type": "markdown",
   "metadata": {},
   "source": [
    "### <p style=\"text-align: center;\">[알고리즘의 수행시간]</p>"
   ]
  },
  {
   "cell_type": "markdown",
   "metadata": {},
   "source": [
    "| 표기     | 시간           |          |\n",
    "|----------|----------------|----------|\n",
    "| O(1)     | 상수시간       | 효율적   |\n",
    "| O(logN)  | 로그(대수)시간 |          |\n",
    "| O(N)     | 선형시간       |          |\n",
    "| O(NlogN) | 로그선형시간   |          |\n",
    "| O(N^2)   | 제곱시간       |          |\n",
    "| O(N^3)   | 세제곱시간     |          |\n",
    "| O(2^N)   | 지수시간       | 비효율적 |\n",
    "\n",
    "<p style=\"text-align: center;\">*(주로 O-표기를 사용)</p>"
   ]
  },
  {
   "cell_type": "markdown",
   "metadata": {},
   "source": [
    "-------------------"
   ]
  },
  {
   "cell_type": "markdown",
   "metadata": {},
   "source": [
    "\n",
    "\n"
   ]
  },
  {
   "cell_type": "markdown",
   "metadata": {},
   "source": [
    "### \\# 파이썬 언어 기본지식"
   ]
  },
  {
   "cell_type": "code",
   "execution_count": 1,
   "metadata": {},
   "outputs": [],
   "source": [
    "a = [] # 비어있는 리스트 a 선언\n",
    "b = [None] * 10 # 크기가 10//각 원소가 None 로 초기화 된 리스트\n",
    "c = [40, 10, 70, 60] # 크기가 4이고, 4개의 정수로 초기화 된 리스트"
   ]
  },
  {
   "cell_type": "markdown",
   "metadata": {},
   "source": [
    "**[!TIP]**\n",
    "- 리스트에 들어있는 값을 개수로 하지 않고 `크기`라고 부름\n",
    "    - 배열은 동일한 타입의 항목들을 저장\n",
    "    - 리스트는 다른 타입의 항목들을 저장"
   ]
  },
  {
   "cell_type": "markdown",
   "metadata": {},
   "source": [
    "\n",
    "\n"
   ]
  },
  {
   "cell_type": "markdown",
   "metadata": {},
   "source": [
    "### \\# 의사난수(Pseudo-random Number) 생성"
   ]
  },
  {
   "cell_type": "code",
   "execution_count": 2,
   "metadata": {},
   "outputs": [
    {
     "name": "stdout",
     "output_type": "stream",
     "text": [
      "--- 3.314018249511719e-05 seconds ---\n",
      "--- 0.0003159046173095703 seconds ---\n"
     ]
    }
   ],
   "source": [
    "import random\n",
    "import time\n",
    "random.seed(time.time())\n",
    "a = []\n",
    "for i in range(100):\n",
    "    a.append(random.randint(1, 1000))\n",
    "    \n",
    "start_time = time.time()\n",
    "\n",
    "\n",
    "# 같은 포맷팅 방식인데 결과값이 달라보인다.\n",
    "# new 포맷팅은 e-05 에 주목: 5.62.... 에 ^-5 (마이너스 5승) 으로 보면 된다.\n",
    "print('--- {} seconds ---'.format((time.time() - start_time)))\n",
    "print('--- %s seconds ---' % (time.time() - start_time))"
   ]
  },
  {
   "cell_type": "markdown",
   "metadata": {},
   "source": [
    "\n"
   ]
  },
  {
   "cell_type": "markdown",
   "metadata": {},
   "source": [
    "\n"
   ]
  },
  {
   "cell_type": "code",
   "execution_count": 3,
   "metadata": {},
   "outputs": [
    {
     "data": {
      "text/plain": [
       "'      test'"
      ]
     },
     "execution_count": 3,
     "metadata": {},
     "output_type": "execute_result"
    }
   ],
   "source": [
    "# 포맷팅 문서를 보니 포맷팅으로 인덱싱, 슬라이싱이 가능한 것을 확인.\n",
    "# 언젠가는 사용할 수도 있을 것 같아 기억만 해두자. (*자세한 내용은 관련 문서 참조)\n",
    "\n",
    "'{:>10}'.format('test')"
   ]
  },
  {
   "cell_type": "markdown",
   "metadata": {},
   "source": [
    "\n",
    "\n"
   ]
  },
  {
   "cell_type": "markdown",
   "metadata": {},
   "source": [
    "### \\# 내장함수"
   ]
  },
  {
   "cell_type": "markdown",
   "metadata": {},
   "source": [
    "\n"
   ]
  },
  {
   "cell_type": "code",
   "execution_count": 4,
   "metadata": {},
   "outputs": [],
   "source": [
    "a = [1, 5, 4, 2, 7, 10, 11, 12]"
   ]
  },
  {
   "cell_type": "markdown",
   "metadata": {},
   "source": [
    "**lambda 함수를 사용할 경우**\n",
    "\n",
    "```\n",
    "- lambda 인자(arguments): 식(expression)\n",
    "```"
   ]
  },
  {
   "cell_type": "code",
   "execution_count": 5,
   "metadata": {},
   "outputs": [
    {
     "name": "stdout",
     "output_type": "stream",
     "text": [
      "[4, 2, 10, 12]\n"
     ]
    }
   ],
   "source": [
    "even = list(filter(lambda x: (x%2 == 0), a))\n",
    "print(even) # type: list"
   ]
  },
  {
   "cell_type": "code",
   "execution_count": 6,
   "metadata": {},
   "outputs": [
    {
     "name": "stdout",
     "output_type": "stream",
     "text": [
      "[10, 50, 40, 20, 70, 100, 110, 120]\n"
     ]
    }
   ],
   "source": [
    "ten_times = list(map(lambda x: x * 10, a))\n",
    "print(ten_times) # list a 의 각 숫자 * 10 를 리턴"
   ]
  },
  {
   "cell_type": "code",
   "execution_count": 7,
   "metadata": {},
   "outputs": [],
   "source": [
    "b = [[0, 1, 8], [7, 2, 2], [5, 3, 10], [1, 4, 5]]"
   ]
  },
  {
   "cell_type": "code",
   "execution_count": 8,
   "metadata": {},
   "outputs": [
    {
     "name": "stdout",
     "output_type": "stream",
     "text": [
      "[[7, 2, 2], [1, 4, 5], [0, 1, 8], [5, 3, 10]]\n"
     ]
    }
   ],
   "source": [
    "b.sort(key = lambda x: x[2])\n",
    "print(b) # list 의 마지막 숫자를 기준으로 정렬 b[[2번째], [4번째], [1번째], [3번째]]"
   ]
  },
  {
   "cell_type": "markdown",
   "metadata": {},
   "source": [
    "**함수로 사용할 경우**"
   ]
  },
  {
   "cell_type": "code",
   "execution_count": 9,
   "metadata": {},
   "outputs": [],
   "source": [
    "def even_method(a):\n",
    "    result = []\n",
    "    for i in a:\n",
    "        if i % 2 == 0:\n",
    "            result.append(i)\n",
    "#     return result\n",
    "    print(type(result))\n",
    "    print(result)"
   ]
  },
  {
   "cell_type": "code",
   "execution_count": 10,
   "metadata": {},
   "outputs": [
    {
     "name": "stdout",
     "output_type": "stream",
     "text": [
      "<class 'list'>\n",
      "[4, 2, 10, 12]\n"
     ]
    }
   ],
   "source": [
    "even_method(a)"
   ]
  },
  {
   "cell_type": "markdown",
   "metadata": {},
   "source": [
    "**리스트 컴프리헨션으로 구현**"
   ]
  },
  {
   "cell_type": "code",
   "execution_count": 11,
   "metadata": {},
   "outputs": [
    {
     "data": {
      "text/plain": [
       "[4, 2, 10, 12]"
      ]
     },
     "execution_count": 11,
     "metadata": {},
     "output_type": "execute_result"
    }
   ],
   "source": [
    "[i for i in a if i % 2 == 0] # type: list"
   ]
  },
  {
   "cell_type": "markdown",
   "metadata": {},
   "source": [
    "\n"
   ]
  },
  {
   "cell_type": "markdown",
   "metadata": {},
   "source": [
    "### \\# 단순연결리스트"
   ]
  },
  {
   "cell_type": "markdown",
   "metadata": {},
   "source": [
    "- 단순연결리스트는 `동적 메모리 할당`을 이용해 노드들을 한 방향으로 연결하여 리스트를 구현\n",
    "    - 동적 메모리 할당: 실행 시간동안에 메모리를 사용(C 언어는 가비지 컬렉터가 없어서 직접 해제해야 하지만 파이썬은 자동 해제)"
   ]
  },
  {
   "cell_type": "code",
   "execution_count": 12,
   "metadata": {},
   "outputs": [],
   "source": [
    "class SList:\n",
    "    class Node:\n",
    "        def __init__(self, item, link):\n",
    "            self.item = item\n",
    "            self.next = link\n",
    "            \n",
    "    def __init__(self):\n",
    "        self.head = None\n",
    "        self.size = 0\n",
    "\n",
    "    def size(self):\n",
    "        return self.size\n",
    "\n",
    "    def is_empty(self):\n",
    "        return self.size == 0\n",
    "\n",
    "    def insert_front(self, item):  # 첫 노드에 삽입\n",
    "        # 첫번째 노드가 비어있으면\n",
    "        if self.is_empty():\n",
    "            # 새로 만든 Node 객체를 self.head 에 참조\n",
    "            self.head = self.Node(item, None)\n",
    "        else:\n",
    "            # Node 에 데이터가 있다면 이번에 들어오는 Node 값을 head 에 참조\n",
    "            self.head = self.Node(item, self.head)\n",
    "        # if, else 문에서 Node 객체가 삽입되었다면 size + 1\n",
    "        self.size += 1\n",
    "\n",
    "    def insert_after(self, item, p):    # 지정한 pointer 노드 다음에 삽입\n",
    "        # pointer.next 에 노드 삽입 = Node 객체 생성(pointer 노드 다음에 item 을 삽입)\n",
    "        p.next = SList.Node(item, p.next)\n",
    "        self.size += 1\n",
    "\n",
    "    def delete_front(self):    # 첫 번째 노드를 삭제할 때\n",
    "        # 만약 지정한 노드 객체가 없다면\n",
    "        if self.is_empty():\n",
    "            # 에러를 발생\n",
    "            raise EmptyError('Underflow')\n",
    "        # 지정한 노드(item) 이 있고, 그게 head 라면\n",
    "        else:\n",
    "            # self.head 의 다음 노드를 self.head 로 참조\n",
    "            self.head = self.head.next\n",
    "            self.size -= 1\n",
    "\n",
    "    def delete_after(self, p):\n",
    "        if self.is_empty():\n",
    "            raise EmptyError('Under Flow')\n",
    "        else:\n",
    "            # p.next 가 t 와 동일한 3번째 노드에 있다. 그런데 t 가 4번째 노드로 가서 p.next 를 선언\n",
    "            # 이렇게 되면 기존의 p.next 는 노드의 연결이 끊기게 됨\n",
    "            # 한줄요약: t 의 배신\n",
    "\n",
    "            # 현재 t 와 p.next 는 동일한 곳을 가리키고 있는 상태\n",
    "            t = p.next\n",
    "            # t 는 p.next 의 다음 노드를 가리키고 p.next 에 할당\n",
    "            p.next = t.next\n",
    "            self.size -= 1\n",
    "\n",
    "    def search(self, target):\n",
    "        p = self.head\n",
    "        # 노드가 5개라면 총 5번을 순회(k: 인덱스)\n",
    "        for k in range(self.size):\n",
    "            # 파라미터로 받은 target 과 p.item 을 비교하여\n",
    "            if target == p.item:\n",
    "                # 인덱스 값을 반환\n",
    "                return k\n",
    "            # 만약 target 과 p.item 이 다르다면 p 를 다음 노드로 이동시킴\n",
    "            p = p.next\n",
    "        # 검색에 실패할 경우 None 를 반환\n",
    "        return None\n",
    "\n",
    "    def print_list(self):\n",
    "        p = self.head\n",
    "        while p:\n",
    "            if p != None:\n",
    "                print(p.item, '->', end='')\n",
    "            else:\n",
    "                print(p.item)\n",
    "            p = p.next\n",
    "\n",
    "class EmptyError(Exception):\n",
    "    pass\n"
   ]
  },
  {
   "cell_type": "code",
   "execution_count": 13,
   "metadata": {},
   "outputs": [
    {
     "name": "stdout",
     "output_type": "stream",
     "text": [
      "pear ->apple ->orange ->cherry ->cherry 는 3번째\n",
      "kiwi 는\n",
      "pear ->orange ->cherry ->첫 노드 삭제 후:\t \torange ->cherry ->첫 노드로 망고, 딸기 삽입 후:\tstrawberry ->mango ->orange ->cherry ->오렌지 다음 노드 삭제 후:\tstrawberry ->mango ->orange ->"
     ]
    }
   ],
   "source": [
    "s = SList()\n",
    "s.insert_front('orange')\n",
    "s.insert_front('apple')\n",
    "s.insert_after('cherry', s.head.next)\n",
    "s.insert_front('pear')\n",
    "s.print_list()\n",
    "print('cherry 는 {}번째'.format(s.search('cherry')))\n",
    "print('kiwi 는'.format(s.search('kiwi')))\n",
    "s.delete_after(s.head)\n",
    "s.print_list()\n",
    "print('첫 노드 삭제 후:\\t \\t', end='')\n",
    "s.delete_front()\n",
    "s.print_list()\n",
    "print('첫 노드로 망고, 딸기 삽입 후:\\t', end='')\n",
    "s.insert_front('mango')\n",
    "s.insert_front('strawberry')\n",
    "s.print_list()\n",
    "s.delete_after(s.head.next.next)\n",
    "print('오렌지 다음 노드 삭제 후:\\t', end='')\n",
    "s.print_list()"
   ]
  },
  {
   "cell_type": "markdown",
   "metadata": {},
   "source": [
    "\n",
    "\n"
   ]
  },
  {
   "cell_type": "markdown",
   "metadata": {},
   "source": [
    "### \\# 이중연결리스트"
   ]
  },
  {
   "cell_type": "markdown",
   "metadata": {},
   "source": [
    "이중연결리스트는 각 노드가 두 개의 레퍼런스를 가지고 각각 이전 노드와 다음 노드를 가리키는 연결리스트"
   ]
  },
  {
   "cell_type": "code",
   "execution_count": 14,
   "metadata": {},
   "outputs": [],
   "source": [
    "class DList:\n",
    "    class Node:\n",
    "        def __init__(self, item, prev, link):\n",
    "            self.item = item\n",
    "            self.prev = prev\n",
    "            self.next = link\n",
    "\n",
    "    def __init__(self):\n",
    "        self.head = self.Node(None, None, None)\n",
    "        self.tail = self.Node(None, self.head, None)\n",
    "        self.head.next = self.tail\n",
    "        self.size = 0\n",
    "\n",
    "    def size(self):\n",
    "        return self.size\n",
    "\n",
    "    def is_empty(self):\n",
    "        return self.size == 0\n",
    "\n",
    "    def insert_before(self, p, item):   # 지정한 p 노드 앞에 삽입\n",
    "        # t 변수에 지정한 pointer 의 앞 객체를 참조\n",
    "        t = p.prev\n",
    "        # Node 객체를 만드는데 prev 는 p.prev, p 는 새로운 Node 가 아닌 '뒤로 밀리게 되는 Node'가 된다\n",
    "        # 앞과 뒤의 Node 를 연결하고 n 변수에 할당\n",
    "        n = self.Node(item, t, p)\n",
    "        # 새로 만들어진 Node 객체 n 의 앞과 뒤를 연결해준다\n",
    "        p.prev = n\n",
    "        t.next = n\n",
    "        # Node 객체가 만들어졌기 때문에 데이터의 크기(size +1) 을 시켜줌\n",
    "        self.size += 1\n",
    "\n",
    "    def insert_after(self, p, item):    # 지정한 p 노드 뒤에 삽입\n",
    "        # t 변수에 지정한 pointer 의 다음 객체를 참조\n",
    "        t = p.next\n",
    "        # Node 객체를 만드는데 p 에 현재 지정한 Node, t 에는 현재 지정한 객체의 다음 Node 를 가리킴\n",
    "        # p 와 t 노드 사이에 n Node 객체를 만들어줌\n",
    "        n = self.Node(item, p, t)\n",
    "        # 새로 만들어진 n Node 객체의 앞과 뒤(p와 t)를 n 에 연결시켜준다\n",
    "        t.prev = n\n",
    "        p.next = n\n",
    "\n",
    "    def delete(self, x):    # x 의 연결을 끊고, f 와 r 을 이어줌\n",
    "        # forward 변수에 x 의 앞 노드를 가리킴\n",
    "        f = x.prev\n",
    "        # rear 변수에 x 의 다음 노드를 가리킴\n",
    "        r = x.next\n",
    "        # x 노드를 삭제하기 위해 f 노드는 을 가리키고, r 노드는 f 를 가리킴\n",
    "        # 이로써 x 의 연결이 끊어짐, 연결이 끊어졌다는건 이 연결 리스트에서 제외되었다는 뜻\n",
    "        f.next = r\n",
    "        r.prev = f\n",
    "        self.size -= 1\n",
    "        # x 의 실제 값을 return 시켜줌\n",
    "        return x.item\n",
    "\n",
    "    def print_list(self):\n",
    "        if self.is_empty():\n",
    "            print('리스트 비어있음')\n",
    "        else:\n",
    "            # pointer 가 self.head 가 아닌 self.head.next 를 가리키는 이유는??\n",
    "            # 내 생각에는 pointer 가 self.head 를 가리켜야 head 부터 p.item 을 print 할텐데..\n",
    "            p = self.head.next\n",
    "            # p 가 tail 이 아니라면 while 문 안에서 무한 순회\n",
    "            while p != self.tail:\n",
    "                # pointer 의 next Node 객체가 tail 이 아니라면\n",
    "                if p.next != self.tail:\n",
    "                    # p.item(입력한 값)을 출력\n",
    "                    print(p.item, ' <--> ', end='')\n",
    "                # self.tail 일 경우에는\n",
    "                else:\n",
    "                    # p.item(입력한 값)을 출력, 이 값은 tail 의 값이 되어 while 문 종료\n",
    "                    print(p.item)\n",
    "                # 위의 if 문이 true 이면 pointer 는 다음 Node 객체를 가리키게 설정\n",
    "                p = p.next\n",
    "\n",
    "\n",
    "class EmptyError(Exception):\n",
    "    pass\n"
   ]
  },
  {
   "cell_type": "code",
   "execution_count": 15,
   "metadata": {},
   "outputs": [
    {
     "name": "stdout",
     "output_type": "stream",
     "text": [
      "apple  <--> pear  <--> orange  <--> cherry\n",
      "마지막 노드 삭제 후:\tapple  <--> pear  <--> orange\n",
      "맨 끝에 포도 삽입 후:\tapple  <--> pear  <--> orange  <--> grape\n",
      "첫 노드 삭제 후:\tpear  <--> orange  <--> grape\n",
      "첫 노드 삭제 후:\t리스트 비어있음\n",
      "첫 노드 삭제 후:\tgrape\n"
     ]
    }
   ],
   "source": [
    "s = DList()\n",
    "s.insert_after(s.head, 'apple')\n",
    "s.insert_before(s.tail, 'orange')\n",
    "s.insert_before(s.tail, 'cherry')\n",
    "s.insert_after(s.head.next, 'pear')\n",
    "s.print_list()\n",
    "print('마지막 노드 삭제 후:\\t', end='')\n",
    "s.delete(s.tail.prev)\n",
    "s.print_list()\n",
    "print('맨 끝에 포도 삽입 후:\\t', end='')\n",
    "s.insert_before(s.tail, 'grape')\n",
    "s.print_list()\n",
    "print('첫 노드 삭제 후:\\t', end='')\n",
    "s.delete(s.head.next)\n",
    "s.print_list()\n",
    "print('첫 노드 삭제 후:\\t', end='')\n",
    "s.delete(s.head.next)\n",
    "s.print_list()\n",
    "print('첫 노드 삭제 후:\\t', end='')\n",
    "s.delete(s.head.next)\n",
    "s.print_list()"
   ]
  },
  {
   "cell_type": "code",
   "execution_count": null,
   "metadata": {},
   "outputs": [],
   "source": []
  }
 ],
 "metadata": {
  "kernelspec": {
   "display_name": "Python 3",
   "language": "python",
   "name": "python3"
  },
  "language_info": {
   "codemirror_mode": {
    "name": "ipython",
    "version": 3
   },
   "file_extension": ".py",
   "mimetype": "text/x-python",
   "name": "python",
   "nbconvert_exporter": "python",
   "pygments_lexer": "ipython3",
   "version": "3.6.5"
  }
 },
 "nbformat": 4,
 "nbformat_minor": 2
}
