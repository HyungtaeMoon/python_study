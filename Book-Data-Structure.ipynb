{
 "cells": [
  {
   "cell_type": "markdown",
   "metadata": {},
   "source": [
    "## 자료구조\n",
    "\n",
    "------------------"
   ]
  },
  {
   "cell_type": "markdown",
   "metadata": {},
   "source": [
    "### \\# 기본개념\n",
    "\n",
    "1. 자료구조의 효율성은 수행되는 연산의 `수행시간`으로 측정\n",
    "    - `수행시간` 측정 = `시간복잡도` * 공간복잡도\n",
    "\n",
    "\n",
    "\n",
    "2. 대부분의 알고리즘들이 비슷한 크기의 메모리 공간을 사용하기 때문에 `시간복잡도`가 중점이다.\n",
    "    - `시간복잡도`는 수행시간으로 명시하기도 한다."
   ]
  },
  {
   "cell_type": "markdown",
   "metadata": {},
   "source": [
    "**[!TIP]** 한줄요약: 수행시간은 시간복잡도와 공간복잡도를 기반하여 분석하지만 대부분 알고리즘은 비슷한 메모리 공간을 차지하여 시간복잡도(수행시간)이 중요하다."
   ]
  },
  {
   "cell_type": "markdown",
   "metadata": {},
   "source": [
    "\n"
   ]
  },
  {
   "cell_type": "markdown",
   "metadata": {},
   "source": [
    "### \\# 표기법은 총 3가지가 있다\n",
    "\n",
    "#### Big-Oh 표기법\n",
    "- 이보다 너 나쁠 수는 없다.(점근적 상한)\n",
    "    - 최악의 수행 시간이 될 수 있는 가능성을 판단\n",
    "\n",
    "#### Big-Omega 표기법\n",
    "- 이보다 더 좋을 수는 없다.(점근적 하한)\n",
    "\n",
    "#### Theta 표기법\n",
    "- Big-Oh 와 Big-Omega 동시 성립\n",
    "\n",
    "\n",
    "\n",
    "**[!TIP]** 점근적: 점점 가까워짐"
   ]
  },
  {
   "cell_type": "markdown",
   "metadata": {},
   "source": [
    "\n",
    "\n"
   ]
  },
  {
   "cell_type": "markdown",
   "metadata": {},
   "source": [
    "### <p style=\"text-align: center;\">[알고리즘의 수행시간]</p>"
   ]
  },
  {
   "cell_type": "markdown",
   "metadata": {},
   "source": [
    "| 표기     | 시간           |          |\n",
    "|----------|----------------|----------|\n",
    "| O(1)     | 상수시간       | 효율적   |\n",
    "| O(logN)  | 로그(대수)시간 |          |\n",
    "| O(N)     | 선형시간       |          |\n",
    "| O(NlogN) | 로그선형시간   |          |\n",
    "| O(N^2)   | 제곱시간       |          |\n",
    "| O(N^3)   | 세제곱시간     |          |\n",
    "| O(2^N)   | 지수시간       | 비효율적 |\n",
    "\n",
    "<p style=\"text-align: center;\">*(주로 O-표기를 사용)</p>"
   ]
  },
  {
   "cell_type": "markdown",
   "metadata": {},
   "source": [
    "-------------------"
   ]
  },
  {
   "cell_type": "markdown",
   "metadata": {},
   "source": [
    "\n",
    "\n"
   ]
  },
  {
   "cell_type": "markdown",
   "metadata": {},
   "source": [
    "### \\# 파이썬 언어 기본지식"
   ]
  },
  {
   "cell_type": "code",
   "execution_count": 21,
   "metadata": {},
   "outputs": [],
   "source": [
    "a = [] # 비어있는 리스트 a 선언\n",
    "b = [None] * 10 # 크기가 10//각 원소가 None 로 초기화 된 리스트\n",
    "c = [40, 10, 70, 60] # 크기가 4이고, 4개의 정수로 초기화 된 리스트"
   ]
  },
  {
   "cell_type": "markdown",
   "metadata": {},
   "source": [
    "**[!TIP]**\n",
    "- 리스트에 들어있는 값을 개수로 하지 않고 `크기`라고 부름\n",
    "    - 배열은 동일한 타입의 항목들을 저장\n",
    "    - 리스트는 다른 타입의 항목들을 저장"
   ]
  },
  {
   "cell_type": "markdown",
   "metadata": {},
   "source": [
    "\n",
    "\n"
   ]
  },
  {
   "cell_type": "markdown",
   "metadata": {},
   "source": [
    "### \\# 의사난수(Pseudo-random Number) 생성"
   ]
  },
  {
   "cell_type": "code",
   "execution_count": 61,
   "metadata": {},
   "outputs": [
    {
     "name": "stdout",
     "output_type": "stream",
     "text": [
      "--- 2.8133392333984375e-05 seconds ---\n",
      "--- 0.0002543926239013672 seconds ---\n"
     ]
    }
   ],
   "source": [
    "import random\n",
    "import time\n",
    "random.seed(time.time())\n",
    "a = []\n",
    "for i in range(100):\n",
    "    a.append(random.randint(1, 1000))\n",
    "    \n",
    "start_time = time.time()\n",
    "\n",
    "\n",
    "# 같은 포맷팅 방식인데 결과값이 달라보인다.\n",
    "# new 포맷팅은 e-05 에 주목: 5.62.... 에 ^-5 (마이너스 5승) 으로 보면 된다.\n",
    "print('--- {} seconds ---'.format((time.time() - start_time)))\n",
    "print('--- %s seconds ---' % (time.time() - start_time))"
   ]
  },
  {
   "cell_type": "markdown",
   "metadata": {},
   "source": [
    "\n"
   ]
  },
  {
   "cell_type": "markdown",
   "metadata": {},
   "source": [
    "\n"
   ]
  },
  {
   "cell_type": "code",
   "execution_count": 64,
   "metadata": {},
   "outputs": [
    {
     "data": {
      "text/plain": [
       "'      test'"
      ]
     },
     "execution_count": 64,
     "metadata": {},
     "output_type": "execute_result"
    }
   ],
   "source": [
    "# 포맷팅 문서를 보니 포맷팅으로 인덱싱, 슬라이싱이 가능한 것을 확인.\n",
    "# 언젠가는 사용할 수도 있을 것 같아 기억만 해두자. (*자세한 내용은 관련 문서 참조)\n",
    "\n",
    "'{:>10}'.format('test')"
   ]
  },
  {
   "cell_type": "markdown",
   "metadata": {},
   "source": [
    "\n",
    "\n"
   ]
  }
 ],
 "metadata": {
  "kernelspec": {
   "display_name": "Python 3",
   "language": "python",
   "name": "python3"
  },
  "language_info": {
   "codemirror_mode": {
    "name": "ipython",
    "version": 3
   },
   "file_extension": ".py",
   "mimetype": "text/x-python",
   "name": "python",
   "nbconvert_exporter": "python",
   "pygments_lexer": "ipython3",
   "version": "3.6.5"
  }
 },
 "nbformat": 4,
 "nbformat_minor": 2
}
