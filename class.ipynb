{
 "cells": [
  {
   "cell_type": "markdown",
   "metadata": {},
   "source": [
    "python class 강의"
   ]
  },
  {
   "cell_type": "code",
   "execution_count": 8,
   "metadata": {},
   "outputs": [],
   "source": [
    "class Shop:\n",
    "    def __init__(self, name, shop_type, address):\n",
    "        self.name = name\n",
    "        self.__shop_type = shop_type\n",
    "        self.address = address\n",
    "        \n",
    "    def show_info(self):\n",
    "        print(f'상점정보:({self.name})\\n'\n",
    "            f'유형: {self.__shop_type} \\n'\n",
    "            f'주소: {self.address}')\n",
    "        \n",
    "    def change_shop_type(self, new_shop_type):\n",
    "        self.__shop_type = new_shop_type\n",
    "    \n",
    "#     # getter 방식\n",
    "#     def get_shop_type(self):\n",
    "#         return self.__shop_type\n",
    "    \n",
    "#     # setter 방식\n",
    "#     def set_shop_type(self, new_shop_type):\n",
    "#         shop_type_list = ['레스토랑', '음식점']\n",
    "#         if new_shop_type in shop_type_list:\n",
    "#             self.__shop_type = new_shop_type\n",
    "#         else:\n",
    "#             print(f'입력하신 유형 ({new_shop_type})은/는 이용 불가합니다')\n",
    "    @property\n",
    "    def shop_type(self):\n",
    "        return self.__shop_type\n",
    "    \n",
    "    @shop_type.setter\n",
    "    def shop_type(self, new_shop_type):\n",
    "        self.__shop_type = new_shop_type\n",
    "        print(f'새 상점 유형 ({new_shop_type}) 변경')"
   ]
  },
  {
   "cell_type": "code",
   "execution_count": 9,
   "metadata": {},
   "outputs": [],
   "source": [
    "lotteria = Shop('롯데리아', '음식점', '강남역')"
   ]
  },
  {
   "cell_type": "code",
   "execution_count": 10,
   "metadata": {},
   "outputs": [
    {
     "name": "stdout",
     "output_type": "stream",
     "text": [
      "새 상점 유형 (오락실) 변경\n"
     ]
    }
   ],
   "source": [
    "lotteria.shop_type = '오락실'"
   ]
  },
  {
   "cell_type": "code",
   "execution_count": 11,
   "metadata": {},
   "outputs": [
    {
     "data": {
      "text/plain": [
       "'오락실'"
      ]
     },
     "execution_count": 11,
     "metadata": {},
     "output_type": "execute_result"
    }
   ],
   "source": [
    "lotteria.shop_type"
   ]
  },
  {
   "cell_type": "code",
   "execution_count": null,
   "metadata": {},
   "outputs": [],
   "source": [
    "lotteria.change_shop_type('PC방')"
   ]
  },
  {
   "cell_type": "code",
   "execution_count": null,
   "metadata": {},
   "outputs": [],
   "source": [
    "# lotteria 인스턴스에 shop_type 이 private 속성이어도 접근 가능\n",
    "lotteria.get_shop_type()"
   ]
  },
  {
   "cell_type": "code",
   "execution_count": null,
   "metadata": {},
   "outputs": [],
   "source": [
    "# lotteria 인스턴스에 접근하여 값을 변경\n",
    "lotteria.set_shop_type('오락실')\n",
    "lotteria.get_shop_type()"
   ]
  },
  {
   "cell_type": "code",
   "execution_count": null,
   "metadata": {
    "scrolled": true
   },
   "outputs": [],
   "source": [
    "lotteria.show_info()"
   ]
  }
 ],
 "metadata": {
  "kernelspec": {
   "display_name": "Python 3",
   "language": "python",
   "name": "python3"
  },
  "language_info": {
   "codemirror_mode": {
    "name": "ipython",
    "version": 3
   },
   "file_extension": ".py",
   "mimetype": "text/x-python",
   "name": "python",
   "nbconvert_exporter": "python",
   "pygments_lexer": "ipython3",
   "version": "3.6.5"
  }
 },
 "nbformat": 4,
 "nbformat_minor": 2
}
